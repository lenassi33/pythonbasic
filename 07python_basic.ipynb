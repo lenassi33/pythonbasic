{
 "cells": [
  {
   "cell_type": "code",
   "execution_count": 1,
   "id": "e6130844-6f5f-421a-9176-31d6a09016fc",
   "metadata": {},
   "outputs": [
    {
     "name": "stdout",
     "output_type": "stream",
     "text": [
      "A: {1, 2, 3, 4} B: {2, 4, 5}\n",
      "set.union(A,B): {1, 2, 3, 4, 5}\n",
      "set.intersection(A,B): {2, 4}\n",
      "set.difference(A,B): {1, 3}\n",
      "set.symmetric_difference(A,B): {1, 3, 5}\n",
      "A|B: {1, 2, 3, 4, 5}\n",
      "A&B: {2, 4}\n",
      "A-B: {1, 3}\n"
     ]
    }
   ],
   "source": [
    "A= {i for i in range(1,5)}\n",
    "B= {i for i in range(2,6) if i !=3}\n",
    "print(\"A:\", A, \"B:\", B)\n",
    "print(\"set.union(A,B):\", set.union(A,B))\n",
    "print(\"set.intersection(A,B):\", set.intersection(A,B))\n",
    "print(\"set.difference(A,B):\", set.difference(A,B))\n",
    "print(\"set.symmetric_difference(A,B):\", set.symmetric_difference(A,B))\n",
    "print(\"A|B:\", A|B)\n",
    "print(\"A&B:\", A&B)\n",
    "print(\"A-B:\", A-B)"
   ]
  },
  {
   "cell_type": "code",
   "execution_count": 2,
   "id": "6ed2c835-f2a9-4809-bf23-448d90e3e610",
   "metadata": {},
   "outputs": [
    {
     "name": "stdout",
     "output_type": "stream",
     "text": [
      "{75, 45, 15, 90, 60, 30}\n"
     ]
    }
   ],
   "source": [
    "#3의 배수 구하기\n",
    "set_3 = {num for num in range(1, 101) if num % 3 == 0}\n",
    "\n",
    "#5의 배수 구하기\n",
    "set_5 = {num for num in range(1, 101) if num % 5 == 0}\n",
    "\n",
    "#3과 5의 공배수 구하기\n",
    "result_set = set_3.intersection(set_5)\n",
    "print(result_set)\n"
   ]
  },
  {
   "cell_type": "code",
   "execution_count": 4,
   "id": "928f200d-338c-4a11-bb2e-5fb509786ac0",
   "metadata": {},
   "outputs": [
    {
     "name": "stdout",
     "output_type": "stream",
     "text": [
      "개인정보 조회,구매 관리,근태 관리,시스템 관리,인사 관리,회계 관리\n"
     ]
    }
   ],
   "source": [
    "role_admin = (\"회계 관리\", \"인사 관리\", \"구매 관리\", \"시스템 관리\")\n",
    "role_hr = (\"인사 관리\", \"개인정보 조회\", \"회계 관리\", \"근태 관리\")\n",
    "role_user = (\"개인정보 조회\", \"근태 관리\")\n",
    "\n",
    "#합치고 중복제거\n",
    "roles = role_admin + role_hr + role_user\n",
    "roles_set = set(roles)\n",
    "\n",
    "#리스트로 만들고 오름차순정렬\n",
    "roles_list = list(roles_set)\n",
    "roles_list.sort()\n",
    "\n",
    "print(\",\".join(roles_list))"
   ]
  },
  {
   "cell_type": "code",
   "execution_count": 23,
   "id": "5816e957-3046-4312-bcc4-50896fa9d5b8",
   "metadata": {},
   "outputs": [
    {
     "name": "stdin",
     "output_type": "stream",
     "text": [
      "정수를 입력하세요: 30\n"
     ]
    },
    {
     "data": {
      "text/plain": [
       "40"
      ]
     },
     "execution_count": 23,
     "metadata": {},
     "output_type": "execute_result"
    }
   ],
   "source": [
    "#각 입력받은 정수를 10씩 더해서 반환하는 함수 \n",
    "\n",
    "def plus_ten(num):\n",
    "    return num+10\n",
    "\n",
    "number=int(input(\"정수를 입력하세요:\"))\n",
    "plus_ten(number)"
   ]
  },
  {
   "cell_type": "code",
   "execution_count": 32,
   "id": "1f91d6ee-4864-4632-bb18-afd97cb988b8",
   "metadata": {},
   "outputs": [
    {
     "name": "stdin",
     "output_type": "stream",
     "text": [
      "화씨온도를 입력하세요: 50\n"
     ]
    },
    {
     "data": {
      "text/plain": [
       "10.0"
      ]
     },
     "execution_count": 32,
     "metadata": {},
     "output_type": "execute_result"
    }
   ],
   "source": [
    "#화씨온도를 섭씨온도로 변경하는 함수 코드\n",
    "\n",
    "def to_celsius(fahrenheit):\n",
    "    celsius = (fahrenheit - 32) * 5/9\n",
    "    return celsius\n",
    "\n",
    "temp=int(input(\"화씨온도를 입력하세요:\"))\n",
    "to_celsius(temp)"
   ]
  },
  {
   "cell_type": "code",
   "execution_count": 38,
   "id": "ac90f970-96c4-43df-8fab-8809b66c1355",
   "metadata": {
    "jupyter": {
     "source_hidden": true
    },
    "tags": []
   },
   "outputs": [
    {
     "name": "stdout",
     "output_type": "stream",
     "text": [
      "짝수\n",
      "홀수\n",
      "None\n",
      "None\n",
      "number가 짝수면 \"짝수\", 홀수면 \"홀수\" 반환\n"
     ]
    }
   ],
   "source": [
    "def odd_even(n):\n",
    "    \"\"\"number가 짝수면 \"짝수\", 홀수면 \"홀수\" 반환\"\"\"\n",
    "    if type(n) != int or n <= 0:  # 자연수가 아니면 함수를 종료합니다.\n",
    "        return      #None출력\n",
    "    if n % 2 == 0:  #짝수인 경우\n",
    "        return \"짝수\"\n",
    "    else:           #홀수인 경우\n",
    "        return \"홀수\"\n",
    "\n",
    "result = odd_even(10)\n",
    "print(result)  #짝수\n",
    "\n",
    "result = odd_even(9)\n",
    "print(result)  #홀수\n",
    "\n",
    "result = odd_even(-3)\n",
    "print(result)  #None\n",
    "\n",
    "result = odd_even(\"가\")\n",
    "print(result)  #None\n",
    "\n",
    "print(odd_even.__doc__)"
   ]
  },
  {
   "cell_type": "code",
   "execution_count": 43,
   "id": "2bf76a2a-f038-432c-921b-7cae656c1e55",
   "metadata": {},
   "outputs": [
    {
     "name": "stdin",
     "output_type": "stream",
     "text": [
      "연도를 입력하세요: 1900\n"
     ]
    },
    {
     "data": {
      "text/plain": [
       "'평년'"
      ]
     },
     "execution_count": 43,
     "metadata": {},
     "output_type": "execute_result"
    }
   ],
   "source": [
    "#윤년/평년 알려주는 함수 코드\n",
    "\n",
    "def check_leap_year(year):\n",
    "    if (year%4==0) and (year%100 !=0 or year%400 ==0):\n",
    "        return \"윤년\"\n",
    "    else:\n",
    "        return \"평년\"\n",
    "    \n",
    "years=int(input(\"연도를 입력하세요:\"))\n",
    "check_leap_year(years)   "
   ]
  },
  {
   "cell_type": "code",
   "execution_count": 48,
   "id": "c21bee45-e121-4eb7-a269-375e94bc48ea",
   "metadata": {},
   "outputs": [
    {
     "name": "stdin",
     "output_type": "stream",
     "text": [
      "월을 입력하세요: 8\n"
     ]
    },
    {
     "data": {
      "text/plain": [
       "31"
      ]
     },
     "execution_count": 48,
     "metadata": {},
     "output_type": "execute_result"
    }
   ],
   "source": [
    "def days(month):\n",
    "    if month == 2: # 2월\n",
    "        return 28\n",
    "    elif month in [4, 6, 9, 11]: # 30일인 달\n",
    "        return 30\n",
    "    else: # 31일인 달\n",
    "        return 31\n",
    "\n",
    "months=int(input(\"월을 입력하세요:\"))\n",
    "days(months)"
   ]
  },
  {
   "cell_type": "code",
   "execution_count": 72,
   "id": "c68179fb-b416-46a6-97ce-d3d13c1fbf18",
   "metadata": {
    "tags": []
   },
   "outputs": [
    {
     "name": "stdout",
     "output_type": "stream",
     "text": [
      "30\n",
      "31\n",
      "28\n",
      "29\n"
     ]
    },
    {
     "name": "stdin",
     "output_type": "stream",
     "text": [
      "연도와 월을 입력하세요: 2004 10\n"
     ]
    },
    {
     "name": "stdout",
     "output_type": "stream",
     "text": [
      "None\n"
     ]
    }
   ],
   "source": [
    "def days(year, month):\n",
    "    if month in [1, 3, 5, 7, 8, 10, 12]:\n",
    "        return 31\n",
    "    elif month in [4, 6, 9, 11]:\n",
    "        return 30\n",
    "    elif month== 2:\n",
    "        if (year%4 == 0 and year%100 != 0) or year%400 == 0:\n",
    "            return 29\n",
    "        else:\n",
    "            return 28\n",
    "    else:\n",
    "        return None  # 잘못된 월이 입력되면 None을 반환합니다.\n",
    "    \n",
    "print(days(1900,11))\n",
    "print(days(2004,10))\n",
    "print(days(1900,2))\n",
    "print(days(2000,2))\n",
    "\n",
    "year, month=input(\"연도와 월을 입력하세요:\").split()\n",
    "print(days(year, month))"
   ]
  },
  {
   "cell_type": "code",
   "execution_count": 73,
   "id": "d4d53c4c-cd37-4eed-880a-6477c61a7eb8",
   "metadata": {},
   "outputs": [
    {
     "data": {
      "text/plain": [
       "20"
      ]
     },
     "execution_count": 73,
     "metadata": {},
     "output_type": "execute_result"
    }
   ],
   "source": [
    "(lambda x: x+10) (10) "
   ]
  },
  {
   "cell_type": "code",
   "execution_count": 74,
   "id": "4693a512-65ed-4ad3-891e-b2e4cc1dae85",
   "metadata": {},
   "outputs": [
    {
     "name": "stdout",
     "output_type": "stream",
     "text": [
      "20\n"
     ]
    }
   ],
   "source": [
    "twice=lambda x: x*2\n",
    "print(twice(10))"
   ]
  },
  {
   "cell_type": "code",
   "execution_count": 75,
   "id": "8ec9ee0f-42c4-4ef0-a182-9bc68e362f35",
   "metadata": {},
   "outputs": [
    {
     "name": "stdout",
     "output_type": "stream",
     "text": [
      "[2, 8, 18, 32, 50]\n"
     ]
    }
   ],
   "source": [
    "a=[i for i in range(1,6)]\n",
    "b=[i for i in range (2,11,2)]\n",
    "print(list(map(lambda x, y: x*y, a,b)))"
   ]
  },
  {
   "cell_type": "code",
   "execution_count": null,
   "id": "2dda11e6-f502-4124-b2fa-be9c70924bca",
   "metadata": {},
   "outputs": [],
   "source": []
  }
 ],
 "metadata": {
  "kernelspec": {
   "display_name": "Python 3 (ipykernel)",
   "language": "python",
   "name": "python3"
  },
  "language_info": {
   "codemirror_mode": {
    "name": "ipython",
    "version": 3
   },
   "file_extension": ".py",
   "mimetype": "text/x-python",
   "name": "python",
   "nbconvert_exporter": "python",
   "pygments_lexer": "ipython3",
   "version": "3.9.12"
  }
 },
 "nbformat": 4,
 "nbformat_minor": 5
}
