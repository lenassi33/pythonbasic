{
 "cells": [
  {
   "cell_type": "code",
   "execution_count": 1,
   "id": "e6130844-6f5f-421a-9176-31d6a09016fc",
   "metadata": {},
   "outputs": [
    {
     "name": "stdout",
     "output_type": "stream",
     "text": [
      "A: {1, 2, 3, 4} B: {2, 4, 5}\n",
      "set.union(A,B): {1, 2, 3, 4, 5}\n",
      "set.intersection(A,B): {2, 4}\n",
      "set.difference(A,B): {1, 3}\n",
      "set.symmetric_difference(A,B): {1, 3, 5}\n",
      "A|B: {1, 2, 3, 4, 5}\n",
      "A&B: {2, 4}\n",
      "A-B: {1, 3}\n"
     ]
    }
   ],
   "source": [
    "A= {i for i in range(1,5)}\n",
    "B= {i for i in range(2,6) if i !=3}\n",
    "print(\"A:\", A, \"B:\", B)\n",
    "print(\"set.union(A,B):\", set.union(A,B))\n",
    "print(\"set.intersection(A,B):\", set.intersection(A,B))\n",
    "print(\"set.difference(A,B):\", set.difference(A,B))\n",
    "print(\"set.symmetric_difference(A,B):\", set.symmetric_difference(A,B))\n",
    "print(\"A|B:\", A|B)\n",
    "print(\"A&B:\", A&B)\n",
    "print(\"A-B:\", A-B)"
   ]
  },
  {
   "cell_type": "code",
   "execution_count": 2,
   "id": "6ed2c835-f2a9-4809-bf23-448d90e3e610",
   "metadata": {},
   "outputs": [
    {
     "name": "stdout",
     "output_type": "stream",
     "text": [
      "{75, 45, 15, 90, 60, 30}\n"
     ]
    }
   ],
   "source": [
    "#3의 배수 구하기\n",
    "set_3 = {num for num in range(1, 101) if num % 3 == 0}\n",
    "\n",
    "#5의 배수 구하기\n",
    "set_5 = {num for num in range(1, 101) if num % 5 == 0}\n",
    "\n",
    "#3과 5의 공배수 구하기\n",
    "result_set = set_3.intersection(set_5)\n",
    "print(result_set)\n"
   ]
  },
  {
   "cell_type": "code",
   "execution_count": 4,
   "id": "928f200d-338c-4a11-bb2e-5fb509786ac0",
   "metadata": {},
   "outputs": [
    {
     "name": "stdout",
     "output_type": "stream",
     "text": [
      "개인정보 조회,구매 관리,근태 관리,시스템 관리,인사 관리,회계 관리\n"
     ]
    }
   ],
   "source": [
    "role_admin = (\"회계 관리\", \"인사 관리\", \"구매 관리\", \"시스템 관리\")\n",
    "role_hr = (\"인사 관리\", \"개인정보 조회\", \"회계 관리\", \"근태 관리\")\n",
    "role_user = (\"개인정보 조회\", \"근태 관리\")\n",
    "\n",
    "#합치고 중복제거\n",
    "roles = role_admin + role_hr + role_user\n",
    "roles_set = set(roles)\n",
    "\n",
    "#리스트로 만들고 오름차순정렬\n",
    "roles_list = list(roles_set)\n",
    "roles_list.sort()\n",
    "\n",
    "print(\",\".join(roles_list))"
   ]
  },
  {
   "cell_type": "code",
   "execution_count": 23,
   "id": "5816e957-3046-4312-bcc4-50896fa9d5b8",
   "metadata": {},
   "outputs": [
    {
     "name": "stdin",
     "output_type": "stream",
     "text": [
      "정수를 입력하세요: 30\n"
     ]
    },
    {
     "data": {
      "text/plain": [
       "40"
      ]
     },
     "execution_count": 23,
     "metadata": {},
     "output_type": "execute_result"
    }
   ],
   "source": [
    "#각 입력받은 정수를 10씩 더해서 반환하는 함수 \n",
    "\n",
    "def plus_ten(num):\n",
    "    return num+10\n",
    "\n",
    "number=int(input(\"정수를 입력하세요:\"))\n",
    "plus_ten(number)"
   ]
  },
  {
   "cell_type": "code",
   "execution_count": 32,
   "id": "1f91d6ee-4864-4632-bb18-afd97cb988b8",
   "metadata": {},
   "outputs": [
    {
     "name": "stdin",
     "output_type": "stream",
     "text": [
      "화씨온도를 입력하세요: 50\n"
     ]
    },
    {
     "data": {
      "text/plain": [
       "10.0"
      ]
     },
     "execution_count": 32,
     "metadata": {},
     "output_type": "execute_result"
    }
   ],
   "source": [
    "#화씨온도를 섭씨온도로 변경하는 함수 코드\n",
    "\n",
    "def to_celsius(fahrenheit):\n",
    "    celsius = (fahrenheit - 32) * 5/9\n",
    "    return celsius\n",
    "\n",
    "temp=int(input(\"화씨온도를 입력하세요:\"))\n",
    "to_celsius(temp)"
   ]
  },
  {
   "cell_type": "code",
   "execution_count": 38,
   "id": "ac90f970-96c4-43df-8fab-8809b66c1355",
   "metadata": {
    "jupyter": {
     "source_hidden": true
    },
    "tags": []
   },
   "outputs": [
    {
     "name": "stdout",
     "output_type": "stream",
     "text": [
      "짝수\n",
      "홀수\n",
      "None\n",
      "None\n",
      "number가 짝수면 \"짝수\", 홀수면 \"홀수\" 반환\n"
     ]
    }
   ],
   "source": [
    "def odd_even(n):\n",
    "    \"\"\"number가 짝수면 \"짝수\", 홀수면 \"홀수\" 반환\"\"\"\n",
    "    if type(n) != int or n <= 0:  # 자연수가 아니면 함수를 종료합니다.\n",
    "        return      #None출력\n",
    "    if n % 2 == 0:  #짝수인 경우\n",
    "        return \"짝수\"\n",
    "    else:           #홀수인 경우\n",
    "        return \"홀수\"\n",
    "\n",
    "result = odd_even(10)\n",
    "print(result)  #짝수\n",
    "\n",
    "result = odd_even(9)\n",
    "print(result)  #홀수\n",
    "\n",
    "result = odd_even(-3)\n",
    "print(result)  #None\n",
    "\n",
    "result = odd_even(\"가\")\n",
    "print(result)  #None\n",
    "\n",
    "print(odd_even.__doc__)"
   ]
  },
  {
   "cell_type": "code",
   "execution_count": 43,
   "id": "2bf76a2a-f038-432c-921b-7cae656c1e55",
   "metadata": {},
   "outputs": [
    {
     "name": "stdin",
     "output_type": "stream",
     "text": [
      "연도를 입력하세요: 1900\n"
     ]
    },
    {
     "data": {
      "text/plain": [
       "'평년'"
      ]
     },
     "execution_count": 43,
     "metadata": {},
     "output_type": "execute_result"
    }
   ],
   "source": [
    "#윤년/평년 알려주는 함수 코드\n",
    "\n",
    "def check_leap_year(year):\n",
    "    if (year%4==0) and (year%100 !=0 or year%400 ==0):\n",
    "        return \"윤년\"\n",
    "    else:\n",
    "        return \"평년\"\n",
    "    \n",
    "years=int(input(\"연도를 입력하세요:\"))\n",
    "check_leap_year(years)   "
   ]
  },
  {
   "cell_type": "code",
   "execution_count": 48,
   "id": "c21bee45-e121-4eb7-a269-375e94bc48ea",
   "metadata": {},
   "outputs": [
    {
     "name": "stdin",
     "output_type": "stream",
     "text": [
      "월을 입력하세요: 8\n"
     ]
    },
    {
     "data": {
      "text/plain": [
       "31"
      ]
     },
     "execution_count": 48,
     "metadata": {},
     "output_type": "execute_result"
    }
   ],
   "source": [
    "def days(month):\n",
    "    if month == 2: # 2월\n",
    "        return 28\n",
    "    elif month in [4, 6, 9, 11]: # 30일인 달\n",
    "        return 30\n",
    "    else: # 31일인 달\n",
    "        return 31\n",
    "\n",
    "months=int(input(\"월을 입력하세요:\"))\n",
    "days(months)"
   ]
  },
  {
   "cell_type": "code",
   "execution_count": 79,
   "id": "c68179fb-b416-46a6-97ce-d3d13c1fbf18",
   "metadata": {
    "tags": []
   },
   "outputs": [
    {
     "name": "stdout",
     "output_type": "stream",
     "text": [
      "30\n",
      "31\n",
      "28\n",
      "29\n"
     ]
    },
    {
     "name": "stdin",
     "output_type": "stream",
     "text": [
      "연도와 월을 입력하세요: 2004 10\n"
     ]
    },
    {
     "name": "stdout",
     "output_type": "stream",
     "text": [
      "31\n"
     ]
    }
   ],
   "source": [
    "def days(year, month):\n",
    "    if month in [1, 3, 5, 7, 8, 10, 12]:\n",
    "        return 31\n",
    "    elif month in [4, 6, 9, 11]:\n",
    "        return 30\n",
    "    elif month== 2:\n",
    "        if (year%4 == 0 and year%100 != 0) or year%400 == 0:\n",
    "            return 29\n",
    "        else:\n",
    "            return 28\n",
    "    else:\n",
    "        return None  # 잘못된 월이 입력되면 None을 반환합니다.\n",
    "    \n",
    "print(days(1900,11))\n",
    "print(days(2004,10))\n",
    "print(days(1900,2))\n",
    "print(days(2000,2))\n",
    "\n",
    "year, month= map(int, input(\"연도와 월을 입력하세요:\").split())\n",
    "print(days(year, month))"
   ]
  },
  {
   "cell_type": "code",
   "execution_count": 73,
   "id": "d4d53c4c-cd37-4eed-880a-6477c61a7eb8",
   "metadata": {},
   "outputs": [
    {
     "data": {
      "text/plain": [
       "20"
      ]
     },
     "execution_count": 73,
     "metadata": {},
     "output_type": "execute_result"
    }
   ],
   "source": [
    "(lambda x: x+10) (10) "
   ]
  },
  {
   "cell_type": "code",
   "execution_count": 74,
   "id": "4693a512-65ed-4ad3-891e-b2e4cc1dae85",
   "metadata": {},
   "outputs": [
    {
     "name": "stdout",
     "output_type": "stream",
     "text": [
      "20\n"
     ]
    }
   ],
   "source": [
    "twice=lambda x: x*2\n",
    "print(twice(10))"
   ]
  },
  {
   "cell_type": "code",
   "execution_count": 75,
   "id": "8ec9ee0f-42c4-4ef0-a182-9bc68e362f35",
   "metadata": {},
   "outputs": [
    {
     "name": "stdout",
     "output_type": "stream",
     "text": [
      "[2, 8, 18, 32, 50]\n"
     ]
    }
   ],
   "source": [
    "a=[i for i in range(1,6)]\n",
    "b=[i for i in range (2,11,2)]\n",
    "print(list(map(lambda x, y: x*y, a,b)))"
   ]
  },
  {
   "cell_type": "code",
   "execution_count": 80,
   "id": "2dda11e6-f502-4124-b2fa-be9c70924bca",
   "metadata": {},
   "outputs": [
    {
     "name": "stdin",
     "output_type": "stream",
     "text": [
      "\n",
      "메뉴를 보고 싶으시다면 Y, y, 예를 써주시고\n",
      "안 봐도 되시면 N, n, 아니오를 써주세요. 예\n"
     ]
    },
    {
     "name": "stdout",
     "output_type": "stream",
     "text": [
      "\n",
      "한식은 ['덮밥', '비빔밥', '볶음밥', '김치찌개', '부대찌개', '생선찜', '생선구이', '냉면', '설렁탕'] 이 있습니다.\n",
      "\n",
      "중식은 ['짜장&짬뽕', '마라탕'] 이 있습니다.\n",
      "\n",
      "일식은 ['돈까스', '우동', '초밥', '회', '샤브샤브'] 이 있습니다.\n",
      "\n",
      "양식은 ['피자', '치킨', '햄버거'] 이 있습니다.\n",
      "\n",
      "기타는 ['고기', '곱창', '밥버거'] 이 있습니다.\n"
     ]
    },
    {
     "name": "stdin",
     "output_type": "stream",
     "text": [
      "\n",
      "한식, 중식, 일식, 양식, 기타 중에 입력하세요: 일식\n"
     ]
    },
    {
     "name": "stdout",
     "output_type": "stream",
     "text": [
      "\n",
      "일식 을/를 고르셨습니다.\n",
      "\n",
      "돈까스 이/가 선택되었습니다.\n",
      "점심식사 맛있게 하세요^^\n"
     ]
    }
   ],
   "source": [
    "import random\n",
    "menu_list = {\"한식\":[\"덮밥\", \"비빔밥\", \"볶음밥\", \"김치찌개\", \"부대찌개\",\n",
    "                    \"생선찜\", \"생선구이\", \"냉면\", \"설렁탕\"],\n",
    "              \"중식\":[\"짜장&짬뽕\", \"마라탕\"],\n",
    "             \"일식\":[\"돈까스\", \"우동\", \"초밥\", \"회\", \"샤브샤브\"],\n",
    "             \"양식\":[\"피자\", \"치킨\", \"햄버거\"],\n",
    "             \"기타\":[\"고기\", \"곱창\", \"밥버거\"]}\n",
    "def select_genre():\n",
    "    while True:\n",
    "        var = input(\"\\n한식, 중식, 일식, 양식, 기타 중에 입력하세요:\")\n",
    "        if var in (\"한식\", \"중식\", \"일식\", \"양식\", \"기타\"):\n",
    "            break\n",
    "        else:\n",
    "            print(\"다시 입력해주세요.\")\n",
    "    return var\n",
    "def view_menu_list():\n",
    "    while True:\n",
    "        var = input(\"\"\"\n",
    "메뉴를 보고 싶으시다면 Y, y, 예를 써주시고\n",
    "안 봐도 되시면 N, n, 아니오를 써주세요.\"\"\")\n",
    "        if var == \"Y\" or var == \"y\" or var == \"예\":\n",
    "            print(\"\\n한식은\", menu_list[\"한식\"],\"이 있습니다.\\n\")\n",
    "            print(\"중식은\", menu_list[\"중식\"],\"이 있습니다.\\n\")\n",
    "            print(\"일식은\", menu_list[\"일식\"],\"이 있습니다.\\n\")\n",
    "            print(\"양식은\", menu_list[\"양식\"],\"이 있습니다.\\n\")\n",
    "            print(\"기타는\", menu_list[\"기타\"],\"이 있습니다.\")\n",
    "            break\n",
    "        elif var == \"N\" or var == \"n\" or var == \"아니오\":\n",
    "            break\n",
    "        else:\n",
    "            print(\"다시 입력하세요\")\n",
    "view_menu = view_menu_list()\n",
    "menu_type = select_genre()\n",
    "print(f\"\\n{menu_type} 을/를 고르셨습니다.\")\n",
    "selected = random.choice(menu_list[menu_type])\n",
    "print(f\"\\n{selected} 이/가 선택되었습니다.\\n점심식사 맛있게 하세요^^\")\n"
   ]
  },
  {
   "cell_type": "code",
   "execution_count": 88,
   "id": "96772904-23f3-4029-af30-4a7ac710aa68",
   "metadata": {},
   "outputs": [
    {
     "name": "stdin",
     "output_type": "stream",
     "text": [
      "이름은 무엇인가요?:  마리아\n",
      "나이는 무엇인가요?:  20\n",
      "주소는 무엇인가요?:  서울시 강남구\n",
      "이름은 무엇인가요?:  제임스\n",
      "나이는 무엇인가요?:  21\n",
      "주소는 무엇인가요?:  서울시 구로구\n"
     ]
    },
    {
     "name": "stdout",
     "output_type": "stream",
     "text": [
      "마리아 - 이름:마리아, 나이:20, 주소:서울시 강남구\n",
      "제임스 - 이름:제임스, 나이:21, 주소:서울시 구로구\n"
     ]
    }
   ],
   "source": [
    "#person 클래스로 maria, james라는 instance생성\n",
    "\n",
    "class Person:\n",
    "    def __init__(self, name, age, address):\n",
    "        self.name=name\n",
    "        self.age=age\n",
    "        self.address=address\n",
    "\n",
    "maria=Person(input(\"이름은 무엇인가요?: \"), input(\"나이는 무엇인가요?: \"), input(\"주소는 무엇인가요?: \"))\n",
    "james=Person(input(\"이름은 무엇인가요?: \"), input(\"나이는 무엇인가요?: \"), input(\"주소는 무엇인가요?: \"))\n",
    "\n",
    "print(\"마리아 - 이름:{}, 나이:{}, 주소:{}\".format(maria.name, maria.age, maria.address))\n",
    "print(\"제임스 - 이름:{}, 나이:{}, 주소:{}\".format(james.name, james.age, james.address))          "
   ]
  },
  {
   "cell_type": "code",
   "execution_count": 89,
   "id": "6d719de8-d415-4cec-9dd7-f80f15a132d0",
   "metadata": {},
   "outputs": [
    {
     "name": "stdin",
     "output_type": "stream",
     "text": [
      "체력을 입력하세요:  511.68\n",
      "마나를 입력하세요:  334\n",
      "마법 능력치(AP)를 입력하세요:  298\n"
     ]
    },
    {
     "name": "stdout",
     "output_type": "stream",
     "text": [
      "티버의 피해량은 593.70 입니다.\n"
     ]
    }
   ],
   "source": [
    "#사용자로부터 체력, 마나, AP를 입력받습니다. 주어진 코드에서 Annie클래스를 작성하고 tibber 스킬의 피해량이 출력되게 만드는 코드\n",
    "#티버의 피해량은 AP*0.65+400이며 AP는 마법능력치를 뜻한다\n",
    "\n",
    "class Annie:\n",
    "    def __init__(self, health, mana, ap):\n",
    "        self.health = health\n",
    "        self.mana = mana\n",
    "        self.ap = ap\n",
    "        \n",
    "    def tibbers(self):\n",
    "        damage = self.ap * 0.65 + 400\n",
    "        return damage\n",
    "\n",
    "# 사용자로부터 입력 받기\n",
    "# hp, mp, ap = map(float, input(\"애니\").split()\n",
    "\n",
    "health = float(input(\"체력을 입력하세요: \"))\n",
    "mana = float(input(\"마나를 입력하세요: \"))\n",
    "magic_power = float(input(\"마법 능력치(AP)를 입력하세요: \"))\n",
    "\n",
    "# Annie 인스턴스 생성\n",
    "annie = Annie(health, mana, magic_power)\n",
    "\n",
    "# Tibbers 스킬의 피해량 출력\n",
    "tibbers_damage = annie.tibbers()\n",
    "print(\"티버의 피해량은 {:.2f} 입니다.\".format(tibbers_damage))\n"
   ]
  }
 ],
 "metadata": {
  "kernelspec": {
   "display_name": "Python 3 (ipykernel)",
   "language": "python",
   "name": "python3"
  },
  "language_info": {
   "codemirror_mode": {
    "name": "ipython",
    "version": 3
   },
   "file_extension": ".py",
   "mimetype": "text/x-python",
   "name": "python",
   "nbconvert_exporter": "python",
   "pygments_lexer": "ipython3",
   "version": "3.9.12"
  }
 },
 "nbformat": 4,
 "nbformat_minor": 5
}
