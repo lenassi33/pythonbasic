{
 "cells": [
  {
   "cell_type": "markdown",
   "id": "e41fe553-14fa-453f-a7c6-663ba0b150ca",
   "metadata": {},
   "source": [
    "변수란: 데이터가 저장되어 있는 메모리공간\n",
    "\n",
    "변수명 설정\n",
    "1. 영문 사용 권장 (첫글자는 소문자 사용권장)\n",
    "2. 데이터의 의미를 파악할 수 있도록 설정 ex. myWeight vs mw\n",
    "3. middleExamScore --> 카멜표기법(요즘 많이사용) , middle_exam_score --> 스테이크표기법\n",
    "4. 예약어 사용금지\n",
    "5. 특수문자 사용금지 (단, 언더바는 가능)\n",
    "6. 공백(앞이나 중간)금지 (단, 뒤에는 가능)\n",
    "7. 숫자 가능하나 첫번째는 사용금지"
   ]
  },
  {
   "cell_type": "code",
   "execution_count": 1,
   "id": "0b0bedf0-bbec-4aa8-ace9-25d2c8992133",
   "metadata": {},
   "outputs": [
    {
     "name": "stdout",
     "output_type": "stream",
     "text": [
      "['False', 'None', 'True', '__peg_parser__', 'and', 'as', 'assert', 'async', 'await', 'break', 'class', 'continue', 'def', 'del', 'elif', 'else', 'except', 'finally', 'for', 'from', 'global', 'if', 'import', 'in', 'is', 'lambda', 'nonlocal', 'not', 'or', 'pass', 'raise', 'return', 'try', 'while', 'with', 'yield']\n"
     ]
    }
   ],
   "source": [
    "#예약어\n",
    "\n",
    "import keyword\n",
    "print(keyword.kwlist)"
   ]
  },
  {
   "cell_type": "code",
   "execution_count": null,
   "id": "be1a212c-1586-45db-ab4b-99ffc9743d96",
   "metadata": {},
   "outputs": [],
   "source": [
    "자료형: 메모리를 효율적으로 관리하기 위해 구분한 것, 데이터타입에 따라 메모리크기 결정\n",
    "1. 정수형(int) : 정수는 메모리가 허용되는 한 무한사용 가능\n",
    "2. 실수형(float) : 소수점이하 17~18번째에서 데이터손실 발생. 이후 숫자는 삭제\n",
    "3. 문자(열)형(str) : \"\" 또는 '' 사용5\n",
    "4. 논리형(bool)"
   ]
  },
  {
   "cell_type": "markdown",
   "id": "84253a8b-d1ff-460a-b44d-7045bed88459",
   "metadata": {},
   "source": [
    "자료형 변환\n",
    "1. 정수형 <--> 문자열\n",
    "2. 논리형 <--> 문자열 \n",
    "3. 실수형 <--> 정수형 "
   ]
  },
  {
   "cell_type": "code",
   "execution_count": 5,
   "id": "588227a9-0be5-45d0-b293-eecb5c91c10f",
   "metadata": {},
   "outputs": [
    {
     "name": "stdout",
     "output_type": "stream",
     "text": [
      "10\n",
      "<class 'str'>\n",
      "3.14\n",
      "<class 'str'>\n"
     ]
    }
   ],
   "source": [
    "# 정수형 <--> 문자열\n",
    "\n",
    "iNum=10\n",
    "fNum=3.14\n",
    "\n",
    "iNum= str(iNum) #str() 함수 이용\n",
    "fNum= str(fNum) \n",
    "\n",
    "print(iNum)\n",
    "print(type(iNum))\n",
    "print(fNum)\n",
    "print(type(fNum))"
   ]
  },
  {
   "cell_type": "code",
   "execution_count": 8,
   "id": "146325be-fdd4-4148-ab70-27e4bfec29e2",
   "metadata": {},
   "outputs": [
    {
     "name": "stdout",
     "output_type": "stream",
     "text": [
      "True\n",
      "<class 'str'>\n"
     ]
    }
   ],
   "source": [
    "# 논리형 <--> 문자열\n",
    "\n",
    "flag=True\n",
    "flag=str(True) #str() 함수 이용\n",
    "\n",
    "print(flag)\n",
    "print(type(flag))"
   ]
  },
  {
   "cell_type": "code",
   "execution_count": 9,
   "id": "470bf48d-8740-48ae-a822-4db23fa386ba",
   "metadata": {},
   "outputs": [
    {
     "name": "stdout",
     "output_type": "stream",
     "text": [
      "100\n",
      "<class 'int'>\n"
     ]
    }
   ],
   "source": [
    "# 문자열 <--> 정수형\n",
    "\n",
    "var='100'\n",
    "var=int(var)  #int() 함수 이용\n",
    "\n",
    "print(var)\n",
    "print(type(var))"
   ]
  },
  {
   "cell_type": "code",
   "execution_count": 11,
   "id": "453198f6-9128-47f9-8688-4365aa34aca8",
   "metadata": {},
   "outputs": [
    {
     "name": "stdout",
     "output_type": "stream",
     "text": [
      "100.0\n",
      "<class 'float'>\n"
     ]
    }
   ],
   "source": [
    "# 문자열 <--> 실수형\n",
    "\n",
    "var='100'\n",
    "var=float(var)  #float() 함수 이용\n",
    "\n",
    "print(var)\n",
    "print(type(var))"
   ]
  },
  {
   "cell_type": "code",
   "execution_count": 12,
   "id": "36e966c5-52c7-44c8-b0ce-a7d758dfda0e",
   "metadata": {},
   "outputs": [
    {
     "name": "stdout",
     "output_type": "stream",
     "text": [
      "1\n",
      "<class 'int'>\n"
     ]
    }
   ],
   "source": [
    "# 논리형 <--> 정수형\n",
    "\n",
    "flag=True\n",
    "flag=int(True) #int() 함수 이용\n",
    "\n",
    "print(flag)\n",
    "print(type(flag))"
   ]
  },
  {
   "cell_type": "code",
   "execution_count": 13,
   "id": "f668fec5-5e7d-4644-a748-8cb97abe8a46",
   "metadata": {},
   "outputs": [
    {
     "name": "stdout",
     "output_type": "stream",
     "text": [
      "1.0\n",
      "<class 'float'>\n"
     ]
    }
   ],
   "source": [
    "# 논리형 <--> 실수형\n",
    "\n",
    "flag=True\n",
    "flag=float(True) #float() 함수 이용\n",
    "\n",
    "print(flag)\n",
    "print(type(flag))"
   ]
  },
  {
   "cell_type": "markdown",
   "id": "5fe62da5-574f-4569-ae09-43f1b74da650",
   "metadata": {},
   "source": [
    "빈 문자: '' 데이터 없음\n",
    "공백 문자:' ' 공백데이터 있음"
   ]
  },
  {
   "cell_type": "code",
   "execution_count": 14,
   "id": "1f8b77ec-198d-4e32-9bc9-cafaa8bd63da",
   "metadata": {},
   "outputs": [
    {
     "name": "stdout",
     "output_type": "stream",
     "text": [
      "\n",
      "<class 'str'>\n",
      "False\n",
      "<class 'bool'>\n",
      " \n",
      "<class 'str'>\n",
      "True\n",
      "<class 'bool'>\n"
     ]
    }
   ],
   "source": [
    "#빈 문자\n",
    "var='' \n",
    "print(var)\n",
    "print(type(var))\n",
    "\n",
    "var=bool(var)\n",
    "print(var)\n",
    "print(type(var))\n",
    "\n",
    "\n",
    "#공백 문자\n",
    "var=' ' \n",
    "print(var)\n",
    "print(type(var))\n",
    "\n",
    "var=bool(var)\n",
    "print(var)\n",
    "print(type(var))"
   ]
  },
  {
   "cell_type": "code",
   "execution_count": 17,
   "id": "bde7297f-5d1d-4e4e-b3d7-d6252df425fe",
   "metadata": {},
   "outputs": [
    {
     "name": "stdout",
     "output_type": "stream",
     "text": [
      "True\n",
      "False\n",
      "<class 'str'>\n",
      "<class 'str'>\n",
      "True\n",
      "True\n",
      "2\n"
     ]
    }
   ],
   "source": [
    "var1='True'\n",
    "var2='False'\n",
    "\n",
    "print(var1)\n",
    "print(var2)\n",
    "print(type(var1))\n",
    "print(type(var2))\n",
    "\n",
    "var1=bool(var1)\n",
    "var2=bool(var2) #''안에 데이터가 있으므로 True\n",
    "print(var1)\n",
    "print(var2)\n",
    "print(var1+var2)"
   ]
  },
  {
   "cell_type": "code",
   "execution_count": 21,
   "id": "4fb47e28-5675-4f81-96d0-09c705881233",
   "metadata": {},
   "outputs": [
    {
     "name": "stdin",
     "output_type": "stream",
     "text": [
      "가로 입력:  10\n",
      "세로 입력:  40\n"
     ]
    },
    {
     "name": "stdout",
     "output_type": "stream",
     "text": [
      "사각형의 넓이는 400 입니다.\n"
     ]
    }
   ],
   "source": [
    "#input()함수를 이용한 데이터입력 : 입력받은 데이터는 \"\"항상\"\" 문자열 자료형\n",
    "\n",
    "width=int(input(\"가로 입력: \")) #int() 정수형 변환\n",
    "height=int(input(\"세로 입력: \"))\n",
    "\n",
    "print('사각형의 넓이는', width*height, '입니다.')"
   ]
  },
  {
   "cell_type": "code",
   "execution_count": 23,
   "id": "861659a7-a022-4745-b04b-f1688f1a9b2b",
   "metadata": {},
   "outputs": [
    {
     "name": "stdout",
     "output_type": "stream",
     "text": [
      "사각형의 넓이는 400\n"
     ]
    }
   ],
   "source": [
    "#개행 방지 end=''\n",
    "\n",
    "print('사각형의 넓이는 ', end='') \n",
    "print(width*height)"
   ]
  },
  {
   "cell_type": "code",
   "execution_count": 34,
   "id": "37eb73c3-626c-464a-a5ab-3cb32d9be3ac",
   "metadata": {},
   "outputs": [
    {
     "name": "stdout",
     "output_type": "stream",
     "text": [
      "사각형의 넓이는: 400\n",
      "사각형의 넓이는: \n",
      "400\n"
     ]
    }
   ],
   "source": [
    "#개행 \\n\n",
    "\n",
    "print(f'사각형의 넓이는: {width*height}')\n",
    "print(f'사각형의 넓이는: \\n{width*height}')"
   ]
  },
  {
   "cell_type": "code",
   "execution_count": 30,
   "id": "1cf6c6e9-7a95-4a0e-9db6-13ac8654ae09",
   "metadata": {},
   "outputs": [
    {
     "name": "stdout",
     "output_type": "stream",
     "text": [
      "나의 이름은 이혜지이고, 나이는 20살입니다. 이혜지 이름은 아버지께서 지어주셨습니다.\n"
     ]
    }
   ],
   "source": [
    "#format() 함수, 인덱스활용\n",
    "\n",
    "userName ='이혜지'\n",
    "userAge=20\n",
    "\n",
    "print('나의 이름은 {0}이고, 나이는 {1}살입니다. {0} 이름은 아버지께서 지어주셨습니다.'.format(userName, userAge))"
   ]
  },
  {
   "cell_type": "code",
   "execution_count": 31,
   "id": "2fb0248f-8480-422d-8c45-e7de7fa4ec25",
   "metadata": {},
   "outputs": [
    {
     "name": "stdout",
     "output_type": "stream",
     "text": [
      "Pi: 3.140000\n",
      "Pi: 3\n"
     ]
    }
   ],
   "source": [
    "#형식문자  \n",
    "%s --> 문자열\n",
    "%d --> 정수\n",
    "%f --> 실수\n",
    "\n",
    "\n",
    "print('Pi: %f' % 3.14)\n",
    "print('Pi: %d' % 3.14)"
   ]
  },
  {
   "cell_type": "code",
   "execution_count": 33,
   "id": "aaabf486-b798-4adc-8040-5a400e2888c8",
   "metadata": {},
   "outputs": [
    {
     "name": "stdout",
     "output_type": "stream",
     "text": [
      "Pi: 3.14\n",
      "Pi: 3.141592\n"
     ]
    }
   ],
   "source": [
    "#소수점 자리 변경\n",
    "\n",
    "print('Pi: %.2f' % 3.141592)\n",
    "print('Pi: %.6f' % 3.141592)"
   ]
  },
  {
   "cell_type": "markdown",
   "id": "6dbd6e98-704c-4bb8-bc42-5fdac766c61e",
   "metadata": {},
   "source": [
    "연산자 종류\n",
    "1. 산술 \n",
    "2. 할당(복합)\n",
    "3. 비교\n",
    "4. 논리"
   ]
  },
  {
   "cell_type": "code",
   "execution_count": 35,
   "id": "468da483-82cb-4cb5-85f5-cd606b93c79f",
   "metadata": {},
   "outputs": [
    {
     "name": "stdout",
     "output_type": "stream",
     "text": [
      "result: 62.800000000000004\n",
      "result: 62.80\n"
     ]
    }
   ],
   "source": [
    "#곱셈 연산\n",
    "\n",
    "num1=20\n",
    "fNum1=3.14\n",
    "result=num1*fNum1\n",
    "\n",
    "print('result: {}'.format(result))\n",
    "print('result: %.2f' % (result))"
   ]
  },
  {
   "cell_type": "code",
   "execution_count": 37,
   "id": "8a813b21-c3b0-4c9e-a041-09d7edb91046",
   "metadata": {},
   "outputs": [
    {
     "name": "stdout",
     "output_type": "stream",
     "text": [
      "num1: 10, num2: 3\n",
      "result: 3.3333333333333335\n",
      "result: 3.33\n"
     ]
    }
   ],
   "source": [
    "#나눗셈 연산 : 나눗셈의 결과는 항상 실수다\n",
    "\n",
    "num1=10\n",
    "num2=3\n",
    "result=num1/num2\n",
    "\n",
    "print('num1: {}, num2: {}'.format(num1, num2))\n",
    "print('result: {}'.format(result))\n",
    "print('result: %.2f' % (result))"
   ]
  },
  {
   "cell_type": "code",
   "execution_count": 38,
   "id": "10fde8c7-d6d0-4ed0-99f6-accf06f6348a",
   "metadata": {},
   "outputs": [
    {
     "name": "stdout",
     "output_type": "stream",
     "text": [
      "result: (3, 1)\n",
      "몫: 3\n",
      "나머지: 1\n"
     ]
    }
   ],
   "source": [
    "#나머지와 몫을 한번에 구하는 함수: divmod()\n",
    "\n",
    "result=divmod(num1, num2)\n",
    "print('result: {}'.format(result))\n",
    "print('몫: {}'.format(result[0]))\n",
    "print('나머지: {}'.format(result[1]))      "
   ]
  },
  {
   "cell_type": "code",
   "execution_count": 40,
   "id": "6189e15f-1eaf-4bef-8552-0f243f56d542",
   "metadata": {},
   "outputs": [
    {
     "name": "stdout",
     "output_type": "stream",
     "text": [
      "2의 제곱근 1.41\n",
      "2의 3제곱근 1.2599\n"
     ]
    }
   ],
   "source": [
    "#제곱근 구하기 : n의 m제곱근 ==> n**(1/m)\n",
    "\n",
    "result=2**(1/2)\n",
    "print('2의 제곱근 %.2f' % result)\n",
    "\n",
    "result2= 2**(1/3)\n",
    "print('2의 3제곱근 %.4f' % result2)"
   ]
  },
  {
   "cell_type": "code",
   "execution_count": 42,
   "id": "02eb43a9-620c-4a46-adc8-033c1302a660",
   "metadata": {},
   "outputs": [
    {
     "name": "stdout",
     "output_type": "stream",
     "text": [
      "2의 제곱근: 1.414214\n",
      "2의 3제곱: 8.000000\n"
     ]
    }
   ],
   "source": [
    "#math모듈의 sqrt(), pow()함수\n",
    "\n",
    "import math\n",
    "\n",
    "print('2의 제곱근: %f' % math.sqrt(2)) #단, sqrt()는 2제곱근만 가능\n",
    "print('2의 3제곱: %f'  % math.pow(2,3))\n"
   ]
  },
  {
   "cell_type": "code",
   "execution_count": 50,
   "id": "0e95e044-e765-478c-9845-d3f11a064c3f",
   "metadata": {},
   "outputs": [
    {
     "name": "stdout",
     "output_type": "stream",
     "text": [
      "409,600 원\n"
     ]
    }
   ],
   "source": [
    "firstMoney=200\n",
    "after12Month=((firstMoney*0.01) ** 12) * 100\n",
    "\n",
    "after12Month=int(after12Month)\n",
    "strResult=format(after12Month, ',') #숫자를 천단위로 나눠 표시\n",
    "print(strResult, '원')"
   ]
  },
  {
   "cell_type": "markdown",
   "id": "5840dc25-0437-4340-9334-99b49f5d3b5b",
   "metadata": {},
   "source": [
    "할당(복합)연산자\n",
    "1. +=\n",
    "2. -=\n",
    "3. *=\n",
    "4. /=\n",
    "5. %=\n",
    "6. //=\n",
    "7. **="
   ]
  },
  {
   "cell_type": "code",
   "execution_count": 51,
   "id": "12ce0a3c-b62a-46a2-a859-e3f01b3899a3",
   "metadata": {},
   "outputs": [
    {
     "name": "stdout",
     "output_type": "stream",
     "text": [
      "1월 누적강수량: 30mm\n",
      "2월 누적강수량: 75mm\n"
     ]
    }
   ],
   "source": [
    "totalAmt=0\n",
    "\n",
    "totalAmt +=30\n",
    "print('1월 누적강수량: {}mm'.format(totalAmt))\n",
    "\n",
    "totalAmt +=45\n",
    "print('2월 누적강수량: {}mm'.format(totalAmt))"
   ]
  },
  {
   "cell_type": "markdown",
   "id": "b63e3054-9cbf-4327-ba73-a234d56bdbb1",
   "metadata": {},
   "source": [
    "비교연산자\n",
    "1. >\n",
    "2. >=\n",
    "3. <\n",
    "4. <=\n",
    "5. ==\n",
    "6. !="
   ]
  },
  {
   "cell_type": "markdown",
   "id": "7da3e478-f0ef-4658-a472-c61a1f1f768e",
   "metadata": {},
   "source": [
    "논리연산자\n",
    "1. and\n",
    "2. or\n",
    "3. not"
   ]
  },
  {
   "cell_type": "code",
   "execution_count": 55,
   "id": "d92f2d9e-d899-4f80-9739-6e555fa34390",
   "metadata": {},
   "outputs": [
    {
     "name": "stdin",
     "output_type": "stream",
     "text": [
      "나이를 입력하세요:  30\n"
     ]
    },
    {
     "name": "stdout",
     "output_type": "stream",
     "text": [
      "age: 30, vaccine: False\n"
     ]
    }
   ],
   "source": [
    "age= int(input(\"나이를 입력하세요: \"))\n",
    "\n",
    "vaccine= (age <20) or (age >=65)\n",
    "print('age: {}, vaccine: {}'.format(age,vaccine))"
   ]
  },
  {
   "cell_type": "markdown",
   "id": "1f921882-6de5-4368-b0d0-56d693fed057",
   "metadata": {},
   "source": [
    "모듈: 누군가 이미 만들어놓은 기능 (수학. 연산자. 난수 등)\n",
    "Operator 산술모듈\n",
    "1. 덧셈       operate.add(num1,num2)\n",
    "2. 뺄셈       operate.sub(num1,num2)\n",
    "3. 곱셈       operate.mul(num1,num2)\n",
    "4. 나눗셈     operate.truediv(num1,num2)\n",
    "5. 나머지     operate.mod(num1,num2)\n",
    "6. 몫         operate.floordiv(num1,num2)\n",
    "7. 제곱       operate.pow(num1,num2)\n",
    "\n",
    "Operator 비교모듈\n",
    "1. 같다        operate.eq(num1,num2)\n",
    "2. 같지않다    operate.ne(num1,num2)\n",
    "3. 크다        operate.gt(num1,num2)\n",
    "4. 크거나 같다  operate.ge(num1,num2)\n",
    "5. 작다        operate.lt(num1,num2)\n",
    "6. 작거나 같다  operate.le(num1,num2)\n",
    "\n",
    "Operator 논리모듈\n",
    "1. and        operate.and_(num1,num2)\n",
    "2. or         operate.or_(num1,num2)\n",
    "3. not        operate.not_(num1,num2)"
   ]
  },
  {
   "cell_type": "code",
   "execution_count": 57,
   "id": "0d632710-a785-4e39-9930-b4cc1b12af7d",
   "metadata": {},
   "outputs": [
    {
     "name": "stdin",
     "output_type": "stream",
     "text": [
      "나이를 입력하세요: 19\n"
     ]
    },
    {
     "name": "stdout",
     "output_type": "stream",
     "text": [
      "age:19, vaccine:True\n"
     ]
    }
   ],
   "source": [
    "import operator\n",
    "\n",
    "age=int(input(\"나이를 입력하세요:\"))\n",
    "vaccine=operator.or_(operator.lt(age,20), operator.ge(age,65))\n",
    "print('age:{}, vaccine:{}'.format(age, vaccine))"
   ]
  },
  {
   "cell_type": "code",
   "execution_count": 3,
   "id": "8fdeef15-9eb5-4d25-8f63-0fa651976fa0",
   "metadata": {},
   "outputs": [
    {
     "name": "stdin",
     "output_type": "stream",
     "text": [
      "성적 입력:  90\n"
     ]
    },
    {
     "name": "stdout",
     "output_type": "stream",
     "text": [
      "성적:90 \t 학점:C\n"
     ]
    }
   ],
   "source": [
    "#다자택일 조건식 (if~ elif~)사용시 주의할점: 조건식 순서가 중요함\n",
    "\n",
    "exampleScore =int(input(\"성적 입력: \"))\n",
    "grades= ' '\n",
    "\n",
    "if exampleScore >=70:  #90점도 C학점임.. 범위를 명확하게 줘서 해결가능--> 70<= exampleScore <80\n",
    "    grades='C'\n",
    "\n",
    "print('성적:{} \\t 학점:{}'.format(exampleScore, grades))"
   ]
  },
  {
   "cell_type": "code",
   "execution_count": 6,
   "id": "e135aef4-a6ac-4852-8a6f-d029185fb53c",
   "metadata": {},
   "outputs": [
    {
     "name": "stdin",
     "output_type": "stream",
     "text": [
      "성적 입력:  90\n"
     ]
    },
    {
     "name": "stdout",
     "output_type": "stream",
     "text": [
      "성적:90 \t 학점: \n"
     ]
    }
   ],
   "source": [
    "exampleScore =int(input(\"성적 입력: \"))\n",
    "grades= ' '\n",
    "\n",
    "if 70<= exampleScore <80:\n",
    "    grades='C'\n",
    "\n",
    "print('성적:{} \\t 학점:{}'.format(exampleScore, grades))"
   ]
  },
  {
   "cell_type": "markdown",
   "id": "922d5bb0-53c7-40b0-a495-a5286beb4ac1",
   "metadata": {},
   "source": [
    "중첩조건문 (if문 안에 if문) :일반적으로 3~4단계 이상은 잘쓰지 않는다"
   ]
  },
  {
   "cell_type": "code",
   "execution_count": 8,
   "id": "8dfeda7f-39dc-4f2f-86d3-40125a38241d",
   "metadata": {},
   "outputs": [
    {
     "name": "stdout",
     "output_type": "stream",
     "text": [
      "2 * 1 =2\n",
      "2 * 2 =4\n",
      "2 * 3 =6\n",
      "2 * 4 =8\n",
      "2 * 5 =10\n",
      "2 * 6 =12\n",
      "2 * 7 =14\n",
      "2 * 8 =16\n",
      "2 * 9 =18\n"
     ]
    }
   ],
   "source": [
    "#반복문 \n",
    "#1. 횟수에 의한 반복: 주로 for문 사용\n",
    "#2. 조건에 의한 반복: 주로 while문 사용\n",
    "\n",
    "for i in range(1,10):\n",
    "    print('{} * {} ={}'.format(2,i,(2*i)))"
   ]
  },
  {
   "cell_type": "code",
   "execution_count": 14,
   "id": "37c9faae-b651-4849-b102-9f8802aee349",
   "metadata": {},
   "outputs": [
    {
     "name": "stdout",
     "output_type": "stream",
     "text": [
      "박 선수한테 메일 발송!!\n",
      "이 선수한테 메일 발송!!\n",
      "김 선수한테 메일 발송!!\n",
      "양 선수한테 메일 발송!!\n",
      "송 선수한테 메일 발송!!\n"
     ]
    }
   ],
   "source": [
    "players=['박','이','김','양','송']\n",
    "for i in players:\n",
    "    print(\"{} 선수한테 메일 발송!!\".format(i))"
   ]
  },
  {
   "cell_type": "code",
   "execution_count": 19,
   "id": "f89da4d8-c8da-45b0-ae87-4bb85f8dd28f",
   "metadata": {},
   "outputs": [
    {
     "name": "stdout",
     "output_type": "stream",
     "text": [
      "1\n",
      "3\n",
      "5\n",
      "7\n",
      "9\n"
     ]
    }
   ],
   "source": [
    "#range()함수 \n",
    "\n",
    "for i in range(1,11,2):\n",
    "    print(i)"
   ]
  },
  {
   "cell_type": "code",
   "execution_count": 21,
   "id": "14ca7fd0-e65f-4ca0-8c16-b5bac575b19c",
   "metadata": {},
   "outputs": [
    {
     "name": "stdout",
     "output_type": "stream",
     "text": [
      "0\n",
      "1\n",
      "2\n",
      "3\n",
      "4\n",
      "5\n"
     ]
    }
   ],
   "source": [
    "#조건에 의한 반복: while문\n",
    "\n",
    "endNum=5   #1.초기식\n",
    "n=0\n",
    "\n",
    "while n<= endNum:  #2.조건식\n",
    "    print(n)\n",
    "    n+=1    #3. 증감식"
   ]
  },
  {
   "cell_type": "code",
   "execution_count": 27,
   "id": "59191e8b-3d61-475a-aca5-b50f8a6358f4",
   "metadata": {},
   "outputs": [
    {
     "name": "stdout",
     "output_type": "stream",
     "text": [
      "날짜: 1 \t 오늘 환자수: 79 \t 누적 환자수: 79\n",
      "날짜: 2 \t 오늘 환자수: 71 \t 누적 환자수: 150\n",
      "날짜: 3 \t 오늘 환자수: 70 \t 누적 환자수: 220\n",
      "날짜: 4 \t 오늘 환자수: 87 \t 누적 환자수: 307\n",
      "날짜: 5 \t 오늘 환자수: 95 \t 누적 환자수: 402\n",
      "날짜: 6 \t 오늘 환자수: 83 \t 누적 환자수: 485\n",
      "날짜: 7 \t 오늘 환자수: 92 \t 누적 환자수: 577\n",
      "날짜: 8 \t 오늘 환자수: 54 \t 누적 환자수: 631\n",
      "날짜: 9 \t 오늘 환자수: 67 \t 누적 환자수: 698\n",
      "날짜: 10 \t 오늘 환자수: 62 \t 누적 환자수: 760\n",
      "날짜: 11 \t 오늘 환자수: 53 \t 누적 환자수: 813\n",
      "날짜: 12 \t 오늘 환자수: 56 \t 누적 환자수: 869\n",
      "날짜: 13 \t 오늘 환자수: 60 \t 누적 환자수: 929\n",
      "날짜: 14 \t 오늘 환자수: 93 \t 누적 환자수: 1022\n"
     ]
    }
   ],
   "source": [
    "import random\n",
    "\n",
    "sum=0\n",
    "date=0\n",
    "flag=True\n",
    "\n",
    "while flag:\n",
    "    patient=random.randint(50,100)\n",
    "    sum+=patient\n",
    "    date+=1\n",
    "    print('날짜: {} \\t 오늘 환자수: {} \\t 누적 환자수: {}'.format(date, patient, sum))\n",
    "    \n",
    "    if sum>=1000:\n",
    "        flag=False   "
   ]
  },
  {
   "cell_type": "code",
   "execution_count": 28,
   "id": "893969d3-684e-494a-b208-4f28e79f8a55",
   "metadata": {},
   "outputs": [
    {
     "name": "stdout",
     "output_type": "stream",
     "text": [
      "0는 7의 배수입니다.\n",
      "7는 7의 배수입니다.\n",
      "14는 7의 배수입니다.\n",
      "21는 7의 배수입니다.\n",
      "28는 7의 배수입니다.\n",
      "35는 7의 배수입니다.\n",
      "42는 7의 배수입니다.\n",
      "49는 7의 배수입니다.\n",
      "56는 7의 배수입니다.\n",
      "63는 7의 배수입니다.\n",
      "70는 7의 배수입니다.\n",
      "77는 7의 배수입니다.\n",
      "84는 7의 배수입니다.\n",
      "91는 7의 배수입니다.\n",
      "98는 7의 배수입니다.\n"
     ]
    }
   ],
   "source": [
    "#반복문 제어: continue\n",
    "\n",
    "for i in range(100):\n",
    "    if i%7 !=0:  #7의 배수가 아니라면\n",
    "        continue #다시 for문으로 올라간다\n",
    "        \n",
    "    print(\"{}는 7의 배수입니다.\".format(i))"
   ]
  },
  {
   "cell_type": "code",
   "execution_count": 29,
   "id": "231f96de-a4b1-45dd-8d99-da1c3a2ff816",
   "metadata": {},
   "outputs": [
    {
     "name": "stdout",
     "output_type": "stream",
     "text": [
      "0는 7의 배수입니다.\n",
      "7는 7의 배수입니다.\n",
      "14는 7의 배수입니다.\n",
      "21는 7의 배수입니다.\n",
      "28는 7의 배수입니다.\n",
      "35는 7의 배수입니다.\n",
      "42는 7의 배수입니다.\n",
      "49는 7의 배수입니다.\n",
      "56는 7의 배수입니다.\n",
      "63는 7의 배수입니다.\n",
      "70는 7의 배수입니다.\n",
      "77는 7의 배수입니다.\n",
      "84는 7의 배수입니다.\n",
      "91는 7의 배수입니다.\n",
      "98는 7의 배수입니다.\n",
      "99까지의 정수 중 7의 배수는 15개 입니다.\n"
     ]
    }
   ],
   "source": [
    "cnt=0\n",
    "for i in range(100):\n",
    "    if i%7 !=0:  #7의 배수가 아니라면\n",
    "        continue #다시 for문으로 올라간다\n",
    "        \n",
    "    print(\"{}는 7의 배수입니다.\".format(i))\n",
    "    cnt+=1      #개수세기\n",
    "\n",
    "else:\n",
    "    print(\"99까지의 정수 중 7의 배수는 {}개 입니다.\".format(cnt))"
   ]
  },
  {
   "cell_type": "code",
   "execution_count": 35,
   "id": "38c49fa6-f864-4e6b-90fc-40411cacc76d",
   "metadata": {},
   "outputs": [
    {
     "name": "stdout",
     "output_type": "stream",
     "text": [
      "Hello\n",
      "Hello\n",
      "Hello\n",
      "Hello\n",
      "Hello\n",
      "The END\n"
     ]
    }
   ],
   "source": [
    "#반복문 제어: break\n",
    "\n",
    "num=0\n",
    "while True:\n",
    "    print(\"Hello\")\n",
    "    num+=1\n",
    "    if num >=5: \n",
    "        break\n",
    "    \n",
    "print(\"The END\")"
   ]
  },
  {
   "cell_type": "code",
   "execution_count": 36,
   "id": "fc664804-0b60-4c54-8610-6b047ee0d5f3",
   "metadata": {},
   "outputs": [
    {
     "name": "stdout",
     "output_type": "stream",
     "text": [
      "*\n",
      "**\n",
      "***\n",
      "****\n",
      "*****\n",
      "******\n",
      "*******\n",
      "********\n",
      "*********\n"
     ]
    }
   ],
   "source": [
    "#중첩반복문: 반복문 안에 또다른 반복문을 선언\n",
    "\n",
    "for i in range(1,10):\n",
    "    for j in range(i):\n",
    "        print('*', end='') #end='' --> 개행하지 않음\n",
    "    print()    #개행"
   ]
  },
  {
   "cell_type": "code",
   "execution_count": 39,
   "id": "3207060c-5340-4d9e-ac34-35d362d370df",
   "metadata": {},
   "outputs": [
    {
     "name": "stdout",
     "output_type": "stream",
     "text": [
      "2 * 1 = 2\t3 * 1 = 3\t4 * 1 = 4\t5 * 1 = 5\t6 * 1 = 6\t7 * 1 = 7\t8 * 1 = 8\t9 * 1 = 9\t\n",
      "2 * 2 = 4\t3 * 2 = 6\t4 * 2 = 8\t5 * 2 = 10\t6 * 2 = 12\t7 * 2 = 14\t8 * 2 = 16\t9 * 2 = 18\t\n",
      "2 * 3 = 6\t3 * 3 = 9\t4 * 3 = 12\t5 * 3 = 15\t6 * 3 = 18\t7 * 3 = 21\t8 * 3 = 24\t9 * 3 = 27\t\n",
      "2 * 4 = 8\t3 * 4 = 12\t4 * 4 = 16\t5 * 4 = 20\t6 * 4 = 24\t7 * 4 = 28\t8 * 4 = 32\t9 * 4 = 36\t\n",
      "2 * 5 = 10\t3 * 5 = 15\t4 * 5 = 20\t5 * 5 = 25\t6 * 5 = 30\t7 * 5 = 35\t8 * 5 = 40\t9 * 5 = 45\t\n",
      "2 * 6 = 12\t3 * 6 = 18\t4 * 6 = 24\t5 * 6 = 30\t6 * 6 = 36\t7 * 6 = 42\t8 * 6 = 48\t9 * 6 = 54\t\n",
      "2 * 7 = 14\t3 * 7 = 21\t4 * 7 = 28\t5 * 7 = 35\t6 * 7 = 42\t7 * 7 = 49\t8 * 7 = 56\t9 * 7 = 63\t\n",
      "2 * 8 = 16\t3 * 8 = 24\t4 * 8 = 32\t5 * 8 = 40\t6 * 8 = 48\t7 * 8 = 56\t8 * 8 = 64\t9 * 8 = 72\t\n",
      "2 * 9 = 18\t3 * 9 = 27\t4 * 9 = 36\t5 * 9 = 45\t6 * 9 = 54\t7 * 9 = 63\t8 * 9 = 72\t9 * 9 = 81\t\n"
     ]
    }
   ],
   "source": [
    "for i in range(1,10):\n",
    "    for j in range(2,10):\n",
    "        print('{} * {} = {}\\t'.format(j,i, j*i), end='') #end='' --> 개행하지 않음\n",
    "    print()    #개행"
   ]
  },
  {
   "cell_type": "code",
   "execution_count": null,
   "id": "423eedc5-319f-40f5-8416-2f802d5837f0",
   "metadata": {},
   "outputs": [],
   "source": []
  }
 ],
 "metadata": {
  "kernelspec": {
   "display_name": "Python 3 (ipykernel)",
   "language": "python",
   "name": "python3"
  },
  "language_info": {
   "codemirror_mode": {
    "name": "ipython",
    "version": 3
   },
   "file_extension": ".py",
   "mimetype": "text/x-python",
   "name": "python",
   "nbconvert_exporter": "python",
   "pygments_lexer": "ipython3",
   "version": "3.9.12"
  }
 },
 "nbformat": 4,
 "nbformat_minor": 5
}
