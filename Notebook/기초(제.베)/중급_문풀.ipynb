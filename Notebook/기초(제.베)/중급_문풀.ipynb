{
 "cells": [
  {
   "cell_type": "code",
   "execution_count": 1,
   "id": "1ce5d501-46dd-47a4-9923-5cae12e8f979",
   "metadata": {},
   "outputs": [
    {
     "name": "stdout",
     "output_type": "stream",
     "text": [
      "Select operation:\n",
      "1. Addition\n",
      "2. Subtraction\n",
      "3. Multiplication\n",
      "4. Division\n",
      "5. Remainder\n",
      "6. Quotient\n",
      "7. Square\n",
      "8. End\n"
     ]
    },
    {
     "name": "stdin",
     "output_type": "stream",
     "text": [
      "Enter choice (1-8):  1\n",
      "Enter first number:  10\n",
      "Enter second number:  3.14\n"
     ]
    },
    {
     "name": "stdout",
     "output_type": "stream",
     "text": [
      "10.0 + 3.14 = 13.14\n"
     ]
    },
    {
     "name": "stdin",
     "output_type": "stream",
     "text": [
      "Enter choice (1-8):  8\n"
     ]
    },
    {
     "name": "stdout",
     "output_type": "stream",
     "text": [
      "Goodbye!\n"
     ]
    }
   ],
   "source": [
    "#계산기 함수\n",
    "\n",
    "def calculator():\n",
    "    print(\"Select operation:\")\n",
    "    print(\"1. Addition\")\n",
    "    print(\"2. Subtraction\")\n",
    "    print(\"3. Multiplication\")\n",
    "    print(\"4. Division\")\n",
    "    print(\"5. Remainder\")\n",
    "    print(\"6. Quotient\")\n",
    "    print(\"7. Square\")\n",
    "    print(\"8. End\")\n",
    "\n",
    "    while True:\n",
    "        choice = input(\"Enter choice (1-8): \")\n",
    "\n",
    "        if choice in ('1', '2', '3', '4', '5', '6', '7'):\n",
    "            num1 = float(input(\"Enter first number: \"))\n",
    "            num2 = float(input(\"Enter second number: \"))\n",
    "\n",
    "            if choice == '1':\n",
    "                print(num1, \"+\", num2, \"=\", num1 + num2)\n",
    "\n",
    "            elif choice == '2':\n",
    "                print(num1, \"-\", num2, \"=\", num1 - num2)\n",
    "\n",
    "            elif choice == '3':\n",
    "                print(num1, \"*\", num2, \"=\", num1 * num2)\n",
    "\n",
    "            elif choice == '4':\n",
    "                if num2 == 0:\n",
    "                    print(\"Error: Cannot divide by zero\")\n",
    "                else:\n",
    "                    print(num1, \"/\", num2, \"=\", num1 / num2)\n",
    "\n",
    "            elif choice == '5':\n",
    "                print(num1, \"%\", num2, \"=\", num1 % num2)\n",
    "\n",
    "            elif choice == '6':\n",
    "                print(num1, \"//\", num2, \"=\", num1 // num2)\n",
    "\n",
    "            elif choice == '7':\n",
    "                print(num1, \"^\", \"2\", \"=\", num1 ** 2)\n",
    "\n",
    "        elif choice == '8':\n",
    "            print(\"Goodbye!\")\n",
    "            break\n",
    "\n",
    "        else:\n",
    "            print(\"Invalid input\")\n",
    "\n",
    "calculator()"
   ]
  },
  {
   "cell_type": "code",
   "execution_count": 16,
   "id": "de4b72ab-d68d-4de6-b8f2-dd96baaaee36",
   "metadata": {},
   "outputs": [
    {
     "name": "stdin",
     "output_type": "stream",
     "text": [
      "Enter speed in kms per hour:  90\n",
      "Enter travel time in hours:  2\n",
      "Enter travel time in minutes:  45\n"
     ]
    },
    {
     "name": "stdout",
     "output_type": "stream",
     "text": [
      "90.0(km/s)속도로 2(h)시간 45(m)분 동안 이동한 거리: 247.5(km)\n"
     ]
    }
   ],
   "source": [
    "def calculate_distance(speed, hours, minutes):\n",
    "    # Convert minutes to hours and add to hours\n",
    "    total_hours = hours + (minutes / 60)\n",
    "    \n",
    "    # Calculate distance as speed multiplied by time\n",
    "    distance = speed * total_hours\n",
    "    \n",
    "    return distance\n",
    "\n",
    "# Get user input for speed, hours, and minutes\n",
    "speed = float(input(\"Enter speed in kms per hour: \"))\n",
    "hours = int(input(\"Enter travel time in hours: \"))\n",
    "minutes = int(input(\"Enter travel time in minutes: \"))\n",
    "\n",
    "# Calculate distance using calculate_distance function\n",
    "distance = calculate_distance(speed, hours, minutes)\n",
    "\n",
    "# Output distance\n",
    "print(f'{speed}(km/s)속도로 {hours}(h)시간 {minutes}(m)분 동안 이동한 거리: {distance}(km)')\n"
   ]
  },
  {
   "cell_type": "code",
   "execution_count": 12,
   "id": "562f9f70-06ee-49af-af29-b4cb1d760189",
   "metadata": {},
   "outputs": [
    {
     "name": "stdin",
     "output_type": "stream",
     "text": [
      "Enter the number of infants:  1\n",
      "Enter the number of discounted infants:  1\n",
      "Enter the number of children:  2\n",
      "Enter the number of discounted children:  1\n",
      "Enter the number of adults:  2\n",
      "Enter the number of discounted adults:  0\n"
     ]
    },
    {
     "name": "stdout",
     "output_type": "stream",
     "text": [
      "Infants (full price): 1  x 18,000 won =  18000 won\n",
      "Infants (discounted): 1  x 9,000 won =  9000 won\n",
      "Children (full price): 2  x 25,000 won =  50000 won\n",
      "Children (discounted): 1  x 12,500 won =  12500 won\n",
      "Adults (full price): 2  x 50,000 won =  100000 won\n",
      "Adults (discounted): 0  x 25,000 won =  0 won\n",
      "Total passengers: 7\n",
      "Total price: 189500 won\n"
     ]
    }
   ],
   "source": [
    "#비행기 티켓가격 계산\n",
    "\n",
    "def calculate_ticket_price(num_infants, num_discounted_infants, num_children, num_discounted_children, num_adults, num_discounted_adults):\n",
    "    # calculate the total price for each category\n",
    "    infants_price = num_infants * 18000 + num_discounted_infants * 9000\n",
    "    children_price = num_children * 25000 + num_discounted_children * 12500\n",
    "    adults_price = num_adults * 50000 + num_discounted_adults * 25000\n",
    "\n",
    "    # calculate the total number of passengers\n",
    "    total_passengers = num_infants + num_discounted_infants + num_children + num_discounted_children + num_adults + num_discounted_adults\n",
    "\n",
    "    # calculate the total price\n",
    "    total_price = infants_price + children_price + adults_price\n",
    "\n",
    "    # output the ticket information\n",
    "    print(\"Infants (full price):\", num_infants, \" x 18,000 won = \", num_infants * 18000, \"won\")\n",
    "    print(\"Infants (discounted):\", num_discounted_infants, \" x 9,000 won = \", num_discounted_infants * 9000, \"won\")\n",
    "    print(\"Children (full price):\", num_children, \" x 25,000 won = \", num_children * 25000, \"won\")\n",
    "    print(\"Children (discounted):\", num_discounted_children, \" x 12,500 won = \", num_discounted_children * 12500, \"won\")\n",
    "    print(\"Adults (full price):\", num_adults, \" x 50,000 won = \", num_adults * 50000, \"won\")\n",
    "    print(\"Adults (discounted):\", num_discounted_adults, \" x 25,000 won = \", num_discounted_adults * 25000, \"won\")\n",
    "\n",
    "    # output the total number of passengers and total price\n",
    "    print(\"Total passengers:\", total_passengers)\n",
    "    print(\"Total price:\", total_price, \"won\")\n",
    "\n",
    "    # return the total price\n",
    "    return total_price\n",
    "\n",
    "# get input from the user\n",
    "num_infants = int(input(\"Enter the number of infants: \"))\n",
    "num_discounted_infants = int(input(\"Enter the number of discounted infants: \"))\n",
    "num_children = int(input(\"Enter the number of children: \"))\n",
    "num_discounted_children = int(input(\"Enter the number of discounted children: \"))\n",
    "num_adults = int(input(\"Enter the number of adults: \"))\n",
    "num_discounted_adults = int(input(\"Enter the number of discounted adults: \"))\n",
    "\n",
    "# calculate the total price\n",
    "total_price = calculate_ticket_price(num_infants, num_discounted_infants, num_children, num_discounted_children, num_adults, num_discounted_adults)\n"
   ]
  },
  {
   "cell_type": "code",
   "execution_count": 15,
   "id": "28499794-d32f-423d-97ec-165bd59a4e07",
   "metadata": {},
   "outputs": [
    {
     "name": "stdin",
     "output_type": "stream",
     "text": [
      "Enter a number:  20\n"
     ]
    },
    {
     "name": "stdout",
     "output_type": "stream",
     "text": [
      "The factorial of 20 is 2432902008176640000\n"
     ]
    }
   ],
   "source": [
    "#팩토리얼 함수\n",
    "\n",
    "def factorial(n):\n",
    "    # base case\n",
    "    if n == 0:\n",
    "        return 1\n",
    "\n",
    "    # recursive case\n",
    "    else:\n",
    "        return n * factorial(n - 1)\n",
    "\n",
    "# get input from the user\n",
    "n = int(input(\"Enter a number: \"))\n",
    "\n",
    "# calculate the factorial\n",
    "result = factorial(n)\n",
    "\n",
    "# output the result\n",
    "print(\"The factorial of\", n, \"is\", result)"
   ]
  },
  {
   "cell_type": "code",
   "execution_count": 25,
   "id": "25d6b7a5-0da5-45e8-9f98-659c7320526d",
   "metadata": {},
   "outputs": [
    {
     "name": "stdin",
     "output_type": "stream",
     "text": [
      "Enter the principal amount:  10000000\n",
      "Enter the time period (in years):  3\n",
      "Enter the annual interest rate (in percentage):  3\n"
     ]
    },
    {
     "name": "stdout",
     "output_type": "stream",
     "text": [
      "Amount after maturity for simple interest:  10,900,000\n",
      "Amount after maturity for compound interest:  10,940,514\n"
     ]
    }
   ],
   "source": [
    "#단리, 월복리계산기\n",
    "\n",
    "def calculate_maturity_amount(principal, years, rate):\n",
    "    # calculate monthly interest rate\n",
    "    monthly_rate = rate / 12\n",
    "\n",
    "    # calculate monthly compound interest rate\n",
    "    monthly_compound_rate = ((1 + (monthly_rate / 100)) ** (1/12) - 1) * 100\n",
    "\n",
    "    # calculate number of months\n",
    "    months = years * 12\n",
    "\n",
    "    # calculate compound interest\n",
    "    compound_interest = principal * ((1 + (monthly_rate / 100)) ** months - 1)\n",
    "\n",
    "    # calculate the amount after maturity for simple interest\n",
    "    simple_maturity_amount = principal * (1 + (rate / 100) * years)\n",
    "\n",
    "    # calculate the amount after maturity for compound interest\n",
    "    compound_maturity_amount = principal + compound_interest\n",
    "\n",
    "    # format the amounts with commas\n",
    "    simple_maturity_amount_str = \"{:,.0f}\".format(simple_maturity_amount)\n",
    "    compound_maturity_amount_str = \"{:,.0f}\".format(compound_maturity_amount)\n",
    "\n",
    "    # output the results\n",
    "    print(\"Amount after maturity for simple interest: \", simple_maturity_amount_str)\n",
    "    print(\"Amount after maturity for compound interest: \", compound_maturity_amount_str)\n",
    "\n",
    "    # return the amount after maturity for compound interest\n",
    "    return compound_maturity_amount\n",
    "\n",
    "\n",
    "# get input from the user\n",
    "principal = float(input(\"Enter the principal amount: \"))\n",
    "time = float(input(\"Enter the time period (in years): \"))\n",
    "rate = float(input(\"Enter the annual interest rate (in percentage): \"))\n",
    "\n",
    "# calculate the amount after maturity\n",
    "amount_after_maturity = calculate_maturity_amount(principal, time, rate)"
   ]
  },
  {
   "cell_type": "code",
   "execution_count": 32,
   "id": "81ec3954-f48b-4de9-b0c5-e207e53b86be",
   "metadata": {},
   "outputs": [
    {
     "name": "stdin",
     "output_type": "stream",
     "text": [
      "first number:  2\n",
      "difference:  3\n",
      "n:  7\n"
     ]
    },
    {
     "name": "stdout",
     "output_type": "stream",
     "text": [
      "Value of 7 term: 20\n",
      "Sum up to 7 term: 77.0\n"
     ]
    },
    {
     "data": {
      "text/plain": [
       "(20, 77.0)"
      ]
     },
     "execution_count": 32,
     "metadata": {},
     "output_type": "execute_result"
    }
   ],
   "source": [
    "#등차수열 \n",
    "\n",
    "def calculate_arithmetic_sequence(first_term, difference, n):\n",
    "    value = first_term + (n - 1) * difference\n",
    "    total = (n * (first_term + value)) / 2\n",
    "\n",
    "    print(\"Value of\", n, \"term:\", value)\n",
    "    print(\"Sum up to\", n, \"term:\", total)\n",
    "\n",
    "    return value, total\n",
    "\n",
    "first_term = int(input(\"first number: \"))\n",
    "difference = int(input(\"difference: \"))\n",
    "n = int(input(\"n: \"))\n",
    "\n",
    "calculate_arithmetic_sequence(first_term, difference, n)"
   ]
  },
  {
   "cell_type": "code",
   "execution_count": 35,
   "id": "991a0529-03a6-4e63-beef-777761906aeb",
   "metadata": {
    "tags": []
   },
   "outputs": [
    {
     "name": "stdin",
     "output_type": "stream",
     "text": [
      "first number:  2\n",
      "ratio:  3\n",
      "n:  5\n"
     ]
    },
    {
     "name": "stdout",
     "output_type": "stream",
     "text": [
      "Value of 5 term: 162\n",
      "Sum up to 5 term: 242.0\n"
     ]
    },
    {
     "data": {
      "text/plain": [
       "(162, 242.0)"
      ]
     },
     "execution_count": 35,
     "metadata": {},
     "output_type": "execute_result"
    }
   ],
   "source": [
    "#등비수열 \n",
    "\n",
    "def calculate_geometric_sequence(first_term, ratio, n):\n",
    "    value = first_term * (ratio ** (n-1))\n",
    "    total = (first_term * ((1 - (ratio ** n))) / (1 - ratio))\n",
    "\n",
    "    print(\"Value of\", n, \"term:\", value)\n",
    "    print(\"Sum up to\", n, \"term:\", total)\n",
    "\n",
    "    return value, total\n",
    "\n",
    "first_term = int(input(\"first number: \"))\n",
    "ratio = int(input(\"ratio: \"))\n",
    "n = int(input(\"n: \"))\n",
    "\n",
    "calculate_geometric_sequence(first_term, ratio, n)"
   ]
  },
  {
   "cell_type": "code",
   "execution_count": 37,
   "id": "5dc1d0b3-23a9-4012-9a52-395262748f7a",
   "metadata": {},
   "outputs": [
    {
     "name": "stdin",
     "output_type": "stream",
     "text": [
      "Enter score for Math:  40\n",
      "Enter score for English:  45\n",
      "Enter score for Science:  85\n",
      "Enter score for History:  75\n",
      "Enter score for Art:  90\n"
     ]
    },
    {
     "name": "stdout",
     "output_type": "stream",
     "text": [
      "Total score: 335\n",
      "Average score: 67.00\n",
      "Result: Pass\n"
     ]
    }
   ],
   "source": [
    "#과목 점수를 입력받아 pass or fail 출력\n",
    "\n",
    "def calculate_overall_grade(grades):\n",
    "    scores = list(grades.values())\n",
    "    total = sum(scores)\n",
    "    average = total / len(scores)\n",
    "    minimum = min(scores)\n",
    "\n",
    "    if average >= 60 and minimum >= 40:\n",
    "        return \"Pass\"\n",
    "    else:\n",
    "        return \"Fail\"\n",
    "\n",
    "grades = {}\n",
    "subjects = [\"Math\", \"English\", \"Science\", \"History\", \"Art\"]\n",
    "\n",
    "for subject in subjects:\n",
    "    score = int(input(\"Enter score for {}: \".format(subject)))\n",
    "    grades[subject] = score\n",
    "\n",
    "result = calculate_overall_grade(grades)\n",
    "total_score = sum(grades.values())\n",
    "average_score = total_score / len(subjects)\n",
    "\n",
    "print(\"Total score: {}\".format(total_score))\n",
    "print(\"Average score: {:.2f}\".format(average_score))\n",
    "print(\"Result: {}\".format(result))"
   ]
  },
  {
   "cell_type": "code",
   "execution_count": 51,
   "id": "1042cd96-af62-4349-8877-aa8c16e62653",
   "metadata": {},
   "outputs": [
    {
     "name": "stdin",
     "output_type": "stream",
     "text": [
      "Would you like to purchase a product? (Enter 1 for Yes or 2 for No):  500\n"
     ]
    },
    {
     "name": "stdout",
     "output_type": "stream",
     "text": [
      "Invalid input. Please enter 1 or 2.\n"
     ]
    },
    {
     "name": "stdin",
     "output_type": "stream",
     "text": [
      "Would you like to purchase a product? (Enter 1 for Yes or 2 for No):  1\n",
      "Enter the product price:  500\n",
      "Would you like to purchase a product? (Enter 1 for Yes or 2 for No):  1\n",
      "Enter the product price:  1500\n",
      "Would you like to purchase a product? (Enter 1 for Yes or 2 for No):  1\n",
      "Enter the product price:  2000\n",
      "Would you like to purchase a product? (Enter 1 for Yes or 2 for No):  1\n",
      "Enter the product price:  1500\n",
      "Would you like to purchase a product? (Enter 1 for Yes or 2 for No):  1\n",
      "Enter the product price:  2500\n",
      "Would you like to purchase a product? (Enter 1 for Yes or 2 for No):  2\n",
      "Are you sure you want to end your purchases? (Enter 1 for Yes or 2 for No):  1\n"
     ]
    },
    {
     "name": "stdout",
     "output_type": "stream",
     "text": [
      "Discount Rate:  25.0 %\n",
      "Total Purchases:  5\n",
      "Total Amount: $ 6000.0\n",
      "You have made a total of 5 purchases.\n",
      "Your total amount is $ 6000.0\n"
     ]
    }
   ],
   "source": [
    "#구매 갯수에 따라 할인율이 적용되어 총금액 계산\n",
    "\n",
    "total_purchases = 0\n",
    "total_amount = 0\n",
    "\n",
    "while True:\n",
    "    user_input = input(\"Would you like to purchase a product? (Enter 1 for Yes or 2 for No): \")\n",
    "    if user_input == \"1\":\n",
    "        product_price = float(input(\"Enter the product price: \"))\n",
    "        total_purchases += 1\n",
    "        total_amount += product_price\n",
    "    elif user_input == \"2\":\n",
    "        user_input_2 = input(\"Are you sure you want to end your purchases? (Enter 1 for Yes or 2 for No): \")\n",
    "        if user_input_2 == \"1\":\n",
    "            break\n",
    "        elif user_input_2 == \"2\":\n",
    "            continue\n",
    "        else:\n",
    "            print(\"Invalid input. Please enter 1 or 2.\")\n",
    "    else:\n",
    "        print(\"Invalid input. Please enter 1 or 2.\")\n",
    "\n",
    "if total_purchases == 1:\n",
    "    discount_rate = 0.05\n",
    "elif total_purchases == 2:\n",
    "    discount_rate = 0.1\n",
    "elif total_purchases == 3:\n",
    "    discount_rate = 0.15\n",
    "elif total_purchases == 4:\n",
    "    discount_rate = 0.2\n",
    "else:\n",
    "    discount_rate = 0.25\n",
    "\n",
    "discount_amount = discount_rate * total_amount\n",
    "total_amount -= discount_amount\n",
    "\n",
    "print(\"Discount Rate: \", discount_rate*100, \"%\")\n",
    "print(\"Total Purchases: \", total_purchases)\n",
    "print(\"Total Amount: $\", total_amount)\n",
    "\n",
    "print(\"You have made a total of\", total_purchases, \"purchases.\")\n",
    "print(\"Your total amount is $\", total_amount)"
   ]
  },
  {
   "cell_type": "code",
   "execution_count": 54,
   "id": "7bba4510-a21b-422a-bb08-5b5bbbcea87b",
   "metadata": {},
   "outputs": [
    {
     "name": "stdout",
     "output_type": "stream",
     "text": [
      "Here are your lottery numbers: 5, 12, 22, 28, 38, 40  Bonus Number: 13\n"
     ]
    }
   ],
   "source": [
    "import random\n",
    "\n",
    "def generate_lottery_numbers():\n",
    "    numbers = random.sample(range(1, 46), 6)\n",
    "    numbers.sort()\n",
    "    bonus_number = random.randint(1, 45)\n",
    "    return numbers, bonus_number\n",
    "\n",
    "lottery_numbers, bonus_number = generate_lottery_numbers()\n",
    "\n",
    "print(\"Here are your lottery numbers: \", end=\"\")\n",
    "for i in range(len(lottery_numbers)):\n",
    "    print(lottery_numbers[i], end=\"\")\n",
    "    if i != len(lottery_numbers)-1:\n",
    "        print(\", \", end=\"\")\n",
    "print(\"  Bonus Number: {}\".format(bonus_number))\n",
    "\n"
   ]
  },
  {
   "cell_type": "code",
   "execution_count": 55,
   "id": "441f0f50-2c33-41c4-a31d-04647807c108",
   "metadata": {
    "collapsed": true,
    "jupyter": {
     "outputs_hidden": true
    },
    "tags": []
   },
   "outputs": [
    {
     "name": "stdin",
     "output_type": "stream",
     "text": [
      "Enter number 1 between 1 and 45:  2\n",
      "Enter number 2 between 1 and 45:  44\n",
      "Enter number 3 between 1 and 45:  56\n"
     ]
    },
    {
     "name": "stdout",
     "output_type": "stream",
     "text": [
      "Number must be between 1 and 45. Please try again.\n"
     ]
    },
    {
     "name": "stdin",
     "output_type": "stream",
     "text": [
      "Enter number 3 between 1 and 45:  35\n",
      "Enter number 4 between 1 and 45:  22\n",
      "Enter number 5 between 1 and 45:  16\n",
      "Enter number 6 between 1 and 45:  9\n"
     ]
    },
    {
     "name": "stdout",
     "output_type": "stream",
     "text": [
      "Your numbers: 2, 44, 35, 22, 16, 9\n",
      "Lottery numbers: 5, 9, 23, 24, 36, 40  Bonus Number: 16\n",
      "You matched 1 numbers.\n",
      "You also matched the bonus number!\n"
     ]
    }
   ],
   "source": [
    "import random\n",
    "\n",
    "def generate_lottery_numbers():\n",
    "    numbers = random.sample(range(1, 46), 6)\n",
    "    numbers.sort()\n",
    "    bonus_number = random.randint(1, 45)\n",
    "    return numbers, bonus_number\n",
    "\n",
    "lottery_numbers, bonus_number = generate_lottery_numbers()\n",
    "\n",
    "user_numbers = []\n",
    "for i in range(6):\n",
    "    while True:\n",
    "        try:\n",
    "            num = int(input(\"Enter number {} between 1 and 45: \".format(i+1)))\n",
    "            if num < 1 or num > 45:\n",
    "                print(\"Number must be between 1 and 45. Please try again.\")\n",
    "                continue\n",
    "            if num in user_numbers:\n",
    "                print(\"Number must be unique. Please try again.\")\n",
    "                continue\n",
    "            user_numbers.append(num)\n",
    "            break\n",
    "        except ValueError:\n",
    "            print(\"Invalid input. Please enter a number between 1 and 45.\")\n",
    "\n",
    "print(\"Your numbers: \", end=\"\")\n",
    "for i in range(len(user_numbers)):\n",
    "    print(user_numbers[i], end=\"\")\n",
    "    if i != len(user_numbers)-1:\n",
    "        print(\", \", end=\"\")\n",
    "print()\n",
    "\n",
    "num_matches = len(set(lottery_numbers) & set(user_numbers))\n",
    "bonus_match = bonus_number in user_numbers\n",
    "\n",
    "print(\"Lottery numbers: \", end=\"\")\n",
    "for i in range(len(lottery_numbers)):\n",
    "    print(lottery_numbers[i], end=\"\")\n",
    "    if i != len(lottery_numbers)-1:\n",
    "        print(\", \", end=\"\")\n",
    "print(\"  Bonus Number: {}\".format(bonus_number))\n",
    "\n",
    "print(\"You matched {} numbers.\".format(num_matches))\n",
    "if bonus_match:\n",
    "    print(\"You also matched the bonus number!\")\n",
    "else:\n",
    "    print(\"You did not match the bonus number.\")\n"
   ]
  },
  {
   "cell_type": "code",
   "execution_count": 59,
   "id": "ed1fb859-3eb3-4833-8d5b-44e9964b9c15",
   "metadata": {},
   "outputs": [
    {
     "name": "stdin",
     "output_type": "stream",
     "text": [
      "Enter number 1 between 1 and 45:  2\n",
      "Enter number 2 between 1 and 45:  22\n",
      "Enter number 3 between 1 and 45:  34\n",
      "Enter number 4 between 1 and 45:  10\n",
      "Enter number 5 between 1 and 45:  29\n",
      "Enter number 6 between 1 and 45:  35\n"
     ]
    },
    {
     "name": "stdout",
     "output_type": "stream",
     "text": [
      "Your numbers: 2, 22, 34, 10, 29, 35\n",
      "Lottery numbers: 5, 11, 26, 28, 30, 31  Bonus Number: 19\n",
      "Sorry, next time! You matched 0 numbers.\n",
      "You did not match the bonus number.\n"
     ]
    }
   ],
   "source": [
    "#로또결과 출력\n",
    "\n",
    "import random\n",
    "\n",
    "def generate_lottery_numbers():\n",
    "    numbers = random.sample(range(1, 46), 6)\n",
    "    numbers.sort()\n",
    "    bonus_number = random.randint(1, 45)\n",
    "    return numbers, bonus_number\n",
    "\n",
    "lottery_numbers, bonus_number = generate_lottery_numbers()\n",
    "\n",
    "user_numbers = []\n",
    "for i in range(6):\n",
    "    while True:\n",
    "        try:\n",
    "            num = int(input(\"Enter number {} between 1 and 45: \".format(i+1)))\n",
    "            if num < 1 or num > 45:\n",
    "                print(\"Number must be between 1 and 45. Please try again.\")\n",
    "                continue\n",
    "            if num in user_numbers:\n",
    "                print(\"Number must be unique. Please try again.\")\n",
    "                continue\n",
    "            user_numbers.append(num)\n",
    "            break\n",
    "        except ValueError:\n",
    "            print(\"Invalid input. Please enter a number between 1 and 45.\")\n",
    "\n",
    "print(\"Your numbers: \", end=\"\")\n",
    "for i in range(len(user_numbers)):\n",
    "    print(user_numbers[i], end=\"\")\n",
    "    if i != len(user_numbers)-1:\n",
    "        print(\", \", end=\"\")\n",
    "print()\n",
    "\n",
    "num_matches = len(set(lottery_numbers) & set(user_numbers))\n",
    "bonus_match = bonus_number in user_numbers\n",
    "\n",
    "print(\"Lottery numbers: \", end=\"\")\n",
    "for i in range(len(lottery_numbers)):\n",
    "    print(lottery_numbers[i], end=\"\")\n",
    "    if i != len(lottery_numbers)-1:\n",
    "        print(\", \", end=\"\")\n",
    "print(\"  Bonus Number: {}\".format(bonus_number))\n",
    "\n",
    "if num_matches == 6:\n",
    "    print(\"You are the winner~\")\n",
    "else:\n",
    "    print(\"Sorry, next time! You matched {} numbers.\".format(num_matches))\n",
    "    if bonus_match:\n",
    "        print(\"You also matched the bonus number!\")\n",
    "    else:\n",
    "        print(\"You did not match the bonus number.\")\n"
   ]
  },
  {
   "cell_type": "code",
   "execution_count": 67,
   "id": "5d7bf275-c292-4672-939e-698a0b900250",
   "metadata": {},
   "outputs": [
    {
     "name": "stdin",
     "output_type": "stream",
     "text": [
      "Enter your income:  3000000\n",
      "Enter your water bill:  15000\n",
      "Enter your electricity bill:  17500\n",
      "Enter your gas bill:  125000\n"
     ]
    },
    {
     "name": "stdout",
     "output_type": "stream",
     "text": [
      "Total bill amt: 157500\n",
      "Bill to income ratio: 5.25%\n"
     ]
    }
   ],
   "source": [
    "#수입대비 공과금 비율계산\n",
    "\n",
    "income = int(input(\"Enter your income: \"))\n",
    "water_bill = int(input(\"Enter your water bill: \"))\n",
    "electricity_bill = int(input(\"Enter your electricity bill: \"))\n",
    "gas_bill = int(input(\"Enter your gas bill: \"))\n",
    "\n",
    "totalAmt= water_bill+electricity_bill+gas_bill\n",
    "bill_ratio = totalAmt / income\n",
    "\n",
    "print(\"Total bill amt: {}\".format(totalAmt))\n",
    "print(\"Bill to income ratio: {}%\".format(bill_ratio * 100))"
   ]
  },
  {
   "cell_type": "code",
   "execution_count": null,
   "id": "ab188585-2937-4678-b294-ee9e12d9e4e8",
   "metadata": {},
   "outputs": [],
   "source": []
  },
  {
   "cell_type": "code",
   "execution_count": null,
   "id": "ab25c333-8d30-401e-9a63-9d0ead6d000c",
   "metadata": {},
   "outputs": [],
   "source": []
  }
 ],
 "metadata": {
  "kernelspec": {
   "display_name": "Python 3 (ipykernel)",
   "language": "python",
   "name": "python3"
  },
  "language_info": {
   "codemirror_mode": {
    "name": "ipython",
    "version": 3
   },
   "file_extension": ".py",
   "mimetype": "text/x-python",
   "name": "python",
   "nbconvert_exporter": "python",
   "pygments_lexer": "ipython3",
   "version": "3.9.12"
  }
 },
 "nbformat": 4,
 "nbformat_minor": 5
}
