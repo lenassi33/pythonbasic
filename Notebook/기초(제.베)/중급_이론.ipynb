{
 "cells": [
  {
   "cell_type": "code",
   "execution_count": 52,
   "id": "918f38f5-a1ff-48e6-a6c4-001349074fb2",
   "metadata": {},
   "outputs": [
    {
     "name": "stdout",
     "output_type": "stream",
     "text": [
      "sum(listvar) : 244.2\n",
      "max(listvar) : 210\n",
      "min(listvar) : 1\n",
      "pow(13,2) : 169\n",
      "pow(13,4) : 28561\n",
      "3.14\n",
      "3.1416\n"
     ]
    }
   ],
   "source": [
    "#수학관련 함수\n",
    "\n",
    "listvar=[2,5,6,1,210,20.2]\n",
    "print(f'sum(listvar) : {sum(listvar)}')\n",
    "print(f'max(listvar) : {max(listvar)}')\n",
    "print(f'min(listvar) : {min(listvar)}')\n",
    "\n",
    "print(f'pow(13,2) : {pow(13,2)}') #거듭제곱\n",
    "print(f'pow(13,4) : {pow(13,4)}')\n",
    "\n",
    "\n",
    "print(f'{round(3.141592,2)}') #반올림\n",
    "print(f'{round(3.141592,4)}')"
   ]
  },
  {
   "cell_type": "code",
   "execution_count": 5,
   "id": "6780b67a-5932-4b0b-b88c-f762e4f7cba5",
   "metadata": {},
   "outputs": [
    {
     "name": "stdin",
     "output_type": "stream",
     "text": [
      "n1입력: 4\n",
      "n2입력: 3\n"
     ]
    },
    {
     "name": "stdout",
     "output_type": "stream",
     "text": [
      "n1+n2 = 7\n"
     ]
    }
   ],
   "source": [
    "#함수: 내장함수, 사용자함수 --> 기능을 재사용하기 위해서 함수를 쓴다\n",
    "\n",
    "def addcal():   #함수 정의\n",
    "     n1= int(input(\"n1입력:\"))\n",
    "     n2= int(input(\"n2입력:\"))\n",
    "     print(f'n1+n2 = {n1+n2}')\n",
    "\n",
    "addcal()       #함수 호출"
   ]
  },
  {
   "cell_type": "code",
   "execution_count": 10,
   "id": "d12b8bd0-6183-4b24-8daa-d35ca4f89b69",
   "metadata": {},
   "outputs": [
    {
     "name": "stdout",
     "output_type": "stream",
     "text": [
      "fun1 호출!\n",
      "fun2 호출!\n",
      "fun3 호출!\n",
      "fun2 호출 후 실행\n"
     ]
    }
   ],
   "source": [
    "#함수 내에서 또다른 함수 호출\n",
    "\n",
    "def fun1():\n",
    "    print(\"fun1 호출!\")\n",
    "    fun2()\n",
    "    print(\"fun2 호출 후 실행\")\n",
    "\n",
    "def fun2():\n",
    "    print(\"fun2 호출!\")\n",
    "    fun3()\n",
    "\n",
    "def fun3():\n",
    "    print(\"fun3 호출!\")    \n",
    "    \n",
    "fun1()"
   ]
  },
  {
   "cell_type": "code",
   "execution_count": 11,
   "id": "a7eb64d0-1e43-4843-a8b3-07a23ca23b3a",
   "metadata": {},
   "outputs": [
    {
     "name": "stdout",
     "output_type": "stream",
     "text": [
      "이혜지 고객님 안녕하세요.\n"
     ]
    }
   ],
   "source": [
    "def greet(customer):  #customer --> 매개변수\n",
    "    print(f'{customer} 고객님 안녕하세요.')\n",
    "\n",
    "greet('이혜지')    #이혜지 --> 인수"
   ]
  },
  {
   "cell_type": "code",
   "execution_count": 22,
   "id": "2051e188-804f-4a21-8bbb-239336322b14",
   "metadata": {},
   "outputs": [
    {
     "name": "stdout",
     "output_type": "stream",
     "text": [
      "\n",
      "10 20 \n",
      "10 20 30 \n"
     ]
    }
   ],
   "source": [
    "def printNumber(*numbers): # 개수가 정해지지 않을때 *를 쓰면 알아서 처리\n",
    "    for i in numbers:\n",
    "        print(i, end=\" \")\n",
    "    print()\n",
    "        \n",
    "printNumber()\n",
    "printNumber(10,20)\n",
    "printNumber(10,20,30)"
   ]
  },
  {
   "cell_type": "markdown",
   "id": "531c3a8d-ae0e-4d17-ba10-c0c6e47a66bd",
   "metadata": {},
   "source": [
    "#전역변수: 함수 밖에 선언된 변수로 어디에서나 사용은 가능하지만 함수 안에서 수정할수는 없다\n",
    "#지역변수: 함수 안에서 선언된 변수로 함수 안에서만 사용가능\n",
    "#글로벌 키워드: global을 사용하면 함수 안에서도 전역변수 값 수정가능"
   ]
  },
  {
   "cell_type": "code",
   "execution_count": 2,
   "id": "0cc990d1-7c69-4391-b3c6-8fce185670d3",
   "metadata": {
    "tags": []
   },
   "outputs": [
    {
     "name": "stdout",
     "output_type": "stream",
     "text": [
      "Select operation:\n",
      "1. Addition\n",
      "2. Subtraction\n",
      "3. Multiplication\n",
      "4. Division\n"
     ]
    },
    {
     "name": "stdin",
     "output_type": "stream",
     "text": [
      "Enter choice (1/2/3/4):  2\n",
      "Enter first number:  4\n",
      "Enter second number:  2\n"
     ]
    },
    {
     "name": "stdout",
     "output_type": "stream",
     "text": [
      "4.0 - 2.0 = 2.0\n"
     ]
    }
   ],
   "source": [
    "#중첩함수: 함수안에 함수\n",
    "\n",
    "def calculator():\n",
    "    def addition(a, b):\n",
    "        return a + b\n",
    "    \n",
    "    def subtraction(a, b):\n",
    "        return a - b\n",
    "    \n",
    "    def multiplication(a, b):\n",
    "        return a * b\n",
    "    \n",
    "    def division(a, b):\n",
    "        if b == 0:\n",
    "            return \"Error: division by zero\"\n",
    "        return a / b\n",
    "\n",
    "    print(\"Select operation:\")\n",
    "    print(\"1. Addition\")\n",
    "    print(\"2. Subtraction\")\n",
    "    print(\"3. Multiplication\")\n",
    "    print(\"4. Division\")\n",
    "\n",
    "    choice = input(\"Enter choice (1/2/3/4): \")\n",
    "\n",
    "    num1 = float(input(\"Enter first number: \"))\n",
    "    num2 = float(input(\"Enter second number: \"))\n",
    "\n",
    "    if choice == '1':\n",
    "        result = addition(num1, num2)\n",
    "        print(num1, \"+\", num2, \"=\", result)\n",
    "\n",
    "    elif choice == '2':\n",
    "        result = subtraction(num1, num2)\n",
    "        print(num1, \"-\", num2, \"=\", result)\n",
    "\n",
    "    elif choice == '3':\n",
    "        result = multiplication(num1, num2)\n",
    "        print(num1, \"*\", num2, \"=\", result)\n",
    "\n",
    "    elif choice == '4':\n",
    "        result = division(num1, num2)\n",
    "        print(num1, \"/\", num2, \"=\", result)\n",
    "\n",
    "    else:\n",
    "        print(\"Invalid input\")\n",
    "\n",
    "\n",
    "# Call calculator function and print each result\n",
    "calculator()"
   ]
  },
  {
   "cell_type": "code",
   "execution_count": 4,
   "id": "b98aae30-b717-4939-afc4-c731cfa263bb",
   "metadata": {},
   "outputs": [
    {
     "name": "stdout",
     "output_type": "stream",
     "text": [
      "returnvalue: 30\n",
      "returnvalue: 30\n"
     ]
    }
   ],
   "source": [
    "#def 함수\n",
    "\n",
    "def calc(n1, n2):\n",
    "    return n1+n2\n",
    "\n",
    "returnvalue = calc(10,20)\n",
    "print(f'returnvalue: {returnvalue}')\n",
    "\n",
    "\n",
    "\n",
    "#lambda\n",
    "calc= lambda n1, n2 : n1+n2\n",
    "returnvalue = calc(10,20)\n",
    "print(f'returnvalue: {returnvalue}')"
   ]
  },
  {
   "cell_type": "code",
   "execution_count": 5,
   "id": "6a03d91e-e773-4e33-9516-b1bf730c15aa",
   "metadata": {},
   "outputs": [
    {
     "name": "stdin",
     "output_type": "stream",
     "text": [
      "Enter first number:  10\n",
      "Enter second number:  20\n"
     ]
    },
    {
     "name": "stdout",
     "output_type": "stream",
     "text": [
      "Area of triangle: 100.0\n",
      "Area of rectangle: 200.0\n",
      "Area of circle: 314.1592653589793\n"
     ]
    }
   ],
   "source": [
    "#삼각형, 사각형, 원의 넓이를 각각 반환하는 lambda함수\n",
    "\n",
    "# Lambda function to calculate the area of a triangle\n",
    "triangle_area = lambda base, height: 0.5 * base * height\n",
    "\n",
    "# Lambda function to calculate the area of a rectangle\n",
    "rectangle_area = lambda length, width: length * width\n",
    "\n",
    "# Lambda function to calculate the area of a circle\n",
    "import math\n",
    "circle_area = lambda radius: math.pi * radius ** 2\n",
    "\n",
    "\n",
    "# Take input for two numbers\n",
    "num1 = float(input(\"Enter first number: \"))\n",
    "num2 = float(input(\"Enter second number: \"))\n",
    "\n",
    "# Calculate and print area of a triangle, rectangle, and circle using lambda functions\n",
    "print(\"Area of triangle:\", triangle_area(num1, num2))\n",
    "print(\"Area of rectangle:\", rectangle_area(num1, num2))\n",
    "print(\"Area of circle:\", circle_area(num1))"
   ]
  },
  {
   "cell_type": "code",
   "execution_count": null,
   "id": "a630c108-dfb8-47ef-8d96-6880b1b40ff9",
   "metadata": {},
   "outputs": [],
   "source": [
    "'''\n",
    "모듈: 이미 만들어진 기능으로 사용자는 쉽게 사용가능, ex. 수학모듈, 난수모듈, 날짜/시간 모듈\n",
    "1. 내부 모듈: 기본적으로 사용가능\n",
    "2. 외부 모듈: 별도 설치후 사용가능\n",
    "3. 사용자 모듈: 사용자가 직접 만든 모듈\n",
    "\n",
    "모듈을 만들어 파이썬 파일로 저장후 import로 호출해서 사용\n",
    "as 키워드를 사용해서 모듈 이름을 단축시킬 수 있다\n",
    "[from 모듈명 as 기능명] 키워드를 사용해서 모듈의 특정기능만 사용할 수 있다\n",
    "'''\n",
    "\n",
    "\n",
    "#자주쓰는 모듈: 난수, 수학, 시간\n",
    "#랜덤 모듈\n",
    "import random\n",
    "\n",
    "#난수 정수 1개 발생\n",
    "rNum= random.randint(1,10) #randint(a, b) :a, b는 양측값을 포함\n",
    "print(f'rNum= {rNum}')\n",
    "\n",
    "#난수 10개 발생\n",
    "rNums=random.sample(range(101),10)\n",
    "print(f'rNums= {rNums}')\n",
    "\n",
    "\n",
    "\n",
    "#수학 모듈\n",
    "import math\n",
    "print(f'math.fabs(-10) : {math.fabs(-10)}') #절대값\n",
    "\n",
    "print(f'math.ceil(5.21) : {math.ceil(5.21)}') #올림\n",
    "print(f'math.floor(5.21) : {math.floor(5.21)}') #내림\n",
    "print(f'math.trunc(5.21) : {math.trunc(5.21)}') #버림\n",
    "\n",
    "print(f'math.gcd(14,21) : {math.gcd(14,21)}') #최대공약수\n",
    "print(f'math.factorial(10) : {math.factorial(10)}') #팩토리얼\n",
    "print(f'math.sqrt(12) : {math.sqrt(12)}')         #제곱근\n",
    "\n",
    "\n",
    "#타임 모듈\n",
    "import time\n",
    "lt= time.localtime()\n",
    "print(f'time.localtime() : {lt}') #지금 시각\n",
    "print(f'year : {lt.tm_year}') #년\n",
    "print(f'month : {lt.tm_mon}') #월\n",
    "print(f'day : {lt.tm_mday}')  #일\n",
    "print(f'hour : {lt.tm_hour}')  #시\n",
    "print(f'min : {lt.tm_min}')  #분\n",
    "print(f'sec : {lt.tm_sec}')  #초\n",
    "print(f'wday : {lt.tm_wday}')  #요일"
   ]
  },
  {
   "cell_type": "code",
   "execution_count": 30,
   "id": "3ad46129-9e4f-4ca5-ba5c-5aee4ae35c6b",
   "metadata": {},
   "outputs": [
    {
     "name": "stdout",
     "output_type": "stream",
     "text": [
      "C:\\python\\Notebook\\기초(제.베)\n",
      "C:\\anaconda\\python39.zip\n",
      "C:\\anaconda\\DLLs\n",
      "C:\\anaconda\\lib\n",
      "C:\\anaconda\n",
      "\n",
      "C:\\anaconda\\lib\\site-packages\n",
      "C:\\anaconda\\lib\\site-packages\\win32\n",
      "C:\\anaconda\\lib\\site-packages\\win32\\lib\n",
      "C:\\anaconda\\lib\\site-packages\\Pythonwin\n"
     ]
    }
   ],
   "source": [
    "#패키지: 모듈을 묶어서 관리\n",
    "#site-packages 에 있는 모듈은 어디서나 사용할 수 있다\n",
    "\n",
    "import sys\n",
    "\n",
    "for i in sys.path:\n",
    "    print(i)"
   ]
  },
  {
   "cell_type": "code",
   "execution_count": 57,
   "id": "e3b1e8b7-cb2f-4c75-8622-c5e825ce32ca",
   "metadata": {},
   "outputs": [
    {
     "name": "stdout",
     "output_type": "stream",
     "text": [
      "self.color: red\n",
      "self.length: 200\n",
      "self.color: blue\n",
      "self.length: 300\n"
     ]
    }
   ],
   "source": [
    "'''\n",
    "객체 (object) =속성 (attribute) + 기능 (function)\n",
    "객체는 클래스에서 생성된다.\n",
    "코드재사용, 모듈화에 좋다 \n",
    "'''\n",
    "\n",
    "\n",
    "#클래스 선언 (첫글자는 대문자로)\n",
    "class Car:  \n",
    "    def __init__(self, color, length): #속성\n",
    "        self.color = color\n",
    "        self.length = length\n",
    "   \n",
    "    def doStop(self):                  #기능\n",
    "        print(\"Stop!\")\n",
    "   \n",
    "    def doStart(self):                 #기능\n",
    "        print(\"Start!\")\n",
    "        \n",
    "    def printCarInfo(self):\n",
    "        print(f'self.color: {self.color}')\n",
    "        print(f'self.length: {self.length}')\n",
    "        \n",
    "        \n",
    "#객체 2개 생성\n",
    "car1= Car('red', 200)\n",
    "car2= Car('blue', 300)\n",
    "\n",
    "car1.printCarInfo()\n",
    "#car2.printCarInfo()"
   ]
  },
  {
   "cell_type": "code",
   "execution_count": 65,
   "id": "a581b062-be05-421e-bda2-adefd01f3c8d",
   "metadata": {},
   "outputs": [
    {
     "name": "stdout",
     "output_type": "stream",
     "text": [
      "self.name: my\n",
      "self.cpu: i9\n",
      "self.memory: 64\n",
      "self.ssd: 256\n",
      "self.name: F\n",
      "self.cpu: i7\n",
      "self.memory: 32\n",
      "self.ssd: 512\n",
      "self.name: my\n",
      "self.cpu: i9\n",
      "self.memory: 64\n",
      "self.ssd: 256\n"
     ]
    }
   ],
   "source": [
    "#클래스 선언\n",
    "class NewPc:\n",
    "    def __init__(self, name, cpu, memory, ssd):\n",
    "        self.name=name\n",
    "        self.cpu=cpu\n",
    "        self.memory=memory\n",
    "        self.ssd=ssd\n",
    "        \n",
    "    def doExcel(self):\n",
    "        print(\"excel run!\")\n",
    "        \n",
    "    def doPhoto(self):\n",
    "        print(\"photo run!\")\n",
    "    \n",
    "    def printInfo(self):\n",
    "        print(f'self.name: {self.name}')\n",
    "        print(f'self.cpu: {self.cpu}')\n",
    "        print(f'self.memory: {self.memory}')\n",
    "        print(f'self.ssd: {self.ssd}')\n",
    " \n",
    "\n",
    "mypc = NewPc('my', 'i5', 16, 256)\n",
    "myPC.printInfo()\n",
    "\n",
    "myFriend = NewPc('F', 'i7', 32, 512)        \n",
    "myFriend.printInfo()        \n",
    "\n",
    "#속성 변경을 통한 업그레이드\n",
    "myPC.cpu='i9'\n",
    "myPC.memory=64\n",
    "myPC.printInfo()"
   ]
  },
  {
   "cell_type": "code",
   "execution_count": 70,
   "id": "dd1d9881-c3ec-4b02-8147-b093d40574bd",
   "metadata": {},
   "outputs": [
    {
     "name": "stdin",
     "output_type": "stream",
     "text": [
      "Enter Korean score:  90.999\n",
      "Enter English score:  89.777\n",
      "Enter Math score:  86.689\n"
     ]
    },
    {
     "name": "stdout",
     "output_type": "stream",
     "text": [
      "Average of original scores: 89.16\n",
      "Average of new scores: 98.07\n"
     ]
    }
   ],
   "source": [
    "#변수는 객체의 메모리 주소를 저장하고 이를 이용해서 객체를 참조한다. \n",
    "\n",
    "'''\n",
    "국어, 영어, 수학 점수를 입력받아 리스트에 저장하고 \n",
    "원본을 유지한 상태로 복사본을 만들어 과목별 점수를 10% 올렸을 경우에 평균을 출력하는 프로그램\n",
    "'''\n",
    "\n",
    "# Take input for Korean, English, and math scores\n",
    "korean = float(input(\"Enter Korean score: \"))\n",
    "english = float(input(\"Enter English score: \"))\n",
    "math = float(input(\"Enter Math score: \"))\n",
    "\n",
    "# Store scores in a list\n",
    "scores = [korean, english, math]\n",
    "\n",
    "# Create copies of the list\n",
    "original_scores = scores.copy()\n",
    "new_scores = scores.copy()\n",
    "\n",
    "# Print average of original scores\n",
    "avg_original = sum(original_scores) / len(original_scores)\n",
    "print(\"Average of original scores:\", round(avg_original,2))\n",
    "\n",
    "# Raise each score by 10%\n",
    "for i in range(len(new_scores)):\n",
    "    new_scores[i] *= 1.1\n",
    "\n",
    "# Print average of new scores\n",
    "avg_new = sum(new_scores) / len(new_scores)\n",
    "print(\"Average of new scores:\", round(avg_new,2))"
   ]
  },
  {
   "cell_type": "code",
   "execution_count": 77,
   "id": "a6ed4c96-c19a-4730-82ca-6619e8cd4e92",
   "metadata": {},
   "outputs": [
    {
     "name": "stdout",
     "output_type": "stream",
     "text": [
      "self.number:3.14\n",
      "self.str:Hello\n",
      "self.number:3.14\n",
      "self.str:Hello\n",
      "self.number:5\n",
      "self.str:Hello\n",
      "self.number:5\n",
      "self.str:Hello\n",
      "self.number:5\n",
      "self.str:Hello\n",
      "self.number:3.14\n",
      "self.str:Hello\n"
     ]
    }
   ],
   "source": [
    "#얕은 복사란, 객체 주소를 복사하는 것으로 객체 자체가 복사되지는 않는다.\n",
    "#깊은 복사란, 객체 자체를 복사하는 것으로 또 하나의 객체가 만들어진다.\n",
    "\n",
    "class Temp:\n",
    "    \n",
    "    def __init__(self, n, s):\n",
    "        self.number=n\n",
    "        self.str=s\n",
    "        \n",
    "    def printClsInfo(self):\n",
    "        print(f'self.number:{self.number}')\n",
    "        print(f'self.str:{self.str}')\n",
    "        \n",
    "        \n",
    "#얕은 복사\n",
    "tp1= Temp(3.14, 'Hello')\n",
    "tp2=tp1\n",
    "\n",
    "tp1.printClsInfo()\n",
    "tp2.printClsInfo()\n",
    "\n",
    "#깊은 복사\n",
    "import copy\n",
    "tp1= Temp(5, 'Hello')\n",
    "tp2= copy.copy(tp1)\n",
    "tp1.printClsInfo()\n",
    "tp2.printClsInfo()\n",
    "\n",
    "tp2.number=3.14 #tp2 값 변경, 새로운 객체 생성\n",
    "tp1.printClsInfo()\n",
    "tp2.printClsInfo()"
   ]
  },
  {
   "cell_type": "code",
   "execution_count": 80,
   "id": "f2232446-dd96-4a32-9278-8775b241b69d",
   "metadata": {},
   "outputs": [
    {
     "name": "stdout",
     "output_type": "stream",
     "text": [
      "30\n",
      "-10\n",
      "200\n",
      "0.5\n"
     ]
    }
   ],
   "source": [
    "#상속: 클래스는 또다른 클래스를 상속해서 내것처럼 사용할 수 있다\n",
    "\n",
    "\n",
    "class Calculator:\n",
    "    def add(self, x, y):\n",
    "        return x + y\n",
    "\n",
    "    def sub(self, x, y):\n",
    "        return x - y\n",
    "\n",
    "class AdvancedCalculator(Calculator):\n",
    "    def mul(self, x, y):\n",
    "        return x * y\n",
    "\n",
    "    def div(self, x, y):\n",
    "        if y == 0:\n",
    "            raise ValueError(\"Cannot divide by zero\")\n",
    "        return x / y\n",
    "    \n",
    "mycalc= AdvancedCalculator()\n",
    "\n",
    "print(mycalc.add(10,20))\n",
    "print(mycalc.sub(10,20))\n",
    "print(mycalc.mul(10,20))\n",
    "print(mycalc.div(10,20))"
   ]
  },
  {
   "cell_type": "code",
   "execution_count": null,
   "id": "28f12a97-6a71-4761-bfab-ed6c2d56dfa2",
   "metadata": {},
   "outputs": [],
   "source": []
  }
 ],
 "metadata": {
  "kernelspec": {
   "display_name": "Python 3 (ipykernel)",
   "language": "python",
   "name": "python3"
  },
  "language_info": {
   "codemirror_mode": {
    "name": "ipython",
    "version": 3
   },
   "file_extension": ".py",
   "mimetype": "text/x-python",
   "name": "python",
   "nbconvert_exporter": "python",
   "pygments_lexer": "ipython3",
   "version": "3.9.12"
  }
 },
 "nbformat": 4,
 "nbformat_minor": 5
}
