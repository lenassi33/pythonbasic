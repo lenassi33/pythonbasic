{
 "cells": [
  {
   "cell_type": "code",
   "execution_count": 1,
   "id": "95921b49-4de9-4fdc-9a97-78fe229a1b9a",
   "metadata": {},
   "outputs": [
    {
     "name": "stdin",
     "output_type": "stream",
     "text": [
      "0보다 큰 정수 입력:  10\n"
     ]
    }
   ],
   "source": [
    "#중급 36강문제 \n",
    "#1부터 사용자가 입력한 숫자까지 소수를 구하고 파일에 출력\n",
    "\n",
    "uri='C:/python/PythonTxt/'\n",
    "\n",
    "def writePrimeNumber(n):\n",
    "    file = open(uri+'prime_numbers.txt', 'a')\n",
    "    file.write(str(n))\n",
    "    file.write('\\n')\n",
    "    file.close()\n",
    "    \n",
    "inputNumber = int(input(\"0보다 큰 정수 입력: \"))\n",
    "for number in range(2, (inputNumber+1)):\n",
    "    flag=True\n",
    "    for n in range(2, number):\n",
    "        if number % n ==0:\n",
    "            flag=False\n",
    "            break\n",
    "    \n",
    "    if flag:\n",
    "        writePrimeNumber(number)"
   ]
  },
  {
   "cell_type": "code",
   "execution_count": 2,
   "id": "903a18b4-7b6a-4f7c-9743-8189807946a0",
   "metadata": {},
   "outputs": [
    {
     "name": "stdout",
     "output_type": "stream",
     "text": [
      "Lotto numbers:  [22, 42, 30, 2, 15, 4]\n",
      "Bonus number:  11\n"
     ]
    }
   ],
   "source": [
    "#증급 37강문제 writelines()\n",
    "#로또번호과 보너스 번호를 출력\n",
    "\n",
    "import random\n",
    "\n",
    "def generate_lotto_numbers():\n",
    "    # generate 6 unique lotto numbers\n",
    "    lotto_numbers = random.sample(range(1, 46), 6)\n",
    "    # generate a bonus number\n",
    "    bonus_number = random.randint(1, 45)\n",
    "    # return the lotto numbers and bonus number\n",
    "    return lotto_numbers, bonus_number\n",
    "\n",
    "# generate lotto numbers\n",
    "lotto_numbers, bonus_number = generate_lotto_numbers()\n",
    "\n",
    "# write the lotto numbers and bonus number to a file\n",
    "with open('C:/python/PythonTxt/lotto.txt', 'w') as f:\n",
    "    f.write('Lotto numbers: ' + ', '.join(map(str, lotto_numbers)) + '\\n')\n",
    "    f.write('Bonus number: ' + str(bonus_number))\n",
    "\n",
    "print('Lotto numbers: ', lotto_numbers)\n",
    "print('Bonus number: ', bonus_number)"
   ]
  },
  {
   "cell_type": "code",
   "execution_count": 3,
   "id": "0c96740d-4257-42f7-a843-165fd91da8f1",
   "metadata": {},
   "outputs": [
    {
     "name": "stdout",
     "output_type": "stream",
     "text": [
      "kor: 85\n",
      "eng: 90\n",
      "mat: 92\n",
      "sci: 79\n",
      "his: 82\n",
      "Subject scores saved to file.\n"
     ]
    }
   ],
   "source": [
    "#중급 38강문제\n",
    "'''scoreDic= {'kor': 85, 'eng':90, 'mat':92, 'sci':79, 'his':82} 에 저장된 과목별 점수를\n",
    "C:/python/PythonTxt/'에 새 파일을 만들어 저장하고 출력하는 코드\n",
    "'''\n",
    "\n",
    "import os\n",
    "\n",
    "# create directory if it doesn't exist\n",
    "directory = 'C:/python/PythonTxt/'\n",
    "if not os.path.exists(directory):\n",
    "    os.makedirs(directory)\n",
    "\n",
    "scoreDic = {'kor': 85, 'eng': 90, 'mat': 92, 'sci': 79, 'his': 82}\n",
    "\n",
    "# write scores to a file\n",
    "with open('C:/python/PythonTxt/subject_scores.txt', 'w') as f:\n",
    "    for subject, score in scoreDic.items():\n",
    "        f.write(subject + ': ' + str(score) + '\\n')\n",
    "\n",
    "# read scores from file and print\n",
    "with open('C:/python/PythonTxt/subject_scores.txt', 'r') as f:\n",
    "    for line in f:\n",
    "        print(line.strip())\n",
    "\n",
    "print('Subject scores saved to file.')\n",
    "\n"
   ]
  },
  {
   "cell_type": "code",
   "execution_count": null,
   "id": "74503b1a-3122-416d-9c7c-35be60f46f2e",
   "metadata": {},
   "outputs": [],
   "source": []
  },
  {
   "cell_type": "code",
   "execution_count": null,
   "id": "b3a1f515-6414-4fce-ab84-d1a3d2972722",
   "metadata": {},
   "outputs": [],
   "source": []
  }
 ],
 "metadata": {
  "kernelspec": {
   "display_name": "Python 3 (ipykernel)",
   "language": "python",
   "name": "python3"
  },
  "language_info": {
   "codemirror_mode": {
    "name": "ipython",
    "version": 3
   },
   "file_extension": ".py",
   "mimetype": "text/x-python",
   "name": "python",
   "nbconvert_exporter": "python",
   "pygments_lexer": "ipython3",
   "version": "3.9.12"
  }
 },
 "nbformat": 4,
 "nbformat_minor": 5
}
