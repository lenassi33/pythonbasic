{
 "cells": [
  {
   "cell_type": "code",
   "execution_count": 5,
   "id": "6780b67a-5932-4b0b-b88c-f762e4f7cba5",
   "metadata": {},
   "outputs": [
    {
     "name": "stdin",
     "output_type": "stream",
     "text": [
      "n1입력: 4\n",
      "n2입력: 3\n"
     ]
    },
    {
     "name": "stdout",
     "output_type": "stream",
     "text": [
      "n1+n2 = 7\n"
     ]
    }
   ],
   "source": [
    "#함수: 내장함수(설치 시 제공), 사용자함수(내가 정의) --> 기능을 재사용하기 위해서 함수를 쓴다. 보통 동사형으로 쓴다 \n",
    "#cf. 변수: 데이터를 재사용하기 위해서. 보통 명사로 쓴다\n",
    "\n",
    "def addcal():   #함수 선언\n",
    "     n1= int(input(\"n1입력:\"))\n",
    "     n2= int(input(\"n2입력:\"))\n",
    "     print(f'n1+n2 = {n1+n2}')\n",
    "\n",
    "addcal()       #함수 호출: 호출하지 않으면 아무것도 출력되지 않음"
   ]
  },
  {
   "cell_type": "code",
   "execution_count": 10,
   "id": "d12b8bd0-6183-4b24-8daa-d35ca4f89b69",
   "metadata": {},
   "outputs": [
    {
     "name": "stdout",
     "output_type": "stream",
     "text": [
      "fun1 호출!\n",
      "fun2 호출!\n",
      "fun3 호출!\n",
      "fun2 호출 후 실행\n"
     ]
    }
   ],
   "source": [
    "#함수 내에서 또다른 함수 호출\n",
    "\n",
    "def fun1():\n",
    "    print(\"fun1 호출!\")\n",
    "    fun2()\n",
    "    print(\"fun2 호출 후 실행\")\n",
    "\n",
    "def fun2():\n",
    "    print(\"fun2 호출!\")\n",
    "    fun3()\n",
    "\n",
    "def fun3():\n",
    "    print(\"fun3 호출!\")    \n",
    "    \n",
    "fun1()\n",
    "\n",
    "\n",
    "#실행부 미결정시 pass사용해야 오류발생안한다\n",
    "def weather():\n",
    "    pass"
   ]
  },
  {
   "cell_type": "code",
   "execution_count": 11,
   "id": "a7eb64d0-1e43-4843-a8b3-07a23ca23b3a",
   "metadata": {},
   "outputs": [
    {
     "name": "stdout",
     "output_type": "stream",
     "text": [
      "이혜지 고객님 안녕하세요.\n"
     ]
    }
   ],
   "source": [
    "#인수와 매개변수: 인수와 매개변수의 갯수는 항상 일치해야함\n",
    "\n",
    "def greet(customer):  #customer --> 매개변수\n",
    "    print(f'{customer} 고객님 안녕하세요.')\n",
    "\n",
    "greet('홍길동')    #홍길동 --> 인수"
   ]
  },
  {
   "cell_type": "code",
   "execution_count": 83,
   "id": "2051e188-804f-4a21-8bbb-239336322b14",
   "metadata": {},
   "outputs": [
    {
     "name": "stdout",
     "output_type": "stream",
     "text": [
      "\n",
      "10 \n",
      "10 20 \n",
      "10 20 30 \n"
     ]
    }
   ],
   "source": [
    "def printNumber(*numbers):   #인수의 갯수가 정해지지 않을때 *를 쓰면 알아서 처리\n",
    "    for i in numbers:\n",
    "        print(i, end=\" \")\n",
    "    print()\n",
    "        \n",
    "printNumber()\n",
    "printNumber(10)\n",
    "printNumber(10,20)\n",
    "printNumber(10,20,30)"
   ]
  },
  {
   "cell_type": "code",
   "execution_count": 86,
   "id": "5e3e28d6-3614-4d49-b0d8-f4a2740c76a2",
   "metadata": {},
   "outputs": [
    {
     "name": "stdout",
     "output_type": "stream",
     "text": [
      "returnValue: 30\n"
     ]
    }
   ],
   "source": [
    "#함수 실행결과 반환\n",
    "\n",
    "def cal(n1, n2):\n",
    "    result=n1 + n2\n",
    "    \n",
    "    return result   #함수호출부로 실행결과를 반환한다 (result값 --> returnValue에 할당) // 실행종료\n",
    "    \n",
    "    print(\"hello!\") #return후 실행종료되었으므로 실행되지 않는다.\n",
    "\n",
    "returnValue= cal(20,10)\n",
    "print(f'returnValue: {returnValue}')"
   ]
  },
  {
   "cell_type": "code",
   "execution_count": 89,
   "id": "a9bc2892-83d4-4fc0-991c-7178bee1f434",
   "metadata": {},
   "outputs": [
    {
     "name": "stdout",
     "output_type": "stream",
     "text": [
      "num_out: 20\n",
      "num_out: 10\n"
     ]
    }
   ],
   "source": [
    "#1. 전역변수: 함수 밖에 선언된 변수로 어디에서나 사용은 가능하지만 함수 안에서 수정할수는 없다\n",
    "\n",
    "num_out=10 #함수밖에서 선언, 함수안에서 쓸수는 있으나 수정불가능\n",
    "def printNumbers():\n",
    "    num_out=20\n",
    "    print(f'num_out: {num_out}')  #20출력\n",
    "    \n",
    "printNumbers()\n",
    "print(f'num_out: {num_out}')  #전역변수로 수정불가능하므로 10출력"
   ]
  },
  {
   "cell_type": "code",
   "execution_count": 90,
   "id": "ec120a4b-b7f0-4825-b17a-fbd76a4025f3",
   "metadata": {},
   "outputs": [
    {
     "ename": "NameError",
     "evalue": "name 'num_in' is not defined",
     "output_type": "error",
     "traceback": [
      "\u001b[1;31m---------------------------------------------------------------------------\u001b[0m",
      "\u001b[1;31mNameError\u001b[0m                                 Traceback (most recent call last)",
      "Input \u001b[1;32mIn [90]\u001b[0m, in \u001b[0;36m<cell line: 7>\u001b[1;34m()\u001b[0m\n\u001b[0;32m      4\u001b[0m     num_in\u001b[38;5;241m=\u001b[39m\u001b[38;5;241m20\u001b[39m\n\u001b[0;32m      5\u001b[0m     \u001b[38;5;28mprint\u001b[39m(\u001b[38;5;124mf\u001b[39m\u001b[38;5;124m'\u001b[39m\u001b[38;5;124mnum_in: \u001b[39m\u001b[38;5;132;01m{\u001b[39;00mnum_in\u001b[38;5;132;01m}\u001b[39;00m\u001b[38;5;124m'\u001b[39m)\n\u001b[1;32m----> 7\u001b[0m \u001b[38;5;28mprint\u001b[39m(\u001b[38;5;124mf\u001b[39m\u001b[38;5;124m'\u001b[39m\u001b[38;5;124mnum_in: \u001b[39m\u001b[38;5;132;01m{\u001b[39;00mnum_in\u001b[38;5;132;01m}\u001b[39;00m\u001b[38;5;124m'\u001b[39m)\n",
      "\u001b[1;31mNameError\u001b[0m: name 'num_in' is not defined"
     ]
    }
   ],
   "source": [
    "#2. 지역변수: 함수 안에서 선언된 변수로 함수 안에서만 사용가능\n",
    "\n",
    "def printNumbers():\n",
    "    num_in=20\n",
    "    print(f'num_in: {num_in}')\n",
    "\n",
    "print(f'num_in: {num_in}') #지역변수는 함수밖에서 사용불가능"
   ]
  },
  {
   "cell_type": "code",
   "execution_count": 93,
   "id": "daee7e1f-cae1-4c42-865c-a64d2b3c604d",
   "metadata": {},
   "outputs": [
    {
     "name": "stdout",
     "output_type": "stream",
     "text": [
      "num_out: 20\n",
      "num_out: 20\n"
     ]
    }
   ],
   "source": [
    "#3. 글로벌 키워드: global을 사용하면 함수 안에서도 전역변수 값 수정가능\n",
    "\n",
    "num_out=10\n",
    "def printNumbers():\n",
    "    global num_out\n",
    "    num_out=20\n",
    "    print(f'num_out: {num_out}')\n",
    "    \n",
    "printNumbers()\n",
    "print(f'num_out: {num_out}')"
   ]
  },
  {
   "cell_type": "code",
   "execution_count": 94,
   "id": "0cc990d1-7c69-4391-b3c6-8fce185670d3",
   "metadata": {
    "tags": []
   },
   "outputs": [
    {
     "name": "stdout",
     "output_type": "stream",
     "text": [
      "Select operation:\n",
      "1. Addition\n",
      "2. Subtraction\n",
      "3. Multiplication\n",
      "4. Division\n"
     ]
    },
    {
     "name": "stdin",
     "output_type": "stream",
     "text": [
      "Enter choice (1/2/3/4):  1\n",
      "Enter first number:  4.566777\n",
      "Enter second number:  3.56778\n"
     ]
    },
    {
     "name": "stdout",
     "output_type": "stream",
     "text": [
      "4.566777 + 3.56778 = 8.13\n"
     ]
    }
   ],
   "source": [
    "#중첩함수: 함수안에 함수\n",
    "\n",
    "def calculator():\n",
    "    def addition(a, b):\n",
    "        return a + b\n",
    "    \n",
    "    def subtraction(a, b):\n",
    "        return a - b\n",
    "    \n",
    "    def multiplication(a, b):\n",
    "        return a * b\n",
    "    \n",
    "    def division(a, b):\n",
    "        if b == 0:\n",
    "            return \"Error: division by zero\"\n",
    "        return a / b\n",
    "\n",
    "    print(\"Select operation:\")\n",
    "    print(\"1. Addition\")\n",
    "    print(\"2. Subtraction\")\n",
    "    print(\"3. Multiplication\")\n",
    "    print(\"4. Division\")\n",
    "\n",
    "    choice = input(\"Enter choice (1/2/3/4): \")\n",
    "\n",
    "    num1 = float(input(\"Enter first number: \"))\n",
    "    num2 = float(input(\"Enter second number: \"))\n",
    "\n",
    "    if choice == '1':\n",
    "        result = addition(num1, num2)\n",
    "        print(num1, \"+\", num2, \"=\", round(result,2))\n",
    "\n",
    "    elif choice == '2':\n",
    "        result = subtraction(num1, num2)\n",
    "        print(num1, \"-\", num2, \"=\", round(result,2))\n",
    "\n",
    "    elif choice == '3':\n",
    "        result = multiplication(num1, num2)\n",
    "        print(num1, \"*\", num2, \"=\", round(result,2))\n",
    "\n",
    "    elif choice == '4':\n",
    "        result = division(num1, num2)\n",
    "        print(num1, \"/\", num2, \"=\", round(result,2))\n",
    "\n",
    "    else:\n",
    "        print(\"Invalid input\")\n",
    "\n",
    "\n",
    "# Call calculator function and print each result\n",
    "calculator()"
   ]
  },
  {
   "cell_type": "code",
   "execution_count": 4,
   "id": "b98aae30-b717-4939-afc4-c731cfa263bb",
   "metadata": {},
   "outputs": [
    {
     "name": "stdout",
     "output_type": "stream",
     "text": [
      "returnvalue: 30\n",
      "returnvalue: 30\n"
     ]
    }
   ],
   "source": [
    "#def 함수\n",
    "\n",
    "def calc(n1, n2):\n",
    "    return n1+n2\n",
    "\n",
    "returnvalue = calc(10,20)\n",
    "print(f'returnvalue: {returnvalue}')\n",
    "\n",
    "\n",
    "#lambda : 함수선언을 간단하게~\n",
    "\n",
    "calc= lambda n1, n2 : n1+n2 #함수 선언\n",
    "\n",
    "returnvalue = calc(10,20)   #함수 호출\n",
    "print(f'returnvalue: {returnvalue}')"
   ]
  },
  {
   "cell_type": "code",
   "execution_count": 5,
   "id": "6a03d91e-e773-4e33-9516-b1bf730c15aa",
   "metadata": {},
   "outputs": [
    {
     "name": "stdin",
     "output_type": "stream",
     "text": [
      "Enter first number:  10\n",
      "Enter second number:  20\n"
     ]
    },
    {
     "name": "stdout",
     "output_type": "stream",
     "text": [
      "Area of triangle: 100.0\n",
      "Area of rectangle: 200.0\n",
      "Area of circle: 314.1592653589793\n"
     ]
    }
   ],
   "source": [
    "#삼각형, 사각형, 원의 넓이를 각각 반환하는 lambda함수\n",
    "\n",
    "# Lambda function to calculate the area of a triangle\n",
    "triangle_area = lambda base, height: 0.5 * base * height\n",
    "\n",
    "# Lambda function to calculate the area of a rectangle\n",
    "rectangle_area = lambda length, width: length * width\n",
    "\n",
    "# Lambda function to calculate the area of a circle\n",
    "import math\n",
    "circle_area = lambda radius: math.pi * radius ** 2\n",
    "\n",
    "\n",
    "# Take input for two numbers\n",
    "num1 = float(input(\"Enter first number: \"))\n",
    "num2 = float(input(\"Enter second number: \"))\n",
    "\n",
    "# Calculate and print area of a triangle, rectangle, and circle using lambda functions\n",
    "print(\"Area of triangle:\", triangle_area(num1, num2))\n",
    "print(\"Area of rectangle:\", rectangle_area(num1, num2))\n",
    "print(\"Area of circle:\", circle_area(num1))"
   ]
  },
  {
   "cell_type": "code",
   "execution_count": 101,
   "id": "415cea76-0240-4dd9-ab4a-97b924978d96",
   "metadata": {},
   "outputs": [],
   "source": [
    "'''\n",
    "모듈: 이미 만들어진 기능으로 사용자는 쉽게 사용가능, ex. 수학모듈, 난수모듈, 날짜/시간 모듈\n",
    "1. 내부 모듈: 기본적으로 사용가능\n",
    "2. 외부 모듈: 별도 설치후 사용가능\n",
    "3. 사용자 모듈: 사용자가 직접 만든 모듈\n",
    "\n",
    "모듈파일: 모듈을 만들어 파이썬 파일(.py)로 저장 \n",
    "실행파일: import로 호출해서 사용, 이때 파이썬 파일명으로 호출한다\n",
    "as 키워드를 사용해서 모듈 이름을 단축시킬 수 있다\n",
    "[from 모듈명 as 기능명] 키워드를 사용해서 모듈의 특정기능만 사용할 수 있다\n",
    "\n",
    "자주쓰는 모듈: 난수, 수학, 시간\n",
    "'''"
   ]
  },
  {
   "cell_type": "code",
   "execution_count": 101,
   "id": "ff3b5445-82c3-4688-aa41-41892167b1bf",
   "metadata": {},
   "outputs": [
    {
     "name": "stdout",
     "output_type": "stream",
     "text": [
      "rNum= 2\n",
      "rNums= [27, 87, 29, 10, 78, 18, 13, 19, 20, 35]\n"
     ]
    }
   ],
   "source": [
    "#1. 랜덤 모듈\n",
    "import random\n",
    "\n",
    "#난수 정수 1개 발생\n",
    "rNum= random.randint(1,10) #randint(a, b) :a, b는 양측값을 포함\n",
    "print(f'rNum= {rNum}')\n",
    "\n",
    "#난수 10개 발생\n",
    "rNums=random.sample(range(10, 101), 10)  #.sample(범위,갯수) --> 리스트 형태로 출력\n",
    "print(f'rNums= {rNums}')"
   ]
  },
  {
   "cell_type": "code",
   "execution_count": 1,
   "id": "2a3fc7d1-740b-469f-aac1-715b7b274ba4",
   "metadata": {},
   "outputs": [
    {
     "name": "stdout",
     "output_type": "stream",
     "text": [
      "math.fabs(-10) : 10.0\n",
      "math.ceil(5.21) : 6\n",
      "math.floor(5.21) : 5\n",
      "math.trunc(5.21) : 5\n",
      "math.gcd(14,21) : 7\n",
      "math.factorial(10) : 3628800\n",
      "math.sqrt(12) : 3.464\n"
     ]
    }
   ],
   "source": [
    "#2. 수학 모듈\n",
    "import math\n",
    "print(f'math.fabs(-10) : {math.fabs(-10)}') #절대값\n",
    "\n",
    "print(f'math.ceil(5.21) : {math.ceil(5.21)}') #올림\n",
    "print(f'math.floor(5.21) : {math.floor(5.21)}') #내림\n",
    "print(f'math.trunc(5.21) : {math.trunc(5.21)}') #버림\n",
    "\n",
    "print(f'math.gcd(14,21) : {math.gcd(14,21)}') #최대공약수\n",
    "print(f'math.factorial(10) : {math.factorial(10)}') #팩토리얼\n",
    "print(f'math.sqrt(12) : {round(math.sqrt(12), 3)}')         #제곱근"
   ]
  },
  {
   "cell_type": "code",
   "execution_count": 52,
   "id": "918f38f5-a1ff-48e6-a6c4-001349074fb2",
   "metadata": {},
   "outputs": [
    {
     "name": "stdout",
     "output_type": "stream",
     "text": [
      "sum(listvar) : 244.2\n",
      "max(listvar) : 210\n",
      "min(listvar) : 1\n",
      "pow(13,2) : 169\n",
      "pow(13,4) : 28561\n",
      "3.14\n",
      "3.1416\n"
     ]
    }
   ],
   "source": [
    "# cf.수학관련 함수\n",
    "\n",
    "listvar=[2,5,6,1,210,20.2]\n",
    "print(f'sum(listvar) : {sum(listvar)}')\n",
    "print(f'max(listvar) : {max(listvar)}')\n",
    "print(f'min(listvar) : {min(listvar)}')\n",
    "\n",
    "print(f'pow(13,2) : {pow(13,2)}') #거듭제곱\n",
    "print(f'pow(13,4) : {pow(13,4)}')\n",
    "\n",
    "\n",
    "print(f'{round(3.141592,2)}') #반올림\n",
    "print(f'{round(3.141592,4)}')"
   ]
  },
  {
   "cell_type": "code",
   "execution_count": 97,
   "id": "cac2b712-35a0-4e8d-9931-36630e721340",
   "metadata": {},
   "outputs": [
    {
     "name": "stdout",
     "output_type": "stream",
     "text": [
      "time.localtime() : time.struct_time(tm_year=2023, tm_mon=3, tm_mday=6, tm_hour=10, tm_min=28, tm_sec=34, tm_wday=0, tm_yday=65, tm_isdst=0)\n",
      "year : 2023\n",
      "month : 3\n",
      "day : 6\n",
      "hour : 10\n",
      "min : 28\n",
      "sec : 34\n",
      "wday : 0\n"
     ]
    }
   ],
   "source": [
    "#3. 타임 모듈\n",
    "import time\n",
    "lt= time.localtime()\n",
    "\n",
    "print(f'time.localtime() : {lt}') #지금 시각\n",
    "print(f'year : {lt.tm_year}') #년\n",
    "print(f'month : {lt.tm_mon}') #월\n",
    "print(f'day : {lt.tm_mday}')  #일\n",
    "print(f'hour : {lt.tm_hour}')  #시\n",
    "print(f'min : {lt.tm_min}')  #분\n",
    "print(f'sec : {lt.tm_sec}')  #초\n",
    "print(f'wday : {lt.tm_wday}')  #요일"
   ]
  },
  {
   "cell_type": "code",
   "execution_count": 110,
   "id": "49070ed6-76ec-42b4-a924-6ffb8734ff16",
   "metadata": {},
   "outputs": [
    {
     "name": "stdout",
     "output_type": "stream",
     "text": [
      "10cm: 100 mm\n",
      "10cm: 3.93 inch\n",
      "10cm: 0.32 ft\n"
     ]
    }
   ],
   "source": [
    "'''\n",
    "전역변수 __name__을 이용한 실행파일 지정\n",
    "__name__에는 모듈 이름이 저장되거나 '__main__'이 저장된다.\n",
    "\n",
    "__name__ = 'addmodule'\n",
    "__name__ = '__main__'  --> 실행(메인)파일\n",
    "\n",
    "'''\n",
    "\n",
    "#1. 모듈파일: 파일명 unitconversion.py\n",
    "def cmToMm(n):\n",
    "    return round(n*10,3)\n",
    "\n",
    "def cmToInch(n):\n",
    "    return round(n*0.393,3)\n",
    "\n",
    "def cmToFt(n):\n",
    "    return round(n*0.032,3)\n",
    "\n",
    "#실행파일 일때만 실행되도록, 즉 모듈파일에서는 실행되지 않도록 처리\n",
    "if __name__ == '__main__':\n",
    "    print(f'10cm: {cmToMm(10)} mm')\n",
    "    print(f'10cm: {cmToInch(10)} inch')\n",
    "    print(f'10cm: {cmToFt(10)} ft')\n",
    "\n",
    "\n",
    "#2. 실행파일\n",
    "import unitconversion as uc\n",
    "\n",
    "#실행파일 일때만 실행되도록\n",
    "if __name__ == '__main__':\n",
    "    num = int(input('길이를 입력하세요 (cm): \"))\n",
    "    returnValue = uc.cmToMm(num)\n",
    "    print(f'returnValue: {returnValue} mm')\n"
   ]
  },
  {
   "cell_type": "code",
   "execution_count": 111,
   "id": "3ad46129-9e4f-4ca5-ba5c-5aee4ae35c6b",
   "metadata": {},
   "outputs": [
    {
     "name": "stdout",
     "output_type": "stream",
     "text": [
      "C:\\python\\Notebook\\기초(제.베)\n",
      "C:\\anaconda\\python39.zip\n",
      "C:\\anaconda\\DLLs\n",
      "C:\\anaconda\\lib\n",
      "C:\\anaconda\n",
      "\n",
      "C:\\anaconda\\lib\\site-packages\n",
      "C:\\anaconda\\lib\\site-packages\\win32\n",
      "C:\\anaconda\\lib\\site-packages\\win32\\lib\n",
      "C:\\anaconda\\lib\\site-packages\\Pythonwin\n"
     ]
    }
   ],
   "source": [
    "'''\n",
    "패키지: 모듈을 묶어서 관리\n",
    "1. CalForInt 패키지: add모듈, sub모듈, mul모듈, div모듈 \n",
    "2. CalForFloat 패키지 : add모듈, sub모듈, mul모듈, div모듈 \n",
    "\n",
    "from CalForFloat import add\n",
    "\n",
    "site-packages에 있는 모듈은 어디서나 사용할 수 있다\n",
    "'''\n",
    "\n",
    "import sys #sys모듈\n",
    "\n",
    "for i in sys.path:  #모듈 경로\n",
    "    print(i)"
   ]
  },
  {
   "cell_type": "code",
   "execution_count": 2,
   "id": "e3b1e8b7-cb2f-4c75-8622-c5e825ce32ca",
   "metadata": {},
   "outputs": [
    {
     "name": "stdout",
     "output_type": "stream",
     "text": [
      "self.color: red\n",
      "self.length: 200\n",
      "self.color: blue\n",
      "self.length: 300\n"
     ]
    }
   ],
   "source": [
    "'''\n",
    "객체 (object) =속성 (attribute) + 기능 (function)\n",
    "객체는 클래스에서 생성된다.\n",
    "코드재사용, 모듈화에 좋다 \n",
    "'''\n",
    "\n",
    "\n",
    "#클래스 선언 (첫글자는 대문자로): 클래스 키워드, 속성(변수), 기능(함수)를 이용해서 만든다.\n",
    "class Car:  \n",
    "    def __init__(self, color, length): #속성\n",
    "        self.color = color\n",
    "        self.length = length\n",
    "   \n",
    "    def doStop(self):                  #기능\n",
    "        print(\"Stop!\")\n",
    "   \n",
    "    def doStart(self):                 #기능\n",
    "        print(\"Start!\")\n",
    "        \n",
    "    def printCarInfo(self):\n",
    "        print(f'self.color: {self.color}')\n",
    "        print(f'self.length: {self.length}')\n",
    "        \n",
    "        \n",
    "#객체 2개 생성\n",
    "car1= Car('red', 200)     #객체는 클래스의 생성자(init)를 호출한다\n",
    "car2= Car('blue', 300)\n",
    "\n",
    "car1.printCarInfo()       #레퍼런스 변수(car1, car2)를 이용해서 객체기능에 접근한다\n",
    "car2.printCarInfo()"
   ]
  },
  {
   "cell_type": "code",
   "execution_count": 5,
   "id": "a581b062-be05-421e-bda2-adefd01f3c8d",
   "metadata": {},
   "outputs": [
    {
     "name": "stdout",
     "output_type": "stream",
     "text": [
      "self.name: my\n",
      "self.cpu: i5\n",
      "self.memory: 16\n",
      "self.ssd: 256\n",
      "self.name: F\n",
      "self.cpu: i7\n",
      "self.memory: 32\n",
      "self.ssd: 512\n",
      "self.name: my\n",
      "self.cpu: i9\n",
      "self.memory: 64\n",
      "self.ssd: 256\n"
     ]
    }
   ],
   "source": [
    "#클래스 선언\n",
    "class NewPc:\n",
    "    def __init__(self, name, cpu, memory, ssd):\n",
    "        self.name=name\n",
    "        self.cpu=cpu\n",
    "        self.memory=memory\n",
    "        self.ssd=ssd\n",
    "        \n",
    "    def doExcel(self):\n",
    "        print(\"excel run!\")\n",
    "        \n",
    "    def doPhoto(self):\n",
    "        print(\"photo run!\")\n",
    "    \n",
    "    def printInfo(self):\n",
    "        print(f'self.name: {self.name}')\n",
    "        print(f'self.cpu: {self.cpu}')\n",
    "        print(f'self.memory: {self.memory}')\n",
    "        print(f'self.ssd: {self.ssd}')\n",
    " \n",
    "myPC = NewPc('my', 'i5', 16, 256) #객체 선언, 레퍼런스변수 사용\n",
    "myPC.printInfo()\n",
    "\n",
    "myFriend = NewPc('F', 'i7', 32, 512)    #객체 선언, 레퍼런스변수 사용    \n",
    "myFriend.printInfo()        \n",
    "\n",
    "#객체 속성은 변경할 수 있다. 속성 변경을 통한 업그레이드\n",
    "myPC.cpu='i9'\n",
    "myPC.memory=64\n",
    "myPC.printInfo()"
   ]
  },
  {
   "cell_type": "code",
   "execution_count": 14,
   "id": "d7b9ce21-e536-446e-8859-cf5dd6ed89b8",
   "metadata": {},
   "outputs": [
    {
     "name": "stdout",
     "output_type": "stream",
     "text": [
      "color: red\n",
      "height: 200\n",
      "weight: 80\n",
      "color: blue\n",
      "height: 300\n",
      "weight: 120\n",
      "color: red\n",
      "height: 200\n",
      "weight: 80\n",
      "color: grey\n",
      "height: 200\n",
      "weight: 80\n"
     ]
    }
   ],
   "source": [
    "#변수는 객체의 메모리 주소를 저장하고 이를 이용해서 객체를 참조한다. \n",
    "\n",
    "class Robot:\n",
    "    \n",
    "    def __init__(self, color, height, weight):\n",
    "        self.color= color\n",
    "        self.height= height\n",
    "        self.weight= weight\n",
    "        \n",
    "    def printRobotInfo(self):\n",
    "        print(f'color: {self.color}')\n",
    "        print(f'height: {self.height}')\n",
    "        print(f'weight: {self.weight}')\n",
    "        \n",
    "rb1 = Robot('red', 200, 80) \n",
    "rb1.printRobotInfo()\n",
    "\n",
    "rb2 = Robot('blue', 300,120)\n",
    "rb3 = rb1     #얕은복사 (rb1의 주소값이 rb3에 저장)\n",
    "rb2.printRobotInfo()\n",
    "rb3.printRobotInfo() \n",
    "\n",
    "#rb1이 수정됐는데 rb3도 업데이트됨\n",
    "rb1.color ='grey'\n",
    "rb3.printRobotInfo() "
   ]
  },
  {
   "cell_type": "code",
   "execution_count": 70,
   "id": "6b565f76-6efb-4267-b2e3-ea436f1bf486",
   "metadata": {},
   "outputs": [
    {
     "name": "stdin",
     "output_type": "stream",
     "text": [
      "Enter Korean score:  90.999\n",
      "Enter English score:  89.777\n",
      "Enter Math score:  86.689\n"
     ]
    },
    {
     "name": "stdout",
     "output_type": "stream",
     "text": [
      "Average of original scores: 89.16\n",
      "Average of new scores: 98.07\n"
     ]
    }
   ],
   "source": [
    "'''\n",
    "국어, 영어, 수학 점수를 입력받아 리스트에 저장하고 \n",
    "원본을 유지한 상태로 복사본을 만들어 과목별 점수를 10% 올렸을 경우에 평균을 출력하는 프로그램\n",
    "'''\n",
    "\n",
    "# Take input for Korean, English, and math scores\n",
    "korean = float(input(\"Enter Korean score: \"))\n",
    "english = float(input(\"Enter English score: \"))\n",
    "math = float(input(\"Enter Math score: \"))\n",
    "\n",
    "# Store scores in a list\n",
    "scores = [korean, english, math]\n",
    "\n",
    "# Create copies of the list\n",
    "original_scores = scores.copy()  #원본유지하고 완전히 별개의 다른파일을 만들수있다\n",
    "new_scores = scores.copy()\n",
    "\n",
    "# Print average of original scores\n",
    "avg_original = sum(original_scores) / len(original_scores)\n",
    "print(\"Average of original scores:\", round(avg_original,2))\n",
    "\n",
    "# Raise each score by 10%\n",
    "for i in range(len(new_scores)):\n",
    "    new_scores[i] *= 1.1\n",
    "\n",
    "# Print average of new scores\n",
    "avg_new = sum(new_scores) / len(new_scores)\n",
    "print(\"Average of new scores:\", round(avg_new,2))"
   ]
  },
  {
   "cell_type": "code",
   "execution_count": 15,
   "id": "a6ed4c96-c19a-4730-82ca-6619e8cd4e92",
   "metadata": {},
   "outputs": [
    {
     "name": "stdout",
     "output_type": "stream",
     "text": [
      "self.number:3.14\n",
      "self.str:Hello\n",
      "self.number:3.14\n",
      "self.str:Hello\n",
      "\n",
      "self.number:5\n",
      "self.str:Hello\n",
      "self.number:5\n",
      "self.str:Hello\n",
      "\n",
      "self.number:5\n",
      "self.str:Hello\n",
      "self.number:3.14\n",
      "self.str:Hello\n"
     ]
    }
   ],
   "source": [
    "#얕은 복사란, 객체 주소를 복사하는 것으로 객체 자체가 복사되지는 않는다.\n",
    "#깊은 복사란, 객체 자체를 복사하는 것으로 또 하나의 객체가 만들어진다.\n",
    "\n",
    "class Temp:\n",
    "    \n",
    "    def __init__(self, n, s):\n",
    "        self.number=n\n",
    "        self.str=s\n",
    "        \n",
    "    def printClsInfo(self):\n",
    "        print(f'self.number:{self.number}')\n",
    "        print(f'self.str:{self.str}')\n",
    "        \n",
    "        \n",
    "#얕은 복사\n",
    "tp1= Temp(3.14, 'Hello')\n",
    "tp2=tp1\n",
    "\n",
    "tp1.printClsInfo()\n",
    "tp2.printClsInfo()\n",
    "print()\n",
    "\n",
    "#깊은 복사\n",
    "import copy\n",
    "tp1= Temp(5, 'Hello')\n",
    "tp2= copy.copy(tp1) #깊은복사\n",
    "tp1.printClsInfo()\n",
    "tp2.printClsInfo()\n",
    "print()\n",
    "\n",
    "tp2.number=3.14 #tp2 값 변경, 새로운 객체 생성\n",
    "tp1.printClsInfo()\n",
    "tp2.printClsInfo()"
   ]
  },
  {
   "cell_type": "code",
   "execution_count": 47,
   "id": "855eaed2-ee55-4708-bd0e-7623c034aa4d",
   "metadata": {},
   "outputs": [
    {
     "name": "stdout",
     "output_type": "stream",
     "text": [
      "Original Score:  [7.9, 8.3, 8.7, 8.8, 8.9, 9.0, 9.1, 9.5]\n",
      "Max: 9.5\n",
      "Min: 7.9\n",
      "Average 1: 8.78\n",
      "\n",
      "Adjusted Score: [8.3, 8.7, 8.8, 8.9, 9.0, 9.1]\n",
      "Average 2: 8.8\n",
      "\n",
      "Difference: -0.03\n"
     ]
    }
   ],
   "source": [
    "#선수의 원본점수를 이용해서 평균을 출력하고 최고값과 최저값을 제외한 평균을 출력하자\n",
    "\n",
    "athlete_scores = [8.7, 9.1, 8.9, 9.0, 7.9, 9.5, 8.8, 8.3]\n",
    "athlete_scores =sorted(athlete_scores) #오름차순 정렬\n",
    "print('Original Score: ', athlete_scores)\n",
    "print('Max:', max(athlete_scores))\n",
    "print('Min:', min(athlete_scores))\n",
    "\n",
    "average_1 = sum(athlete_scores) / len(athlete_scores)\n",
    "print(\"Average 1:\", round(average_1,2))\n",
    "print()\n",
    "\n",
    "# Remove highest and lowest values\n",
    "athlete_scores_2 = athlete_scores.copy()\n",
    "athlete_scores_2.remove(max(athlete_scores_2))\n",
    "athlete_scores_2.remove(min(athlete_scores_2))\n",
    "athlete_scores_2 = sorted(athlete_scores_2)\n",
    "print('Adjusted Score:',athlete_scores_2)\n",
    "\n",
    "# Calculate average\n",
    "average_2 = sum(athlete_scores_2) / len(athlete_scores_2)\n",
    "print(\"Average 2:\", round(average_2,2))\n",
    "print()\n",
    "\n",
    "difference = average_1 - average_2\n",
    "print(\"Difference:\", round(difference,2))"
   ]
  },
  {
   "cell_type": "code",
   "execution_count": 80,
   "id": "f2232446-dd96-4a32-9278-8775b241b69d",
   "metadata": {},
   "outputs": [
    {
     "name": "stdout",
     "output_type": "stream",
     "text": [
      "30\n",
      "-10\n",
      "200\n",
      "0.5\n"
     ]
    }
   ],
   "source": [
    "#상속: 클래스는 또다른 클래스를 상속해서 내것처럼 사용할 수 있다\n",
    "\n",
    "\n",
    "class Calculator:  #기존 클래스\n",
    "    def add(self, x, y):\n",
    "        return x + y\n",
    "\n",
    "    def sub(self, x, y):\n",
    "        return x - y\n",
    "\n",
    "class AdvancedCalculator(Calculator): #새로 만든 클래스, 기존클래스 상속\n",
    "    def mul(self, x, y):\n",
    "        return x * y\n",
    "\n",
    "    def div(self, x, y):\n",
    "        if y == 0:\n",
    "            raise ValueError(\"Cannot divide by zero\")\n",
    "        return x / y\n",
    "    \n",
    "mycalc= AdvancedCalculator()\n",
    "\n",
    "print(mycalc.add(10,20))\n",
    "print(mycalc.sub(10,20))\n",
    "print(mycalc.mul(10,20))\n",
    "print(mycalc.div(10,20))"
   ]
  },
  {
   "cell_type": "code",
   "execution_count": 51,
   "id": "a7f9bcc2-d162-4a98-81fd-921af4dfee2a",
   "metadata": {},
   "outputs": [
    {
     "name": "stdout",
     "output_type": "stream",
     "text": [
      "호출!\n",
      "n1: 10\n",
      "n2: 20\n"
     ]
    }
   ],
   "source": [
    "'''\n",
    "1. 객체 생성: cal =Calculator()\n",
    "2. 생성자 호출: Calculator()\n",
    "3. __init__() 자동 호출\n",
    "'''\n",
    "\n",
    "class Calculator:\n",
    "    def __init__(self, n1, n2):\n",
    "        print(\"호출!\")\n",
    "        self.num1 = n1\n",
    "        self.num2 = n2\n",
    "        \n",
    "cal = Calculator(10, 20)\n",
    "print(f'n1: {cal.num1}')\n",
    "print(f'n2: {cal.num2}')"
   ]
  },
  {
   "cell_type": "code",
   "execution_count": 56,
   "id": "dd8e1c4b-0236-4ef5-8c92-5ade04bd2279",
   "metadata": {},
   "outputs": [
    {
     "name": "stdout",
     "output_type": "stream",
     "text": [
      "[C_class]!!\n",
      "[P_class]!!\n"
     ]
    }
   ],
   "source": [
    "class P_class:\n",
    "    \n",
    "    def __init__(self, pNum1, pNum2):\n",
    "        print('[P_class]!!')\n",
    "        \n",
    "        self.pNum1= pNum1\n",
    "        self.pNum2= pNum2\n",
    "        \n",
    "        \n",
    "class C_class(P_class):\n",
    "    \n",
    "    def __init__(self, cNum1, cNum2):\n",
    "        print('[C_class]!!')\n",
    "        \n",
    "        super().__init__(cNum1, cNum2) #상위클래스 init method 호출\n",
    "        \n",
    "        self.cNum1= cNum1\n",
    "        self.cNum2= cNum2 \n",
    "        \n",
    "cls = C_class (10,20)\n",
    "    "
   ]
  },
  {
   "cell_type": "code",
   "execution_count": 61,
   "id": "28f12a97-6a71-4761-bfab-ed6c2d56dfa2",
   "metadata": {},
   "outputs": [
    {
     "name": "stdout",
     "output_type": "stream",
     "text": [
      "Enter Midterm Scores:\n"
     ]
    },
    {
     "name": "stdin",
     "output_type": "stream",
     "text": [
      "Enter Korean score:  90\n",
      "Enter English score:  87\n",
      "Enter Math score:  89\n"
     ]
    },
    {
     "name": "stdout",
     "output_type": "stream",
     "text": [
      "\n",
      "Enter Final Scores:\n"
     ]
    },
    {
     "name": "stdin",
     "output_type": "stream",
     "text": [
      "Enter Korean score:  99\n",
      "Enter English score:  100\n",
      "Enter Math score:  88\n"
     ]
    },
    {
     "name": "stdout",
     "output_type": "stream",
     "text": [
      "\n",
      "Midterm Scores:\n",
      "Total Score: 266\n",
      "Average Score: 88.67\n",
      "\n",
      "Final Scores:\n",
      "Total Score: 287\n",
      "Average Score: 95.67\n"
     ]
    }
   ],
   "source": [
    "#중간고사와 기말고사를 클래스로 상속관계로 만들고 총점/평균을 반환\n",
    "\n",
    "class Midterm:\n",
    "    def __init__(self):\n",
    "        self.korean = int(input(\"Enter Korean score: \"))\n",
    "        self.english = int(input(\"Enter English score: \"))\n",
    "        self.math = int(input(\"Enter Math score: \"))\n",
    "\n",
    "    def get_total_score(self):\n",
    "        return self.korean + self.english + self.math\n",
    "\n",
    "    def get_average_score(self):\n",
    "        return self.get_total_score() / 3\n",
    "\n",
    "\n",
    "class Final(Midterm):\n",
    "    def __init__(self):\n",
    "        super().__init__()\n",
    "       \n",
    "    def get_total_score(self):\n",
    "        return super().get_total_score() \n",
    "\n",
    "    def get_average_score(self):\n",
    "        return self.get_total_score() / 3\n",
    "\n",
    "\n",
    "print(\"Enter Midterm Scores:\")\n",
    "midterm_scores = Midterm()\n",
    "\n",
    "print()\n",
    "\n",
    "print(\"Enter Final Scores:\")\n",
    "final_scores = Final()\n",
    "\n",
    "print()\n",
    "\n",
    "print(\"Midterm Scores:\")\n",
    "print(\"Total Score:\", round(midterm_scores.get_total_score(),2))\n",
    "print(\"Average Score:\", round(midterm_scores.get_average_score(),2))\n",
    "\n",
    "print()\n",
    "\n",
    "print(\"Final Scores:\")\n",
    "print(\"Total Score:\", round(final_scores.get_total_score(),2))\n",
    "print(\"Average Score:\", round(final_scores.get_average_score(),2))"
   ]
  },
  {
   "cell_type": "code",
   "execution_count": 65,
   "id": "b7458d97-c40b-491a-9970-d53216bbb8ff",
   "metadata": {},
   "outputs": [
    {
     "name": "stdout",
     "output_type": "stream",
     "text": [
      "drive() called!!\n",
      "turbo() called!!\n",
      "fly() called!!\n"
     ]
    }
   ],
   "source": [
    "#다중상속 : 2개 이상의 클래스를 상속한다.\n",
    "\n",
    "class Car01:\n",
    "    def drive(self):\n",
    "        print('drive() called!!')\n",
    "\n",
    "\n",
    "class Car02:\n",
    "    def turbo(self):\n",
    "        print('turbo() called!!')\n",
    "        \n",
    "\n",
    "class Car03:\n",
    "    def fly(self):\n",
    "        print('fly() called!!')        \n",
    "\n",
    "class Car(Car01, Car02, Car03):\n",
    "    def __init__(self):\n",
    "        pass\n",
    "    \n",
    "mycar =Car()\n",
    "mycar.drive()\n",
    "mycar.turbo() \n",
    "mycar.fly()        \n",
    "        \n",
    "        "
   ]
  },
  {
   "cell_type": "code",
   "execution_count": 66,
   "id": "f1c96294-d7d8-4eb9-8834-98338897349a",
   "metadata": {},
   "outputs": [
    {
     "name": "stdout",
     "output_type": "stream",
     "text": [
      "Addition: 5\n",
      "Subtraction: 2\n",
      "Multiplication: 6\n",
      "Division: 3.0\n",
      "Remainder: 1\n",
      "Quotient: 2\n",
      "Power: 8\n"
     ]
    }
   ],
   "source": [
    "'''\n",
    "basicCal 클래스에는 덧셈,뺄셈,곱셈, 나눗셈 기능이 있고 develCal 클래스에는 나머지, 몫, 거듭제곱을 구하는 기능이 있다. \n",
    "이 두 개의 클래스를 상속해서 Calc클래스를 만드는 프로그램\n",
    "'''\n",
    "\n",
    "class basicCal:\n",
    "    def add(self, a, b):\n",
    "        return a + b\n",
    "\n",
    "    def subtract(self, a, b):\n",
    "        return a - b\n",
    "\n",
    "    def multiply(self, a, b):\n",
    "        return a * b\n",
    "\n",
    "    def divide(self, a, b):\n",
    "        return a / b\n",
    "\n",
    "\n",
    "class develCal:\n",
    "    def remainder(self, a, b):\n",
    "        return a % b\n",
    "\n",
    "    def quotient(self, a, b):\n",
    "        return a // b\n",
    "\n",
    "    def power(self, a, b):\n",
    "        return a ** b\n",
    "\n",
    "\n",
    "class Calc(basicCal, develCal):\n",
    "    pass\n",
    "\n",
    "calc = Calc()\n",
    "\n",
    "print(\"Addition:\", calc.add(2, 3))\n",
    "print(\"Subtraction:\", calc.subtract(5, 3))\n",
    "print(\"Multiplication:\", calc.multiply(2, 3))\n",
    "print(\"Division:\", calc.divide(6, 2))\n",
    "print(\"Remainder:\", calc.remainder(5, 2))\n",
    "print(\"Quotient:\", calc.quotient(5, 2))\n",
    "print(\"Power:\", calc.power(2, 3))"
   ]
  },
  {
   "cell_type": "code",
   "execution_count": 74,
   "id": "f85baadb-1f82-4efb-9260-64824271670f",
   "metadata": {},
   "outputs": [
    {
     "name": "stdout",
     "output_type": "stream",
     "text": [
      "color: red\n",
      "height: 200\n",
      "weight: 300\n",
      "레이저 발사!\n"
     ]
    }
   ],
   "source": [
    "#오버라이딩: 하위클래스에서 상위클래스의 매서드를 재정의(override)한다\n",
    "\n",
    "class Robot:   #상위클래스\n",
    "    \n",
    "    def __init__(self,c,h,w):\n",
    "        self.color=c\n",
    "        self.height=h\n",
    "        self.weight=w\n",
    "        \n",
    "    def fire(self):\n",
    "        print(\"미사일 발사!\")\n",
    "        \n",
    "    def printRobotInfo(self):\n",
    "        print(f'color: {self.color}')\n",
    "        print(f'height: {self.height}')\n",
    "        print(f'weight: {self.weight}')\n",
    "        \n",
    "class NewRobot(Robot):  #하위클래스\n",
    "    \n",
    "    def __init__(self, c, h, w):\n",
    "        super().__init__(c,h,w)\n",
    "        \n",
    "    def fire(self):\n",
    "        print(\"레이저 발사!\")   #매서드 재정의(오버라이딩)//기능 업그레이드\n",
    "        \n",
    "myRobot = NewRobot('red', 200, 300)\n",
    "myRobot.printRobotInfo()\n",
    "myRobot.fire()"
   ]
  },
  {
   "cell_type": "code",
   "execution_count": 82,
   "id": "6087f0ec-548e-4929-9ea0-13f65a2fcf38",
   "metadata": {},
   "outputs": [
    {
     "name": "stdout",
     "output_type": "stream",
     "text": [
      "self.width: 7\n",
      "self.height: 5\n",
      "triangleArea: 17.5㎤\n"
     ]
    }
   ],
   "source": [
    "#오버라이딩\n",
    "\n",
    "class TriangleArea:\n",
    "    \n",
    "    def __init__(self, w, h):\n",
    "        self.width =w\n",
    "        self.height=h\n",
    "        \n",
    "    def printTriangleArea(self):\n",
    "        print(f'self.width: {self.width}')\n",
    "        print(f'self.height: {self.height}')\n",
    "        \n",
    "    def getArea(self):\n",
    "        return self.width * self.height /2\n",
    "\n",
    "class NewTriangleArea(TriangleArea): #상속\n",
    "    \n",
    "    def __init__(self, w, h):\n",
    "        super().__init__(w,h)\n",
    "    \n",
    "    def getArea(self):\n",
    "        return str(super().getArea()) + '㎤'  #오버라이딩\n",
    "    \n",
    "ta= NewTriangleArea(7,5)\n",
    "ta.printTriangleArea()\n",
    "triangleArea=ta.getArea()\n",
    "print(f'triangleArea: {triangleArea}')"
   ]
  },
  {
   "cell_type": "code",
   "execution_count": 87,
   "id": "849a553e-e398-4ea5-b624-85a9bda07fe7",
   "metadata": {},
   "outputs": [
    {
     "name": "stdout",
     "output_type": "stream",
     "text": [
      "시속 400km/h 비행!!\n",
      "전진\n",
      "후진\n",
      "시속 700km/h 비행!!\n",
      "전진\n",
      "후진\n"
     ]
    }
   ],
   "source": [
    "#추상클래스: 상위클래스에서 하위클래스에 메서드 구현을 강요한다 (하위클래스에서 메서드 구체화)\n",
    "\n",
    "from abc import ABCMeta\n",
    "from abc import abstractmethod\n",
    "\n",
    "#상위클래스\n",
    "class Airplane(metaclass=ABCMeta):\n",
    "    \n",
    "    @abstractmethod     #추상클래스 사용\n",
    "    def flight(self):   #비행속도는 하위클래스에서 정의하도록 강요\n",
    "        pass\n",
    "    \n",
    "    def forward(self):  #전진기능\n",
    "        print('전진')\n",
    "        \n",
    "    def backward(self): #후진기능\n",
    "        print(\"후진\")\n",
    "\n",
    "        \n",
    "#하위클래스\n",
    "class Airliner(Airplane):\n",
    "    \n",
    "    def __init__(self, c):\n",
    "        self.color=c\n",
    "        \n",
    "    def flight(self):\n",
    "        print(\"시속 400km/h 비행!!\") #비행속도는 하위클래스에서 정의\n",
    "        \n",
    "class FighterPlane(Airplane):\n",
    "    \n",
    "    def __init__(self, c):\n",
    "        self.color=c\n",
    "        \n",
    "    def flight(self):\n",
    "        print(\"시속 700km/h 비행!!\")  #비행속도는 하위클래스에서 정의      \n",
    "        \n",
    "        \n",
    "\n",
    "al =Airliner('red')\n",
    "al.flight()\n",
    "al.forward()\n",
    "al.backward()\n",
    "\n",
    "\n",
    "fl =FighterPlane('blue')\n",
    "fl.flight()\n",
    "fl.forward()\n",
    "fl.backward()"
   ]
  },
  {
   "cell_type": "code",
   "execution_count": 88,
   "id": "ffa603c1-4840-476c-9dd9-c0ce4478d2c2",
   "metadata": {},
   "outputs": [
    {
     "name": "stdout",
     "output_type": "stream",
     "text": [
      "예상치 못한 예외가 발행했습니다.\n",
      "다른 프로그램 실행에는 문제없습니다.\n",
      "10\n",
      "10\n",
      "0\n"
     ]
    }
   ],
   "source": [
    "#예외: 문법적인 문제는 없으나 발생하는 예상하지 못한 문제\n",
    "#예외처리 : 발생된 예외를 별도처리함으로써 전체실행에 문제가 없도록함, try/except구문으로 감쌈\n",
    "\n",
    "n1=10; n2=0\n",
    "\n",
    "try:\n",
    "    print(n1/n2)\n",
    "except:\n",
    "    print(\"예상치 못한 예외가 발행했습니다.\")\n",
    "    print(\"다른 프로그램 실행에는 문제없습니다.\")\n",
    "    \n",
    "print(n1+n2)\n",
    "print(n1-n2)\n",
    "print(n1*n2)"
   ]
  },
  {
   "cell_type": "code",
   "execution_count": 90,
   "id": "9e9a63f5-9775-4915-8bb1-42ad9f6528b5",
   "metadata": {},
   "outputs": [
    {
     "name": "stdin",
     "output_type": "stream",
     "text": [
      "Enter number 1:  1\n",
      "Enter number 2:  ㄷ\n"
     ]
    },
    {
     "name": "stdout",
     "output_type": "stream",
     "text": [
      "Error: please enter a numeric value\n"
     ]
    },
    {
     "name": "stdin",
     "output_type": "stream",
     "text": [
      "Enter number 2:  3\n",
      "Enter number 3:  4\n",
      "Enter number 4:  5\n",
      "Enter number 5:  6\n"
     ]
    },
    {
     "name": "stdout",
     "output_type": "stream",
     "text": [
      "Numbers entered: [1.0, 3.0, 4.0, 5.0, 6.0]\n"
     ]
    }
   ],
   "source": [
    "numbers = []\n",
    "count = 0\n",
    "\n",
    "while count < 5:\n",
    "    try:\n",
    "        num = float(input(f\"Enter number {count+1}: \"))\n",
    "        numbers.append(num)\n",
    "        count += 1\n",
    "    except ValueError:\n",
    "        print(\"Error: please enter a numeric value\")\n",
    "\n",
    "print(\"Numbers entered:\", numbers)"
   ]
  },
  {
   "cell_type": "code",
   "execution_count": 91,
   "id": "25877bc1-4c89-4562-9d9a-2a65c44ba419",
   "metadata": {},
   "outputs": [
    {
     "name": "stdin",
     "output_type": "stream",
     "text": [
      "Enter even number 1:  2\n"
     ]
    },
    {
     "name": "stdout",
     "output_type": "stream",
     "text": [
      "Number entered successfully\n"
     ]
    },
    {
     "name": "stdin",
     "output_type": "stream",
     "text": [
      "Enter even number 2:  3\n"
     ]
    },
    {
     "name": "stdout",
     "output_type": "stream",
     "text": [
      "Error: please enter an even number\n"
     ]
    },
    {
     "name": "stdin",
     "output_type": "stream",
     "text": [
      "Enter even number 2:  4\n"
     ]
    },
    {
     "name": "stdout",
     "output_type": "stream",
     "text": [
      "Number entered successfully\n"
     ]
    },
    {
     "name": "stdin",
     "output_type": "stream",
     "text": [
      "Enter even number 3:  6\n"
     ]
    },
    {
     "name": "stdout",
     "output_type": "stream",
     "text": [
      "Number entered successfully\n"
     ]
    },
    {
     "name": "stdin",
     "output_type": "stream",
     "text": [
      "Enter even number 4:  8\n"
     ]
    },
    {
     "name": "stdout",
     "output_type": "stream",
     "text": [
      "Number entered successfully\n"
     ]
    },
    {
     "name": "stdin",
     "output_type": "stream",
     "text": [
      "Enter even number 5:  0\n"
     ]
    },
    {
     "name": "stdout",
     "output_type": "stream",
     "text": [
      "Number entered successfully\n",
      "Even numbers entered: [2, 4, 6, 8, 0]\n"
     ]
    }
   ],
   "source": [
    "#예외가 발생하지 경우에 실행하는 구문: (try~ except) (else~) 단, else구문은 생략가능\n",
    "\n",
    "#홀수가 실행되면 예외처리 실행\n",
    "numbers = []\n",
    "count = 0\n",
    "\n",
    "while count < 5:\n",
    "    try:\n",
    "        num = int(input(f\"Enter even number {count+1}: \"))\n",
    "        if num % 2 != 0:\n",
    "            raise ValueError(\"Error: please enter an even number\")\n",
    "        numbers.append(num)\n",
    "        count += 1\n",
    "    except ValueError as e:\n",
    "        print(e)\n",
    "    else:\n",
    "        print(\"Number entered successfully\")\n",
    "\n",
    "print(\"Even numbers entered:\", numbers)"
   ]
  },
  {
   "cell_type": "code",
   "execution_count": 95,
   "id": "da11545c-aea6-4b55-97d7-772025bd1e51",
   "metadata": {},
   "outputs": [
    {
     "name": "stdin",
     "output_type": "stream",
     "text": [
      "Enter number 1:  0.1\n",
      "Enter number 2:  4\n",
      "Enter number 3:  5\n",
      "Enter number 4:  ㅎ\n"
     ]
    },
    {
     "name": "stdout",
     "output_type": "stream",
     "text": [
      "Error: please enter a numeric value\n"
     ]
    },
    {
     "name": "stdin",
     "output_type": "stream",
     "text": [
      "Enter number 4:  ㅎ\n"
     ]
    },
    {
     "name": "stdout",
     "output_type": "stream",
     "text": [
      "Error: please enter a numeric value\n"
     ]
    },
    {
     "name": "stdin",
     "output_type": "stream",
     "text": [
      "Enter number 4:  ㅎ\n"
     ]
    },
    {
     "name": "stdout",
     "output_type": "stream",
     "text": [
      "Error: please enter a numeric value\n"
     ]
    },
    {
     "name": "stdin",
     "output_type": "stream",
     "text": [
      "Enter number 4:  -10\n",
      "Enter number 5:  4.5\n"
     ]
    },
    {
     "name": "stdout",
     "output_type": "stream",
     "text": [
      "Even numbers: [4, -10]\n",
      "Odd numbers: [5]\n",
      "Real numbers: [0.1, 4.5]\n"
     ]
    }
   ],
   "source": [
    "#사용자에게 5개의 숫자를 입력받아 짝수, 홀수, 실수로 구분해서 각각 리스트에 저장하고 숫자가 아닌 문자가 입력되면 예외처리\n",
    "#(try~ except) (else~)\n",
    "\n",
    "even_numbers = []\n",
    "odd_numbers = []\n",
    "real_numbers = []\n",
    "\n",
    "for i in range(5):\n",
    "    while True:\n",
    "        try:\n",
    "            num = float(input(f\"Enter number {i+1}: \"))\n",
    "        except ValueError:\n",
    "            print(\"Error: please enter a numeric value\")\n",
    "        else:\n",
    "            break\n",
    "\n",
    "    if num.is_integer():\n",
    "        if num % 2 == 0:\n",
    "            even_numbers.append(int(num))\n",
    "        else:\n",
    "            odd_numbers.append(int(num))\n",
    "    else:\n",
    "        real_numbers.append(num)\n",
    "\n",
    "print(\"Even numbers:\", even_numbers)\n",
    "print(\"Odd numbers:\", odd_numbers)\n",
    "print(\"Real numbers:\", real_numbers)"
   ]
  },
  {
   "cell_type": "code",
   "execution_count": 102,
   "id": "d6eb0a10-620b-428a-9310-9ebc5dbc0d38",
   "metadata": {},
   "outputs": [
    {
     "name": "stdin",
     "output_type": "stream",
     "text": [
      "Enter number 1:  ㄹ\n"
     ]
    },
    {
     "name": "stdout",
     "output_type": "stream",
     "text": [
      "Error: please enter a numeric value\n",
      "Number entered: None\n"
     ]
    },
    {
     "name": "stdin",
     "output_type": "stream",
     "text": [
      "Enter number 1:  2\n"
     ]
    },
    {
     "name": "stdout",
     "output_type": "stream",
     "text": [
      "Number entered: 2.0\n"
     ]
    },
    {
     "name": "stdin",
     "output_type": "stream",
     "text": [
      "Enter number 2:  5\n"
     ]
    },
    {
     "name": "stdout",
     "output_type": "stream",
     "text": [
      "Number entered: 5.0\n"
     ]
    },
    {
     "name": "stdin",
     "output_type": "stream",
     "text": [
      "Enter number 3:  -10\n"
     ]
    },
    {
     "name": "stdout",
     "output_type": "stream",
     "text": [
      "Number entered: -10.0\n"
     ]
    },
    {
     "name": "stdin",
     "output_type": "stream",
     "text": [
      "Enter number 4:  4.5\n"
     ]
    },
    {
     "name": "stdout",
     "output_type": "stream",
     "text": [
      "Number entered: 4.5\n"
     ]
    },
    {
     "name": "stdin",
     "output_type": "stream",
     "text": [
      "Enter number 5:  ㅎ\n"
     ]
    },
    {
     "name": "stdout",
     "output_type": "stream",
     "text": [
      "Error: please enter a numeric value\n",
      "Number entered: None\n"
     ]
    },
    {
     "name": "stdin",
     "output_type": "stream",
     "text": [
      "Enter number 5:  0\n"
     ]
    },
    {
     "name": "stdout",
     "output_type": "stream",
     "text": [
      "Number entered: 0.0\n",
      "Even numbers: [2, -10, 0]\n",
      "Odd numbers: [5]\n",
      "Real numbers: [4.5]\n",
      "All numbers: [2.0, 5.0, -10.0, 4.5, 0.0]\n"
     ]
    }
   ],
   "source": [
    "#finally: 예외발생과 상관없이 항상 실행\n",
    "#(try~ except: 예외발생) (else~: 예외발생안함) (finally~: 예외발생여부와 상관없이)\n",
    "\n",
    "'''사용자에게 5개의 숫자를 입력받아 짝수, 홀수, 실수로 구분해서 각각 리스트에 저장하고 숫자가 아닌 문자가 입력되면 예외처리,  \n",
    "입력받은 모든 숫자를 출력하는 프로그램\n",
    "'''\n",
    "\n",
    "even_numbers = []\n",
    "odd_numbers = []\n",
    "real_numbers = []\n",
    "all_numbers = []\n",
    "\n",
    "while len(all_numbers) < 5:\n",
    "    try:\n",
    "        num = float(input(f\"Enter number {len(all_numbers)+1}: \"))\n",
    "    except ValueError:\n",
    "        print(\"Error: please enter a numeric value\")\n",
    "        num = None\n",
    "    finally:\n",
    "        print(\"Number entered:\", num)\n",
    "    if num is not None:\n",
    "        all_numbers.append(num)\n",
    "        if num.is_integer():\n",
    "            if num % 2 == 0:\n",
    "                even_numbers.append(int(num))\n",
    "            else:\n",
    "                odd_numbers.append(int(num))\n",
    "        else:\n",
    "            real_numbers.append(num)\n",
    "\n",
    "print(\"Even numbers:\", even_numbers)\n",
    "print(\"Odd numbers:\", odd_numbers)\n",
    "print(\"Real numbers:\", real_numbers)\n",
    "print(\"All numbers:\", all_numbers)"
   ]
  },
  {
   "cell_type": "code",
   "execution_count": 105,
   "id": "b7a7439a-86f3-4637-b186-d1ec37dd2e9f",
   "metadata": {},
   "outputs": [
    {
     "name": "stdin",
     "output_type": "stream",
     "text": [
      "Enter the first number:  10\n",
      "Enter the second number:  0\n"
     ]
    },
    {
     "name": "stdout",
     "output_type": "stream",
     "text": [
      "Error: float division by zero\n"
     ]
    }
   ],
   "source": [
    "#exception은 예외를 담당하는 클래스\n",
    "\n",
    "try:\n",
    "    a = float(input(\"Enter the first number: \"))\n",
    "    b = float(input(\"Enter the second number: \"))\n",
    "    sum = a + b\n",
    "    difference = a - b\n",
    "    product = a * b\n",
    "    quotient = a / b\n",
    "except Exception as e:  #Exception 클래스를 사용해서 어떤 에러인지 보여줌\n",
    "    print(\"Error:\", e)\n",
    "else:\n",
    "    print(f\"Sum: {sum}\")\n",
    "    print(f\"Difference: {difference}\")\n",
    "    print(f\"Product: {product}\")\n",
    "    print(f\"Quotient: {quotient}\")"
   ]
  },
  {
   "cell_type": "code",
   "execution_count": 110,
   "id": "65887abe-d042-4db0-adab-5bdb3f775487",
   "metadata": {},
   "outputs": [
    {
     "name": "stdin",
     "output_type": "stream",
     "text": [
      "Enter the first number:  10\n",
      "Enter the second number:  0\n"
     ]
    },
    {
     "name": "stdout",
     "output_type": "stream",
     "text": [
      "Error: division by zero\n"
     ]
    }
   ],
   "source": [
    "#raise 키워드를 사용하면 예외를 발생시킬수있다\n",
    "\n",
    "try:\n",
    "    a = float(input(\"Enter the first number: \"))\n",
    "    b = float(input(\"Enter the second number: \"))\n",
    "    if b == 0:\n",
    "        raise Exception (\"Error: division by zero\") #예외 발생\n",
    "    quotient = a / b\n",
    "except ValueError:\n",
    "    print(\"Error: invalid input\")\n",
    "except Exception as e:\n",
    "    print(e)\n",
    "else:\n",
    "    print(f\"Quotient: {quotient}\")"
   ]
  },
  {
   "cell_type": "code",
   "execution_count": 123,
   "id": "f4bb4ef6-f3e3-41b6-9c5a-37ca5cbabaa2",
   "metadata": {},
   "outputs": [
    {
     "name": "stdin",
     "output_type": "stream",
     "text": [
      "Enter your message:  ㅈㄱㅈㄷㄱㄷㄱㄷㄱㄷㄱㄷ\n"
     ]
    },
    {
     "name": "stdout",
     "output_type": "stream",
     "text": [
      "Message sent as MMS\n"
     ]
    }
   ],
   "source": [
    "#Exception클래스를 상속해서 사용자 예외클래스를 만들수있다. \n",
    "#사용자 문자메시지가 10글자를 초과 시 MMS로 발송하고 10글자 이하이면 SMS로 발송하는 프로그램 \n",
    "\n",
    "class MessageLengthException(Exception):\n",
    "    pass\n",
    "\n",
    "try:\n",
    "    message = input(\"Enter your message: \")\n",
    "    if len(message) <= 10:\n",
    "        raise MessageLengthException(\"SMS\")\n",
    "    elif len(message) > 10:\n",
    "        raise MessageLengthException(\"MMS\")\n",
    "except MessageLengthException as e:\n",
    "    print(f\"Message sent as {e}\")"
   ]
  },
  {
   "cell_type": "code",
   "execution_count": 135,
   "id": "027bffce-450d-4df8-8ebc-94e9b322b1db",
   "metadata": {},
   "outputs": [
    {
     "name": "stdin",
     "output_type": "stream",
     "text": [
      "Enter the password:  admin1234\n"
     ]
    },
    {
     "name": "stdout",
     "output_type": "stream",
     "text": [
      "Password is valid\n"
     ]
    }
   ],
   "source": [
    "#Exception클래스를 상속해서 사용자 예외클래스를 만들수있다. \n",
    "\n",
    "'''\n",
    "관리자가 암호를 입력하고 다음 상태에 따라 예외처리하는 예외클래스\n",
    "0. Password = admin1234\n",
    "1. 암호길이가 5미만인 경우: PasswordLengthShortException\n",
    "2. 암호길이가 10을 초과하는 경우: PasswordLengthLongException\n",
    "3.  암호가 잘못된 경우: PasswordWrongException\n",
    "'''\n",
    "\n",
    "class PasswordLengthShortException(Exception):\n",
    "    pass\n",
    "\n",
    "class PasswordLengthLongException(Exception):\n",
    "    pass\n",
    "\n",
    "class PasswordWrongException(Exception):\n",
    "    pass\n",
    "\n",
    "def validate_password(password):\n",
    "    if len(password) < 5:\n",
    "        raise PasswordLengthShortException(\"Error: password length too short\")\n",
    "    elif len(password) > 10:\n",
    "        raise PasswordLengthLongException(\"Error: password length too long\")\n",
    "    elif password != \"admin1234\":\n",
    "        raise PasswordWrongException(\"Error: incorrect password\")\n",
    "\n",
    "try:\n",
    "    password = input(\"Enter the password: \")\n",
    "    validate_password(password)\n",
    "except PasswordLengthShortException as e:\n",
    "    print(e)\n",
    "except PasswordLengthLongException as e:\n",
    "    print(e)\n",
    "except PasswordWrongException as e:\n",
    "    print(e)\n",
    "else:\n",
    "    print(\"Password is valid\")"
   ]
  },
  {
   "cell_type": "code",
   "execution_count": 138,
   "id": "9ace2fc7-cca4-416f-822c-0c03c0e7a12f",
   "metadata": {},
   "outputs": [],
   "source": [
    "#텍스트파일: open(), read(), write(), close()"
   ]
  },
  {
   "cell_type": "code",
   "execution_count": 138,
   "id": "d5e7252f-6150-4523-9f75-99590a2dbaaf",
   "metadata": {},
   "outputs": [
    {
     "name": "stdout",
     "output_type": "stream",
     "text": [
      "strCnt: 12\n"
     ]
    }
   ],
   "source": [
    "#1. 쓰기:  write()\n",
    "file= open('C:/python/PythonTxt/test.txt','w') #\\를 /로 수정\n",
    "strCnt = file.write('hello python') #수정 시 override된다 \n",
    "print(f'strCnt: {strCnt}')\n",
    "\n",
    "file.close()"
   ]
  },
  {
   "cell_type": "code",
   "execution_count": 141,
   "id": "47234ac7-a1c5-4ce7-8ef2-4bc8f152a8e9",
   "metadata": {},
   "outputs": [
    {
     "name": "stdin",
     "output_type": "stream",
     "text": [
      "Enter your schedule:  대학원 수업\n"
     ]
    }
   ],
   "source": [
    "#쓰기 연습문제 ---> C:/python/PythonTxt/test.txt에 시스템 시간과 오늘일정을 저장하는 코드\n",
    "\n",
    "import datetime\n",
    "\n",
    "# Get the current system time\n",
    "current_time = datetime.datetime.now()\n",
    "\n",
    "# Prompt the user to enter a schedule\n",
    "schedule = input(\"Enter your schedule: \")\n",
    "\n",
    "# Write the time and schedule to a text file\n",
    "with open(\"C:/python/PythonTxt/test.txt\", \"a\") as f:\n",
    "    f.write(f\"{current_time.strftime('%Y-%m-%d')}: {schedule}\\n\")"
   ]
  },
  {
   "cell_type": "code",
   "execution_count": 142,
   "id": "652088f4-83b8-40ee-a49d-2a436f15e239",
   "metadata": {},
   "outputs": [
    {
     "name": "stdout",
     "output_type": "stream",
     "text": [
      "str: hello python2023-03-07 10:59:55: 대학원 수업\n",
      "2023-03-07: 대학원 수업\n",
      "\n"
     ]
    }
   ],
   "source": [
    "#2. 읽기: read()\n",
    "\n",
    "file= open('C:/python/PythonTxt/test.txt','r') #\\를 /로 수정\n",
    "str =file.read() \n",
    "print(f'str: {str}')\n",
    "\n",
    "file.close()"
   ]
  },
  {
   "cell_type": "code",
   "execution_count": 145,
   "id": "47f0d331-5050-4735-9bf7-0ed1d2b7fba6",
   "metadata": {},
   "outputs": [],
   "source": [
    "#읽기 연습문제 ---> C:\\python\\PythonTxt/about_python.txt 파일을 읽고 'Python'을 '파이썬'으로 변경해서 파일에 다시 저장\n",
    "\n",
    "# Open the file for reading\n",
    "with open(\"C:/python/PythonTxt/about_python.txt\", \"r\") as f:\n",
    "    text = f.read()\n",
    "\n",
    "# Replace all occurrences of 'Python' with 'Python'\n",
    "text = text.replace(\"Python\", \"파이썬\")\n",
    "\n",
    "# Write the modified text back to the same file\n",
    "with open(\"C:/python/PythonTxt/about_python.txt\", \"w\") as f:\n",
    "    f.write(text)"
   ]
  },
  {
   "cell_type": "code",
   "execution_count": 158,
   "id": "989956e8-ab64-4920-89a0-1208440ef957",
   "metadata": {},
   "outputs": [
    {
     "ename": "FileExistsError",
     "evalue": "[Errno 17] File exists: 'C:/python/PythonTxt/hello_01.txt'",
     "output_type": "error",
     "traceback": [
      "\u001b[1;31m---------------------------------------------------------------------------\u001b[0m",
      "\u001b[1;31mFileExistsError\u001b[0m                           Traceback (most recent call last)",
      "Input \u001b[1;32mIn [158]\u001b[0m, in \u001b[0;36m<cell line: 25>\u001b[1;34m()\u001b[0m\n\u001b[0;32m     21\u001b[0m file\u001b[38;5;241m.\u001b[39mclose()\n\u001b[0;32m     24\u001b[0m \u001b[38;5;66;03m# x모드\u001b[39;00m\n\u001b[1;32m---> 25\u001b[0m file \u001b[38;5;241m=\u001b[39m \u001b[38;5;28;43mopen\u001b[39;49m\u001b[43m(\u001b[49m\u001b[43muri\u001b[49m\u001b[43m \u001b[49m\u001b[38;5;241;43m+\u001b[39;49m\u001b[38;5;124;43m'\u001b[39;49m\u001b[38;5;124;43mhello_01.txt\u001b[39;49m\u001b[38;5;124;43m'\u001b[39;49m\u001b[43m,\u001b[49m\u001b[43m \u001b[49m\u001b[38;5;124;43m'\u001b[39;49m\u001b[38;5;124;43mx\u001b[39;49m\u001b[38;5;124;43m'\u001b[39;49m\u001b[43m)\u001b[49m \u001b[38;5;66;03m#기존 파일이 있으면 에러나므로 새로운파일 생성\u001b[39;00m\n\u001b[0;32m     26\u001b[0m file\u001b[38;5;241m.\u001b[39mwrite(\u001b[38;5;124m\"\u001b[39m\u001b[38;5;124mNice to meet you\u001b[39m\u001b[38;5;124m\"\u001b[39m) \n\u001b[0;32m     27\u001b[0m file\u001b[38;5;241m.\u001b[39mclose()\n",
      "\u001b[1;31mFileExistsError\u001b[0m: [Errno 17] File exists: 'C:/python/PythonTxt/hello_01.txt'"
     ]
    }
   ],
   "source": [
    "'''\n",
    "파일 모드: 파일모드는 파일을 어떤 목적으로 open할지 정한다.\n",
    "\n",
    "1. 'w' : 쓰기 전용 (파일이 있으면 덮어씌움, override)\n",
    "2. 'a' : 쓰기 전용 (파일이 있으면 덧붙임)\n",
    "3. 'x' : 쓰기 전용 (파일이 있으면 에러 발생)\n",
    "4. 'r' : 읽기 전용 (파일이 없으면 에러 발생)\n",
    "'''\n",
    "\n",
    "uri='C:/python/PythonTxt/' #맨 끝에 / 반드시 삽입\n",
    "\n",
    "# w모드\n",
    "file = open(uri +'hello.txt', 'w')\n",
    "file.write(\"hello world\") #world --> python으로 변경시 override\n",
    "file.close()\n",
    "\n",
    "\n",
    "# a모드\n",
    "file = open(uri +'hello.txt', 'a') \n",
    "file.write(\"\\nNice to meet you\") # 기존 글 옆에 덧붙임\n",
    "file.close()\n",
    "\n",
    "\n",
    "# x모드\n",
    "file = open(uri +'hello_01.txt', 'x') #기존 파일이 있으면 에러나므로 새로운파일 생성\n",
    "file.write(\"Nice to meet you\") \n",
    "file.close()\n",
    "\n",
    "\n",
    "# r모드\n",
    "file = open(uri +'hello_01.txt', 'r') \n",
    "str =file.read()\n",
    "print(f'str:{str}')\n",
    "file.close()"
   ]
  },
  {
   "cell_type": "code",
   "execution_count": 159,
   "id": "59a07baf-cf4b-4694-811b-ca564ab7d1b6",
   "metadata": {},
   "outputs": [
    {
     "name": "stdout",
     "output_type": "stream",
     "text": [
      "str:\n",
      "Nice to meet you\n"
     ]
    }
   ],
   "source": [
    "# r모드\n",
    "file = open(uri +'hello_01.txt', 'r') \n",
    "str =file.read()\n",
    "print(f'str:{str}')\n",
    "file.close()"
   ]
  },
  {
   "cell_type": "code",
   "execution_count": 182,
   "id": "9d2158ac-8c31-400c-9130-01c6502b0429",
   "metadata": {},
   "outputs": [
    {
     "name": "stdout",
     "output_type": "stream",
     "text": [
      "python study\n"
     ]
    }
   ],
   "source": [
    "# with~ as문을 사용하면 파일닫기 생략 가능\n",
    "\n",
    "uri = 'C:/python/PythonTxt/'\n",
    "\n",
    "file = open(uri +'230307.txt', 'a')\n",
    "file.write('python study')\n",
    "file.close()\n",
    "\n",
    "file = open(uri +'230307.txt', 'r')\n",
    "print(file.read())\n",
    "file.close()"
   ]
  },
  {
   "cell_type": "code",
   "execution_count": 184,
   "id": "3f0be037-ad73-4fa4-a436-e330ea53df24",
   "metadata": {},
   "outputs": [
    {
     "name": "stdout",
     "output_type": "stream",
     "text": [
      "python study\n"
     ]
    }
   ],
   "source": [
    "#위의 내용을 아래와 같이 with~as문을 사용하면 파일닫기 생략가능\n",
    "\n",
    "with open(uri +'230307.txt', 'a') as f:\n",
    "    f.write('python study')\n",
    "    \n",
    "\n",
    "with open(uri +'230307.txt', 'r') as f:\n",
    "    print(f.read())"
   ]
  },
  {
   "cell_type": "code",
   "execution_count": 190,
   "id": "8d6efd5e-16fa-45b1-8b1f-a0ee75d26c8d",
   "metadata": {},
   "outputs": [],
   "source": [
    "#writelines(): 리스트 또는#writelines(): 리스트 또는 튜플 데이터를 파일에 쓰기 위한 함수\n",
    "\n",
    "languages = ['C', 'java', 'python', 'javascript', 'kotlin'] \n",
    "\n",
    "uri = 'C:/python/PythonTxt/'\n",
    "for item in languages:\n",
    "    with open(uri+'language.txt', 'a') as f:\n",
    "        f.write(item)\n",
    "        f.write('\\n')"
   ]
  },
  {
   "cell_type": "code",
   "execution_count": 191,
   "id": "680f6f43-835c-485f-90b8-69827f9ef2e8",
   "metadata": {},
   "outputs": [],
   "source": [
    "#위의 내용을 writelines()을 쓰면 간편하다\n",
    "\n",
    "languages = ['C', 'java', 'python', 'javascript', 'kotlin'] \n",
    "\n",
    "uri = 'C:/python/PythonTxt/'\n",
    "with open(uri+'language.txt', 'a') as f:\n",
    "        f.writelines(item + '\\n' for item in languages)        "
   ]
  },
  {
   "cell_type": "code",
   "execution_count": 195,
   "id": "e54f7090-7e9f-4a29-9091-22a8b9906f6e",
   "metadata": {},
   "outputs": [
    {
     "name": "stdout",
     "output_type": "stream",
     "text": [
      "lanlist: ['c\\n', 'java\\n', 'python\\n', 'R\\n', 'javascript\\n']\n",
      "lanlist type: <class 'list'>\n"
     ]
    }
   ],
   "source": [
    "#readline(), readlines() : 한줄 읽기와 여러줄 읽기\n",
    "\n",
    "#readlines()\n",
    "uri = 'C:/python/PythonTxt/'\n",
    "\n",
    "with open(uri+'lans.txt', 'r') as f:\n",
    "     lanlist =f.readlines()    #파일자료를 리스트 형태로 만들어준다\n",
    "\n",
    "print(f'lanlist: {lanlist}')\n",
    "print(f'lanlist type: {type(lanlist)}')          \n"
   ]
  },
  {
   "cell_type": "code",
   "execution_count": 204,
   "id": "bcd6f934-3734-4166-be0d-d3bddedb7ba8",
   "metadata": {},
   "outputs": [
    {
     "name": "stdout",
     "output_type": "stream",
     "text": [
      "line: c\n",
      "line: java\n",
      "line: python\n",
      "line: R\n",
      "line: javascript\n"
     ]
    }
   ],
   "source": [
    "#readline()\n",
    "\n",
    "uri = 'C:/python/PythonTxt/'\n",
    "\n",
    "with open(uri+'lans.txt', 'r') as f:\n",
    "     line =f.readline()   \n",
    "\n",
    "     while line != '':   \n",
    "        print(f'line: {line}', end='')\n",
    "        line = f.readline()"
   ]
  },
  {
   "cell_type": "code",
   "execution_count": 205,
   "id": "2242d5e4-8ab1-4b7c-9808-4b459218e324",
   "metadata": {},
   "outputs": [
    {
     "name": "stdout",
     "output_type": "stream",
     "text": [
      "{'kor': 85, 'eng': 90, 'mat': 92, 'sci': 79, 'his': 82}\n"
     ]
    }
   ],
   "source": [
    "# 'C:/python/PythonTxt/final.txt' 에 있는 과목과 점수를 딕셔너리로 저장 (과목과 점수는 : 로 구별한다)\n",
    "\n",
    "# read subjects and scores from file\n",
    "with open('C:/python/PythonTxt/final.txt', 'r') as f:\n",
    "    lines = f.readlines()\n",
    "\n",
    "# create dictionary of subjects and scores\n",
    "scoreDic = {}\n",
    "for line in lines:\n",
    "    subject, score = line.strip().split(': ')\n",
    "    scoreDic[subject] = int(score)\n",
    "\n",
    "# print dictionary of subjects and scores\n",
    "print(scoreDic) "
   ]
  },
  {
   "cell_type": "code",
   "execution_count": null,
   "id": "2d0d8f73-a521-4d35-bf80-4d2face18558",
   "metadata": {},
   "outputs": [],
   "source": []
  }
 ],
 "metadata": {
  "kernelspec": {
   "display_name": "Python 3 (ipykernel)",
   "language": "python",
   "name": "python3"
  },
  "language_info": {
   "codemirror_mode": {
    "name": "ipython",
    "version": 3
   },
   "file_extension": ".py",
   "mimetype": "text/x-python",
   "name": "python",
   "nbconvert_exporter": "python",
   "pygments_lexer": "ipython3",
   "version": "3.9.12"
  }
 },
 "nbformat": 4,
 "nbformat_minor": 5
}
