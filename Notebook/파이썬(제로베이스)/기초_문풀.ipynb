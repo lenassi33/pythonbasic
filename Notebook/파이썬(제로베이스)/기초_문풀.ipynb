{
 "cells": [
  {
   "cell_type": "code",
   "execution_count": null,
   "id": "bc054282-719d-4e2e-afb9-767913dd0f26",
   "metadata": {},
   "outputs": [],
   "source": [
    "#41강~42강: 파이썬 개요 및 파이참설치 관련 문제"
   ]
  },
  {
   "cell_type": "code",
   "execution_count": 1,
   "id": "0ea7ba3a-f3f4-46a2-9bdc-d70dcc211494",
   "metadata": {},
   "outputs": [
    {
     "name": "stdin",
     "output_type": "stream",
     "text": [
      "Customer Name:  홍길도\n",
      "Product Name:  야구글러브\n",
      "Order Number:  2568956\n",
      "Payment Method:  신용카드\n",
      "Product Amount:  110000\n",
      "Amount of Payment:  110000\n",
      "Points:  10000\n",
      "Payment Date:  2023-03-08\n",
      "Installment:  6개월\n",
      "Installment Type:  무\n"
     ]
    },
    {
     "name": "stdout",
     "output_type": "stream",
     "text": [
      "Hello 홍길도,\n",
      "Your order has been completed. Below are the details of the order:\n",
      "\n",
      "Product Name: 야구글러브\n",
      "Order Number: 2568956\n",
      "Payment Method: 신용카드\n",
      "Product Amount: 110000\n",
      "Amount of Payment: 110000\n",
      "Points: 10000\n",
      "Payment Date: 2023-03-08\n",
      "Installment: 6개월\n",
      "Installment Type: 무\n",
      "\n",
      "If you have any questions or concerns regarding your order, please don't hesitate to contact us at 02-1234-5678.\n",
      "\n",
      "Thank you for your business!\n",
      "\n",
      "Best regards,\n",
      "[Your store name]\n",
      "\n"
     ]
    }
   ],
   "source": [
    "#43강: 데이터와변수1. \n",
    "\n",
    "'''\n",
    "다음은 상품구매 후 메일로 발송되는 주문확인서 이다.\n",
    "주문확인서 템플릿을 만들고 변경되는 정보만 입력하면 주문서가 완성될 수 있도록 프로그램 만들어줘\n",
    "\n",
    "홍길동 고객님 안녕하세요\n",
    "홍길동 고객님의 주문이 완료되었습니다.\n",
    "다음은 주문건에 대한 상세 내역입니다.\n",
    "\n",
    "상품명: \n",
    "주문번호:\n",
    "결제방법:\n",
    "상품금액:\n",
    "결제금액:\n",
    "포인트:\n",
    "결제일자:\n",
    "할부:\n",
    "할부유형:\n",
    "문의: 02-1234-5678\n",
    "'''\n",
    "\n",
    "# Get order details from user input\n",
    "customer_name = input(\"Customer Name: \")\n",
    "product_name = input(\"Product Name: \")\n",
    "order_number = input(\"Order Number: \")\n",
    "payment_method = input(\"Payment Method: \")\n",
    "product_amount = input(\"Product Amount: \")\n",
    "amount_of_payment = input(\"Amount of Payment: \")\n",
    "points = input(\"Points: \")\n",
    "payment_date = input(\"Payment Date: \")\n",
    "installment = input(\"Installment: \")\n",
    "installment_type = input(\"Installment Type: \")\n",
    "\n",
    "# Print completed order confirmation\n",
    "print(f\"\"\"Hello {customer_name},\n",
    "Your order has been completed. Below are the details of the order:\n",
    "\n",
    "Product Name: {product_name}\n",
    "Order Number: {order_number}\n",
    "Payment Method: {payment_method}\n",
    "Product Amount: {product_amount}\n",
    "Amount of Payment: {amount_of_payment}\n",
    "Points: {points}\n",
    "Payment Date: {payment_date}\n",
    "Installment: {installment}\n",
    "Installment Type: {installment_type}\n",
    "\n",
    "If you have any questions or concerns regarding your order, please don't hesitate to contact us at 02-1234-5678.\n",
    "\n",
    "Thank you for your business!\n",
    "\n",
    "Best regards,\n",
    "[Your store name]\n",
    "\"\"\")"
   ]
  },
  {
   "cell_type": "code",
   "execution_count": 8,
   "id": "a960703f-44cb-4449-8a2d-9191cabbe843",
   "metadata": {},
   "outputs": [
    {
     "data": {
      "text/plain": [
       "75"
      ]
     },
     "execution_count": 8,
     "metadata": {},
     "output_type": "execute_result"
    }
   ],
   "source": [
    "#44강 데이터와변수2. \n",
    "\n",
    "#len()함수: 문자길이 \n",
    "a= 'hello python' \n",
    "len(a)\n",
    "\n",
    "#find() 함수: 문자 위치 찾기\n",
    "article = '파이썬은 1991년 네덜란드계 소프트웨어 엔지니어인 귀도 반 로섬이 발표한 고급 프로그래밍 언어로, \\\n",
    "플랫폼에 독립적이며 인터프리터식, 객체지향적, 동적 타이핑 대화형 언어이다.'\n",
    "article.find('객체지향')"
   ]
  },
  {
   "cell_type": "code",
   "execution_count": 12,
   "id": "5f58db15-3343-450a-84ae-14a158cf1c89",
   "metadata": {},
   "outputs": [
    {
     "name": "stdin",
     "output_type": "stream",
     "text": [
      "가로 입력:  10\n",
      "세로 입력:  50\n"
     ]
    },
    {
     "name": "stdout",
     "output_type": "stream",
     "text": [
      "사각형의 넓이는: 500\n",
      "사각형의 넓이는: 500.000000\n",
      "사각형의 넓이는: 500.00\n",
      "사각형의 넓이는: 500\n"
     ]
    }
   ],
   "source": [
    "#44강 데이터와변수2. 입력한 데이터를 모두 실수로 변환한 후 사각형, 삼각형의 넓이를 출력\n",
    "\n",
    "width=int(input(\"가로 입력: \")) \n",
    "height=int(input(\"세로 입력: \"))\n",
    "squareArea= width * height\n",
    "\n",
    "#1. f문자로 출력\n",
    "print(f'사각형의 넓이는: {squareArea}')\n",
    "\n",
    "#2. 형식문자로 출력\n",
    "print('사각형의 넓이는: %f' % squareArea)\n",
    "print('사각형의 넓이는: %.2f' % squareArea)\n",
    "\n",
    "#3. format()함수로 출력\n",
    "print('사각형의 넓이는: {}'.format(squareArea))\n"
   ]
  },
  {
   "cell_type": "code",
   "execution_count": 12,
   "id": "10ae08b0-93ce-4a41-9b8e-b18d9f9053a6",
   "metadata": {},
   "outputs": [
    {
     "name": "stdin",
     "output_type": "stream",
     "text": [
      "반지름 입력:  3\n"
     ]
    },
    {
     "name": "stdout",
     "output_type": "stream",
     "text": [
      "원의 둘레는\t: 18\n",
      "원의 넓이는\t: 28\n",
      "원의 둘레는\t: 18.8\n",
      "원의 넓이는\t: 28.3\n",
      "원의 둘레는\t: 18.840\n",
      "원의 넓이는\t: 28.260\n"
     ]
    }
   ],
   "source": [
    "#45강 데이터와변수3. 반지름을 입력받아 원의 둘레, 원의 넓이를 출력\n",
    "\n",
    "pi=3.14\n",
    "radius =float(input(\"반지름 입력: \")) \n",
    "\n",
    "circleArea = pi * radius *radius\n",
    "circlelength= 2 * pi * radius\n",
    "\n",
    "\n",
    "print('원의 둘레는\\t: %d' % circlelength)\n",
    "print('원의 넓이는\\t: %d' % circleArea)\n",
    "\n",
    "print('원의 둘레는\\t: %.1f' % circlelength)\n",
    "print('원의 넓이는\\t: %.1f' % circleArea)\n",
    "\n",
    "print('원의 둘레는\\t: %.3f' % circlelength)\n",
    "print('원의 넓이는\\t: %.3f' % circleArea)"
   ]
  },
  {
   "cell_type": "code",
   "execution_count": 14,
   "id": "ea8e7e66-3e80-441c-8355-4c4ec71edea2",
   "metadata": {},
   "outputs": [
    {
     "name": "stdin",
     "output_type": "stream",
     "text": [
      "Enter name:  레나\n",
      "Enter your mail:  amor\n",
      "Enter ID:  lena\n",
      "Enter Password:  1234\n",
      "Enter the first digit of your social security number (6 digits):  810927\n",
      "Enter the last digit of your social security number (7 digits):  1234567\n",
      "Enter address:  서울\n"
     ]
    },
    {
     "name": "stdout",
     "output_type": "stream",
     "text": [
      "\n",
      "Name: 레나\n",
      "Email: amor\n",
      "ID: lena\n",
      "Password: ****\n",
      "SSN: 810927*******\n",
      "Address: 서울\n",
      "\n"
     ]
    }
   ],
   "source": [
    "#45강 데이터와변수3.\n",
    "\n",
    "'''\n",
    "사용자로부터 입력받은 개인정보를 포맷문자열을 이용해서 다음과 같이 출력\n",
    "단, 비밀번호 전체와 주민번호 뒷자리는 별표로 처리\n",
    "\n",
    "이름 입력:\n",
    "메일 입력:\n",
    "아이디 입력:\n",
    "비밀번호 입력:\n",
    "주민번호 앞자리 입력(6자리):\n",
    "주민번호 뒷자리 입력(7자리):\n",
    "주소 입력:\n",
    "'''\n",
    "\n",
    "name = input(\"Enter name: \")\n",
    "email = input(\"Enter your mail: \")\n",
    "id_number = input(\"Enter ID: \")\n",
    "password = input(\"Enter Password: \")\n",
    "ssn_first = input(\"Enter the first digit of your social security number (6 digits): \")\n",
    "ssn_last = input(\"Enter the last digit of your social security number (7 digits): \")\n",
    "address = input(\"Enter address: \")\n",
    "\n",
    "# Replace the entire password with asterisks\n",
    "password = '*' * len(password)\n",
    "\n",
    "# Replace the last seven digits of the SSN with asterisks\n",
    "ssn = ssn_first + '*' * 7\n",
    "\n",
    "# Format the output string\n",
    "output = f\"\"\"\n",
    "Name: {name}\n",
    "Email: {email}\n",
    "ID: {id_number}\n",
    "Password: {password}\n",
    "SSN: {ssn}\n",
    "Address: {address}\n",
    "\"\"\"\n",
    "\n",
    "# Print the output string\n",
    "print(output)"
   ]
  },
  {
   "cell_type": "code",
   "execution_count": 16,
   "id": "0dca5158-a592-4033-966e-76ba6278eb20",
   "metadata": {},
   "outputs": [
    {
     "name": "stdin",
     "output_type": "stream",
     "text": [
      "Enter your weight in kilograms:  51\n",
      "Enter your height in meters:  1.62\n"
     ]
    },
    {
     "name": "stdout",
     "output_type": "stream",
     "text": [
      "Your BMI is: 19.43\n"
     ]
    }
   ],
   "source": [
    "#46강 제이터와변수4. 체중과 신장을 입력하면 BMI지수가 출력\n",
    "\n",
    "weight = float(input(\"Enter your weight in kilograms: \"))\n",
    "height = float(input(\"Enter your height in meters: \"))\n",
    "\n",
    "# Calculate the BMI\n",
    "bmi = weight / (height ** 2)\n",
    "\n",
    "# Output the BMI\n",
    "print(f\"Your BMI is: {bmi:.2f}\")\n"
   ]
  },
  {
   "cell_type": "code",
   "execution_count": 17,
   "id": "faa691b4-d96d-45a1-9f83-6947b3d6d7c3",
   "metadata": {},
   "outputs": [
    {
     "name": "stdin",
     "output_type": "stream",
     "text": [
      "중간고사 점수:  80\n",
      "기말고사 점수:  90\n"
     ]
    },
    {
     "name": "stdout",
     "output_type": "stream",
     "text": [
      "총점: 170, 평균: 85.0\n"
     ]
    }
   ],
   "source": [
    "#46강 제이터와변수4. 중간고사, 기말고사 점수를 입력하면 총점과 평균이 출력\n",
    "\n",
    "# isdigit() : 숫자인지 확인, 숫자면 True\n",
    "\n",
    "score1= input('중간고사 점수: ')\n",
    "score2= input('기말고사 점수: ')\n",
    "\n",
    "if score1.isdigit() and score2.isdigit(): #점수가 숫자라면 아래 조건식 수행\n",
    "    score1=int(score1)\n",
    "    score2=int(score2)\n",
    "    \n",
    "    totalScore= score1+score2\n",
    "    avgScore= (score1+score2)/2\n",
    "    \n",
    "    print('총점: {}, 평균: {}'.format(totalScore,avgScore))\n",
    "    \n",
    "else:\n",
    "    print(\"잘못 입력했습니다.\")"
   ]
  },
  {
   "cell_type": "code",
   "execution_count": 18,
   "id": "fd343bcc-7581-4d50-917f-791d530aa5bf",
   "metadata": {},
   "outputs": [
    {
     "name": "stdout",
     "output_type": "stream",
     "text": [
      "Select language: \n",
      "1. Korean\n",
      "2. English\n"
     ]
    },
    {
     "name": "stdin",
     "output_type": "stream",
     "text": [
      " 2\n"
     ]
    },
    {
     "name": "stdout",
     "output_type": "stream",
     "text": [
      "Please select a menu: \n",
      "1. Sandwich\n",
      "2. Hamburger\n",
      "3. Juice\n",
      "4. Coffee\n",
      "5. Ice cream\n"
     ]
    }
   ],
   "source": [
    "#47강 데이터와변수5. 키오스크 언어 선택 프로그램\n",
    "\n",
    "# Prompt the user to select a language\n",
    "print(\"Select language: \")\n",
    "print(\"1. Korean\")\n",
    "print(\"2. English\")\n",
    "language = int(input())\n",
    "\n",
    "# Display the menu options based on the selected language\n",
    "if language == 1: # Korean\n",
    "    print(\"메뉴를 선택하세요: \")\n",
    "    print(\"1. 샌드위치\")\n",
    "    print(\"2. 햄버거\")\n",
    "    print(\"3. 주스\")\n",
    "    print(\"4. 커피\")\n",
    "    print(\"5. 아이스크림\")\n",
    "elif language == 2: # English\n",
    "    print(\"Please select a menu: \")\n",
    "    print(\"1. Sandwich\")\n",
    "    print(\"2. Hamburger\")\n",
    "    print(\"3. Juice\")\n",
    "    print(\"4. Coffee\")\n",
    "    print(\"5. Ice cream\")\n",
    "else:\n",
    "    print(\"Invalid language selection. Please enter 1 for Korean or 2 for English.\")"
   ]
  },
  {
   "cell_type": "code",
   "execution_count": 38,
   "id": "c68c399e-b00d-41fd-95dc-8fddf9501632",
   "metadata": {},
   "outputs": [
    {
     "name": "stdout",
     "output_type": "stream",
     "text": [
      "2023-03-04 17:56:36.158801\n",
      "2023\n",
      "3\n",
      "<built-in method date of datetime.datetime object at 0x0000023AA49119C0>\n"
     ]
    }
   ],
   "source": [
    "#모듈 사용하여 날짜 출력\n",
    "\n",
    "import datetime\n",
    "\n",
    "today=datetime.datetime.today()\n",
    "print(today)\n",
    "print(today.year)\n",
    "print(today.month)\n",
    "print(today.date)"
   ]
  },
  {
   "cell_type": "code",
   "execution_count": 19,
   "id": "a69dcfa3-2dcb-4b05-9933-50d7ea55a8d3",
   "metadata": {},
   "outputs": [
    {
     "name": "stdin",
     "output_type": "stream",
     "text": [
      "나이를 입력해주세요:  41\n"
     ]
    },
    {
     "name": "stdout",
     "output_type": "stream",
     "text": [
      "2082년 (59년후)에 100살\n"
     ]
    }
   ],
   "source": [
    "#47강 데이터와변수5. 내 나이가 100살이 되는해의 연도를 구하는 프로그램\n",
    "\n",
    "import datetime\n",
    "today=datetime.datetime.today()\n",
    "\n",
    "myAge= input(\"나이를 입력해주세요: \")\n",
    "if myAge.isdigit():\n",
    "     \n",
    "        afterAge= 100-int(myAge)\n",
    "        myHundered= today.year + afterAge        \n",
    "        print('{}년 ({}년후)에 100살'.format(myHundered,afterAge))\n",
    "else: \n",
    "    print(\"잘못 입력했습니다.\")"
   ]
  },
  {
   "cell_type": "code",
   "execution_count": 28,
   "id": "46345bde-7e96-4b8d-87fa-13e78f978649",
   "metadata": {},
   "outputs": [
    {
     "name": "stdout",
     "output_type": "stream",
     "text": [
      "Original change: 64138 won\n",
      "Rounded change: 64130 won\n"
     ]
    }
   ],
   "source": [
    "#48강 연산자1. 64138원에서 64130으로 변경하는 1원 단위 절사하는 프로그램\" \n",
    "\n",
    "def round_off_change(change):\n",
    "    return (change // 10) * 10\n",
    "\n",
    "# Example usage\n",
    "change = 64138\n",
    "rounded_change = round_off_change(change)\n",
    "print(\"Original change: {} won\".format(change))\n",
    "print(\"Rounded change: {} won\".format(rounded_change))"
   ]
  },
  {
   "cell_type": "code",
   "execution_count": 44,
   "id": "83fe2137-c1e4-4b70-9ed7-ad7bb80a0c70",
   "metadata": {},
   "outputs": [
    {
     "name": "stdin",
     "output_type": "stream",
     "text": [
      "상품 금액을 입력하세요:  68999\n",
      "자불 금액을 입력하세요:  100000\n"
     ]
    },
    {
     "name": "stdout",
     "output_type": "stream",
     "text": [
      "Change: 31000 won (rounded down by 1 won)\n",
      "50000원\t:0, 10000원\t:3, 5000원\t:0, 1000원\t:1\n",
      "500원\t:0, 100원\t:0, 10원\t:0, 1원\t\t:0\n",
      "<function calculate_change at 0x000002AF99A52B80>\n"
     ]
    }
   ],
   "source": [
    "#48강 연산자1. 64138원에서 64130으로 변경하는 1원 단위 절사하는 프로그램\" \n",
    "\n",
    "'''\n",
    "프롬프트\n",
    "위에서 만든 \"64138원에서 64130으로 바꾸는 1원 단위 절사하는 프로그램\" 을 활용해서 example을 구하는 프로그램을 만들어보자.  \n",
    "이 프로그램은 상품가격과 지불금액을 입력하면 거스름돈을 계산한다\n",
    "단 거스름돈은 지폐와 동전의 개수를 최소로 하고 1원 단위는 절사한다. \n",
    "지폐: 50000원, 10000원, 5000원, 10000원 동전: 500원, 100원, 10원\n",
    "\n",
    "example\n",
    "상품금액: 35862원\n",
    "지불금액: 100000원\n",
    "거스름돈: 64130원 (1원 단위 절사)\n",
    "거스름돈이 50000원이 넘으므로 50000원 1장, 10000원 1장, 1000원 4장, 100원 1개, 10원 3개, 1원 0개\n",
    "'''\n",
    "\n",
    "\n",
    "product_price=int(input(\"상품 금액을 입력하세요: \"))\n",
    "payment_amount=int(input(\"자불 금액을 입력하세요: \")) \n",
    "\n",
    "def calculate_change(product_price, payment_amount):\n",
    "    change = payment_amount - product_price\n",
    "    change = round_off_change(change)\n",
    "    print(\"Change:\", change, \"won (rounded down by 1 won)\")\n",
    "    bills = [50000, 10000, 5000, 1000]\n",
    "    coins = [500, 100, 10, 1]\n",
    "    num_bills = []\n",
    "    num_coins = []\n",
    "    for bill in bills:\n",
    "        num_bill = change // bill\n",
    "        num_bills.append(num_bill)\n",
    "        change -= num_bill * bill\n",
    "    for coin in coins:\n",
    "        num_coin = change // coin\n",
    "        num_coins.append(num_coin)\n",
    "        change -= num_coin * coin\n",
    "    print(\"50000원\\t:{}, 10000원\\t:{}, 5000원\\t:{}, 1000원\\t:{}\".format(num_bills[0],num_bills[1],num_bills[2],num_bills[3]))\n",
    "    print(\"500원\\t:{}, 100원\\t:{}, 10원\\t:{}, 1원\\t\\t:{}\".format(num_coins[0],num_coins[1],num_coins[2],num_coins[3]))\n",
    "   \n",
    "\n",
    "       \n",
    "def round_off_change(change):\n",
    "    return (change // 10) * 10\n",
    "\n",
    "calculate_change(product_price, payment_amount)\n",
    "\n",
    "print(calculate_change)                      "
   ]
  },
  {
   "cell_type": "code",
   "execution_count": 4,
   "id": "79d025bd-c40c-4ff7-9c90-376cc1c633e1",
   "metadata": {},
   "outputs": [
    {
     "name": "stdin",
     "output_type": "stream",
     "text": [
      "Enter Korean score:  67\n",
      "Enter English score:  85\n",
      "Enter Math score:  90\n"
     ]
    },
    {
     "name": "stdout",
     "output_type": "stream",
     "text": [
      "Total score\t: 242\n",
      "Average score\t: 80.67\n",
      "Highest score subject\t:Math(90)\n",
      "Lowest score subject\t:Korean(67)\n",
      "Difference between highest and lowest scores\t: 23\n"
     ]
    }
   ],
   "source": [
    "#49강 연산자2.\n",
    "\n",
    "'''\n",
    "프롬프트\n",
    "국어, 영어, 수학 점수 입력받아 총점, 평균, 최고점수 과목, 최저점수 과목, 그리고 최고점수와 최저점수의 차이를 출력하는 프로그램\n",
    "'''\n",
    "\n",
    "# Get input from the user\n",
    "kor_score = int(input(\"Enter Korean score: \"))\n",
    "eng_score = int(input(\"Enter English score: \"))\n",
    "math_score = int(input(\"Enter Math score: \"))\n",
    "\n",
    "# Calculate total score and average\n",
    "total_score = kor_score + eng_score + math_score\n",
    "average_score = total_score / 3\n",
    "\n",
    "# Find the highest and lowest scores\n",
    "max_score = max(kor_score, eng_score, math_score)\n",
    "min_score = min(kor_score, eng_score, math_score)\n",
    "\n",
    "# Determine the subject with the highest and lowest scores\n",
    "if max_score == kor_score:\n",
    "    max_subject = \"Korean\"\n",
    "elif max_score == eng_score:\n",
    "    max_subject = \"English\"\n",
    "else:\n",
    "    max_subject = \"Math\"\n",
    "\n",
    "if min_score == kor_score:\n",
    "    min_subject = \"Korean\"\n",
    "elif min_score == eng_score:\n",
    "    min_subject = \"English\"\n",
    "else:\n",
    "    min_subject = \"Math\"\n",
    "\n",
    "# Calculate the difference between the highest and lowest scores\n",
    "score_diff = max_score - min_score\n",
    "\n",
    "# Print the output\n",
    "print(\"Total score\\t:\", total_score)\n",
    "print(\"Average score\\t: %.2f\" % average_score)\n",
    "print(\"Highest score subject\\t:{}({})\".format(max_subject, max_score))\n",
    "print(\"Lowest score subject\\t:{}({})\".format(min_subject, min_score))\n",
    "print(\"Difference between highest and lowest scores\\t:\", score_diff)"
   ]
  },
  {
   "cell_type": "code",
   "execution_count": 5,
   "id": "d4f9b6af-91bb-4447-8014-15201b6e46e3",
   "metadata": {},
   "outputs": [
    {
     "name": "stdin",
     "output_type": "stream",
     "text": [
      "시간 입력:  5\n",
      "분 입력:  4\n",
      "초 입력:  10\n"
     ]
    },
    {
     "name": "stdout",
     "output_type": "stream",
     "text": [
      "18,250초\n"
     ]
    }
   ],
   "source": [
    "hou=int(input(\"시간 입력: \"))\n",
    "min=int(input(\"분 입력: \"))\n",
    "sec=int(input(\"초 입력: \"))\n",
    "\n",
    "print('{}초'.format(format(hou*60*60+min*60+sec,','))) #쉼표로 천 단위를 구별\n"
   ]
  },
  {
   "cell_type": "code",
   "execution_count": 12,
   "id": "cf374fac-2e43-4448-b84f-f34925f2e55d",
   "metadata": {},
   "outputs": [
    {
     "name": "stdin",
     "output_type": "stream",
     "text": [
      "금액을 입력하세요:  1500000\n",
      "이율을 입력하세요:  4.3\n",
      "만기 기간을 입력하세요:  5\n"
     ]
    },
    {
     "name": "stdout",
     "output_type": "stream",
     "text": [
      "Final amount after 5 years: 1,851,453\n"
     ]
    }
   ],
   "source": [
    "#50강 연산자3. \n",
    "\n",
    "'''\n",
    "프롬프트\n",
    "금액: 1500000 이율: 4.3% 기간: 5년 \n",
    "위와 같은 정보를 입력했을 때 만기 후 금액을 출력하는 복리계산기 프로그램을 만들어줘\n",
    "'''\n",
    "\n",
    "\n",
    "def calculate_compound_interest(amount, interest_rate, duration):\n",
    "    \"\"\"\n",
    "    Calculate compound interest for a given amount, interest rate, and duration.\n",
    "    \"\"\"\n",
    "    # Convert interest rate from percentage to decimal\n",
    "    interest_rate = interest_rate / 100\n",
    "\n",
    "    # Calculate compound interest for the given duration\n",
    "    for i in range(duration):\n",
    "        amount = amount + (amount * interest_rate)\n",
    "\n",
    "    # Return the final amount\n",
    "    return round(amount, 2)\n",
    "\n",
    "# Example usage\n",
    "principal = int(input(\"금액을 입력하세요: \"))\n",
    "interest_rate = float(input(\"이율을 입력하세요: \"))\n",
    "duration = int(input(\"만기 기간을 입력하세요: \"))\n",
    "\n",
    "final_amount = calculate_compound_interest(principal, interest_rate, duration)\n",
    "final_amount_adj= format(int(final_amount),',')   #천 단위로 변경\n",
    "\n",
    "print(f\"Final amount after {duration} years: {final_amount_adj}\")"
   ]
  },
  {
   "cell_type": "code",
   "execution_count": 13,
   "id": "5b290bbf-dafc-413c-88cd-f4ba0bc0e223",
   "metadata": {},
   "outputs": [
    {
     "name": "stdin",
     "output_type": "stream",
     "text": [
      "Enter the altitude (in meters):  720\n"
     ]
    },
    {
     "name": "stdout",
     "output_type": "stream",
     "text": [
      "The temperature at 720.0 meters is 19.4°C.\n"
     ]
    }
   ],
   "source": [
    "#51강 연산자4. \n",
    "\n",
    "'''\n",
    "프롬프트\n",
    "고도가 60m 올라갈때마다 기온이 0.8도 내려간다고 할 때 고도를 입력하면 기온이 출력되는 프로그램을 만들어보자, 지면온도는 29도\n",
    "'''\n",
    "\n",
    "ground_temp = 29  # degrees Celsius\n",
    "temp_change_rate = 0.8  # degrees Celsius per 60 meters\n",
    "\n",
    "altitude = float(input(\"Enter the altitude (in meters): \"))\n",
    "temp_diff = altitude / 60 * temp_change_rate\n",
    "temp_at_altitude = ground_temp - temp_diff\n",
    "\n",
    "print(f\"The temperature at {altitude} meters is {temp_at_altitude:.1f}°C.\")"
   ]
  },
  {
   "cell_type": "code",
   "execution_count": 14,
   "id": "ddf64ff8-94ba-448a-90ef-4f912a9ab7b4",
   "metadata": {},
   "outputs": [
    {
     "name": "stdout",
     "output_type": "stream",
     "text": [
      "One student will have 11 loaves of bread and 8 cartons of milk.\n",
      "There will be 10 loaves of bread and 16 cartons of milk left over.\n"
     ]
    }
   ],
   "source": [
    "#51강 연산자4. \n",
    "\n",
    "'''\n",
    "프롬프트\n",
    "197개의 빵과 152개의 우유를 17명의 학생한테 동일하게 나눠준다고 할때 1명의 학생이 갖게 되는 빵과 우유갯수를 구하고 \n",
    "남는 빵과 우유갯수를 출력하는 프로그램을 만들어줘\n",
    "'''\n",
    "\n",
    "import math\n",
    "\n",
    "bread_count = 197\n",
    "milk_count = 152\n",
    "student_count = 17\n",
    "\n",
    "bread_per_student = math.floor(bread_count / student_count)\n",
    "milk_per_student = math.floor(milk_count / student_count)\n",
    "\n",
    "bread_remainder = bread_count - bread_per_student * student_count\n",
    "milk_remainder = milk_count - milk_per_student * student_count\n",
    "\n",
    "print(f\"One student will have {bread_per_student} loaves of bread and {milk_per_student} cartons of milk.\")\n",
    "print(f\"There will be {bread_remainder} loaves of bread and {milk_remainder} cartons of milk left over.\")\n"
   ]
  },
  {
   "cell_type": "code",
   "execution_count": 16,
   "id": "f0222c1f-9caf-41f1-9ca7-397cdababd5e",
   "metadata": {},
   "outputs": [
    {
     "name": "stdin",
     "output_type": "stream",
     "text": [
      "Enter your birth year:  1952\n"
     ]
    },
    {
     "name": "stdout",
     "output_type": "stream",
     "text": [
      "Your vaccination day is Tuesday.\n"
     ]
    }
   ],
   "source": [
    "#52강 연산자5. \n",
    "\n",
    "'''\n",
    "프롬프트\n",
    "19세 이하 또는 65세 이상이면 출생연도 끝자리에 따른 접종\n",
    "1. 출생연도가 1 또는 6이면 월요일\n",
    "2. 출생연도가 2 또는 7이면 화요일\n",
    "3. 출생연도가 3 또는 8이면 수요일\n",
    "4. 출생연도가 4 또는 9이면 목요일\n",
    "5. 출생연도가 5 또는 0이면 금요일\n",
    "\n",
    "그렇지 않으면 \"하반기 일정 확인\" 출력하는 프로그램 만들어줘\n",
    "'''\n",
    "\n",
    "import datetime\n",
    "\n",
    "current_year = datetime.datetime.now().year\n",
    "birth_year = int(input(\"Enter your birth year: \"))\n",
    "\n",
    "if current_year - birth_year < 19 or current_year - birth_year > 65:\n",
    "    last_digit = birth_year % 10\n",
    "    if last_digit == 1 or last_digit == 6:\n",
    "        print(\"Your vaccination day is Monday.\")\n",
    "    elif last_digit == 2 or last_digit == 7:\n",
    "        print(\"Your vaccination day is Tuesday.\")\n",
    "    elif last_digit == 3 or last_digit == 8:\n",
    "        print(\"Your vaccination day is Wednesday.\")\n",
    "    elif last_digit == 4 or last_digit == 9:\n",
    "        print(\"Your vaccination day is Thursday.\")\n",
    "    elif last_digit == 5 or last_digit == 0:\n",
    "        print(\"Your vaccination day is Friday.\")\n",
    "else:\n",
    "    print(\"Please confirm schedule for the second half.\")"
   ]
  },
  {
   "cell_type": "code",
   "execution_count": 18,
   "id": "3f9dede0-22ee-42be-bc26-3f1bcf408dc7",
   "metadata": {},
   "outputs": [
    {
     "name": "stdin",
     "output_type": "stream",
     "text": [
      "Enter length in millimeters:  52\n"
     ]
    },
    {
     "name": "stdout",
     "output_type": "stream",
     "text": [
      "The length in inches is: 2.028 inch\n"
     ]
    }
   ],
   "source": [
    "#52강 연산자5. 길이(mm)를 입력하면 inch로 환산하는 프로그램을 만들어줘 (1mm=0.039inch)\n",
    "\n",
    "\n",
    "length_mm = float(input(\"Enter length in millimeters: \"))\n",
    "length_in = length_mm * 0.039\n",
    "print(\"The length in inches is:\", length_in, \"inch\")\n"
   ]
  },
  {
   "cell_type": "code",
   "execution_count": 19,
   "id": "d74afd3e-6875-4488-98e1-f18ad2d5b62d",
   "metadata": {},
   "outputs": [
    {
     "name": "stdin",
     "output_type": "stream",
     "text": [
      "Enter vehicle speed (in km/h):  60\n"
     ]
    },
    {
     "name": "stdout",
     "output_type": "stream",
     "text": [
      "Violation of safe speed limit! Fine of 50,000 won.\n"
     ]
    }
   ],
   "source": [
    "#53강 조건문1. \n",
    "\n",
    "'''\n",
    "프롬프트\n",
    "조건문을 이용해서 아래 교통과속 위반 프로그램을 만들어줘\n",
    "시속 50km이하 --> 안전속도 준수\n",
    "시속 50km초과 --> 안전속도 위반, 과태료 50,000원 부과대상\n",
    "'''\n",
    "\n",
    "speed = int(input(\"Enter vehicle speed (in km/h): \"))\n",
    "\n",
    "if speed <= 50:\n",
    "    print(\"Vehicle speed is within safe limits.\")\n",
    "else:\n",
    "    print(\"Violation of safe speed limit! Fine of 50,000 won.\")\n"
   ]
  },
  {
   "cell_type": "code",
   "execution_count": 21,
   "id": "d61d8b90-7a20-4fa7-94bc-0aa595ba6291",
   "metadata": {},
   "outputs": [
    {
     "name": "stdin",
     "output_type": "stream",
     "text": [
      "Enter the length of the text message (in characters):  58\n"
     ]
    },
    {
     "name": "stdout",
     "output_type": "stream",
     "text": [
      "MMS will be sent. Rate is 100 won per MMS.\n"
     ]
    }
   ],
   "source": [
    "#53강 조건문1.\n",
    "\n",
    "'''\n",
    "프롬프트\n",
    "조건문을 이용해서 다음 프로그램을 만들어줘\n",
    "문자메시지 길이에 따라 요금이 결정되는 프로그램\n",
    "문자길이 50이하 --> SMS발송 건당 50원 부과\n",
    "문자길이 50초과 --> MMS발송 건강 100원 부과\n",
    "'''\n",
    "\n",
    "length = int(input(\"Enter the length of the text message (in characters): \"))\n",
    "\n",
    "if length <= 50:\n",
    "    print(\"SMS will be sent. Rate is 50 won per SMS.\")\n",
    "else:\n",
    "    print(\"MMS will be sent. Rate is 100 won per MMS.\")"
   ]
  },
  {
   "cell_type": "code",
   "execution_count": 22,
   "id": "db776e09-fc8e-44fc-bb32-4d6d66c57073",
   "metadata": {},
   "outputs": [
    {
     "name": "stdin",
     "output_type": "stream",
     "text": [
      "Enter the Korean score:  91\n",
      "Enter the English score:  92\n",
      "Enter the Math score:  61\n",
      "Enter the Science score:  58\n",
      "Enter the Korean History score:  90\n"
     ]
    },
    {
     "name": "stdout",
     "output_type": "stream",
     "text": [
      "Korean Score: 91\n",
      "Total Score: 392\n",
      "Average Score: 78.4\n",
      "Korean Deviation: 6\n",
      "English Deviation: 10\n",
      "Math Deviation: -28\n",
      "Science Deviation: -17\n",
      "Korean History Deviation: -4\n"
     ]
    },
    {
     "data": {
      "image/png": "[encoded data removed]",
      "text/plain": [
       "<Figure size 432x288 with 1 Axes>"
      ]
     },
     "metadata": {
      "needs_background": "light"
     },
     "output_type": "display_data"
    }
   ],
   "source": [
    "#54강 조건문2.\n",
    "\n",
    "'''\n",
    "프롬프트\n",
    "국어, 영어, 수학, 과학, 국사 점수를 입력하면 아래 데이터가 출력되는 프로그램을 만들어줘\n",
    "1. 과목별 점수를 입력하면 총점, 평균, 편차를 출력한다.\n",
    "2. 과목별 평균은 국어:85점, 영어:82점, 수학: 89점, 과학:75점, 국사: 94점\n",
    "3. 과목별 편차는 막대그래프로 시각화한다\n",
    "'''\n",
    "\n",
    "import numpy as np\n",
    "import matplotlib.pyplot as plt\n",
    "\n",
    "# Subject scores (set the averages)\n",
    "kor_avg = 85\n",
    "eng_avg = 82\n",
    "math_avg = 89\n",
    "sci_avg = 75\n",
    "his_avg = 94\n",
    "\n",
    "# Input scores for each subject\n",
    "kor_score = int(input(\"Enter the Korean score: \"))\n",
    "eng_score = int(input(\"Enter the English score: \"))\n",
    "math_score = int(input(\"Enter the Math score: \"))\n",
    "sci_score = int(input(\"Enter the Science score: \"))\n",
    "his_score = int(input(\"Enter the Korean History score: \"))\n",
    "\n",
    "# Calculate total score and average\n",
    "total_score = kor_score + eng_score + math_score + sci_score + his_score\n",
    "average = total_score / 5\n",
    "\n",
    "# Calculate deviations\n",
    "kor_dev = kor_score - kor_avg\n",
    "eng_dev = eng_score - eng_avg\n",
    "math_dev = math_score - math_avg\n",
    "sci_dev = sci_score - sci_avg\n",
    "his_dev = his_score - his_avg\n",
    "\n",
    "# Output total score, average, and deviation for each subject\n",
    "print(\"Korean Score:\", kor_score)\n",
    "print(\"Total Score:\", total_score)\n",
    "print(\"Average Score:\", average)\n",
    "print(\"Korean Deviation:\", kor_dev)\n",
    "print(\"English Deviation:\", eng_dev)\n",
    "print(\"Math Deviation:\", math_dev)\n",
    "print(\"Science Deviation:\", sci_dev)\n",
    "print(\"Korean History Deviation:\", his_dev)\n",
    "\n",
    "# Create a bar graph of the deviations\n",
    "subjects = ('Korean', 'English', 'Math', 'Science', 'Korean History')\n",
    "deviations = [kor_dev, eng_dev, math_dev, sci_dev, his_dev]\n",
    "x_pos = np.arange(len(subjects))\n",
    "plt.bar(x_pos, deviations, align='center', alpha=0.5)\n",
    "plt.xticks(x_pos, subjects)\n",
    "plt.ylabel('Deviation')\n",
    "plt.title('Deviations by Subject')\n",
    "plt.show()"
   ]
  },
  {
   "cell_type": "code",
   "execution_count": 23,
   "id": "c5fdaf8b-060d-437a-83ad-adfb2d19c86a",
   "metadata": {},
   "outputs": [
    {
     "name": "stdin",
     "output_type": "stream",
     "text": [
      "Guess if the number is odd or even:  odd\n"
     ]
    },
    {
     "name": "stdout",
     "output_type": "stream",
     "text": [
      "Correct!\n"
     ]
    }
   ],
   "source": [
    "#55강 조건문3. 난수를 이용한 홀/짝 게임\n",
    "\n",
    "import random\n",
    "\n",
    "number = random.randint(1, 100)\n",
    "guess = input(\"Guess if the number is odd or even: \")\n",
    "\n",
    "if (number % 2 == 0 and guess.lower() == \"even\") or (number % 2 != 0 and guess.lower() == \"odd\"):\n",
    "    print(\"Correct!\")\n",
    "else:\n",
    "    print(\"Sorry, the number was\", number)"
   ]
  },
  {
   "cell_type": "code",
   "execution_count": 24,
   "id": "c60d208c-f7f5-4e13-9415-db8d510442e7",
   "metadata": {},
   "outputs": [
    {
     "name": "stdout",
     "output_type": "stream",
     "text": [
      "Let's play Rock-Paper-Scissors!\n",
      "Enter 'r' for rock, 'p' for paper, 's' for scissors.\n"
     ]
    },
    {
     "name": "stdin",
     "output_type": "stream",
     "text": [
      "What's your choice?  p\n"
     ]
    },
    {
     "name": "stdout",
     "output_type": "stream",
     "text": [
      "You win!\n",
      "The computer chose rock.\n"
     ]
    }
   ],
   "source": [
    "#55강 조건문3. 난수를 이용한 홀/짝 게임난수를 이용한 가위.바위.보 게임\n",
    "\n",
    "import random\n",
    "\n",
    "print(\"Let's play Rock-Paper-Scissors!\")\n",
    "print(\"Enter 'r' for rock, 'p' for paper, 's' for scissors.\")\n",
    "\n",
    "# Get user input\n",
    "user_choice = input(\"What's your choice? \")\n",
    "\n",
    "# Get computer choice\n",
    "computer_choice = random.choice(['r', 'p', 's'])\n",
    "\n",
    "# Determine winner\n",
    "if user_choice == computer_choice:\n",
    "    print(\"It's a tie!\")\n",
    "elif (user_choice == 'r' and computer_choice == 's') or \\\n",
    "     (user_choice == 'p' and computer_choice == 'r') or \\\n",
    "     (user_choice == 's' and computer_choice == 'p'):\n",
    "    print(\"You win!\")\n",
    "else:\n",
    "    print(\"You lose!\")\n",
    "\n",
    "# Print computer's choice\n",
    "if computer_choice == 'r':\n",
    "    print(\"The computer chose rock.\")\n",
    "elif computer_choice == 'p':\n",
    "    print(\"The computer chose paper.\")\n",
    "else:\n",
    "    print(\"The computer chose scissors.\")"
   ]
  },
  {
   "cell_type": "code",
   "execution_count": 32,
   "id": "e45afc31-d9c8-4a78-9c10-e4208533ca1b",
   "metadata": {},
   "outputs": [
    {
     "name": "stdout",
     "output_type": "stream",
     "text": [
      "Water Bill Calculator\n",
      "\n",
      "Enter the type of business: \n",
      "1. Home Use\n",
      "2. Public Baths (under 50)\n",
      "3. Public Baths (50 to 300)\n",
      "4. Public Baths (over 300)\n",
      "5. Industrial (500 or less)\n",
      "6. Industrial (over 500)\n",
      "\n"
     ]
    },
    {
     "name": "stdin",
     "output_type": "stream",
     "text": [
      "Enter your choice (1-6):  3\n",
      "Enter usage amount (cubic meters):  270\n"
     ]
    },
    {
     "name": "stdout",
     "output_type": "stream",
     "text": [
      "\n",
      "******************************\n",
      "Water bill: 518,400 won\n",
      "******************************\n"
     ]
    }
   ],
   "source": [
    "#56강 조건문4. \n",
    "\n",
    "'''\n",
    "프롬프트\n",
    "아래 내용을 참고해서 상수도 요금 계산기를 만들어주는 프로그램\n",
    "업종선택 후 사용량을 입력하면 상수도 요금이 계산된다\n",
    "\n",
    "업종별\t사용량\t 단가(원) \n",
    "가정용\t            \t 540원 \n",
    "대중탕용\t50 이하\t     820원 \n",
    "대중탕용 50초과 300이하\t 1,920원 \n",
    "대중탕용 300초과\t 2,400원 \n",
    "공업용\t500이하\t 240원 \n",
    "공업용    500초과\t 470원 \n",
    "'''\n",
    "\n",
    "print(\"Water Bill Calculator\")\n",
    "print()\n",
    "\n",
    "\n",
    "# prompt user for business type\n",
    "print(\"Enter the type of business: \")\n",
    "print(\"1. Home Use\")\n",
    "print(\"2. Public Baths (under 50)\")\n",
    "print(\"3. Public Baths (50 to 300)\")\n",
    "print(\"4. Public Baths (over 300)\")\n",
    "print(\"5. Industrial (500 or less)\")\n",
    "print(\"6. Industrial (over 500)\")\n",
    "print()\n",
    "business_type = int(input(\"Enter your choice (1-6): \"))\n",
    "\n",
    "# prompt user for usage amount\n",
    "usage = float(input(\"Enter usage amount (cubic meters): \"))\n",
    "\n",
    "# calculate water supply fee based on business type and usage amount\n",
    "if business_type == 1:  # Home Use\n",
    "    water_supply_fee = usage * 540\n",
    "elif business_type == 2:  # Public Baths (under 50)\n",
    "    water_supply_fee = usage * 820\n",
    "elif business_type == 3:  # Public Baths (50 to 300)\n",
    "    water_supply_fee = usage * 1920 \n",
    "elif business_type == 4:  # Public Baths (over 300)\n",
    "    water_supply_fee = usage * 2400\n",
    "elif business_type == 5:  # Industrial (500 or less)\n",
    "    water_supply_fee = usage * 240\n",
    "elif business_type == 6:  # Industrial (over 500)\n",
    "    water_supply_fee = usage * 470\n",
    "else:\n",
    "    print(\"Invalid choice. Please enter a number between 1 and 6.\")\n",
    "    exit()\n",
    "    \n",
    "print()\n",
    "print(\"*\" * 30)\n",
    "    \n",
    "# print the water bill\n",
    "print(f\"Water bill: {water_supply_fee:,.0f} won\")\n",
    "\n",
    "print(\"*\" * 30)"
   ]
  },
  {
   "cell_type": "code",
   "execution_count": 55,
   "id": "c0f55d58-2719-4b7c-a755-1cbc4f2abd4f",
   "metadata": {},
   "outputs": [
    {
     "name": "stdin",
     "output_type": "stream",
     "text": [
      "Enter fine dust level:  1166\n",
      "Enter vehicle type (1 for passenger cars, 2 for commercial vehicles):  1\n",
      "Enter license plate number:  1234\n"
     ]
    },
    {
     "name": "stdout",
     "output_type": "stream",
     "text": [
      "Today (2023-03-04) is even day. You can drive your vehicle with license plate number 1234.\n"
     ]
    }
   ],
   "source": [
    "#57강 조건문5. \n",
    "\n",
    "'''\n",
    "프롬프트\n",
    "1. 미세먼지 수치가 150 이하이면 car driving 5days 실시\n",
    "2. 미세먼지 수치가 150 초과하면 car driving 2days 실시 \n",
    "3. car driving 2days 에서는 위에서 만든 오늘이 짝수인지 홀수인지 알아내는 코드를 사용\n",
    "4. 미세먼지 수치가 150을 초과하더라도 영업용차는 car driving 5days 실시\n",
    "5. 미세먼지 수치, 차량 종류 (승용차는 1, 영업용차는 2), 차량번호를 입력받아 \n",
    "6. 오늘의 날짜, 운행가능여부, 운행 불가 시 그 이유를 출력하는 프로그램 만들어줘\n",
    "\n",
    "car-driving 5days\n",
    "According to the rules below, enter the vehicle number and print out whether or not it is possible to drive\n",
    "\n",
    "If the last digit of the license plate number is 1 or 6, it cannot be operated only on Mondays.\n",
    "If the last digit of the license plate number is 2 or 7, it cannot be operated only on on Tuesdays.\n",
    "If the last digit of the license plate number is 3 or 8, it cannot be operated only on Wednesdays.\n",
    "If the last digit of the license plate number is 4 or 9, it cannot be operated only on Thursdays.\n",
    "If the last digit of the license plate number is 5 or 0, it cannot be operated only on Fridays.\n",
    "\n",
    "car-driving 2days\n",
    "A program that informs whether the vehicle is in operation by distinguishing whether the last digit of the license plate number\n",
    "is an even number or an odd number. If the last digit is an odd number, it can only operate on odd days, \n",
    "and if the last digit is an even number, it can only operate on even days.\n",
    "'''\n",
    "import datetime\n",
    "\n",
    "# get today's date\n",
    "today = datetime.date.today()\n",
    "\n",
    "# check if today is even or odd\n",
    "if today.day % 2 == 0:\n",
    "    today_type = \"even\"\n",
    "else:\n",
    "    today_type = \"odd\"\n",
    "\n",
    "# get user input for fine dust level, vehicle type, and license plate number\n",
    "fine_dust_level = int(input(\"Enter fine dust level: \"))\n",
    "vehicle_type = int(input(\"Enter vehicle type (1 for passenger cars, 2 for commercial vehicles): \"))\n",
    "license_plate_num = input(\"Enter license plate number: \")\n",
    "\n",
    "# check if vehicle can be driven today based on fine dust level and license plate number\n",
    "if fine_dust_level <= 150:\n",
    "    print(f\"Today ({today}) is {today_type} day. You can drive your vehicle with license plate number {license_plate_num}.\")\n",
    "elif vehicle_type == 2:\n",
    "    print(f\"Today ({today}) is {today_type} day. You can drive your commercial vehicle with license plate number {license_plate_num}.\")\n",
    "else:\n",
    "    last_digit = int(license_plate_num[-1])\n",
    "    if (today_type == \"even\" and last_digit % 2 == 0) or (today_type == \"odd\" and last_digit % 2 != 0):\n",
    "        print(f\"Today ({today}) is {today_type} day. You can drive your vehicle with license plate number {license_plate_num}.\")\n",
    "    else:\n",
    "        print(f\"Today ({today}) is {today_type} day. You cannot drive your vehicle with license plate number {license_plate_num}.\")"
   ]
  },
  {
   "cell_type": "code",
   "execution_count": 56,
   "id": "cd45ac07-caf2-4100-baab-752ca0e802db",
   "metadata": {},
   "outputs": [
    {
     "name": "stdin",
     "output_type": "stream",
     "text": [
      "Guess the number (between 1 and 1000):  45\n"
     ]
    },
    {
     "name": "stdout",
     "output_type": "stream",
     "text": [
      "The number is larger than 45\n"
     ]
    },
    {
     "name": "stdin",
     "output_type": "stream",
     "text": [
      "Guess the number (between 1 and 1000):  55\n"
     ]
    },
    {
     "name": "stdout",
     "output_type": "stream",
     "text": [
      "The number is larger than 55\n"
     ]
    },
    {
     "name": "stdin",
     "output_type": "stream",
     "text": [
      "Guess the number (between 1 and 1000):  66\n"
     ]
    },
    {
     "name": "stdout",
     "output_type": "stream",
     "text": [
      "The number is smaller than 66\n"
     ]
    },
    {
     "name": "stdin",
     "output_type": "stream",
     "text": [
      "Guess the number (between 1 and 1000):  60\n"
     ]
    },
    {
     "name": "stdout",
     "output_type": "stream",
     "text": [
      "The number is smaller than 60\n"
     ]
    },
    {
     "name": "stdin",
     "output_type": "stream",
     "text": [
      "Guess the number (between 1 and 1000):  57\n"
     ]
    },
    {
     "name": "stdout",
     "output_type": "stream",
     "text": [
      "The number is larger than 57\n"
     ]
    },
    {
     "name": "stdin",
     "output_type": "stream",
     "text": [
      "Guess the number (between 1 and 1000):  58\n"
     ]
    },
    {
     "name": "stdout",
     "output_type": "stream",
     "text": [
      "The number is larger than 58\n"
     ]
    },
    {
     "name": "stdin",
     "output_type": "stream",
     "text": [
      "Guess the number (between 1 and 1000):  59\n"
     ]
    },
    {
     "name": "stdout",
     "output_type": "stream",
     "text": [
      "Congratulations, you guessed the number in 7 attempts!\n"
     ]
    }
   ],
   "source": [
    "#58강 조건문6. 난수를 발생시키고 사용자가 맞추는 게임\n",
    "\n",
    "import random\n",
    "\n",
    "# generate a random number between 1 and 1000\n",
    "random_number = random.randint(1, 1000)\n",
    "\n",
    "# initialize the number of attempts to 0\n",
    "num_attempts = 0\n",
    "\n",
    "# loop until the user guesses the random number\n",
    "while True:\n",
    "    # ask the user to input a number\n",
    "    user_number = int(input(\"Guess the number (between 1 and 1000): \"))\n",
    "    \n",
    "    # increment the number of attempts\n",
    "    num_attempts += 1\n",
    "    \n",
    "    # compare the user's number to the random number\n",
    "    if user_number == random_number:\n",
    "        print(\"Congratulations, you guessed the number in\", num_attempts, \"attempts!\")\n",
    "        break\n",
    "    elif user_number < random_number:\n",
    "        print(\"The number is larger than\", user_number)\n",
    "    else:\n",
    "        print(\"The number is smaller than\", user_number)"
   ]
  },
  {
   "cell_type": "code",
   "execution_count": 63,
   "id": "ece160bc-6674-4424-8670-2a5e5f8e95c7",
   "metadata": {},
   "outputs": [
    {
     "name": "stdin",
     "output_type": "stream",
     "text": [
      "Enter the current room temperature:  28\n"
     ]
    },
    {
     "name": "stdout",
     "output_type": "stream",
     "text": [
      "The air conditioner status is: Strong\n"
     ]
    }
   ],
   "source": [
    "#58강 조건문6.  \n",
    "\n",
    "# Function to determine the air conditioner status based on temperature\n",
    "\n",
    "def get_air_conditioner_status(temp):\n",
    "    if temp <= 18:\n",
    "        return \"Off\"\n",
    "    elif temp <= 22:\n",
    "        return \"Very weak\"\n",
    "    elif temp <= 24:\n",
    "        return \"Weak\"\n",
    "    elif temp <= 26:\n",
    "        return \"Middle\"\n",
    "    elif temp <= 28:\n",
    "        return \"Strong\"\n",
    "    else:\n",
    "        return \"Very strong\"\n",
    "\n",
    "# Get the room temperature from the user\n",
    "temp = float(input(\"Enter the current room temperature: \"))\n",
    "\n",
    "# Determine the air conditioner status based on the temperature\n",
    "status = get_air_conditioner_status(temp)\n",
    "\n",
    "# Output the air conditioner status\n",
    "print(\"The air conditioner status is:\", status)"
   ]
  },
  {
   "cell_type": "code",
   "execution_count": 65,
   "id": "ef1737d5-de89-4830-9def-3a6f41010abf",
   "metadata": {},
   "outputs": [
    {
     "name": "stdout",
     "output_type": "stream",
     "text": [
      "The tens digit of 1 is even and the ones digit is odd.\n",
      "The tens digit of 2 is even and the ones digit is even.\n",
      "The tens digit of 3 is even and the ones digit is odd.\n",
      "The tens digit of 4 is even and the ones digit is even.\n",
      "The tens digit of 5 is even and the ones digit is odd.\n",
      "The tens digit of 6 is even and the ones digit is even.\n",
      "The tens digit of 7 is even and the ones digit is odd.\n",
      "The tens digit of 8 is even and the ones digit is even.\n",
      "The tens digit of 9 is even and the ones digit is odd.\n",
      "The tens digit of 10 is odd and the ones digit is even.\n"
     ]
    }
   ],
   "source": [
    "#59강 반복문1. for문 \n",
    "\n",
    "# Loop through the numbers 1 to 10\n",
    "\n",
    "for i in range(1, 11):\n",
    "    # Get the tens and ones digit of the current number\n",
    "    tens_digit = (i // 10) % 2\n",
    "    ones_digit = i % 2\n",
    "    \n",
    "    # Determine if the tens digit and ones digit are even or odd\n",
    "    if tens_digit == 0:\n",
    "        tens_parity = \"even\"\n",
    "    else:\n",
    "        tens_parity = \"odd\"\n",
    "        \n",
    "    if ones_digit == 0:\n",
    "        ones_parity = \"even\"\n",
    "    else:\n",
    "        ones_parity = \"odd\"\n",
    "    \n",
    "    # Output the result for the current number\n",
    "    print(f\"The tens digit of {i} is {tens_parity} and the ones digit is {ones_parity}.\")"
   ]
  },
  {
   "cell_type": "code",
   "execution_count": 66,
   "id": "f1eda8f7-bb42-4581-93cc-7366bed2e8b8",
   "metadata": {},
   "outputs": [
    {
     "name": "stdin",
     "output_type": "stream",
     "text": [
      "Enter an integer:  10\n"
     ]
    },
    {
     "name": "stdout",
     "output_type": "stream",
     "text": [
      "Sum from 1 to 10 is 55\n",
      "Sum of odd numbers from 1 to 10 is 25\n",
      "Sum of even numbers from 1 to 10 is 30\n",
      "Factorial of 10 is 3628800\n"
     ]
    }
   ],
   "source": [
    "#60강 반복문2. \n",
    "\n",
    "# Get the integer input from the user\n",
    "n = int(input(\"Enter an integer: \"))\n",
    "\n",
    "# Compute the sum from 1 to n\n",
    "sum_1_to_n = sum(range(1, n+1))\n",
    "\n",
    "# Compute the sum of odd numbers from 1 to n\n",
    "sum_odd = sum(range(1, n+1, 2))\n",
    "\n",
    "# Compute the sum of even numbers from 1 to n\n",
    "sum_even = sum(range(2, n+1, 2))\n",
    "\n",
    "# Compute the factorial of n\n",
    "fact = 1\n",
    "for i in range(1, n+1):\n",
    "    fact *= i\n",
    "\n",
    "# Output the results\n",
    "print(\"Sum from 1 to\", n, \"is\", sum_1_to_n)\n",
    "print(\"Sum of odd numbers from 1 to\", n, \"is\", sum_odd)\n",
    "print(\"Sum of even numbers from 1 to\", n, \"is\", sum_even)\n",
    "print(\"Factorial of\", n, \"is\", fact)"
   ]
  },
  {
   "cell_type": "code",
   "execution_count": 67,
   "id": "1c7589ba-1af2-4bce-9c51-4b85316b0ec9",
   "metadata": {},
   "outputs": [
    {
     "name": "stdout",
     "output_type": "stream",
     "text": [
      "*\n",
      "**\n",
      "***\n",
      "****\n",
      "*****\n"
     ]
    }
   ],
   "source": [
    "#61강 반복문3. 그림그리기\n",
    "\n",
    "# Set the number of rows\n",
    "num_rows = 5\n",
    "\n",
    "# Loop through the rows\n",
    "for i in range(1, num_rows+1):\n",
    "    # Print i asterisks\n",
    "    for j in range(i):\n",
    "        print(\"*\", end=\"\")\n",
    "    # Print a new line\n",
    "    print()"
   ]
  },
  {
   "cell_type": "code",
   "execution_count": 68,
   "id": "b4b5651e-fe2d-48e1-be1e-bd78fcfdb6dc",
   "metadata": {},
   "outputs": [
    {
     "name": "stdout",
     "output_type": "stream",
     "text": [
      "    *\n",
      "   **\n",
      "  ***\n",
      " ****\n",
      "*****\n"
     ]
    }
   ],
   "source": [
    "#61강 반복문3. 그림그리기\n",
    "\n",
    "# Set the number of rows\n",
    "num_rows = 5\n",
    "\n",
    "# Loop through the rows\n",
    "for i in range(1, num_rows+1):\n",
    "    # Print spaces\n",
    "    for j in range(num_rows-i):\n",
    "        print(\" \", end=\"\")\n",
    "    # Print asterisks\n",
    "    for k in range(i):\n",
    "        print(\"*\", end=\"\")\n",
    "    # Print a new line\n",
    "    print()"
   ]
  },
  {
   "cell_type": "code",
   "execution_count": 39,
   "id": "b3812eb5-45fb-4709-80ab-d869c707388c",
   "metadata": {},
   "outputs": [
    {
     "name": "stdout",
     "output_type": "stream",
     "text": [
      "Bus A and Bus B stop at the same time! 06:00\n",
      "Bus A and Bus B stop at the same time! 09:15\n",
      "Bus A and Bus B stop at the same time! 12:30\n",
      "Bus A and Bus B stop at the same time! 15:45\n",
      "Bus A and Bus B stop at the same time! 19:00\n",
      "Bus A and Bus B stop at the same time! 22:15\n",
      "Bus B and Bus C stop at the same time! 06:52\n",
      "Bus B and Bus C stop at the same time! 08:36\n",
      "Bus B and Bus C stop at the same time! 10:20\n",
      "Bus B and Bus C stop at the same time! 12:04\n",
      "Bus B and Bus C stop at the same time! 13:48\n",
      "Bus B and Bus C stop at the same time! 15:32\n",
      "Bus B and Bus C stop at the same time! 17:16\n",
      "Bus B and Bus C stop at the same time! 19:00\n",
      "Bus A and Bus C stop at the same time! 06:00\n",
      "Bus B and Bus C stop at the same time! 20:44\n",
      "Bus B and Bus C stop at the same time! 22:28\n"
     ]
    }
   ],
   "source": [
    "#62강 반복문4. 버스 정차시간\n",
    "\n",
    "'''\n",
    "집 앞 버스정류장에서 학교까지 가는 버스 A,B,C 의 운행정보가 다음과 같다\n",
    "2대 또는 3대의 버스가 집앞에 동시에 정차하는 시간대를 출력해줘\n",
    "\n",
    "버스A: 첫차 6시, 마지막차 23시, 15분 간격으로 운행\n",
    "버스B: 첫차 6시, 마지막차 23시, 13분 간격으로 운행\n",
    "버스C: 첫차 6시 20분, 마지막차 22시, 8분 간격으로 운행\n",
    "\n",
    "버스A와 버스B 동시정차! 6:00\n",
    "버스B와 버스C 동시정차! 7:44\n",
    "버스A와 버스C 동시정차! 8:00\n",
    "\n",
    "이런 식으로 시간을 출력해줘\n",
    "'''\n",
    "# Define the bus schedules\n",
    "bus_a_start = 6 * 60  # 6:00 AM in minutes\n",
    "bus_a_end = 23 * 60  # 11:00 PM in minutes\n",
    "bus_a_freq = 15  # minutes\n",
    "\n",
    "bus_b_start = 6 * 60  # 6:00 AM in minutes\n",
    "bus_b_end = 23 * 60  # 11:00 PM in minutes\n",
    "bus_b_freq = 13  # minutes\n",
    "\n",
    "bus_c_start = 6 * 60 + 20  # 6:20 AM in minutes\n",
    "bus_c_end = 22 * 60  # 10:00 PM in minutes\n",
    "bus_c_freq = 8  # minutes\n",
    "\n",
    "# Find the time zones when two buses stop at the same time\n",
    "for time in range(bus_a_start, bus_a_end, bus_a_freq):\n",
    "    if (time - bus_b_start) % bus_b_freq == 0:\n",
    "        print(f\"Bus A and Bus B stop at the same time! {time // 60:02d}:{time % 60:02d}\")\n",
    "        \n",
    "for time in range(bus_b_start, bus_b_end, bus_b_freq):\n",
    "    if (time - bus_c_start) % bus_c_freq == 0:\n",
    "        print(f\"Bus B and Bus C stop at the same time! {time // 60:02d}:{time % 60:02d}\")\n",
    "        \n",
    "        for a_time in range(bus_a_start, bus_a_end, bus_a_freq):\n",
    "            if (a_time - time) % bus_a_freq == 0:\n",
    "                print(f\"Bus A and Bus C stop at the same time! {a_time // 60:02d}:{a_time % 60:02d}\")\n",
    "                break\n",
    "\n"
   ]
  },
  {
   "cell_type": "code",
   "execution_count": 96,
   "id": "4f577a14-a187-4334-88de-f16886160904",
   "metadata": {},
   "outputs": [
    {
     "name": "stdin",
     "output_type": "stream",
     "text": [
      "Enter the number of teeth on gear A:  8\n",
      "Enter the number of teeth on gear B:  18\n"
     ]
    },
    {
     "name": "stdout",
     "output_type": "stream",
     "text": [
      "Number of teeth on gear A and B when they meet for the first time:  72\n",
      "Number of rotations for gear A:  9\n",
      "Number of rotations for gear B:  4\n"
     ]
    }
   ],
   "source": [
    "#63강 반복문5. \n",
    "\n",
    "'''\n",
    "톱니가 각각 n개와 m개의 톱니바퀴가 서로 맞물려 회전할 때 회전을 시작한 후 \n",
    "최초로 다시 만나게 될 때까지 톱니의 수(최소공배수)와 각각의 바퀴 회전수를 출력해보는 프로그램 만들어줘 (아래사항 참고)\n",
    "\n",
    "1. gear A 톱니수 n과, gear B 톱니수 m을 각각 입력받는다\n",
    "2. 반복문을 사용한다\n",
    "3. m은 n보다 크다\n",
    "'''\n",
    "\n",
    "\n",
    "def gcd(a, b):\n",
    "    # Find the greatest common divisor using Euclid's algorithm\n",
    "    while b:\n",
    "        a, b = b, a % b\n",
    "    return a\n",
    "\n",
    "def lcm(a, b):\n",
    "    # Find the least common multiple using the formula: LCM(a, b) = a*b / GCD(a, b)\n",
    "    return a * b // gcd(a, b)\n",
    "\n",
    "# Get the input values of n and m from the user\n",
    "n = int(input(\"Enter the number of teeth on gear A: \"))\n",
    "m = int(input(\"Enter the number of teeth on gear B: \"))\n",
    "\n",
    "# Find the LCM of n and m\n",
    "lcm_nm = lcm(n, m)\n",
    "\n",
    "# Find the number of rotations for each gear by dividing the LCM by the number of teeth\n",
    "rotations_n = lcm_nm // n\n",
    "rotations_m = lcm_nm // m\n",
    "\n",
    "# Print the results\n",
    "print(\"Number of teeth on gear A and B when they meet for the first time: \", lcm_nm)\n",
    "print(\"Number of rotations for gear A: \", rotations_n)\n",
    "print(\"Number of rotations for gear B: \", rotations_m)"
   ]
  },
  {
   "cell_type": "code",
   "execution_count": 24,
   "id": "9a2bd7cf-f791-4b88-be44-6dcf894aa304",
   "metadata": {},
   "outputs": [
    {
     "name": "stdin",
     "output_type": "stream",
     "text": [
      "Enter a year:  2029\n"
     ]
    },
    {
     "name": "stdout",
     "output_type": "stream",
     "text": [
      "2029 is not a leap year\n"
     ]
    }
   ],
   "source": [
    "# 64강 반복문6. 윤년계산기\n",
    "\n",
    "year = int(input(\"Enter a year: \"))\n",
    "\n",
    "if (year % 4 == 0 and year % 100 != 0) or (year % 400 == 0):\n",
    "    print(year, \"is a leap year\")\n",
    "else:\n",
    "    print(year, \"is not a leap year\")\n"
   ]
  },
  {
   "cell_type": "code",
   "execution_count": null,
   "id": "06823a35-9343-4500-83ee-5988df976559",
   "metadata": {},
   "outputs": [],
   "source": []
  }
 ],
 "metadata": {
  "kernelspec": {
   "display_name": "Python 3 (ipykernel)",
   "language": "python",
   "name": "python3"
  },
  "language_info": {
   "codemirror_mode": {
    "name": "ipython",
    "version": 3
   },
   "file_extension": ".py",
   "mimetype": "text/x-python",
   "name": "python",
   "nbconvert_exporter": "python",
   "pygments_lexer": "ipython3",
   "version": "3.9.12"
  }
 },
 "nbformat": 4,
 "nbformat_minor": 5
}
