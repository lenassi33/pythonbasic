{
 "cells": [
  {
   "cell_type": "code",
   "execution_count": null,
   "id": "c2b183d9-1d66-457c-89dc-d4e7088576e8",
   "metadata": {},
   "outputs": [],
   "source": [
    "#1강. 자료구조란, 여러 개의 데이터가 묶여있는 자료형을 컨테이너 자료형이라 하고, 이런 데이터구조를 자료구조라 한다.\n",
    "\n",
    "'''\n",
    "1. 리스트 =[ ] 수정 가능, 중복 가능\n",
    "2. 튜플 = ( )  수정 불가, 중복 가능\n",
    "3. 딕셔너리 = {key: value} \n",
    "4. 세트 = { }  중복 불가\n",
    "'''"
   ]
  },
  {
   "cell_type": "code",
   "execution_count": null,
   "id": "8660ae2f-2a25-43eb-b519-1ad537a39bb3",
   "metadata": {},
   "outputs": [],
   "source": [
    "#2강. 리스트란, 여러 개의 데이터를 나열한 자료구조\n",
    "'''\n",
    "1. 숫자, 문자(열), 논리형 등 모든 기본데이터를 같이 저장할 수 있다.\n",
    "2. 리스트에 또다른 컨테이너 자료형을 저장할 수 있다. [10,20,30,[40,50,60]]"
   ]
  },
  {
   "cell_type": "code",
   "execution_count": 6,
   "id": "fc8183bd-b553-4214-a601-3b3d912e0fd0",
   "metadata": {},
   "outputs": [
    {
     "name": "stdout",
     "output_type": "stream",
     "text": [
      "students[0]: 홍길동\n",
      "students[1]: 박찬호\n",
      "students[2]: 박세리\n",
      "students[3]: 김연아\n",
      "students[4]: 손연재\n",
      "\n",
      "students[0]: 홍길동\n",
      "students[1]: 박찬호\n",
      "students[2]: 박세리\n",
      "students[3]: 김연아\n",
      "students[4]: 손연재\n"
     ]
    }
   ],
   "source": [
    "#3강. 리스트 아이템조회 --> 인덱스란 아이템에 자동으로 부여되는 번호표, 0부터 시작, 역순은 -1부터 시작\n",
    "\n",
    "#4강. 리스트의 길이 --> len()함수사용\n",
    "\n",
    "#len()과 반복문을 사용하면 아이템 조회 가능\n",
    "\n",
    "students = ['홍길동', '박찬호', '박세리', '김연아', '손연재']\n",
    "\n",
    "#1. for문 사용\n",
    "for i in range(len(students)):\n",
    "    print('students[{}]: {}'.format(i, students[i]))\n",
    "\n",
    "print()\n",
    "\n",
    "#2. while문 사용\n",
    "n=0\n",
    "while n< len(students):\n",
    "    print('students[{}]: {}'.format(n, students[n]))\n",
    "    n+=1\n"
   ]
  },
  {
   "cell_type": "code",
   "execution_count": 45,
   "id": "878e9361-a138-4b82-bbce-4b2f3ee6b2c8",
   "metadata": {},
   "outputs": [
    {
     "name": "stdout",
     "output_type": "stream",
     "text": [
      "홍길동\n",
      "박찬호\n",
      "박세리\n",
      "김연아\n",
      "손연재\n",
      "\n",
      "홍길동\n",
      "박찬호\n",
      "박세리\n",
      "김연아\n",
      "손연재\n",
      "1학급 학생수: 19\n",
      "2학급 학생수: 20\n",
      "3학급 학생수: 30\n",
      "4학급 학생수: 25\n"
     ]
    }
   ],
   "source": [
    "#5강. 리스트와 for문(1)\n",
    "\n",
    "#for문을 사용한 조회\n",
    "\n",
    "students = ['홍길동', '박찬호', '박세리', '김연아', '손연재']\n",
    "for i in range(len(students)):\n",
    "    print(students[i])\n",
    "    \n",
    "print()    \n",
    "    \n",
    "for s in students:\n",
    "    print(s)\n",
    "    \n",
    "    \n",
    "#리스트안에 리스트\n",
    "studentCnts= [[1,19], [2,20], [3, 30], [4,25]]\n",
    "for classNo, cnt in studentCnts:   #지역변수 2개 선언\n",
    "    print('{}학급 학생수: {}'.format(classNo, cnt))               \n"
   ]
  },
  {
   "cell_type": "code",
   "execution_count": 16,
   "id": "c43e653a-bab0-4787-9dea-0894299f35a0",
   "metadata": {},
   "outputs": [
    {
     "name": "stdout",
     "output_type": "stream",
     "text": [
      "과락 과목: kor, 점수: 58\n",
      "과락 과목: his, 점수: 50\n",
      "\n",
      "과락 과목: kor, 점수: 58\n",
      "과락 과목: his, 점수: 50\n"
     ]
    }
   ],
   "source": [
    "#6강. 리스트와 for문(2)\n",
    "\n",
    "minScore =60\n",
    "\n",
    "scores=[['kor',58], ['eng',77], ['mat', 89], ['sci', 99], ['his', 50]]\n",
    "\n",
    "#1. 인덱스 활용\n",
    "for item in scores:\n",
    "    if item[1] < minScore:\n",
    "        print('과락 과목: {}, 점수: {}'.format(item[0], item[1]))\n",
    "\n",
    "print()\n",
    "\n",
    "#2. 지역변수 활용\n",
    "for subject, score in scores:\n",
    "    if score < minScore:\n",
    "        print('과락 과목: {}, 점수: {}'.format(subject, score))\n",
    "\n",
    "        "
   ]
  },
  {
   "cell_type": "code",
   "execution_count": 17,
   "id": "4a214d9c-25ca-4292-82de-f692e93184e8",
   "metadata": {},
   "outputs": [
    {
     "name": "stdin",
     "output_type": "stream",
     "text": [
      "Enter your Korean score:  80\n",
      "Enter your English score:  59\n"
     ]
    },
    {
     "name": "stdout",
     "output_type": "stream",
     "text": [
      "You failed English with a score of 59\n"
     ]
    },
    {
     "name": "stdin",
     "output_type": "stream",
     "text": [
      "Enter your Math score:  66\n",
      "Enter your Science score:  70\n",
      "Enter your History score:  50\n"
     ]
    },
    {
     "name": "stdout",
     "output_type": "stream",
     "text": [
      "You failed History with a score of 50\n"
     ]
    }
   ],
   "source": [
    "'''\n",
    "사용자가 국어, 영어, 수학, 과학, 국사 점수를 입력하면 과락 과목과 점수를 출력하는 코드 \n",
    "단, 60점 미만이면 과락이다\n",
    "for문 사용\n",
    "'''\n",
    "\n",
    "# create a list of subject names\n",
    "subjects = ['Korean', 'English', 'Math', 'Science', 'History']\n",
    "\n",
    "# iterate through the subjects and get the user's score\n",
    "for subject in subjects:\n",
    "    score = int(input(f\"Enter your {subject} score: \"))\n",
    "    if score < 60:\n",
    "        print(f\"You failed {subject} with a score of {score}\")"
   ]
  },
  {
   "cell_type": "code",
   "execution_count": 21,
   "id": "f0f45f33-a1c2-49e4-8ed6-fd7205bedfc2",
   "metadata": {},
   "outputs": [
    {
     "name": "stdout",
     "output_type": "stream",
     "text": [
      "Class with the smallest number of students: class7 ( 17 students)\n",
      "Class with the largest number of students: class3 ( 23 students)\n"
     ]
    }
   ],
   "source": [
    "'''\n",
    "classes=[['class1',18], ['class2',19], ['class3', 23], ['class4', 21], ['class5', 20], ['class6', 22], ['class7', 17]]\n",
    "학급 학생수가 가장 작은 학급과 가장 많은 학급을 출력\n",
    "for문 사용\n",
    "'''\n",
    "classes = [['class1', 18], ['class2', 19], ['class3', 23], ['class4', 21], ['class5', 20], ['class6', 22], ['class7', 17]]\n",
    "\n",
    "# initialize variables to keep track of min and max values\n",
    "min_students = classes[0][1]\n",
    "max_students = classes[0][1]\n",
    "min_class = classes[0][0]\n",
    "max_class = classes[0][0]\n",
    "\n",
    "# loop through each class in the list\n",
    "for c in classes:\n",
    "    if c[1] < min_students:\n",
    "        min_students = c[1]\n",
    "        min_class = c[0]\n",
    "    if c[1] > max_students:\n",
    "        max_students = c[1]\n",
    "        max_class = c[0]\n",
    "\n",
    "# print the results\n",
    "print(\"Class with the smallest number of students:\", min_class, \"(\", min_students, \"students)\")\n",
    "print(\"Class with the largest number of students:\", max_class, \"(\", max_students, \"students)\")"
   ]
  },
  {
   "cell_type": "code",
   "execution_count": 29,
   "id": "d2ad8e70-d084-480f-b3fb-d79da2ae9bb1",
   "metadata": {},
   "outputs": [
    {
     "name": "stdout",
     "output_type": "stream",
     "text": [
      "홍길동\n",
      "박찬호\n",
      "박세리\n",
      "김연아\n",
      "손연재\n",
      "\n",
      "홍길동\n",
      "박찬호\n",
      "박세리\n",
      "김연아\n",
      "손연재\n",
      "\n",
      "홍길동\n",
      "박찬호\n",
      "박세리\n",
      "김연아\n",
      "손연재\n"
     ]
    }
   ],
   "source": [
    "#7강. 리스트와 while문(1) : while문을 이용하여 다양한 방법으로 조회가능\n",
    "\n",
    "students = ['홍길동', '박찬호', '박세리', '김연아', '손연재']\n",
    "\n",
    "#while문1\n",
    "n=0\n",
    "while n< len(students):\n",
    "    print(students[n])\n",
    "    n+=1\n",
    " \n",
    "print()\n",
    "\n",
    "#while문2\n",
    "n=0\n",
    "flag=True\n",
    "while flag:\n",
    "    print(students[n])\n",
    "    n+=1\n",
    "\n",
    "    if n == len(students): \n",
    "        flag=False\n",
    "  \n",
    "print()\n",
    "\n",
    "#while문3\n",
    "n=0\n",
    "while True:\n",
    "    print(students[n])\n",
    "    n+=1\n",
    "\n",
    "    if n == len(students): \n",
    "        break\n",
    "        "
   ]
  },
  {
   "cell_type": "code",
   "execution_count": 28,
   "id": "6454602f-5d97-4ec5-a496-3683362c361b",
   "metadata": {},
   "outputs": [
    {
     "name": "stdout",
     "output_type": "stream",
     "text": [
      "Class: class1 - Number of students: 18\n",
      "Class: class2 - Number of students: 19\n",
      "Class: class3 - Number of students: 23\n",
      "Class: class4 - Number of students: 21\n",
      "Class: class5 - Number of students: 20\n",
      "Class: class6 - Number of students: 22\n",
      "Class: class7 - Number of students: 17\n",
      "Total number of students: 140\n",
      "Average number of students per class: 20.0\n"
     ]
    }
   ],
   "source": [
    "'''\n",
    "classes = [['class1', 18], ['class2', 19], ['class3', 23], ['class4', 21], ['class5', 20], ['class6', 22], ['class7', 17]] \n",
    "while문을 사용해서 학급별 학생수, 전체학생수, 평균학생수를 각각 출력해줘\n",
    "'''\n",
    "\n",
    "# initialize variables\n",
    "i = 0\n",
    "num_classes = len(classes)\n",
    "total_students = 0\n",
    "\n",
    "# loop through each class\n",
    "while i < num_classes:\n",
    "    # get the name and number of students for the current class\n",
    "    class_name = classes[i][0]\n",
    "    num_students = classes[i][1]\n",
    "    \n",
    "    # output the number of students for the current class\n",
    "    print(\"Class:\", class_name, \"- Number of students:\", num_students)\n",
    "    \n",
    "    # add the number of students to the total\n",
    "    total_students += num_students\n",
    "    \n",
    "    # increment the counter variable\n",
    "    i += 1\n",
    "    \n",
    "# output the total number of students and the average number of students\n",
    "print(\"Total number of students:\", total_students)\n",
    "print(\"Average number of students per class:\", total_students / num_classes)\n"
   ]
  },
  {
   "cell_type": "code",
   "execution_count": 30,
   "id": "c1a9eafc-6210-4ba7-8ffe-0dc8562fefb7",
   "metadata": {},
   "outputs": [
    {
     "name": "stdin",
     "output_type": "stream",
     "text": [
      "Enter your score for Korean:  58\n",
      "Enter your score for English:  77\n",
      "Enter your score for Math:  89\n",
      "Enter your score for Science:  99\n",
      "Enter your score for History:  50\n"
     ]
    },
    {
     "name": "stdout",
     "output_type": "stream",
     "text": [
      "You failed the following subjects:\n",
      "Korean: 58\n",
      "History: 50\n"
     ]
    }
   ],
   "source": [
    "#8강.리스트와 while문(2)   \n",
    "'''\n",
    "사용자가 국어, 영어, 수학, 과학, 국사 점수를 입력하면 과락 과목과 점수를 출력하는 코드 \n",
    "단, 60점 미만이면 과락이다\n",
    "while문 사용\n",
    "'''\n",
    "\n",
    "# initialize variables\n",
    "subjects = ['Korean', 'English', 'Math', 'Science', 'History']\n",
    "scores = []\n",
    "failed_subjects = []\n",
    "failed_scores = []\n",
    "\n",
    "# take user input for scores\n",
    "i = 0\n",
    "while i < len(subjects):\n",
    "    score = int(input(\"Enter your score for \" + subjects[i] + \": \"))\n",
    "    scores.append(score)\n",
    "    if score < 60:\n",
    "        failed_subjects.append(subjects[i])\n",
    "        failed_scores.append(score)\n",
    "    i += 1\n",
    "\n",
    "# output the failed subjects and their scores\n",
    "if len(failed_subjects) > 0:\n",
    "    print(\"You failed the following subjects:\")\n",
    "    for i in range(len(failed_subjects)):\n",
    "        print(failed_subjects[i] + \": \" + str(failed_scores[i]))\n",
    "else:\n",
    "    print(\"Congratulations! You passed all subjects.\")"
   ]
  },
  {
   "cell_type": "code",
   "execution_count": 33,
   "id": "d1504d7c-a677-47da-8257-52d5544afa1e",
   "metadata": {},
   "outputs": [
    {
     "name": "stdout",
     "output_type": "stream",
     "text": [
      "Class with the smallest number of students: 17\n",
      "Class with the largest number of students: 23\n",
      "Average class size: 20\n"
     ]
    }
   ],
   "source": [
    "'''\n",
    "classes=[['class1',18], ['class2',19], ['class3', 23], ['class4', 21], ['class5', 20], ['class6', 22], ['class7', 17]]\n",
    "학급 학생수가 가장 작은 학급과 가장 많은 학급을 출력\n",
    "while문 사용\n",
    "'''\n",
    "\n",
    "classes = [['class1', 18], ['class2', 19], ['class3', 23], ['class4', 21], ['class5', 20], ['class6', 22], ['class7', 17]]\n",
    "\n",
    "# initialize variables for minimum and maximum class size\n",
    "min_class = classes[0][1]\n",
    "max_class = classes[0][1]\n",
    "\n",
    "# initialize variables for total and count of students\n",
    "total_students = 0\n",
    "count = 0\n",
    "\n",
    "# loop through the list using a while loop\n",
    "while count < len(classes):\n",
    "    # get the current class size\n",
    "    current_class_size = classes[count][1]\n",
    "    \n",
    "    # add the current class size to the total\n",
    "    total_students += current_class_size\n",
    "    \n",
    "    # check if the current class size is smaller than the minimum class size\n",
    "    if current_class_size < min_class:\n",
    "        min_class = current_class_size\n",
    "    \n",
    "    # check if the current class size is larger than the maximum class size\n",
    "    if current_class_size > max_class:\n",
    "        max_class = current_class_size\n",
    "    \n",
    "    # increment the count variable\n",
    "    count += 1\n",
    "\n",
    "# calculate the average class size\n",
    "average_class_size = total_students / len(classes)\n",
    "\n",
    "# output the results\n",
    "print(\"Class with the smallest number of students:\", min_class)\n",
    "print(\"Class with the largest number of students:\", max_class)\n",
    "print(\"Average class size:\", int(average_class_size))"
   ]
  },
  {
   "cell_type": "code",
   "execution_count": 36,
   "id": "2b06ffb9-f957-430d-8ec8-252847c123ab",
   "metadata": {},
   "outputs": [
    {
     "name": "stdout",
     "output_type": "stream",
     "text": [
      "0:농구\n",
      "1:축구\n",
      "2:야구\n",
      "3:수영\n",
      "4:마라톤\n",
      "\n",
      "0:농구\n",
      "1:축구\n",
      "2:야구\n",
      "3:수영\n",
      "4:마라톤\n"
     ]
    }
   ],
   "source": [
    "#9강. enumerate()함수: 인덱스와 아이템을 한번에 조회가능\n",
    "\n",
    "sports =[ '농구', '축구', '야구', '수영', '마라톤']\n",
    "\n",
    "for i in range(len(sports)):\n",
    "    print('{}:{}'.format(i,sports[i]))\n",
    "\n",
    "print()\n",
    "\n",
    "#enumerate()함수 사용\n",
    "for idx, value in enumerate(sports):\n",
    "    print('{}:{}'.format(idx,value))"
   ]
  },
  {
   "cell_type": "code",
   "execution_count": 39,
   "id": "98c26ae1-cba5-4ddf-8099-1fe955fafb78",
   "metadata": {},
   "outputs": [
    {
     "name": "stdin",
     "output_type": "stream",
     "text": [
      "What is your favorite sport?  swimming\n"
     ]
    },
    {
     "name": "stdout",
     "output_type": "stream",
     "text": [
      "swimming is in the 4 position in the list.\n"
     ]
    }
   ],
   "source": [
    "'''\n",
    "sports = ['basketball', 'soccer', 'baseball', 'swimming', 'marathon']\n",
    "가장 좋아하는 스포츠를 입력받아 리스트의 몇번째에 있는지 출력하는 프로그램\n",
    "enumerate()사용\n",
    "'''\n",
    "\n",
    "sports = ['basketball', 'soccer', 'baseball', 'swimming', 'marathon']\n",
    "favorite_sport = input(\"What is your favorite sport? \")\n",
    "\n",
    "for index, sport in enumerate(sports):\n",
    "    if sport == favorite_sport:\n",
    "        print(f\"{favorite_sport} is in the {index+1} position in the list.\")\n",
    "        break\n",
    "else:\n",
    "    print(f\"{favorite_sport} is not in the list.\")"
   ]
  },
  {
   "cell_type": "code",
   "execution_count": 40,
   "id": "6c46e809-94dc-4c5e-ba5c-6f1dcbf19f43",
   "metadata": {},
   "outputs": [
    {
     "name": "stdin",
     "output_type": "stream",
     "text": [
      "Enter a string:  오늘 날씨는 아주 좋습니다.\n"
     ]
    },
    {
     "name": "stdout",
     "output_type": "stream",
     "text": [
      "There are 3 spaces in the string '오늘 날씨는 아주 좋습니다.'.\n"
     ]
    }
   ],
   "source": [
    "#사용자가 입력한 문자열에서 공백의 갯수를 출력하는 프로그램, enumerate()사용\n",
    "\n",
    "string = input(\"Enter a string: \")\n",
    "count = 0\n",
    "\n",
    "for index, char in enumerate(string):\n",
    "    if char == ' ':\n",
    "        count += 1\n",
    "\n",
    "print(f\"There are {count} spaces in the string '{string}'.\")"
   ]
  },
  {
   "cell_type": "code",
   "execution_count": 45,
   "id": "e92c9405-2632-49e6-8618-954e075579ca",
   "metadata": {},
   "outputs": [
    {
     "name": "stdout",
     "output_type": "stream",
     "text": [
      "Iaboy\n",
      "I am a boy "
     ]
    }
   ],
   "source": [
    "#10강. 리스트에 아이템 추가: append()함수를 이용하면 마지막 인덱스에 아이템 추가가능\n",
    "\n",
    "#11강. 리스트의 특정위치에 아이템 추가: insert()함수를 이용하면 특정위치(인덱스)에 아이템 추가가능\n",
    "\n",
    "words = ['I', 'a', 'boy']\n",
    "for i in words:\n",
    "    print(i, end='')\n",
    "\n",
    "print()\n",
    "\n",
    "words.insert(1, 'am')\n",
    "for i in words:\n",
    "    print('{} '.format(i), end='')"
   ]
  },
  {
   "cell_type": "code",
   "execution_count": 48,
   "id": "f9577e92-b72f-4a16-9f47-69cfd076b465",
   "metadata": {},
   "outputs": [
    {
     "name": "stdin",
     "output_type": "stream",
     "text": [
      "Enter a number to add:  55\n"
     ]
    },
    {
     "name": "stdout",
     "output_type": "stream",
     "text": [
      "[1, 3, 6, 11, 45, 54, 55, 62, 74, 85]\n"
     ]
    }
   ],
   "source": [
    "'''\n",
    "오름차순으로 정렬되어 있는 숫자들에 사용자가 입력한 정수를 추가하는 프로그램\n",
    "단, 추가 후에도 오름차순 정렬이 유지되어야 한다\n",
    "'''\n",
    "\n",
    "numbers = [1, 3, 6, 11, 45, 54, 62, 74, 85]\n",
    "num = int(input(\"Enter a number to add: \"))\n",
    "\n",
    "for index, value in enumerate(numbers):\n",
    "    if num < value:\n",
    "        numbers.insert(index, num)\n",
    "        break\n",
    "else:\n",
    "    numbers.append(num)\n",
    "\n",
    "print(numbers)\n"
   ]
  },
  {
   "cell_type": "code",
   "execution_count": 58,
   "id": "8b70ad67-dfe6-4e8c-a058-c5713496a73b",
   "metadata": {},
   "outputs": [
    {
     "name": "stdout",
     "output_type": "stream",
     "text": [
      "['농구', '축구', '야구', '마라톤', '수영']\n",
      "\n",
      "['농구', '축구', '야구', '마라톤']\n",
      "\n",
      "Highest score: 9.8\n",
      "Lowest score: 8.8\n",
      "Updated scores: [8.9, 9.0, 9.2, 9.5]\n"
     ]
    }
   ],
   "source": [
    "#12강. 리스트의 아이템 삭제: pop()함수를 사용해서 마지막 인덱스 아이템을 삭제 가능\n",
    "\n",
    "#13강. 리스트의 특정 아이템 삭제 \n",
    "\n",
    "#삭제하려는 아이템이 여러개라면 while문 사용\n",
    "\n",
    "sports =[ '농구', '축구', '야구', '수영', '마라톤', '수영']\n",
    "sports.remove('수영') #4번쨰 수영만 삭제됨\n",
    "print(sports)\n",
    "\n",
    "print()\n",
    "\n",
    "while '수영' in sports:\n",
    "    sports.remove('수영') #모든 '수영' 삭제\n",
    "    print(sports)\n",
    "\n",
    "print()\n",
    "\n",
    "#최고점과 최저점 삭제 후 출력\n",
    "\n",
    "scores = [9.5, 8.9, 9.2, 9.8, 8.8, 9.0]\n",
    "\n",
    "highest = max(scores)\n",
    "lowest = min(scores)\n",
    "\n",
    "scores.remove(highest) \n",
    "scores.remove(lowest) \n",
    "\n",
    "print(f\"Highest score: {highest}\")\n",
    "print(f\"Lowest score: {lowest}\")\n",
    "print(\"Updated scores:\", sorted(scores))"
   ]
  },
  {
   "cell_type": "code",
   "execution_count": 59,
   "id": "8c7f7196-5859-4ea0-a465-3091f2883a59",
   "metadata": {},
   "outputs": [
    {
     "name": "stdout",
     "output_type": "stream",
     "text": [
      "[1, 2, 3, 4, 5, 6, 7]\n"
     ]
    }
   ],
   "source": [
    "#14강. 리스트 연결: extend()함수를 이용하면 또다른 리스트를 연결할 수 있다.\n",
    "\n",
    "#나와 내친구가 좋아하는 번호를 합치되 번호가 중복되지 않도록 출력하는 프로그램\n",
    "\n",
    "my_numbers = [1, 2, 3, 4, 5]\n",
    "friend_numbers = [3, 4, 5, 6, 7]\n",
    "\n",
    "my_numbers.extend([number for number in friend_numbers if number not in my_numbers])\n",
    "\n",
    "print(my_numbers)"
   ]
  },
  {
   "cell_type": "code",
   "execution_count": 60,
   "id": "0b3d9bd2-2816-490c-aa8f-397542f0ff2b",
   "metadata": {},
   "outputs": [
    {
     "name": "stdout",
     "output_type": "stream",
     "text": [
      "[8.9, 9.0, 9.2, 9.5]\n"
     ]
    }
   ],
   "source": [
    "#15강. 리스트 아이템 정렬:오름차순(sort()) 또는 내림차순(sort(reverse=True))\n",
    "\n",
    "#최고점과 최저점 삭제 후 sort함수를 이용해서 오름차순 정렬 후 출력\n",
    "scores = [9.5, 8.9, 9.2, 9.8, 8.8, 9.0]\n",
    "\n",
    "highest = max(scores)\n",
    "lowest = min(scores)\n",
    "\n",
    "scores.remove(highest)\n",
    "scores.remove(lowest)\n",
    "\n",
    "scores.sort()\n",
    "print(scores)"
   ]
  },
  {
   "cell_type": "code",
   "execution_count": 66,
   "id": "7a46cf34-ebf8-4d45-92ba-18086a98d009",
   "metadata": {},
   "outputs": [
    {
     "name": "stdout",
     "output_type": "stream",
     "text": [
      "secretList: [2, 7, 1, 5, 6, 2, 3, 1]\n",
      "secretList_reveresed: [1, 3, 2, 6, 5, 1, 7, 2]\n",
      "secretList_decoded: [1, 3, 3, 2, 6, 12, 5, 1, 5, 7, 2, 14]\n"
     ]
    }
   ],
   "source": [
    "#16강. 리스트 아이템 순서뒤집기: reverse()함수를 사용\n",
    "\n",
    "secret ='27156231' #문자열\n",
    "secretList =[]\n",
    "solvedList=''\n",
    "\n",
    "for cha in secret:\n",
    "    secretList.append(int(cha))\n",
    "print('secretList: {}'.format(secretList))\n",
    "\n",
    "secretList.reverse()\n",
    "print('secretList_reveresed: {}'.format(secretList))\n",
    "\n",
    "val= secretList[0] * secretList[1]\n",
    "secretList.insert(2, val)\n",
    "\n",
    "val= secretList[3] * secretList[4]\n",
    "secretList.insert(5, val)\n",
    "\n",
    "val= secretList[6] * secretList[7]\n",
    "secretList.insert(8, val)\n",
    "\n",
    "val= secretList[9] * secretList[10]\n",
    "secretList.insert(11, val)\n",
    "\n",
    "print('secretList_decoded: {}'.format(secretList))"
   ]
  },
  {
   "cell_type": "code",
   "execution_count": null,
   "id": "bcec0512-2f42-46d1-a67f-791f4a95b92b",
   "metadata": {},
   "outputs": [],
   "source": [
    "#17강. 리스트 슬라이싱\n",
    "'''\n",
    "[n : m]을 사용하면 리스트에서 원하는 아이템만 뽑아내거나 아이템 수정가능 (n부터, m-1까지)\n",
    "slice(n , m)함수로 슬라이싱 가능 (n부터, m-1까지)\n",
    "'''"
   ]
  },
  {
   "cell_type": "code",
   "execution_count": 76,
   "id": "7be0d567-807e-4c04-9367-ff734873be87",
   "metadata": {},
   "outputs": [
    {
     "name": "stdout",
     "output_type": "stream",
     "text": [
      "3\n",
      "5\n"
     ]
    }
   ],
   "source": [
    "#18강. 리스트 나머지 기능1\n",
    "'''\n",
    "1. 리스트를 곱셈 연산하면 아이템이 반복된다.\n",
    "2. index(item) : item의 인덱스를 알 수 있다.\n",
    "'''\n",
    "\n",
    "sports =[ '농구', '축구', '야구', '수영', '마라톤', '수영']\n",
    "print(sports.index('수영')) #맨 처음것만 출력\n",
    "print(sports.index('수영', 5, 6)) #범위 설정\n"
   ]
  },
  {
   "cell_type": "code",
   "execution_count": 78,
   "id": "921198c5-ed6c-4471-b33b-f284c45fac8e",
   "metadata": {},
   "outputs": [
    {
     "name": "stdout",
     "output_type": "stream",
     "text": [
      "The mixed numbers are: [8, 2, 9, 6, 3, 1, 4, 5, 10, 7]\n",
      "The position of 7 in the mixed numbers is: 10\n"
     ]
    }
   ],
   "source": [
    "#1부터 10까지의 정수가 중복되지 않고 섞여있을 때 7의 위치를 찾는 프로그램\n",
    "\n",
    "import random\n",
    "\n",
    "numbers = list(range(1, 11))\n",
    "random.shuffle(numbers)\n",
    "\n",
    "position = numbers.index(7) + 1\n",
    "\n",
    "print(f\"The mixed numbers are: {numbers}\")\n",
    "print(f\"The position of 7 in the mixed numbers is: {position}\")"
   ]
  },
  {
   "cell_type": "code",
   "execution_count": 84,
   "id": "2e4ee3bb-361e-4c67-bbda-f1a505c8b6ea",
   "metadata": {},
   "outputs": [
    {
     "name": "stdout",
     "output_type": "stream",
     "text": [
      "['농구', '축구', '수영', '마라톤', '수영']\n",
      "['농구', '마라톤', '수영']\n"
     ]
    }
   ],
   "source": [
    "#19강. 리스트 나머지 기능2\n",
    "'''\n",
    "1. count()함수를 이용하면 특정 아이템의 갯수를 알아낼 수 있다\n",
    "2. del()함수를 이용하면 특정 아이템을 삭제할 수 있다.\n",
    "'''\n",
    "\n",
    "#count()함수\n",
    "sports =[ '농구', '축구', '야구', '수영', '마라톤', '수영']\n",
    "sports.count('수영')\n",
    "\n",
    "#del()함수\n",
    "sports =[ '농구', '축구', '야구', '수영', '마라톤', '수영']\n",
    "del sports[2]\n",
    "print(sports)\n",
    "\n",
    "del sports[1:3]\n",
    "print(sports)\n"
   ]
  },
  {
   "cell_type": "code",
   "execution_count": 12,
   "id": "74e2efe1-91d6-40b6-96ea-223936da28ad",
   "metadata": {},
   "outputs": [
    {
     "name": "stdout",
     "output_type": "stream",
     "text": [
      "['B', 'AB', 'A', 'A', 'B', 'A', 'O', 'O', 'A', 'B', 'O', 'A', 'B', 'A', 'AB', 'A', 'AB', 'B', 'A', 'AB', 'A', 'A', 'A', 'AB', 'A', 'AB', 'B', 'O', 'O', 'A', 'B', 'O', 'O', 'A', 'AB', 'AB', 'AB', 'O', 'A', 'B', 'AB', 'B', 'B', 'O', 'O', 'AB', 'B', 'AB', 'AB', 'B', 'O', 'O', 'B', 'B', 'B', 'A', 'AB', 'O', 'A', 'A', 'AB', 'B', 'A', 'B', 'A', 'O', 'AB', 'O', 'A', 'O', 'A', 'A', 'O', 'AB', 'A', 'AB', 'AB', 'AB', 'O', 'AB', 'A', 'B', 'AB', 'B', 'A', 'O', 'O', 'AB', 'AB', 'AB', 'B', 'B', 'A', 'B', 'B', 'B', 'AB', 'O', 'O', 'A']\n",
      "todayData length: 100\n",
      "A형은: 28개\n",
      "B형은: 24개\n",
      "AB형은: 26개\n",
      "O형은: 22개\n"
     ]
    }
   ],
   "source": [
    "#헌혈을 진행한 후 혈액형 별 개수를 화면에 출력하는 프로그램. 이때 혈액형별 도너의 숫자는 랜덤으로 정한다\n",
    "\n",
    "import random\n",
    "\n",
    "types = [\"A\", \"B\", \"AB\", \"O\"]\n",
    "todaydata= []\n",
    "\n",
    "for i in range(100):\n",
    "    type = types[random.randrange(len(types))]\n",
    "    todaydata.append(type)\n",
    "    \n",
    "print(todaydata)\n",
    "print('todayData length: {}'.format(len(todaydata)))\n",
    "\n",
    "for type in types:\n",
    "    print('{}형은: {}개'.format(type,todaydata.count(type)))"
   ]
  },
  {
   "cell_type": "code",
   "execution_count": null,
   "id": "61a909a3-d395-43ae-8902-8ab73f227984",
   "metadata": {},
   "outputs": [],
   "source": [
    "#20강. 튜플\n",
    "'''\n",
    "1. 아이템 수정 및 삭제가 불가능\n",
    "2. ()로 선언하고 데이터 구분은 ',' 로 한다\n",
    "3. 숫자, 문자(열), 논리형 등 모든 데이터를 저장 가능\n",
    "4. 튜플안에 또다른 컨테이너 자료형도 저장 가능\n",
    "5. 튜플 선언 시 괄호 생략 가능\n",
    "6. 리스트와 튜플은 자료형 변환 가능: tuple(students), list(students)\n",
    "'''\n",
    "\n",
    "#21강. 튜플 아이템 조회: 인덱스 "
   ]
  },
  {
   "cell_type": "code",
   "execution_count": 13,
   "id": "01de604d-0d79-47c5-a83a-e97b563544db",
   "metadata": {},
   "outputs": [
    {
     "name": "stdin",
     "output_type": "stream",
     "text": [
      "Enter a number:  10\n"
     ]
    },
    {
     "name": "stdout",
     "output_type": "stream",
     "text": [
      "10 is in the list of random numbers: [5, 10, 7, 3, 3]\n"
     ]
    }
   ],
   "source": [
    "#22강. 튜플 in, not in키워드: 아이템의 존재 유/무를 알 수 있다\n",
    "\n",
    "#1~10까지 5개의 난수를 생성한 후 사용자가 입력한 숫자가 있는지 없는지 출력하는 프로그램\n",
    "import random\n",
    "\n",
    "numbers = []\n",
    "for i in range(5):\n",
    "    numbers.append(random.randint(1, 10))\n",
    "\n",
    "user_number = int(input(\"Enter a number: \"))\n",
    "\n",
    "if user_number in numbers:\n",
    "    print(f\"{user_number} is in the list of random numbers: {numbers}\")\n",
    "else:\n",
    "    print(f\"{user_number} is not in the list of random numbers: {numbers}\")\n"
   ]
  },
  {
   "cell_type": "code",
   "execution_count": 14,
   "id": "028ff80d-05cd-4ce3-8a65-b0682fe3a447",
   "metadata": {},
   "outputs": [
    {
     "name": "stdout",
     "output_type": "stream",
     "text": [
      "(1, 2, 3, 4, 5, 6, 7)\n"
     ]
    }
   ],
   "source": [
    "#23강. 튜플 길이: len()함수\n",
    "\n",
    "#24강. 튜플 결합: +연산자 (extend()함수는 사용불가)   cf. 리스트 결합: extend()함수, +연산자\n",
    "\n",
    "#나와 내친구가 좋아하는 번호를 튜플로 만들어 합치되 번호가 중복되지 않도록 출력하는 프로그램\n",
    "\n",
    "my_numbers = (1, 2, 3, 4, 5)\n",
    "friend_numbers = (3, 4, 5, 6, 7)\n",
    "\n",
    "combined_numbers = tuple(set(my_numbers + friend_numbers)) #set(): 중복금지\n",
    "\n",
    "print(combined_numbers)"
   ]
  },
  {
   "cell_type": "code",
   "execution_count": null,
   "id": "6d8ff1c4-eaf4-4c06-9c4a-af4e2d51c23e",
   "metadata": {},
   "outputs": [],
   "source": [
    "#25강. 튜플 슬라이싱\n",
    "'''\n",
    "1. 리스트와 마찬가지로 [n:m]을 사용한다 \n",
    "2. 튜플은 슬라이싱을 이용해서 아이템을 변경할 수 없다.\n",
    "'''"
   ]
  },
  {
   "cell_type": "code",
   "execution_count": 21,
   "id": "fe9477ee-2793-4694-8be9-c5bb67b33197",
   "metadata": {},
   "outputs": [
    {
     "name": "stdout",
     "output_type": "stream",
     "text": [
      "['농구', '축구', '야구', '수영', '마라톤', '수영', '테니스']\n",
      "['농구', '축구', '역도', '수영', '마라톤', '수영', '테니스']\n",
      "['농구', '축구', '역도', '수영', '마라톤', '수영']\n"
     ]
    }
   ],
   "source": [
    "#26강. 리스트와 튜플\n",
    "\n",
    "#리스트는 아래 모두 가능하나, 튜플은 모두 불가\n",
    "\n",
    "sports =[ '농구', '축구', '야구', '수영', '마라톤', '수영']\n",
    "\n",
    "#1.추가\n",
    "sports.append('테니스')\n",
    "print(sports)\n",
    "\n",
    "#2.변경\n",
    "sports[2] = '역도'\n",
    "print(sports)\n",
    "\n",
    "#3.삭제\n",
    "sports.pop()\n",
    "print(sports) "
   ]
  },
  {
   "cell_type": "code",
   "execution_count": 26,
   "id": "5f9dcc12-2707-4353-b10b-bf56e9316011",
   "metadata": {},
   "outputs": [
    {
     "name": "stdout",
     "output_type": "stream",
     "text": [
      "[9.5, 8.9, 9.2, 9.0]\n",
      "Total score: 36.6\n",
      "Average score: 9.15\n"
     ]
    }
   ],
   "source": [
    "#최고점과 최저점 삭제 후 sort함수를 이용해서 오름차순 정렬 후 출력\n",
    "\n",
    "scores = (9.5, 8.9, 9.2, 9.8, 8.8, 9.0)\n",
    "\n",
    "sorted_scores = list(scores) #리스트로 변환\n",
    "sorted_scores.remove(max(sorted_scores)) #리스트에서 삭제 \n",
    "sorted_scores.remove(min(sorted_scores)) #리스트에서 삭제\n",
    "\n",
    "total_score = sum(sorted_scores)\n",
    "average_score = total_score / len(sorted_scores)\n",
    "\n",
    "print(sorted_scores)\n",
    "print(f\"Total score: {round(total_score,3)}\")\n",
    "print(f\"Average score: {round(average_score,3)}\")\n"
   ]
  },
  {
   "cell_type": "code",
   "execution_count": null,
   "id": "afd79ebd-6005-4f94-aea6-816883678895",
   "metadata": {},
   "outputs": [],
   "source": [
    "#27강. 튜플 아이템 정렬\n",
    "'''\n",
    "1. 수정이 불가하므로, 리스트로 변환후 sort()함수로 정렬한다.\n",
    "2. sorted()함수를 이용하면 튜플도 정렬가능. 단, sorted()는 리스트 자료형으로 반환한다.\n",
    "'''"
   ]
  },
  {
   "cell_type": "code",
   "execution_count": 46,
   "id": "5cf36873-7464-4f2d-9714-f963ae7b2be7",
   "metadata": {},
   "outputs": [
    {
     "name": "stdout",
     "output_type": "stream",
     "text": [
      "홍길동\n",
      "박찬호\n",
      "박세리\n",
      "김연아\n",
      "손연재\n",
      "\n",
      "홍길동\n",
      "박찬호\n",
      "박세리\n",
      "김연아\n",
      "손연재\n"
     ]
    }
   ],
   "source": [
    "#28~29강. 튜플과 for문 : for문을 사용한 조회\n",
    "\n",
    "students = '홍길동', '박찬호', '박세리', '김연아', '손연재'\n",
    "for i in range(len(students)):\n",
    "    print(students[i])\n",
    "    \n",
    "print()    \n",
    "    \n",
    "for s in students:\n",
    "    print(s)\n",
    "    \n",
    "    \n",
    "#중첩 튜플문 조회가능\n",
    "\n",
    "studentCnts=((1,19), (2,20), (3,22), (4,18), (5,21))\n",
    "for classNo, cnt in studentCnts:\n",
    "    print('{}학급 학생 수 : {}'.format(classNo, cnt))"
   ]
  },
  {
   "cell_type": "code",
   "execution_count": 49,
   "id": "cdd5d38f-079b-49e2-9530-cd71643c3343",
   "metadata": {},
   "outputs": [
    {
     "name": "stdout",
     "output_type": "stream",
     "text": [
      "홍길동\n",
      "박찬호\n",
      "박세리\n",
      "김연아\n",
      "손연재\n",
      "\n",
      "홍길동\n",
      "박찬호\n",
      "박세리\n",
      "김연아\n",
      "손연재\n",
      "\n",
      "홍길동\n",
      "박찬호\n",
      "박세리\n",
      "김연아\n",
      "손연재\n"
     ]
    }
   ],
   "source": [
    "#30~31강. 튜플과 while문(1) :  while문을 사용한 조회\n",
    "\n",
    "students = ('홍길동', '박찬호', '박세리', '김연아', '손연재')\n",
    "\n",
    "#while문1\n",
    "n=0\n",
    "while n< len(students):\n",
    "    print(students[n])\n",
    "    n+=1\n",
    " \n",
    "print()\n",
    "\n",
    "#while문2\n",
    "n=0\n",
    "flag=True\n",
    "while flag:\n",
    "    print(students[n])\n",
    "    n+=1\n",
    "\n",
    "    if n == len(students): \n",
    "        flag=False\n",
    "  \n",
    "print()\n",
    "\n",
    "#while문3\n",
    "n=0\n",
    "while True:\n",
    "    print(students[n])\n",
    "    n+=1\n",
    "\n",
    "    if n == len(students): \n",
    "        break\n"
   ]
  },
  {
   "cell_type": "code",
   "execution_count": 54,
   "id": "90428b3b-c072-433f-8fae-4592e843b4a5",
   "metadata": {},
   "outputs": [
    {
     "name": "stdout",
     "output_type": "stream",
     "text": [
      "['박세리', '박공주']\n",
      "홍길동\n"
     ]
    }
   ],
   "source": [
    "#32강. 딕셔너리 \n",
    "\n",
    "'''\n",
    "1. key와 value를 사용해서 자료를 관리한다.\n",
    "2. key와 value에는 숫자, 문자열, 논리형 뿐만 아니라 컨테이너 자료형도 올 수 있다.\n",
    "'''\n",
    "\n",
    "#33강. 딕셔너리 조회\n",
    "\n",
    "students={ 's1': '홍길동', 's2': '박찬호', 's3': '이용규', 's4': ['박세리', '박공주']}\n",
    "\n",
    "print(students['s4']) #[]로 조회\n",
    "print(students.get('s1')) #get(key)로 조회, 단 없는 key라도 에러발생하지 않고 None으로 출력\n"
   ]
  },
  {
   "cell_type": "code",
   "execution_count": 58,
   "id": "62b2ebae-a8b9-42f2-bc76-c9f837f081d7",
   "metadata": {},
   "outputs": [
    {
     "name": "stdin",
     "output_type": "stream",
     "text": [
      "Enter student name:  레나\n",
      "Enter student grade:  1\n",
      "Enter student email:  amor\n",
      "Enter student address:  서울\n"
     ]
    },
    {
     "name": "stdout",
     "output_type": "stream",
     "text": [
      "Student information added to dictionary:\n",
      "{'name': '레나', 'grade': '1', 'email': 'amor', 'address': '서울'}\n"
     ]
    }
   ],
   "source": [
    "#34강. 딕셔너리 추가: 키를 이용해서 아이템 추가, 이미 있다면 기존정보 수정\n",
    "\n",
    "#학생정보(이름, 학년, 메일, 주소)를 입력받아 딕셔너리에 추가하는 프로그램\n",
    "\n",
    "student_dict = {}\n",
    "\n",
    "name = input(\"Enter student name: \")\n",
    "grade = input(\"Enter student grade: \")\n",
    "email = input(\"Enter student email: \")\n",
    "address = input(\"Enter student address: \")\n",
    "\n",
    "student_dict = {\n",
    "    \"name\": name,\n",
    "    \"grade\": grade,\n",
    "    \"email\": email,\n",
    "    \"address\": address\n",
    "}\n",
    "\n",
    "print(\"Student information added to dictionary:\")\n",
    "print(student_dict)\n"
   ]
  },
  {
   "cell_type": "code",
   "execution_count": 59,
   "id": "075c3bf1-c3cc-4a67-adae-cec3a828b8ff",
   "metadata": {},
   "outputs": [
    {
     "name": "stdout",
     "output_type": "stream",
     "text": [
      "{0: 1, 1: 1, 2: 2, 3: 6, 4: 24, 5: 120, 6: 720, 7: 5040, 8: 40320, 9: 362880, 10: 3628800}\n"
     ]
    }
   ],
   "source": [
    "# 0~10까지의 각각의 정수에 대한 팩토리얼을 딕셔너리에 추가하는 프로그램\n",
    "\n",
    "factorials = {}  # create an empty dictionary\n",
    "\n",
    "for i in range(11):\n",
    "    if i == 0:\n",
    "        factorials[i] = 1  # factorial of 0 is 1\n",
    "    else:\n",
    "        factorial = 1\n",
    "        for j in range(1, i+1):\n",
    "            factorial *= j\n",
    "        factorials[i] = factorial\n",
    "\n",
    "print(factorials)  # display the dictionary\n"
   ]
  },
  {
   "cell_type": "code",
   "execution_count": 60,
   "id": "630a1138-ae33-41f6-94a8-a5f81f172cee",
   "metadata": {},
   "outputs": [
    {
     "name": "stdin",
     "output_type": "stream",
     "text": [
      "Enter Korean score:  88\n",
      "Enter English score:  55\n",
      "Enter Math score:  85\n",
      "Enter Science score:  57\n",
      "Enter History score:  82\n"
     ]
    },
    {
     "name": "stdout",
     "output_type": "stream",
     "text": [
      "{'Korean': 88, 'English': 'F', 'Math': 85, 'Science': 'F', 'History': 82}\n"
     ]
    }
   ],
   "source": [
    "#35강. 딕셔너리 수정: 딕셔너리 이름[key] =value 형태로 아이템을 수정한다.\n",
    "\n",
    "#학생의 시험 점수가 60점 미만이면 F(재시험)으로 값을 변경\n",
    "\n",
    "# get input from user for subject scores\n",
    "korean_score = int(input(\"Enter Korean score: \"))\n",
    "english_score = int(input(\"Enter English score: \"))\n",
    "math_score = int(input(\"Enter Math score: \"))\n",
    "science_score = int(input(\"Enter Science score: \"))\n",
    "history_score = int(input(\"Enter History score: \"))\n",
    "\n",
    "# create a dictionary to store the subject scores\n",
    "subject_scores = {\n",
    "    'Korean': korean_score,\n",
    "    'English': english_score,\n",
    "    'Math': math_score,\n",
    "    'Science': science_score,\n",
    "    'History': history_score\n",
    "}\n",
    "\n",
    "# loop through the dictionary and change the score to 'F' if it's less than 60\n",
    "for subject, score in subject_scores.items():\n",
    "    if score < 60:\n",
    "        subject_scores[subject] = 'F'\n",
    "\n",
    "print(subject_scores)  # display the dictionary\n"
   ]
  },
  {
   "cell_type": "code",
   "execution_count": 64,
   "id": "a58a03f2-f1d4-4bb2-99b7-a428f5914fd4",
   "metadata": {},
   "outputs": [
    {
     "name": "stdout",
     "output_type": "stream",
     "text": [
      "{'Name': 'Kevin', 'Weight after 30 days': 74.0, 'Height after 30 days': 1.83}\n",
      "BMI:  22.1\n"
     ]
    }
   ],
   "source": [
    "#하루에 몸무게와 신장이 각각 -0.3kg, +0.001m씩 변한다고 할 때, 30일 후의 몸무게와 신장의 값을 저장하고 BMI도 출력\n",
    "\n",
    "myBodyInfo = {'name': 'Kevin', 'weight': 83, 'height': 1.8}\n",
    "\n",
    "# calculate weight and height after 30 days\n",
    "myBodyInfo['weight'] -= 0.3 * 30\n",
    "myBodyInfo['height'] += 0.001 * 30\n",
    "\n",
    "# display the updated body information as a dictionary\n",
    "print({'Name': myBodyInfo['name'], 'Weight after 30 days': myBodyInfo['weight'], 'Height after 30 days': myBodyInfo['height']})\n",
    "print(\"BMI: \", round(BMI,2))"
   ]
  },
  {
   "cell_type": "code",
   "execution_count": 73,
   "id": "26569776-5c96-4ccb-a0f5-5bbcf17a7b13",
   "metadata": {},
   "outputs": [
    {
     "name": "stdout",
     "output_type": "stream",
     "text": [
      "dict_keys(['name', 'grade', 'email', 'address'])\n",
      "dict_values(['레나', '1', 'amor', '서울'])\n",
      "dict_items([('name', '레나'), ('grade', '1'), ('email', 'amor'), ('address', '서울')])\n",
      "\n",
      "name: 레나\n",
      "grade: 1\n",
      "email: amor\n",
      "address: 서울\n"
     ]
    }
   ],
   "source": [
    "#36강. keys()함수, values()함수\n",
    "\n",
    "info = {'name': '레나', 'grade': '1', 'email': 'amor', 'address': '서울'}\n",
    "\n",
    "print(info.keys())\n",
    "print(info.values())\n",
    "print(info.items())   \n",
    "\n",
    "print()\n",
    "\n",
    "for key in info.keys():\n",
    "    print(f'{key}: {info[key]}')"
   ]
  },
  {
   "cell_type": "code",
   "execution_count": 74,
   "id": "1f09c0c1-329a-4664-b0c0-8a65b3bd952f",
   "metadata": {},
   "outputs": [
    {
     "name": "stdout",
     "output_type": "stream",
     "text": [
      "{'Korean': 88, 'English': 'F', 'Math': 85, 'Science': 'F', 'History': 82}\n"
     ]
    }
   ],
   "source": [
    "#학생의 시험 점수가 60점 미만이면 F(재시험)으로 값을 변경, keys()사용\n",
    "\n",
    "subject_scores = {'Korean': 88, 'English': 55, 'Math': 85, 'Science': 57, 'History': 82}\n",
    "\n",
    "# loop through the keys in the dictionary and change the value to 'F' if the score is less than 60\n",
    "for subject in subject_scores.keys():\n",
    "    if subject_scores[subject] < 60:\n",
    "        subject_scores[subject] = 'F'\n",
    "\n",
    "print(subject_scores)  # display the updated dictionary\n"
   ]
  },
  {
   "cell_type": "code",
   "execution_count": 82,
   "id": "340ebcf5-3b5b-407b-bf33-c890cfca3e9c",
   "metadata": {},
   "outputs": [
    {
     "name": "stdout",
     "output_type": "stream",
     "text": [
      "{'name': 'John Smith', 'grade': 'A'}\n"
     ]
    }
   ],
   "source": [
    "#37강. 딕셔너리 삭제: del과 pop()사용\n",
    "\n",
    "#이름, 메일주소, 학년, 취미를 딕셔너리 형태로 저장하고 이 정보에 메일주소와 취미를 삭제해서 출력하는 프로그램\n",
    "\n",
    "#1. del사용\n",
    "personal_info = {\n",
    "    'name': 'John Smith',\n",
    "    'email': 'johnsmith@gmail.com',\n",
    "    'grade': 'A',\n",
    "    'hobbies': ['reading', 'swimming', 'hiking']\n",
    "}\n",
    "\n",
    "# delete email and hobbies\n",
    "if 'email' in personal_info:\n",
    "    del personal_info['email']\n",
    "    del personal_info['hobbies']\n",
    "\n",
    "# print updated personal information\n",
    "print(personal_info)"
   ]
  },
  {
   "cell_type": "code",
   "execution_count": 83,
   "id": "0604304e-6f28-4e9a-9f90-e75da8ac4872",
   "metadata": {},
   "outputs": [
    {
     "name": "stdout",
     "output_type": "stream",
     "text": [
      "{'name': 'John Smith', 'grade': 'A'}\n"
     ]
    }
   ],
   "source": [
    "#2. pop()와 key를 사용한 삭제\n",
    "\n",
    "personal_info = {\n",
    "    'name': 'John Smith',\n",
    "    'email': 'johnsmith@gmail.com',\n",
    "    'grade': 'A',\n",
    "    'hobbies': ['reading', 'swimming', 'hiking']\n",
    "}\n",
    "\n",
    "# delete email and hobbies\n",
    "personal_info.pop('email', None)\n",
    "personal_info.pop('hobbies', None)\n",
    "\n",
    "# print updated personal information\n",
    "print(personal_info)"
   ]
  },
  {
   "cell_type": "code",
   "execution_count": 80,
   "id": "6c2532aa-0a5a-438d-86df-c1679f8fb990",
   "metadata": {},
   "outputs": [
    {
     "name": "stdout",
     "output_type": "stream",
     "text": [
      "Highest score: 9.8\n",
      "Lowest score: 8.1\n",
      "Updated dictionary: {'score1': 8.9, 'score3': 8.5, 'score5': 8.8}\n"
     ]
    }
   ],
   "source": [
    "# 최고점과 최저점을 찾아 삭제\n",
    "\n",
    "scores = {'score1': 8.9, 'score2': 8.1, 'score3': 8.5, 'score4': 9.8, 'score5': 8.8}\n",
    "\n",
    "# find and delete the highest and lowest scores\n",
    "highest_score = max(scores.values())\n",
    "lowest_score = min(scores.values())\n",
    "keys_to_delete = []\n",
    "for key, value in scores.items():\n",
    "    if value == highest_score or value == lowest_score:\n",
    "        keys_to_delete.append(key)\n",
    "for key in keys_to_delete:\n",
    "    del scores[key]\n",
    "\n",
    "# print the highest and lowest scores\n",
    "print(\"Highest score:\", highest_score)\n",
    "print(\"Lowest score:\", lowest_score)\n",
    "\n",
    "# print the updated dictionary\n",
    "print(\"Updated dictionary:\", scores)\n",
    "        "
   ]
  },
  {
   "cell_type": "code",
   "execution_count": 81,
   "id": "9449b790-090f-4fa5-89e6-59bf56d11d1c",
   "metadata": {},
   "outputs": [
    {
     "name": "stdout",
     "output_type": "stream",
     "text": [
      "{'name': 'John Smith', 'age': 30, 'email': 'johnsmith@gmail.com', 'address': '123 Main St, Anytown USA'}\n"
     ]
    }
   ],
   "source": [
    "#38강. 딕셔너리 유용한 기능: in, len(), clear()\n",
    "\n",
    "'''\n",
    "1. in과 not in: 키 존재 유무를 판단한다.\n",
    "2. len(): 아이템 개수를 알수있다.\n",
    "3. clear(): 모든 아이템을 삭제한다.\n",
    "'''\n",
    "\n",
    "#개인정보에 연락처와 주민번호가 있다면 삭제하는 프로그램\n",
    "\n",
    "personal_info = {\n",
    "    'name': 'John Smith',\n",
    "    'age': 30,\n",
    "    'email': 'johnsmith@gmail.com',\n",
    "    'phone': '555-1234',\n",
    "    'ssn': '123-45-6789',\n",
    "    'address': '123 Main St, Anytown USA'\n",
    "}\n",
    "\n",
    "# delete contact information and social security number\n",
    "if 'phone' in personal_info:\n",
    "    del personal_info['phone']\n",
    "if 'ssn' in personal_info:\n",
    "    del personal_info['ssn']\n",
    "\n",
    "# print updated personal information\n",
    "print(personal_info)\n"
   ]
  },
  {
   "cell_type": "code",
   "execution_count": null,
   "id": "c68d285a-2906-4856-9a11-901c62fb28d2",
   "metadata": {},
   "outputs": [],
   "source": []
  }
 ],
 "metadata": {
  "kernelspec": {
   "display_name": "Python 3 (ipykernel)",
   "language": "python",
   "name": "python3"
  },
  "language_info": {
   "codemirror_mode": {
    "name": "ipython",
    "version": 3
   },
   "file_extension": ".py",
   "mimetype": "text/x-python",
   "name": "python",
   "nbconvert_exporter": "python",
   "pygments_lexer": "ipython3",
   "version": "3.9.12"
  }
 },
 "nbformat": 4,
 "nbformat_minor": 5
}
