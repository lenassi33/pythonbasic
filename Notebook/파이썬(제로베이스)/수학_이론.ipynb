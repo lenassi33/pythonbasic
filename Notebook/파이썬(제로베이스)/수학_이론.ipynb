{
 "cells": [
  {
   "cell_type": "code",
   "execution_count": null,
   "id": "f5b608d2-5267-41c3-9cd1-cdb7666efea9",
   "metadata": {},
   "outputs": [],
   "source": [
    "#1강: 약수와 소수\n",
    "\n",
    "'''\n",
    "1. 약수: 어떤 수를 나누어 떨어지게 하는수\n",
    "2. 소수(prime number): 1과 자신만을 약수로 가지는 수 (단, 1은 제외) cf. 합성수\n",
    "'''"
   ]
  },
  {
   "cell_type": "code",
   "execution_count": 1,
   "id": "7bbb0eb4-0f3f-49cb-9a64-05ba4889169e",
   "metadata": {},
   "outputs": [
    {
     "name": "stdin",
     "output_type": "stream",
     "text": [
      "Enter a number:  10\n"
     ]
    },
    {
     "name": "stdout",
     "output_type": "stream",
     "text": [
      "The divisors of 10 are: [1, 2, 5, 10]\n"
     ]
    }
   ],
   "source": [
    "#2강: 약수와 소수 실습\n",
    "\n",
    "#약수 구하기\n",
    "\n",
    "# ask user for a number\n",
    "num = int(input(\"Enter a number: \"))\n",
    "\n",
    "# find divisors of the number\n",
    "divisors = []\n",
    "for i in range(1, num+1):\n",
    "    if num % i == 0:\n",
    "        divisors.append(i)\n",
    "\n",
    "# print the divisors\n",
    "print(\"The divisors of\", num, \"are:\", divisors)"
   ]
  },
  {
   "cell_type": "code",
   "execution_count": 3,
   "id": "96365a7c-e750-4ce2-b8f3-f46e333006a3",
   "metadata": {},
   "outputs": [
    {
     "name": "stdin",
     "output_type": "stream",
     "text": [
      "Enter a number:  10\n"
     ]
    },
    {
     "name": "stdout",
     "output_type": "stream",
     "text": [
      "The prime numbers up to 10 are: [2, 3, 5, 7]\n"
     ]
    }
   ],
   "source": [
    "#소수 구하기\n",
    "\n",
    "# ask user for a number\n",
    "num = int(input(\"Enter a number: \"))\n",
    "\n",
    "# check for prime numbers\n",
    "prime_numbers = []\n",
    "for i in range(2, num+1):\n",
    "    is_prime = True\n",
    "    for j in range(2, i):\n",
    "        if i % j == 0:\n",
    "            is_prime = False\n",
    "            break\n",
    "    if is_prime:\n",
    "        prime_numbers.append(i)\n",
    "\n",
    "# print the prime numbers\n",
    "print(\"The prime numbers up to\", num, \"are:\", prime_numbers)\n"
   ]
  },
  {
   "cell_type": "code",
   "execution_count": null,
   "id": "647b32af-574f-4181-8695-d37a06eeb974",
   "metadata": {},
   "outputs": [],
   "source": [
    "#3강: 소인수와 소인수분해\n",
    "\n",
    "'''\n",
    "1. 소인수: 약수(인수) 중에서 소수인 숫자를 소인수\n",
    "<예시>\n",
    "20의 약수: 1,2,4,5,10,20 \n",
    "20의 소인수: 2,5\n",
    "\n",
    "2. 소인수분해: 1보다 큰 정수를 소인수의 곱으로 나타낸 것\n",
    "<예시>\n",
    "20의 소인수분해: 2*2*5 = 2^2 * 5\n",
    "'''\n"
   ]
  },
  {
   "cell_type": "code",
   "execution_count": 10,
   "id": "db57a96e-6aeb-49ba-ade4-c7d1c9065c9e",
   "metadata": {},
   "outputs": [
    {
     "name": "stdin",
     "output_type": "stream",
     "text": [
      "Enter a number:  1524865\n"
     ]
    },
    {
     "name": "stdout",
     "output_type": "stream",
     "text": [
      "The prime factors of 1524865 are: [5, 163, 1871]\n"
     ]
    }
   ],
   "source": [
    "#4강: 소인수와 소인수분해 실습\n",
    "\n",
    "#소인수 구하기(소인수분해)\n",
    "\n",
    "# function to find prime factors of a number\n",
    "def prime_factors(num):\n",
    "    factors = []\n",
    "    # divide by 2 until no longer divisible\n",
    "    while num % 2 == 0:\n",
    "        factors.append(2)\n",
    "        num //= 2\n",
    "    # divide by odd numbers starting from 3\n",
    "    for i in range(3, int(num**0.5)+1, 2):\n",
    "        while num % i == 0:\n",
    "            factors.append(i)\n",
    "            num //= i\n",
    "    # if num is still greater than 2, it must be a prime factor\n",
    "    if num > 2:\n",
    "        factors.append(num)\n",
    "    return factors\n",
    "\n",
    "# ask user for a number\n",
    "num = int(input(\"Enter a number: \"))\n",
    "\n",
    "# find prime factors of the number\n",
    "factors = prime_factors(num)\n",
    "\n",
    "# print the prime factors\n",
    "print(\"The prime factors of\", num, \"are:\", factors)\n"
   ]
  },
  {
   "cell_type": "code",
   "execution_count": null,
   "id": "d9727b1f-25d3-4331-9109-1ae9c4b8bb9b",
   "metadata": {},
   "outputs": [],
   "source": [
    "#5강: 최대공약수\n",
    "\n",
    "'''\n",
    "최대공약수: 두 개 이상의 수에서 공통된 약수가 공약수라고 하고 그 중에서 가장 큰 수가 최대공약수\n",
    "소인수분해를 사용하면 최대공약수 및 공약수를 구할 수 있다.\n",
    "\n",
    "유클리드 호제법: x, y의 최대공약수는 y, r(x%y)의 최대공약수와 같다.\n",
    "'''"
   ]
  },
  {
   "cell_type": "code",
   "execution_count": 11,
   "id": "b268c76c-a0e1-46fa-9b90-2d90274955d0",
   "metadata": {},
   "outputs": [
    {
     "name": "stdin",
     "output_type": "stream",
     "text": [
      "Enter the first number:  12\n",
      "Enter the second number:  36\n"
     ]
    },
    {
     "name": "stdout",
     "output_type": "stream",
     "text": [
      "The common divisors of 12 and 36 are: [1, 2, 3, 4, 6, 12]\n",
      "The greatest common divisor (GCD) of 12 and 36 is: 12\n"
     ]
    }
   ],
   "source": [
    "#6강: 최대공약수 실습\n",
    "\n",
    "#숫자 2개의 최대공약수\n",
    "\n",
    "# function to find the common divisors of two numbers\n",
    "def common_divisors(num1, num2):\n",
    "    divisors = []\n",
    "    for i in range(1, min(num1, num2) + 1):\n",
    "        if num1 % i == 0 and num2 % i == 0:\n",
    "            divisors.append(i)\n",
    "    return divisors\n",
    "\n",
    "# function to find the greatest common divisor (GCD) of two numbers\n",
    "def gcd(num1, num2):\n",
    "    while num2:\n",
    "        num1, num2 = num2, num1 % num2\n",
    "    return num1\n",
    "\n",
    "# ask user for two numbers\n",
    "num1 = int(input(\"Enter the first number: \"))\n",
    "num2 = int(input(\"Enter the second number: \"))\n",
    "\n",
    "# find the common divisors and GCD of the two numbers\n",
    "common_divs = common_divisors(num1, num2)\n",
    "gcd_num = gcd(num1, num2)\n",
    "\n",
    "# print the results\n",
    "print(\"The common divisors of\", num1, \"and\", num2, \"are:\", common_divs)\n",
    "print(\"The greatest common divisor (GCD) of\", num1, \"and\", num2, \"is:\", gcd_num)\n"
   ]
  },
  {
   "cell_type": "code",
   "execution_count": 17,
   "id": "1115411d-0f34-4efd-b1eb-2494e9958367",
   "metadata": {},
   "outputs": [
    {
     "name": "stdin",
     "output_type": "stream",
     "text": [
      "Enter the first number:  12\n",
      "Enter the second number:  16\n",
      "Enter the third number:  20\n"
     ]
    },
    {
     "name": "stdout",
     "output_type": "stream",
     "text": [
      "The least common multiple (LCM) of 12 , 16 and 20 is: 240\n"
     ]
    }
   ],
   "source": [
    "#숫자 3개의 최대공약수\n",
    "\n",
    "# function to find the common factors of three numbers\n",
    "def common_factors(num1, num2, num3):\n",
    "    factors = []\n",
    "    for i in range(1, min(num1, num2, num3) + 1):\n",
    "        if num1 % i == 0 and num2 % i == 0 and num3 % i == 0:\n",
    "            factors.append(i)\n",
    "    return factors\n",
    "\n",
    "# function to find the greatest common divisor (GCD) of three numbers\n",
    "def gcd(num1, num2, num3):\n",
    "    common_facts = common_factors(num1, num2, num3)\n",
    "    gcd_num = 1\n",
    "    for factor in common_facts:\n",
    "        if factor > gcd_num and num1 % factor == 0 and num2 % factor == 0 and num3 % factor == 0:\n",
    "            gcd_num = factor\n",
    "    return gcd_num\n",
    "\n",
    "# ask user for three numbers\n",
    "num1 = int(input(\"Enter the first number: \"))\n",
    "num2 = int(input(\"Enter the second number: \"))\n",
    "num3 = int(input(\"Enter the third number: \"))\n",
    "\n",
    "# find the common factors and GCD of the three numbers\n",
    "common_facts = common_factors(num1, num2, num3)\n",
    "gcd_num = gcd(num1, num2, num3)\n",
    "\n",
    "# print the results\n",
    "print(\"The common factors of\", num1, \",\", num2, \"and\", num3, \"are:\", common_facts)\n",
    "print(\"The greatest common divisor (GCD) of\", num1, \",\", num2, \"and\", num3, \"is:\", gcd_num)\n"
   ]
  },
  {
   "cell_type": "code",
   "execution_count": 13,
   "id": "a240ff2d-21e9-4f06-9bc2-fc59709ff9d2",
   "metadata": {},
   "outputs": [
    {
     "name": "stdin",
     "output_type": "stream",
     "text": [
      "Enter the first number:  10\n",
      "Enter the second number:  12\n"
     ]
    },
    {
     "name": "stdout",
     "output_type": "stream",
     "text": [
      "The least common multiple (LCM) of 10 and 12 is: 60\n"
     ]
    }
   ],
   "source": [
    "#7강: 최소공배수: 두 개의 수에서 공통된 배수를 공배수라고 한다, 이 중에서 가장 작은 수가 최소공배수\n",
    "\n",
    "#8강: 최소공배수 실습\n",
    "\n",
    "#숫자 2개의 최소공배수\n",
    "\n",
    "# function to find the greatest common divisor (GCD) using the Euclidean Algorithm\n",
    "def gcd(num1, num2):\n",
    "    while num2:\n",
    "        num1, num2 = num2, num1 % num2\n",
    "    return num1\n",
    "\n",
    "# function to find the least common multiple (LCM) of two numbers\n",
    "def lcm(num1, num2):\n",
    "    return (num1 * num2) // gcd(num1, num2)\n",
    "\n",
    "# ask user for two numbers\n",
    "num1 = int(input(\"Enter the first number: \"))\n",
    "num2 = int(input(\"Enter the second number: \"))\n",
    "\n",
    "# calculate the LCM of the two numbers\n",
    "lcm_num = lcm(num1, num2)\n",
    "\n",
    "# print the result\n",
    "print(\"The least common multiple (LCM) of\", num1, \"and\", num2, \"is:\", lcm_num)\n"
   ]
  },
  {
   "cell_type": "code",
   "execution_count": 18,
   "id": "02f74213-2eab-4edb-b2fc-1a62183ede91",
   "metadata": {},
   "outputs": [
    {
     "name": "stdin",
     "output_type": "stream",
     "text": [
      "Enter the first number:  6\n",
      "Enter the second number:  12\n",
      "Enter the third number:  18\n"
     ]
    },
    {
     "name": "stdout",
     "output_type": "stream",
     "text": [
      "The least common multiple (LCM) of 6 , 12 and 18 is: 36\n"
     ]
    }
   ],
   "source": [
    "#숫자 3개의 최소공배수\n",
    "\n",
    "# function to find the common factors of three numbers\n",
    "def common_factors(num1, num2, num3):\n",
    "    factors = []\n",
    "    for i in range(1, min(num1, num2, num3) + 1):\n",
    "        if num1 % i == 0 and num2 % i == 0 and num3 % i == 0:\n",
    "            factors.append(i)\n",
    "    return factors\n",
    "\n",
    "# function to find the least common multiple (LCM) of three numbers\n",
    "def lcm(num1, num2, num3):\n",
    "    common_facts = common_factors(num1, num2, num3)\n",
    "    lcm_num = max(common_facts)\n",
    "    while True:\n",
    "        if lcm_num % num1 == 0 and lcm_num % num2 == 0 and lcm_num % num3 == 0:\n",
    "            break\n",
    "        lcm_num += max(common_facts)\n",
    "    return lcm_num\n",
    "\n",
    "# ask user for three numbers\n",
    "num1 = int(input(\"Enter the first number: \"))\n",
    "num2 = int(input(\"Enter the second number: \"))\n",
    "num3 = int(input(\"Enter the third number: \"))\n",
    "\n",
    "# calculate the LCM of the three numbers\n",
    "lcm_num = lcm(num1, num2, num3)\n",
    "\n",
    "# print the result\n",
    "print(\"The least common multiple (LCM) of\", num1, \",\", num2, \"and\", num3, \"is:\", lcm_num)\n"
   ]
  },
  {
   "cell_type": "code",
   "execution_count": null,
   "id": "ea39ec75-0b69-41d5-9b6b-a1b2b92453e7",
   "metadata": {},
   "outputs": [],
   "source": [
    "#9강: 진법\n",
    "\n",
    "'''\n",
    "진법이란, 특정 숫자 몇개를 사용해서 수를 표시하는 방법이다\n",
    "1. 2진법: 0,1 2개 사용\n",
    "2. 8진법: 0~7 8개 사용\n",
    "3. 10진법: 0~9 10개 사용\n",
    "4. 16진법: 0~9, A,B,C,D,E,F 16개 사용\n",
    "\n",
    "변환\n",
    "1. 10진수 --> X진수 변환\n",
    "2. X진수 --> 10진수 변환\n",
    "3. 2진수 --> 8진수 변환\n",
    "4. 2진수 --> 16진수 변환\n",
    "'''"
   ]
  },
  {
   "cell_type": "code",
   "execution_count": 27,
   "id": "35d06c1b-75c4-4b21-b4ab-146a4a556aeb",
   "metadata": {},
   "outputs": [
    {
     "name": "stdout",
     "output_type": "stream",
     "text": [
      "2진수: 0b1010\n",
      "8진수: 0o12\n",
      "16진수: 0xa\n",
      "\n",
      "2진수(0b11110) --> 10진수 (30)\n",
      "8진수(0o36) --> 10진수 (30)\n",
      "16진수(0x1e) --> 10진수 (30)\n"
     ]
    }
   ],
   "source": [
    "#10강: 진법 실습\n",
    "\n",
    "#10진수를 X진수로 변환\n",
    "\n",
    "print('2진수: {}'.format(bin(10)))\n",
    "print('8진수: {}'.format(oct(10)))\n",
    "print('16진수: {}'.format(hex(10)))\n",
    "\n",
    "print()\n",
    "\n",
    "#X진수를 10진수로 변환\n",
    "print('2진수(0b11110) --> 10진수 ({})'.format(int('0b11110', 2)))\n",
    "print('8진수(0o36) --> 10진수 ({})'.format(int('0o36', 8)))\n",
    "print('16진수(0x1e) --> 10진수 ({})'.format(int('0x1e', 16)))"
   ]
  },
  {
   "cell_type": "code",
   "execution_count": null,
   "id": "7f93c424-3ec7-4a08-bf00-8f14a0e302a0",
   "metadata": {},
   "outputs": [],
   "source": [
    "#11강 수열: 규칙성을 가지고 나열되어 있는 수로, 항(일반항)으로 구성\n",
    "\n",
    "#12강 등차수열: 연속된 2항의 차이가 일정한 수열\n",
    "'''\n",
    "1. an= a1 + (n-1)*d\n",
    "2. 등차중항: 연속된 세 항에서 가운데 항\n",
    "3. s = n(a1+an)/2\n",
    "'''"
   ]
  },
  {
   "cell_type": "code",
   "execution_count": 30,
   "id": "e4cde1e2-acc5-4b5e-8428-604e4370582a",
   "metadata": {},
   "outputs": [
    {
     "name": "stdin",
     "output_type": "stream",
     "text": [
      "Enter the first term:  2\n",
      "Enter the common difference:  3\n",
      "Enter n:  7\n"
     ]
    },
    {
     "name": "stdout",
     "output_type": "stream",
     "text": [
      "The value of the 7 th term of the arithmetic sequence is: 20\n"
     ]
    }
   ],
   "source": [
    "#13강 등차수열 실습1\n",
    "\n",
    "#등차수열에서 초항, 공차를 입력받고 n을 입력시 n번째의 값을 출력하는 코드\n",
    "\n",
    "# function to calculate the nth term of an arithmetic sequence\n",
    "def nth_term_arithmetic(first_term, common_diff, n):\n",
    "    # calculate the nth term using the formula a_n = a_1 + (n-1)*d\n",
    "    nth_term = first_term + (n - 1) * common_diff\n",
    "    return nth_term\n",
    "\n",
    "# ask user for the first term, common difference, and index n\n",
    "first_term = int(input(\"Enter the first term: \"))\n",
    "common_diff = int(input(\"Enter the common difference: \"))\n",
    "n = int(input(\"Enter n: \"))\n",
    "\n",
    "# calculate the nth term\n",
    "nth_term = nth_term_arithmetic(first_term, common_diff, n)\n",
    "\n",
    "# print the result\n",
    "print(\"The value of the\", n, \"th term of the arithmetic sequence is:\", nth_term)\n"
   ]
  },
  {
   "cell_type": "code",
   "execution_count": 31,
   "id": "b7b2fa90-8f55-4824-9e5e-24075e197ac0",
   "metadata": {},
   "outputs": [
    {
     "name": "stdin",
     "output_type": "stream",
     "text": [
      "Enter the first term:  5\n",
      "Enter the common difference:  4\n",
      "Enter n:  7\n"
     ]
    },
    {
     "name": "stdout",
     "output_type": "stream",
     "text": [
      "The sum of the arithmetic sequence up to the 7 th term is: 119.0\n"
     ]
    }
   ],
   "source": [
    "#14강 등차수열 실습2\n",
    "\n",
    "#등차수열에서 초항, 공차를 입력받고 n을 입력시 n번째까지의 합을 출력하는 코드\n",
    "\n",
    "# function to calculate the sum of an arithmetic sequence up to the nth term\n",
    "def sum_arithmetic(first_term, common_diff, n):\n",
    "    # calculate the sum using the formula S_n = n/2 * (2*a_1 + (n-1)*d)\n",
    "    sum_seq = n/2 * (2*first_term + (n-1)*common_diff)\n",
    "    return sum_seq\n",
    "\n",
    "# ask user for the first term, common difference, and index n\n",
    "first_term = int(input(\"Enter the first term: \"))\n",
    "common_diff = int(input(\"Enter the common difference: \"))\n",
    "n = int(input(\"Enter n: \"))\n",
    "\n",
    "# calculate the sum up to the nth term\n",
    "sum_seq = sum_arithmetic(first_term, common_diff, n)\n",
    "\n",
    "# print the result\n",
    "print(\"The sum of the arithmetic sequence up to the\", n, \"th term is:\", sum_seq)\n"
   ]
  },
  {
   "cell_type": "code",
   "execution_count": null,
   "id": "feea3ccc-47bc-4eaf-9e65-ed131fba64cd",
   "metadata": {},
   "outputs": [],
   "source": [
    "#15강 등비수열: 연속된 2항의 비가 일정한 수열\n",
    "'''\n",
    "1. an= a1 + r^(n-1)\n",
    "2. 등비중항: 연속된 세 항에서 가운데 항 --> an-1 * an+1 =an^2\n",
    "3. s = a1 * (1-(r^n))/(1-r)\n",
    "'''"
   ]
  },
  {
   "cell_type": "code",
   "execution_count": 34,
   "id": "ed2ed0d6-6804-4a51-8ce2-b996200f91f3",
   "metadata": {},
   "outputs": [
    {
     "name": "stdin",
     "output_type": "stream",
     "text": [
      "Enter the first term:  2\n",
      "Enter the common ratio:  2\n",
      "Enter n:  7\n"
     ]
    },
    {
     "name": "stdout",
     "output_type": "stream",
     "text": [
      "The value of the 7 th term of the geometric sequence is: 128\n"
     ]
    }
   ],
   "source": [
    "#16강 등비수열 실습1\n",
    "\n",
    "#등비수열에서 초항, 등차를 입력받고 n을 입력시 n번째의 값을 출력하는 코드\n",
    "\n",
    "# function to calculate the nth term of a geometric sequence\n",
    "def nth_term_geometric(first_term, common_ratio, n):\n",
    "    # calculate the nth term using the formula a_n = a_1 * r^(n-1)\n",
    "    nth_term = first_term * (common_ratio ** (n-1))\n",
    "    return nth_term\n",
    "\n",
    "# ask user for the first term, common ratio, and index n\n",
    "first_term = int(input(\"Enter the first term: \"))\n",
    "common_ratio = int(input(\"Enter the common ratio: \"))\n",
    "n = int(input(\"Enter n: \"))\n",
    "\n",
    "# calculate the nth term\n",
    "nth_term = nth_term_geometric(first_term, common_ratio, n)\n",
    "\n",
    "# print the result\n",
    "print(\"The value of the\", n, \"th term of the geometric sequence is:\", nth_term)\n"
   ]
  },
  {
   "cell_type": "code",
   "execution_count": 36,
   "id": "028a8571-2ff3-4fda-961e-999281c8f7bd",
   "metadata": {},
   "outputs": [
    {
     "name": "stdin",
     "output_type": "stream",
     "text": [
      "Enter the first term:  5\n",
      "Enter the common ratio:  3\n",
      "Enter n:  7\n"
     ]
    },
    {
     "name": "stdout",
     "output_type": "stream",
     "text": [
      "The sum of the geometric sequence up to the 7 th term is: 5465.0\n"
     ]
    }
   ],
   "source": [
    "#17강 등비수열 실습2\n",
    "\n",
    "#등비수열에서 초항, 등차를 입력받고 n을 입력시 n번째까지의 합을 출력하는 코드\n",
    "\n",
    "# function to calculate the sum of a geometric sequence up to the nth term\n",
    "def sum_geometric(first_term, common_ratio, n):\n",
    "    # calculate the sum using the formula S_n = a_1 * (1 - r^n) / (1 - r)\n",
    "    sum_seq = first_term * (1 - common_ratio ** n) / (1 - common_ratio)\n",
    "    return sum_seq\n",
    "\n",
    "# ask user for the first term, common ratio, and index n\n",
    "first_term = int(input(\"Enter the first term: \"))\n",
    "common_ratio = int(input(\"Enter the common ratio: \"))\n",
    "n = int(input(\"Enter n: \"))\n",
    "\n",
    "# calculate the sum up to the nth term\n",
    "sum_seq = sum_geometric(first_term, common_ratio, n)\n",
    "\n",
    "# print the result\n",
    "print(\"The sum of the geometric sequence up to the\", n, \"th term is:\", sum_seq)\n",
    "\n"
   ]
  },
  {
   "cell_type": "code",
   "execution_count": 39,
   "id": "015ddb01-1aca-45af-81bd-658e268d06ae",
   "metadata": {},
   "outputs": [
    {
     "name": "stdout",
     "output_type": "stream",
     "text": [
      "The difference sequence is: [4, 6, 8, 10, 12, 14]\n"
     ]
    }
   ],
   "source": [
    "#18강 시그마: 수열의 합을 나타낸 기호\n",
    "\n",
    "#19강 계차수열: 두항의 차로 이루어진 또다른 수열\n",
    "'''\n",
    "<예시>\n",
    "an =0,3,8,15,24,35,48,63\n",
    "bn= 3,5,7,9,11,13,15 --> 공차가 2인 등차수열\n",
    "bn은 an의 계차수열 \n",
    "'''\n",
    "\n",
    "#20강 계차수열 실습\n",
    "\n",
    "# define the sequence\n",
    "sequence = [3, 7, 13, 21, 31, 43, 57]\n",
    "\n",
    "# initialize the difference sequence\n",
    "diff_sequence = []\n",
    "\n",
    "# loop through the sequence to calculate the differences\n",
    "for i in range(len(sequence)-1):\n",
    "    diff = sequence[i+1] - sequence[i]\n",
    "    diff_sequence.append(diff)\n",
    "\n",
    "# print the difference sequence\n",
    "print(\"The difference sequence is:\", diff_sequence)"
   ]
  },
  {
   "cell_type": "code",
   "execution_count": 42,
   "id": "52a57edb-f0e2-45d6-8737-e24d9f2fdab9",
   "metadata": {},
   "outputs": [
    {
     "name": "stdin",
     "output_type": "stream",
     "text": [
      "Enter n:  7\n"
     ]
    },
    {
     "name": "stdout",
     "output_type": "stream",
     "text": [
      "The value of the 7 th term of the sequence is: 57\n"
     ]
    }
   ],
   "source": [
    "#20강 계차수열 실습\n",
    "'''\n",
    "프롬프트\n",
    "an = {3,7,13,21,31,43,57}의 difference sequence는 [4, 6, 8, 10, 12, 14]일때  n을 입력받아 an번째의 값을 출력하는 python code\n",
    "'''\n",
    "\n",
    "# define the difference sequence\n",
    "diff_sequence = [4, 6, 8, 10, 12, 14]\n",
    "\n",
    "# ask user for the index n of the desired term\n",
    "n = int(input(\"Enter n: \"))\n",
    "\n",
    "# calculate the value of the nth term using the formula a_n = a_1 + (n-1) * d\n",
    "a_n = 3 + sum(diff_sequence[:n-1])\n",
    "\n",
    "# print the result\n",
    "print(\"The value of the\", n, \"th term of the sequence is:\", a_n)\n"
   ]
  },
  {
   "cell_type": "code",
   "execution_count": 48,
   "id": "687c3358-dc91-45bf-96eb-819debf14176",
   "metadata": {},
   "outputs": [
    {
     "name": "stdin",
     "output_type": "stream",
     "text": [
      "Enter the number of Fibonacci numbers to generate:  9\n"
     ]
    },
    {
     "name": "stdout",
     "output_type": "stream",
     "text": [
      "The first 9 Fibonacci numbers are: [1, 1, 2, 3, 5, 8, 13, 21, 34]\n",
      "The sum of the first 9 Fibonacci numbers is: 88\n"
     ]
    }
   ],
   "source": [
    "#21강 피보나치 수열: an = a(n-2) + a(n-1) --> 세번째 항은 두번째 항과 첫번째 항을 더한 합이다\n",
    "\n",
    "#피보나치 수를 계산\n",
    "\n",
    "# ask user for the number of Fibonacci numbers to generate\n",
    "n = int(input(\"Enter the number of Fibonacci numbers to generate: \"))\n",
    "\n",
    "# initialize the first two Fibonacci numbers\n",
    "fibonacci = [1, 1]\n",
    "\n",
    "# generate the remaining Fibonacci numbers\n",
    "for i in range(2, n):\n",
    "    next_num = fibonacci[i-1] + fibonacci[i-2]\n",
    "    fibonacci.append(next_num)\n",
    "\n",
    "# calculate the sum of the first n Fibonacci numbers\n",
    "fibonacci_sum = sum(fibonacci[:n])\n",
    "\n",
    "# print the Fibonacci sequence\n",
    "print(\"The first\", n, \"Fibonacci numbers are:\", fibonacci)\n",
    "\n",
    "# print the sum of the first n Fibonacci numbers\n",
    "print(\"The sum of the first\", n, \"Fibonacci numbers is:\", fibonacci_sum) \n"
   ]
  },
  {
   "cell_type": "code",
   "execution_count": 49,
   "id": "60a09616-1dc4-467c-a38e-1a78fabc4e35",
   "metadata": {},
   "outputs": [
    {
     "name": "stdin",
     "output_type": "stream",
     "text": [
      "Enter a number to calculate the factorial of:  5\n"
     ]
    },
    {
     "name": "stdout",
     "output_type": "stream",
     "text": [
      "The factorial of 5 is: 120\n"
     ]
    }
   ],
   "source": [
    "#22강 팩토리얼: 정수n까지 모두 곱한것\n",
    "\n",
    "# ask user for the number to calculate the factorial of\n",
    "num = int(input(\"Enter a number to calculate the factorial of: \"))\n",
    "\n",
    "# calculate the factorial of the number\n",
    "factorial = 1\n",
    "for i in range(1, num+1):\n",
    "    factorial *= i\n",
    "\n",
    "# print the factorial value\n",
    "print(\"The factorial of\", num, \"is:\", factorial)\n"
   ]
  },
  {
   "cell_type": "code",
   "execution_count": 52,
   "id": "0fc8e730-6b15-44f5-8e1c-c39a6001d07f",
   "metadata": {},
   "outputs": [
    {
     "name": "stdin",
     "output_type": "stream",
     "text": [
      "Enter the value of n:  50\n"
     ]
    },
    {
     "name": "stdout",
     "output_type": "stream",
     "text": [
      "The 50 th term of the sequence is: 5\n"
     ]
    }
   ],
   "source": [
    "#23강 군 수열: 여러개의 항을 묶었을때 규칙성을 가지는 수열\n",
    "\n",
    "#24강: 군 수열 실습1\n",
    "'''\n",
    "다음 군 수열(group sequence)을 보고 n번째의 항의 값을 출력하는 코드\n",
    "{1,1,2,1,2,3,1,2,3,4,1,2,3,4,5,......}\n",
    "'''\n",
    "\n",
    "# ask user for the value of n\n",
    "n = int(input(\"Enter the value of n: \"))\n",
    "\n",
    "# calculate the nth term of the sequence\n",
    "current_num = 1\n",
    "for i in range(1, n):\n",
    "    if i*(i+1)//2 < n:\n",
    "        current_num += 1\n",
    "    else:\n",
    "        current_num = n - i*(i-1)//2\n",
    "        break\n",
    "\n",
    "# print the nth term of the sequence\n",
    "print(\"The\", n, \"th term of the sequence is:\", current_num)\n"
   ]
  },
  {
   "cell_type": "code",
   "execution_count": 57,
   "id": "ab05e9a2-d629-484b-90d2-bf84b1ac0aec",
   "metadata": {},
   "outputs": [
    {
     "name": "stdin",
     "output_type": "stream",
     "text": [
      "Enter the value of n:  25\n"
     ]
    },
    {
     "name": "stdout",
     "output_type": "stream",
     "text": [
      "The 25 th term of the sequence is: 25\n"
     ]
    }
   ],
   "source": [
    "#24강: 군 수열 실습2\n",
    "'''\n",
    "다음 군 수열(group sequence)을 보고 n번째의 항의 값을 출력하는 코드\n",
    "{1/1 \n",
    " 1/2, 2/1 \n",
    " 1/3, 2/2, 3/1\n",
    " 1/4, 2/3, 3/2, 4/1\n",
    " 1/5, 2/4, 3/3, 4/2, 5/1......}\n",
    "'''\n"
   ]
  },
  {
   "cell_type": "code",
   "execution_count": 59,
   "id": "98a74504-18b0-4d7c-8424-637900f2affe",
   "metadata": {},
   "outputs": [
    {
     "name": "stdin",
     "output_type": "stream",
     "text": [
      "Enter the number of items (n):  7\n",
      "Enter the number of items taken at a time (r):  5\n"
     ]
    },
    {
     "name": "stdout",
     "output_type": "stream",
     "text": [
      "The permutation of 7 items taken 5 at a time is: 2520.0\n"
     ]
    }
   ],
   "source": [
    "#25강 순열: 순서와 상관있게 n개에서 r개 선택, nPr = n!/(n-r)!\n",
    "\n",
    "#26강 순열 실습\n",
    "\n",
    "# define a function to calculate the factorial of a number\n",
    "def factorial(n):\n",
    "    if n == 0:\n",
    "        return 1\n",
    "    else:\n",
    "        return n * factorial(n-1)\n",
    "\n",
    "# ask user for the values of n and r\n",
    "n = int(input(\"Enter the number of items (n): \"))\n",
    "r = int(input(\"Enter the number of items taken at a time (r): \"))\n",
    "\n",
    "# calculate the permutation\n",
    "permutation = factorial(n) / factorial(n-r)\n",
    "\n",
    "# print the result\n",
    "print(\"The permutation of\", n, \"items taken\", r, \"at a time is:\", permutation)\n"
   ]
  },
  {
   "cell_type": "code",
   "execution_count": 60,
   "id": "c4fd365c-951d-45de-83c8-c558e16dc939",
   "metadata": {},
   "outputs": [
    {
     "name": "stdin",
     "output_type": "stream",
     "text": [
      "Enter the number of items (n):  8\n",
      "Enter the number of items taken at a time (r):  3\n"
     ]
    },
    {
     "name": "stdout",
     "output_type": "stream",
     "text": [
      "The combination of 8 items taken 3 at a time is: 56.0\n"
     ]
    }
   ],
   "source": [
    "#27강 조합: 순서와 상관없이 n개에서 r개 선택, nCr = nPr/r! = n!/r!(n-r)!\n",
    "\n",
    "#28강 조합 실습\n",
    "# define a function to calculate the factorial of a number\n",
    "def factorial(n):\n",
    "    if n == 0:\n",
    "        return 1\n",
    "    else:\n",
    "        return n * factorial(n-1)\n",
    "\n",
    "# ask user for the values of n and r\n",
    "n = int(input(\"Enter the number of items (n): \"))\n",
    "r = int(input(\"Enter the number of items taken at a time (r): \"))\n",
    "\n",
    "# calculate the combination\n",
    "combination = factorial(n) / (factorial(r) * factorial(n-r))\n",
    "\n",
    "# print the result\n",
    "print(\"The combination of\", n, \"items taken\", r, \"at a time is:\", combination)\n"
   ]
  },
  {
   "cell_type": "code",
   "execution_count": 68,
   "id": "2a32325b-10f6-4439-ac07-d60a5c82035b",
   "metadata": {},
   "outputs": [
    {
     "name": "stdin",
     "output_type": "stream",
     "text": [
      "Enter the total number of 'fail' cards in the box:  4\n",
      "Enter the total number of 'pass' cards in the box:  3\n",
      "Enter the number of 'fail' cards to draw:  2\n",
      "Enter the number of 'pass' cards to draw:  1\n"
     ]
    },
    {
     "name": "stdout",
     "output_type": "stream",
     "text": [
      "The probability of drawing 2 'fail' cards and 1 'pass' cards is: 51.43 %\n"
     ]
    }
   ],
   "source": [
    "#29강: 확률이란 모든 사건에서 특정 사건이 일어날 수 있는 수를 나타낸것\n",
    "\n",
    "#30강: 확률 실습\n",
    "\n",
    "'''\n",
    "'fail' 카드가 a장, 'pass' 카드가 b장으로 총 a+b장의 카드가 있다.\n",
    "조합을 사용해서 'fail' 카드 n장과 'pass' 카드 k장을 뽑는 확률을 출력하는 코드\n",
    "'''\n",
    "\n",
    "import math\n",
    "\n",
    "# function to calculate n choose k\n",
    "def n_choose_k(n, k):\n",
    "    return math.factorial(n) // (math.factorial(k) * math.factorial(n - k))\n",
    "\n",
    "# get inputs from user\n",
    "a = int(input(\"Enter the total number of 'fail' cards in the box: \"))\n",
    "b = int(input(\"Enter the total number of 'pass' cards in the box: \"))\n",
    "n = int(input(\"Enter the number of 'fail' cards to draw: \"))\n",
    "k = int(input(\"Enter the number of 'pass' cards to draw: \"))\n",
    "\n",
    "# calculate the number of combinations that include n 'fail' cards and k 'pass' cards\n",
    "num_fail = n\n",
    "num_pass = k\n",
    "fail_combinations = n_choose_k(a, n)\n",
    "pass_combinations = n_choose_k(b, k)\n",
    "total_successful_combinations = fail_combinations * pass_combinations\n",
    "\n",
    "# calculate the total number of possible combinations\n",
    "if n + k <= a + b:\n",
    "    total_combinations = n_choose_k(a + b, n + k)\n",
    "else:\n",
    "    total_combinations = 0\n",
    "\n",
    "# calculate the probability of drawing n 'fail' cards and k 'pass' cards\n",
    "probability = total_successful_combinations / total_combinations *100\n",
    "\n",
    "# output the result\n",
    "print(\"The probability of drawing\", n, \"'fail' cards and\", k, \"'pass' cards is:\", round(probability,2),'%')\n"
   ]
  },
  {
   "cell_type": "code",
   "execution_count": null,
   "id": "22c10b3c-f880-4352-baa0-c311a6bab72e",
   "metadata": {},
   "outputs": [],
   "source": []
  }
 ],
 "metadata": {
  "kernelspec": {
   "display_name": "Python 3 (ipykernel)",
   "language": "python",
   "name": "python3"
  },
  "language_info": {
   "codemirror_mode": {
    "name": "ipython",
    "version": 3
   },
   "file_extension": ".py",
   "mimetype": "text/x-python",
   "name": "python",
   "nbconvert_exporter": "python",
   "pygments_lexer": "ipython3",
   "version": "3.9.12"
  }
 },
 "nbformat": 4,
 "nbformat_minor": 5
}
