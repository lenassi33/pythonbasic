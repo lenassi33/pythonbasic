{
 "cells": [
  {
   "cell_type": "code",
   "execution_count": 1,
   "id": "1ce5d501-46dd-47a4-9923-5cae12e8f979",
   "metadata": {},
   "outputs": [
    {
     "name": "stdout",
     "output_type": "stream",
     "text": [
      "Select operation:\n",
      "1. Addition\n",
      "2. Subtraction\n",
      "3. Multiplication\n",
      "4. Division\n",
      "5. Remainder\n",
      "6. Quotient\n",
      "7. Square\n",
      "8. End\n"
     ]
    },
    {
     "name": "stdin",
     "output_type": "stream",
     "text": [
      "Enter choice (1-8):  1\n",
      "Enter first number:  10\n",
      "Enter second number:  3.14\n"
     ]
    },
    {
     "name": "stdout",
     "output_type": "stream",
     "text": [
      "10.0 + 3.14 = 13.14\n"
     ]
    },
    {
     "name": "stdin",
     "output_type": "stream",
     "text": [
      "Enter choice (1-8):  8\n"
     ]
    },
    {
     "name": "stdout",
     "output_type": "stream",
     "text": [
      "Goodbye!\n"
     ]
    }
   ],
   "source": [
    "#40강: 함수를 이용해서 산술연산 계산기 만들기 \n",
    "\n",
    "def calculator():\n",
    "    print(\"Select operation:\")\n",
    "    print(\"1. Addition\")\n",
    "    print(\"2. Subtraction\")\n",
    "    print(\"3. Multiplication\")\n",
    "    print(\"4. Division\")\n",
    "    print(\"5. Remainder\")\n",
    "    print(\"6. Quotient\")\n",
    "    print(\"7. Square\")\n",
    "    print(\"8. End\")\n",
    "\n",
    "    while True:\n",
    "        choice = input(\"Enter choice (1-8): \")\n",
    "\n",
    "        if choice in ('1', '2', '3', '4', '5', '6', '7'):\n",
    "            num1 = float(input(\"Enter first number: \"))\n",
    "            num2 = float(input(\"Enter second number: \"))\n",
    "\n",
    "            if choice == '1':\n",
    "                print(num1, \"+\", num2, \"=\", num1 + num2)\n",
    "\n",
    "            elif choice == '2':\n",
    "                print(num1, \"-\", num2, \"=\", num1 - num2)\n",
    "\n",
    "            elif choice == '3':\n",
    "                print(num1, \"*\", num2, \"=\", num1 * num2)\n",
    "\n",
    "            elif choice == '4':\n",
    "                if num2 == 0:\n",
    "                    print(\"Error: Cannot divide by zero\")\n",
    "                else:\n",
    "                    print(num1, \"/\", num2, \"=\", num1 / num2)\n",
    "\n",
    "            elif choice == '5':\n",
    "                print(num1, \"%\", num2, \"=\", num1 % num2)\n",
    "\n",
    "            elif choice == '6':\n",
    "                print(num1, \"//\", num2, \"=\", num1 // num2)\n",
    "\n",
    "            elif choice == '7':\n",
    "                print(num1, \"^\", \"2\", \"=\", num1 ** 2)\n",
    "\n",
    "        elif choice == '8':\n",
    "            print(\"Goodbye!\")\n",
    "            break\n",
    "\n",
    "        else:\n",
    "            print(\"Invalid input\")\n",
    "\n",
    "calculator()"
   ]
  },
  {
   "cell_type": "code",
   "execution_count": 16,
   "id": "de4b72ab-d68d-4de6-b8f2-dd96baaaee36",
   "metadata": {},
   "outputs": [
    {
     "name": "stdin",
     "output_type": "stream",
     "text": [
      "Enter speed in kms per hour:  90\n",
      "Enter travel time in hours:  2\n",
      "Enter travel time in minutes:  45\n"
     ]
    },
    {
     "name": "stdout",
     "output_type": "stream",
     "text": [
      "90.0(km/s)속도로 2(h)시간 45(m)분 동안 이동한 거리: 247.5(km)\n"
     ]
    }
   ],
   "source": [
    "#41강: 이동거리와 이동시간을 반환하는 함수\n",
    "\n",
    "def calculate_distance(speed, hours, minutes):\n",
    "    # Convert minutes to hours and add to hours\n",
    "    total_hours = hours + (minutes / 60)\n",
    "    \n",
    "    # Calculate distance as speed multiplied by time\n",
    "    distance = speed * total_hours\n",
    "    \n",
    "    return distance\n",
    "\n",
    "# Get user input for speed, hours, and minutes\n",
    "speed = float(input(\"Enter speed in kms per hour: \"))\n",
    "hours = int(input(\"Enter travel time in hours: \"))\n",
    "minutes = int(input(\"Enter travel time in minutes: \"))\n",
    "\n",
    "# Calculate distance using calculate_distance function\n",
    "distance = calculate_distance(speed, hours, minutes)\n",
    "\n",
    "# Output distance\n",
    "print(f'{speed}(km/s)속도로 {hours}(h)시간 {minutes}(m)분 동안 이동한 거리: {distance}(km)')\n"
   ]
  },
  {
   "cell_type": "code",
   "execution_count": 12,
   "id": "562f9f70-06ee-49af-af29-b4cb1d760189",
   "metadata": {},
   "outputs": [
    {
     "name": "stdin",
     "output_type": "stream",
     "text": [
      "Enter the number of infants:  1\n",
      "Enter the number of discounted infants:  1\n",
      "Enter the number of children:  2\n",
      "Enter the number of discounted children:  1\n",
      "Enter the number of adults:  2\n",
      "Enter the number of discounted adults:  0\n"
     ]
    },
    {
     "name": "stdout",
     "output_type": "stream",
     "text": [
      "Infants (full price): 1  x 18,000 won =  18000 won\n",
      "Infants (discounted): 1  x 9,000 won =  9000 won\n",
      "Children (full price): 2  x 25,000 won =  50000 won\n",
      "Children (discounted): 1  x 12,500 won =  12500 won\n",
      "Adults (full price): 2  x 50,000 won =  100000 won\n",
      "Adults (discounted): 0  x 25,000 won =  0 won\n",
      "Total passengers: 7\n",
      "Total price: 189500 won\n"
     ]
    }
   ],
   "source": [
    "#42강: 비행기 티켓 영수증 출력하는 함수\n",
    "\n",
    "def calculate_ticket_price(num_infants, num_discounted_infants, num_children, num_discounted_children, num_adults, num_discounted_adults):\n",
    "    # calculate the total price for each category\n",
    "    infants_price = num_infants * 18000 + num_discounted_infants * 9000\n",
    "    children_price = num_children * 25000 + num_discounted_children * 12500\n",
    "    adults_price = num_adults * 50000 + num_discounted_adults * 25000\n",
    "\n",
    "    # calculate the total number of passengers\n",
    "    total_passengers = num_infants + num_discounted_infants + num_children + num_discounted_children + num_adults + num_discounted_adults\n",
    "\n",
    "    # calculate the total price\n",
    "    total_price = infants_price + children_price + adults_price\n",
    "\n",
    "    # output the ticket information\n",
    "    print(\"Infants (full price):\", num_infants, \" x 18,000 won = \", num_infants * 18000, \"won\")\n",
    "    print(\"Infants (discounted):\", num_discounted_infants, \" x 9,000 won = \", num_discounted_infants * 9000, \"won\")\n",
    "    print(\"Children (full price):\", num_children, \" x 25,000 won = \", num_children * 25000, \"won\")\n",
    "    print(\"Children (discounted):\", num_discounted_children, \" x 12,500 won = \", num_discounted_children * 12500, \"won\")\n",
    "    print(\"Adults (full price):\", num_adults, \" x 50,000 won = \", num_adults * 50000, \"won\")\n",
    "    print(\"Adults (discounted):\", num_discounted_adults, \" x 25,000 won = \", num_discounted_adults * 25000, \"won\")\n",
    "\n",
    "    # output the total number of passengers and total price\n",
    "    print(\"Total passengers:\", total_passengers)\n",
    "    print(\"Total price:\", total_price, \"won\")\n",
    "\n",
    "    # return the total price\n",
    "    return total_price\n",
    "\n",
    "# get input from the user\n",
    "num_infants = int(input(\"Enter the number of infants: \"))\n",
    "num_discounted_infants = int(input(\"Enter the number of discounted infants: \"))\n",
    "num_children = int(input(\"Enter the number of children: \"))\n",
    "num_discounted_children = int(input(\"Enter the number of discounted children: \"))\n",
    "num_adults = int(input(\"Enter the number of adults: \"))\n",
    "num_discounted_adults = int(input(\"Enter the number of discounted adults: \"))\n",
    "\n",
    "# calculate the total price\n",
    "total_price = calculate_ticket_price(num_infants, num_discounted_infants, num_children, num_discounted_children, num_adults, num_discounted_adults)\n"
   ]
  },
  {
   "cell_type": "code",
   "execution_count": 15,
   "id": "28499794-d32f-423d-97ec-165bd59a4e07",
   "metadata": {},
   "outputs": [
    {
     "name": "stdin",
     "output_type": "stream",
     "text": [
      "Enter a number:  20\n"
     ]
    },
    {
     "name": "stdout",
     "output_type": "stream",
     "text": [
      "The factorial of 20 is 2432902008176640000\n"
     ]
    }
   ],
   "source": [
    "#43강: 팩토리얼 함수\n",
    "\n",
    "def factorial(n):\n",
    "    # base case\n",
    "    if n == 0:\n",
    "        return 1\n",
    "\n",
    "    # recursive case\n",
    "    else:\n",
    "        return n * factorial(n - 1)\n",
    "\n",
    "# get input from the user\n",
    "n = int(input(\"Enter a number: \"))\n",
    "\n",
    "# calculate the factorial\n",
    "result = factorial(n)\n",
    "\n",
    "# output the result\n",
    "print(\"The factorial of\", n, \"is\", result)"
   ]
  },
  {
   "cell_type": "code",
   "execution_count": 25,
   "id": "25d6b7a5-0da5-45e8-9f98-659c7320526d",
   "metadata": {},
   "outputs": [
    {
     "name": "stdin",
     "output_type": "stream",
     "text": [
      "Enter the principal amount:  10000000\n",
      "Enter the time period (in years):  3\n",
      "Enter the annual interest rate (in percentage):  3\n"
     ]
    },
    {
     "name": "stdout",
     "output_type": "stream",
     "text": [
      "Amount after maturity for simple interest:  10,900,000\n",
      "Amount after maturity for compound interest:  10,940,514\n"
     ]
    }
   ],
   "source": [
    "#43강: 함수를 이용해서 단리, 월복리계산기\n",
    "\n",
    "def calculate_maturity_amount(principal, years, rate):\n",
    "    # calculate monthly interest rate\n",
    "    monthly_rate = rate / 12\n",
    "\n",
    "    # calculate monthly compound interest rate\n",
    "    monthly_compound_rate = ((1 + (monthly_rate / 100)) ** (1/12) - 1) * 100\n",
    "\n",
    "    # calculate number of months\n",
    "    months = years * 12\n",
    "\n",
    "    # calculate compound interest\n",
    "    compound_interest = principal * ((1 + (monthly_rate / 100)) ** months - 1)\n",
    "\n",
    "    # calculate the amount after maturity for simple interest\n",
    "    simple_maturity_amount = principal * (1 + (rate / 100) * years)\n",
    "\n",
    "    # calculate the amount after maturity for compound interest\n",
    "    compound_maturity_amount = principal + compound_interest\n",
    "\n",
    "    # format the amounts with commas\n",
    "    simple_maturity_amount_str = \"{:,.0f}\".format(simple_maturity_amount)\n",
    "    compound_maturity_amount_str = \"{:,.0f}\".format(compound_maturity_amount)\n",
    "\n",
    "    # output the results\n",
    "    print(\"Amount after maturity for simple interest: \", simple_maturity_amount_str)\n",
    "    print(\"Amount after maturity for compound interest: \", compound_maturity_amount_str)\n",
    "\n",
    "    # return the amount after maturity for compound interest\n",
    "    return compound_maturity_amount\n",
    "\n",
    "\n",
    "# get input from the user\n",
    "principal = float(input(\"Enter the principal amount: \"))\n",
    "time = float(input(\"Enter the time period (in years): \"))\n",
    "rate = float(input(\"Enter the annual interest rate (in percentage): \"))\n",
    "\n",
    "# calculate the amount after maturity\n",
    "amount_after_maturity = calculate_maturity_amount(principal, time, rate)"
   ]
  },
  {
   "cell_type": "code",
   "execution_count": 32,
   "id": "81ec3954-f48b-4de9-b0c5-e207e53b86be",
   "metadata": {},
   "outputs": [
    {
     "name": "stdin",
     "output_type": "stream",
     "text": [
      "first number:  2\n",
      "difference:  3\n",
      "n:  7\n"
     ]
    },
    {
     "name": "stdout",
     "output_type": "stream",
     "text": [
      "Value of 7 term: 20\n",
      "Sum up to 7 term: 77.0\n"
     ]
    },
    {
     "data": {
      "text/plain": [
       "(20, 77.0)"
      ]
     },
     "execution_count": 32,
     "metadata": {},
     "output_type": "execute_result"
    }
   ],
   "source": [
    "#44강: 등차수열에서 n번째 항의 값과 n번째 까지의 합을 출력\n",
    "\n",
    "def calculate_arithmetic_sequence(first_term, difference, n):\n",
    "    value = first_term + (n - 1) * difference\n",
    "    total = (n * (first_term + value)) / 2\n",
    "\n",
    "    print(\"Value of\", n, \"term:\", value)\n",
    "    print(\"Sum up to\", n, \"term:\", total)\n",
    "\n",
    "    return value, total\n",
    "\n",
    "first_term = int(input(\"first number: \"))\n",
    "difference = int(input(\"difference: \"))\n",
    "n = int(input(\"n: \"))\n",
    "\n",
    "calculate_arithmetic_sequence(first_term, difference, n)"
   ]
  },
  {
   "cell_type": "code",
   "execution_count": 35,
   "id": "991a0529-03a6-4e63-beef-777761906aeb",
   "metadata": {
    "tags": []
   },
   "outputs": [
    {
     "name": "stdin",
     "output_type": "stream",
     "text": [
      "first number:  2\n",
      "ratio:  3\n",
      "n:  5\n"
     ]
    },
    {
     "name": "stdout",
     "output_type": "stream",
     "text": [
      "Value of 5 term: 162\n",
      "Sum up to 5 term: 242.0\n"
     ]
    },
    {
     "data": {
      "text/plain": [
       "(162, 242.0)"
      ]
     },
     "execution_count": 35,
     "metadata": {},
     "output_type": "execute_result"
    }
   ],
   "source": [
    "#45강: 등비수열에서 n번째 항의 값과 n번째 까지의 합을 출력\n",
    "\n",
    "def calculate_geometric_sequence(first_term, ratio, n):\n",
    "    value = first_term * (ratio ** (n-1))\n",
    "    total = (first_term * ((1 - (ratio ** n))) / (1 - ratio))\n",
    "\n",
    "    print(\"Value of\", n, \"term:\", value)\n",
    "    print(\"Sum up to\", n, \"term:\", total)\n",
    "\n",
    "    return value, total\n",
    "\n",
    "first_term = int(input(\"first number: \"))\n",
    "ratio = int(input(\"ratio: \"))\n",
    "n = int(input(\"n: \"))\n",
    "\n",
    "calculate_geometric_sequence(first_term, ratio, n)"
   ]
  },
  {
   "cell_type": "code",
   "execution_count": 37,
   "id": "5dc1d0b3-23a9-4012-9a52-395262748f7a",
   "metadata": {},
   "outputs": [
    {
     "name": "stdin",
     "output_type": "stream",
     "text": [
      "Enter score for Math:  40\n",
      "Enter score for English:  45\n",
      "Enter score for Science:  85\n",
      "Enter score for History:  75\n",
      "Enter score for Art:  90\n"
     ]
    },
    {
     "name": "stdout",
     "output_type": "stream",
     "text": [
      "Total score: 335\n",
      "Average score: 67.00\n",
      "Result: Pass\n"
     ]
    }
   ],
   "source": [
    "#46강: 모듈 이용, 과목 점수를 입력받아 pass or fail 출력\n",
    "\n",
    "def calculate_overall_grade(grades):\n",
    "    scores = list(grades.values())\n",
    "    total = sum(scores)\n",
    "    average = total / len(scores)\n",
    "    minimum = min(scores)\n",
    "\n",
    "    if average >= 60 and minimum >= 40:\n",
    "        return \"Pass\"\n",
    "    else:\n",
    "        return \"Fail\"\n",
    "\n",
    "grades = {}\n",
    "subjects = [\"Math\", \"English\", \"Science\", \"History\", \"Art\"]\n",
    "\n",
    "for subject in subjects:\n",
    "    score = int(input(\"Enter score for {}: \".format(subject)))\n",
    "    grades[subject] = score\n",
    "\n",
    "result = calculate_overall_grade(grades)\n",
    "total_score = sum(grades.values())\n",
    "average_score = total_score / len(subjects)\n",
    "\n",
    "print(\"Total score: {}\".format(total_score))\n",
    "print(\"Average score: {:.2f}\".format(average_score))\n",
    "print(\"Result: {}\".format(result))"
   ]
  },
  {
   "cell_type": "code",
   "execution_count": 51,
   "id": "1042cd96-af62-4349-8877-aa8c16e62653",
   "metadata": {},
   "outputs": [
    {
     "name": "stdin",
     "output_type": "stream",
     "text": [
      "Would you like to purchase a product? (Enter 1 for Yes or 2 for No):  500\n"
     ]
    },
    {
     "name": "stdout",
     "output_type": "stream",
     "text": [
      "Invalid input. Please enter 1 or 2.\n"
     ]
    },
    {
     "name": "stdin",
     "output_type": "stream",
     "text": [
      "Would you like to purchase a product? (Enter 1 for Yes or 2 for No):  1\n",
      "Enter the product price:  500\n",
      "Would you like to purchase a product? (Enter 1 for Yes or 2 for No):  1\n",
      "Enter the product price:  1500\n",
      "Would you like to purchase a product? (Enter 1 for Yes or 2 for No):  1\n",
      "Enter the product price:  2000\n",
      "Would you like to purchase a product? (Enter 1 for Yes or 2 for No):  1\n",
      "Enter the product price:  1500\n",
      "Would you like to purchase a product? (Enter 1 for Yes or 2 for No):  1\n",
      "Enter the product price:  2500\n",
      "Would you like to purchase a product? (Enter 1 for Yes or 2 for No):  2\n",
      "Are you sure you want to end your purchases? (Enter 1 for Yes or 2 for No):  1\n"
     ]
    },
    {
     "name": "stdout",
     "output_type": "stream",
     "text": [
      "Discount Rate:  25.0 %\n",
      "Total Purchases:  5\n",
      "Total Amount: $ 6000.0\n",
      "You have made a total of 5 purchases.\n",
      "Your total amount is $ 6000.0\n"
     ]
    }
   ],
   "source": [
    "#47강: 모듈 이용, 구매 갯수에 따라 할인율이 적용되어 총금액 계산\n",
    "\n",
    "total_purchases = 0\n",
    "total_amount = 0\n",
    "\n",
    "while True:\n",
    "    user_input = input(\"Would you like to purchase a product? (Enter 1 for Yes or 2 for No): \")\n",
    "    if user_input == \"1\":\n",
    "        product_price = float(input(\"Enter the product price: \"))\n",
    "        total_purchases += 1\n",
    "        total_amount += product_price\n",
    "    elif user_input == \"2\":\n",
    "        user_input_2 = input(\"Are you sure you want to end your purchases? (Enter 1 for Yes or 2 for No): \")\n",
    "        if user_input_2 == \"1\":\n",
    "            break\n",
    "        elif user_input_2 == \"2\":\n",
    "            continue\n",
    "        else:\n",
    "            print(\"Invalid input. Please enter 1 or 2.\")\n",
    "    else:\n",
    "        print(\"Invalid input. Please enter 1 or 2.\")\n",
    "\n",
    "if total_purchases == 1:\n",
    "    discount_rate = 0.05\n",
    "elif total_purchases == 2:\n",
    "    discount_rate = 0.1\n",
    "elif total_purchases == 3:\n",
    "    discount_rate = 0.15\n",
    "elif total_purchases == 4:\n",
    "    discount_rate = 0.2\n",
    "else:\n",
    "    discount_rate = 0.25\n",
    "\n",
    "discount_amount = discount_rate * total_amount\n",
    "total_amount -= discount_amount\n",
    "\n",
    "print(\"Discount Rate: \", discount_rate*100, \"%\")\n",
    "print(\"Total Purchases: \", total_purchases)\n",
    "print(\"Total Amount: $\", total_amount)\n",
    "\n",
    "print(\"You have made a total of\", total_purchases, \"purchases.\")\n",
    "print(\"Your total amount is $\", total_amount)"
   ]
  },
  {
   "cell_type": "code",
   "execution_count": 59,
   "id": "ed1fb859-3eb3-4833-8d5b-44e9964b9c15",
   "metadata": {},
   "outputs": [
    {
     "name": "stdin",
     "output_type": "stream",
     "text": [
      "Enter number 1 between 1 and 45:  2\n",
      "Enter number 2 between 1 and 45:  22\n",
      "Enter number 3 between 1 and 45:  34\n",
      "Enter number 4 between 1 and 45:  10\n",
      "Enter number 5 between 1 and 45:  29\n",
      "Enter number 6 between 1 and 45:  35\n"
     ]
    },
    {
     "name": "stdout",
     "output_type": "stream",
     "text": [
      "Your numbers: 2, 22, 34, 10, 29, 35\n",
      "Lottery numbers: 5, 11, 26, 28, 30, 31  Bonus Number: 19\n",
      "Sorry, next time! You matched 0 numbers.\n",
      "You did not match the bonus number.\n"
     ]
    }
   ],
   "source": [
    "#48강: 모듈 이용, 로또 번호와 보너스번호, 로또결과 출력\n",
    "\n",
    "import random\n",
    "\n",
    "def generate_lottery_numbers():\n",
    "    numbers = random.sample(range(1, 46), 6)\n",
    "    numbers.sort()\n",
    "    bonus_number = random.randint(1, 45)\n",
    "    return numbers, bonus_number\n",
    "\n",
    "lottery_numbers, bonus_number = generate_lottery_numbers()\n",
    "\n",
    "user_numbers = []\n",
    "for i in range(6):\n",
    "    while True:\n",
    "        try:\n",
    "            num = int(input(\"Enter number {} between 1 and 45: \".format(i+1)))\n",
    "            if num < 1 or num > 45:\n",
    "                print(\"Number must be between 1 and 45. Please try again.\")\n",
    "                continue\n",
    "            if num in user_numbers:\n",
    "                print(\"Number must be unique. Please try again.\")\n",
    "                continue\n",
    "            user_numbers.append(num)\n",
    "            break\n",
    "        except ValueError:\n",
    "            print(\"Invalid input. Please enter a number between 1 and 45.\")\n",
    "\n",
    "print(\"Your numbers: \", end=\"\")\n",
    "for i in range(len(user_numbers)):\n",
    "    print(user_numbers[i], end=\"\")\n",
    "    if i != len(user_numbers)-1:\n",
    "        print(\", \", end=\"\")\n",
    "print()\n",
    "\n",
    "num_matches = len(set(lottery_numbers) & set(user_numbers))\n",
    "bonus_match = bonus_number in user_numbers\n",
    "\n",
    "print(\"Lottery numbers: \", end=\"\")\n",
    "for i in range(len(lottery_numbers)):\n",
    "    print(lottery_numbers[i], end=\"\")\n",
    "    if i != len(lottery_numbers)-1:\n",
    "        print(\", \", end=\"\")\n",
    "print(\"  Bonus Number: {}\".format(bonus_number))\n",
    "\n",
    "if num_matches == 6:\n",
    "    print(\"You are the winner~\")\n",
    "else:\n",
    "    print(\"Sorry, next time! You matched {} numbers.\".format(num_matches))\n",
    "    if bonus_match:\n",
    "        print(\"You also matched the bonus number!\")\n",
    "    else:\n",
    "        print(\"You did not match the bonus number.\")\n"
   ]
  },
  {
   "cell_type": "code",
   "execution_count": 1,
   "id": "ab188585-2937-4678-b294-ee9e12d9e4e8",
   "metadata": {},
   "outputs": [
    {
     "name": "stdin",
     "output_type": "stream",
     "text": [
      "Enter the value of n:  8\n",
      "Enter the value of r:  3\n"
     ]
    },
    {
     "name": "stdout",
     "output_type": "stream",
     "text": [
      "8P3 = 336\n"
     ]
    }
   ],
   "source": [
    "#49강: 순열계산 모듈을 만들고 계산결과 출력\n",
    "\n",
    "import math\n",
    "\n",
    "n = int(input(\"Enter the value of n: \"))\n",
    "r = int(input(\"Enter the value of r: \"))\n",
    "\n",
    "# calculate the permutation using the formula nPr = n!/(n-r)!\n",
    "permutation = math.factorial(n) // math.factorial(n - r)\n",
    "\n",
    "print(\"{}P{} = {}\".format(n, r, permutation))"
   ]
  },
  {
   "cell_type": "code",
   "execution_count": 2,
   "id": "fab282a4-bd14-4125-9903-2be4300c69b1",
   "metadata": {},
   "outputs": [
    {
     "name": "stdin",
     "output_type": "stream",
     "text": [
      "Enter the value of n:  8\n",
      "Enter the value of r:  3\n"
     ]
    },
    {
     "name": "stdout",
     "output_type": "stream",
     "text": [
      "8C3 = 56\n"
     ]
    }
   ],
   "source": [
    "#50강: 조합계산 모듈을 만들고 계산결과 출력\n",
    "\n",
    "import math\n",
    "\n",
    "n = int(input(\"Enter the value of n: \"))\n",
    "r = int(input(\"Enter the value of r: \"))\n",
    "\n",
    "# calculate the combination using the formula nCr = n!/(r!(n-r)!)\n",
    "combination = math.factorial(n) // (math.factorial(r) * math.factorial(n - r))\n",
    "\n",
    "print(\"{}C{} = {}\".format(n, r, combination))"
   ]
  },
  {
   "cell_type": "code",
   "execution_count": 67,
   "id": "5d7bf275-c292-4672-939e-698a0b900250",
   "metadata": {},
   "outputs": [
    {
     "name": "stdin",
     "output_type": "stream",
     "text": [
      "Enter your income:  3000000\n",
      "Enter your water bill:  15000\n",
      "Enter your electricity bill:  17500\n",
      "Enter your gas bill:  125000\n"
     ]
    },
    {
     "name": "stdout",
     "output_type": "stream",
     "text": [
      "Total bill amt: 157500\n",
      "Bill to income ratio: 5.25%\n"
     ]
    }
   ],
   "source": [
    "#51강: 모듈 이용, 수입대비 공과금 비율계산\n",
    "\n",
    "income = int(input(\"Enter your income: \"))\n",
    "water_bill = int(input(\"Enter your water bill: \"))\n",
    "electricity_bill = int(input(\"Enter your electricity bill: \"))\n",
    "gas_bill = int(input(\"Enter your gas bill: \"))\n",
    "\n",
    "totalAmt= water_bill+electricity_bill+gas_bill\n",
    "bill_ratio = totalAmt / income\n",
    "\n",
    "print(\"Total bill amt: {}\".format(totalAmt))\n",
    "print(\"Bill to income ratio: {}%\".format(bill_ratio * 100))"
   ]
  },
  {
   "cell_type": "code",
   "execution_count": 4,
   "id": "ab25c333-8d30-401e-9a63-9d0ead6d000c",
   "metadata": {},
   "outputs": [],
   "source": [
    "#52강: 다음과 같이 패키지와 모듈을 만들고 연산결과를 출력하자\n"
   ]
  },
  {
   "cell_type": "code",
   "execution_count": 8,
   "id": "d74dd175-f951-4b71-bd1c-32cc930289ee",
   "metadata": {},
   "outputs": [
    {
     "name": "stdout",
     "output_type": "stream",
     "text": [
      "=== Membership Sign-up ===\n"
     ]
    },
    {
     "name": "stdin",
     "output_type": "stream",
     "text": [
      "Enter your name:  lee\n",
      "Enter your age:  30\n",
      "Enter your email:  amor\n",
      "Enter your password:  123\n"
     ]
    },
    {
     "name": "stdout",
     "output_type": "stream",
     "text": [
      "Membership created for lee.\n",
      "=== Membership Sign-up ===\n"
     ]
    },
    {
     "name": "stdin",
     "output_type": "stream",
     "text": [
      "Enter your name:  kim\n",
      "Enter your age:  20\n",
      "Enter your email:  kims\n",
      "Enter your password:  345\n"
     ]
    },
    {
     "name": "stdout",
     "output_type": "stream",
     "text": [
      "Membership created for kim.\n",
      "=== Membership Login ===\n"
     ]
    },
    {
     "name": "stdin",
     "output_type": "stream",
     "text": [
      "Enter your email:  amor\n",
      "Enter your password:  12\n"
     ]
    },
    {
     "name": "stdout",
     "output_type": "stream",
     "text": [
      "Login failed. Invalid email or password.\n",
      "=== Search Members ===\n"
     ]
    },
    {
     "name": "stdin",
     "output_type": "stream",
     "text": [
      "Enter a search term:  kim\n"
     ]
    },
    {
     "name": "stdout",
     "output_type": "stream",
     "text": [
      "Search results:\n",
      "- kim (kims)\n"
     ]
    }
   ],
   "source": [
    "#53강: 회원가입 클래스와 회원정보관리 클래스를 만들고 회원가입과 로그인 기능을 구현\n",
    "\n",
    "class Member:\n",
    "    def __init__(self, name, age, email, password):\n",
    "        self.name = name\n",
    "        self.age = age\n",
    "        self.email = email\n",
    "        self.password = password\n",
    "\n",
    "class MembershipManager:\n",
    "    def __init__(self):\n",
    "        self.members = []\n",
    "\n",
    "    def signup(self, name, age, email, password):\n",
    "        member = Member(name, age, email, password)\n",
    "        self.members.append(member)\n",
    "        print(\"Membership created for {}.\".format(member.name))\n",
    "\n",
    "    def login(self, email, password):\n",
    "        for member in self.members:\n",
    "            if member.email == email and member.password == password:\n",
    "                print(\"Login successful for {}.\".format(member.name))\n",
    "                return True\n",
    "        print(\"Login failed. Invalid email or password.\")\n",
    "        return False\n",
    "\n",
    "    def search_members(self, search_term):\n",
    "        results = []\n",
    "        for member in self.members:\n",
    "            if search_term in member.name or search_term in member.email:\n",
    "                results.append(member)\n",
    "        return results\n",
    "\n",
    "    def display_signup_screen(self):\n",
    "        print(\"=== Membership Sign-up ===\")\n",
    "        name = input(\"Enter your name: \")\n",
    "        age = int(input(\"Enter your age: \"))\n",
    "        email = input(\"Enter your email: \")\n",
    "        password = input(\"Enter your password: \")\n",
    "        self.signup(name, age, email, password)\n",
    "\n",
    "    def display_login_screen(self):\n",
    "        print(\"=== Membership Login ===\")\n",
    "        email = input(\"Enter your email: \")\n",
    "        password = input(\"Enter your password: \")\n",
    "        self.login(email, password)\n",
    "\n",
    "    def display_search_screen(self):\n",
    "        print(\"=== Search Members ===\")\n",
    "        search_term = input(\"Enter a search term: \")\n",
    "        results = self.search_members(search_term)\n",
    "        if results:\n",
    "            print(\"Search results:\")\n",
    "            for member in results:\n",
    "                print(\"- {} ({})\".format(member.name, member.email))\n",
    "        else:\n",
    "            print(\"No results found.\")\n",
    "\n",
    "if __name__ == '__main__':\n",
    "    membership_manager = MembershipManager()\n",
    "\n",
    "    # Sign up some new members\n",
    "    membership_manager.display_signup_screen()\n",
    "    membership_manager.display_signup_screen()\n",
    "\n",
    "    # Login as a member\n",
    "    membership_manager.display_login_screen()\n",
    "\n",
    "    # Search for members\n",
    "    membership_manager.display_search_screen()\n"
   ]
  },
  {
   "cell_type": "code",
   "execution_count": 13,
   "id": "767ab580-2351-45b2-ac2e-757bac7081f0",
   "metadata": {},
   "outputs": [
    {
     "name": "stdout",
     "output_type": "stream",
     "text": [
      "Normal TV Info:\n",
      "- Inch: 32\n",
      "- Color: blue\n",
      "- Resolution: 8K\n",
      "- Smart TV: False\n",
      "- AI TV: False\n",
      "\n",
      "4KTV Info:\n",
      "- Inch: 65\n",
      "- Color: silver\n",
      "- Resolution: 8K\n",
      "- Smart TV: True\n",
      "- AI TV: False\n",
      "\n",
      "8KTV Info:\n",
      "- Inch: 50\n",
      "- Color: black\n",
      "- Resolution: 1080p\n",
      "- Smart TV: True\n",
      "- AI TV: True\n",
      "\n"
     ]
    }
   ],
   "source": [
    "#54강: TV클래스를 상속구조로 만들고 객체를 생성해보자\n",
    "'''\n",
    "Normal TV\n",
    "1. 속성: inch, color, resolution, smartTV, aiTV\n",
    "2. 기능: turnOn(), turnOff(), printTvInfo()\n",
    "\n",
    "TV4K\n",
    "1. 속성: Normal TV 상속받음\n",
    "2. 기능: setSmartTV() \n",
    "\n",
    "TV8K\n",
    "1. 속성: Normal TV 상속받음\n",
    "2. 기능: setSmartTV(), serAiTv()\n",
    "'''\n",
    "\n",
    "class NormalTV:\n",
    "    def __init__(self, inch, color, resolution, smartTV=False, aiTV=False):\n",
    "        self.inch = inch\n",
    "        self.color = color\n",
    "        self.resolution = resolution\n",
    "        self.smartTV = smartTV\n",
    "        self.aiTV = aiTV\n",
    "\n",
    "    def turnOn(self):\n",
    "        print(\"TV turned on.\")\n",
    "\n",
    "    def turnOff(self):\n",
    "        print(\"TV turned off.\")\n",
    "\n",
    "    def __str__(self):\n",
    "        tv_type = \"Normal TV\"\n",
    "        return f\"{tv_type} Info:\\n- Inch: {self.inch}\\n- Color: {self.color}\\n- Resolution: {self.resolution}\\n- Smart TV: {self.smartTV}\\n- AI TV: {self.aiTV}\\n\"\n",
    "\n",
    "class TV4K(NormalTV):\n",
    "    def __init__(self, inch, color, resolution):\n",
    "        super().__init__(inch, color, resolution)\n",
    "\n",
    "    def setSmartTV(self):\n",
    "        self.smartTV = True\n",
    "\n",
    "    def __str__(self):\n",
    "        tv_type = \"4KTV\"\n",
    "        return f\"{tv_type} Info:\\n- Inch: {self.inch}\\n- Color: {self.color}\\n- Resolution: {self.resolution}\\n- Smart TV: {self.smartTV}\\n- AI TV: {self.aiTV}\\n\"\n",
    "\n",
    "class TV8K(NormalTV):\n",
    "    def __init__(self, inch, color, resolution):\n",
    "        super().__init__(inch, color, resolution)\n",
    "\n",
    "    def setSmartTV(self):\n",
    "        self.smartTV = True\n",
    "\n",
    "    def setAiTV(self):\n",
    "        self.aiTV = True\n",
    "\n",
    "    def __str__(self):\n",
    "        tv_type = \"8KTV\"\n",
    "        return f\"{tv_type} Info:\\n- Inch: {self.inch}\\n- Color: {self.color}\\n- Resolution: {self.resolution}\\n- Smart TV: {self.smartTV}\\n- AI TV: {self.aiTV}\\n\"\n",
    "\n",
    "# Create a NormalTV object with the specified properties\n",
    "normal_tv = NormalTV(inch=32, color='blue', resolution='8K')\n",
    "print(normal_tv)\n",
    "\n",
    "# Create a TV4K object with the specified properties\n",
    "tv4k = TV4K(inch=65, color='silver', resolution='8K')\n",
    "tv4k.setSmartTV()\n",
    "print(tv4k)\n",
    "\n",
    "# Create a TV8K object with the specified properties\n",
    "tv8k = TV8K(inch=50, color='black', resolution='1080p')\n",
    "tv8k.setSmartTV()\n",
    "tv8k.setAiTV()\n",
    "print(tv8k)"
   ]
  },
  {
   "cell_type": "code",
   "execution_count": 17,
   "id": "3f670a65-4908-4d1f-92ae-9fbbfddb69e2",
   "metadata": {},
   "outputs": [
    {
     "name": "stdout",
     "output_type": "stream",
     "text": [
      "Book Management Program\n",
      "1. Register Book\n",
      "2. Delete Book\n",
      "3. Print All Books Info\n",
      "4. Print Book Info\n",
      "5. Exit\n"
     ]
    },
    {
     "name": "stdin",
     "output_type": "stream",
     "text": [
      "Enter your choice:  1\n",
      "Enter book name:  alice\n",
      "Enter book price:  12000\n",
      "Enter book ISBN:  12345\n"
     ]
    },
    {
     "name": "stdout",
     "output_type": "stream",
     "text": [
      "alice registered successfully.\n",
      "Book Management Program\n",
      "1. Register Book\n",
      "2. Delete Book\n",
      "3. Print All Books Info\n",
      "4. Print Book Info\n",
      "5. Exit\n"
     ]
    },
    {
     "name": "stdin",
     "output_type": "stream",
     "text": [
      "Enter your choice:  1\n",
      "Enter book name:  cin\n",
      "Enter book price:  20000\n",
      "Enter book ISBN:  12356\n"
     ]
    },
    {
     "name": "stdout",
     "output_type": "stream",
     "text": [
      "cin registered successfully.\n",
      "Book Management Program\n",
      "1. Register Book\n",
      "2. Delete Book\n",
      "3. Print All Books Info\n",
      "4. Print Book Info\n",
      "5. Exit\n"
     ]
    },
    {
     "name": "stdin",
     "output_type": "stream",
     "text": [
      "Enter your choice:  3\n"
     ]
    },
    {
     "name": "stdout",
     "output_type": "stream",
     "text": [
      "All Books Info:\n",
      "- Name: alice, Price: 12000, ISBN: 12345\n",
      "- Name: cin, Price: 20000, ISBN: 12356\n",
      "Book Management Program\n",
      "1. Register Book\n",
      "2. Delete Book\n",
      "3. Print All Books Info\n",
      "4. Print Book Info\n",
      "5. Exit\n"
     ]
    },
    {
     "name": "stdin",
     "output_type": "stream",
     "text": [
      "Enter your choice:  4\n",
      "Enter book name to print info:  cin\n"
     ]
    },
    {
     "name": "stdout",
     "output_type": "stream",
     "text": [
      "Book Info: Name: cin, Price: 20000, ISBN: 12356\n",
      "Book Management Program\n",
      "1. Register Book\n",
      "2. Delete Book\n",
      "3. Print All Books Info\n",
      "4. Print Book Info\n",
      "5. Exit\n"
     ]
    },
    {
     "name": "stdin",
     "output_type": "stream",
     "text": [
      "Enter your choice:  5\n"
     ]
    },
    {
     "name": "stdout",
     "output_type": "stream",
     "text": [
      "Exiting Book Management Program.\n"
     ]
    }
   ],
   "source": [
    "#55강: 다음 명세서를 참고해서 도서관리프로그램을 만들어보자\n",
    "\n",
    "'''\n",
    "Book\n",
    "1. 속성: name, price, isbn\n",
    "\n",
    "BookRepository\n",
    "1. 속성: bDic\n",
    "2. 기능: \n",
    "   registBook(): 도서 등록\n",
    "   removeBook(): 도서 삭제\n",
    "   printBooksInfo(): 전체 도서 정보 출력\n",
    "   printBookInfo(): 도서 정보 출력\n",
    "'''\n",
    "\n",
    "class Book:\n",
    "    def __init__(self, name, price, isbn):\n",
    "        self.name = name\n",
    "        self.price = price\n",
    "        self.isbn = isbn\n",
    "\n",
    "    def __str__(self):\n",
    "        return f\"Name: {self.name}, Price: {self.price}, ISBN: {self.isbn}\"\n",
    "\n",
    "class BookRepository:\n",
    "    def __init__(self):\n",
    "        self.bDic = {}\n",
    "\n",
    "    def registBook(self, book):\n",
    "        self.bDic[book.isbn] = book\n",
    "\n",
    "    def removeBook(self, isbn):\n",
    "        if isbn in self.bDic:\n",
    "            del self.bDic[isbn]\n",
    "            print(f\"Book with ISBN {isbn} removed successfully.\")\n",
    "        else:\n",
    "            print(f\"Book with ISBN {isbn} not found.\")\n",
    "\n",
    "    def printBooksInfo(self):\n",
    "        if len(self.bDic) == 0:\n",
    "            print(\"No books registered.\")\n",
    "        else:\n",
    "            print(\"All Books Info:\")\n",
    "            for book in self.bDic.values():\n",
    "                print(f\"- {str(book)}\")\n",
    "\n",
    "    def printBookInfo(self, name):\n",
    "        found_book = None\n",
    "        for book in self.bDic.values():\n",
    "            if book.name.lower() == name.lower():\n",
    "                found_book = book\n",
    "                break\n",
    "        if found_book:\n",
    "            print(f\"Book Info: {str(found_book)}\")\n",
    "        else:\n",
    "            print(f\"Book with name '{name}' not found.\")\n",
    "\n",
    "# Create a new book repository\n",
    "book_repo = BookRepository()\n",
    "\n",
    "while True:\n",
    "    print(\"Book Management Program\")\n",
    "    print(\"1. Register Book\")\n",
    "    print(\"2. Delete Book\")\n",
    "    print(\"3. Print All Books Info\")\n",
    "    print(\"4. Print Book Info\")\n",
    "    print(\"5. Exit\")\n",
    "\n",
    "    choice = input(\"Enter your choice: \")\n",
    "\n",
    "    if choice == \"1\":\n",
    "        name = input(\"Enter book name: \")\n",
    "        price = input(\"Enter book price: \")\n",
    "        isbn = input(\"Enter book ISBN: \")\n",
    "        book = Book(name, price, isbn)\n",
    "        book_repo.registBook(book)\n",
    "        print(f\"{name} registered successfully.\")\n",
    "\n",
    "    elif choice == \"2\":\n",
    "        isbn = input(\"Enter book ISBN to remove: \")\n",
    "        book_repo.removeBook(isbn)\n",
    "\n",
    "    elif choice == \"3\":\n",
    "        book_repo.printBooksInfo()\n",
    "\n",
    "    elif choice == \"4\":\n",
    "        name = input(\"Enter book name to print info: \")\n",
    "        book_repo.printBookInfo(name)\n",
    "\n",
    "    elif choice == \"5\":\n",
    "        print(\"Exiting Book Management Program.\")\n",
    "        break\n",
    "\n",
    "    else:\n",
    "        print(\"Invalid choice. Please try again.\")\n"
   ]
  },
  {
   "cell_type": "code",
   "execution_count": 21,
   "id": "1ea3ca72-803a-41a6-840d-ef83e9738f4e",
   "metadata": {},
   "outputs": [
    {
     "name": "stdout",
     "output_type": "stream",
     "text": [
      "Korean-English Dictionary:\n",
      "사과: apple\n",
      "안녕하세요: hello\n",
      "감자: potato\n",
      "바나나: banana\n",
      "토마토: tomato\n"
     ]
    }
   ],
   "source": [
    "#56강: 추상클래스를 이용해서 한/영, 한/일 사전클래스를 만들어보자\n",
    "\n",
    "\n",
    "    @abstractmethod\n",
    "    def registWord(self, w1, w2):\n",
    "        pass\n",
    "    \n",
    "    @abstractmethod\n",
    "    def removeWord(self, w1):\n",
    "        pass\n",
    "    \n",
    "    @abstractmethod\n",
    "    def updateWord(self, w1, w2):\n",
    "        pass\n",
    "    \n",
    "    @abstractmethod\n",
    "    def searchWord(self, w1):\n",
    "        pass\n",
    "    \n"
   ]
  },
  {
   "cell_type": "code",
   "execution_count": 25,
   "id": "b2ccaff4-69db-4685-8dee-736ba0e95908",
   "metadata": {},
   "outputs": [
    {
     "name": "stdout",
     "output_type": "stream",
     "text": [
      "Welcome to the dice game!\n",
      "Round 1: You rolled a 3, and the computer rolled a 4\n",
      "The computer wins!\n",
      "Round 2: You rolled a 2, and the computer rolled a 6\n",
      "The computer wins!\n",
      "Round 3: You rolled a 2, and the computer rolled a 1\n",
      "You win!\n",
      "Round 4: You rolled a 6, and the computer rolled a 5\n",
      "You win!\n",
      "Round 5: You rolled a 3, and the computer rolled a 5\n",
      "The computer wins!\n",
      "Game over! Your score: 2. Computer's score: 3\n",
      "The computer wins the game!\n"
     ]
    }
   ],
   "source": [
    "#57강 주사위 게임클래슬르 만들고 컴퓨터와 사용자의 게임결과를 출력\n",
    "\n",
    "\n",
    "import random\n",
    "\n",
    "class DiceGame:\n",
    "    def __init__(self):\n",
    "        self.user_score = 0\n",
    "        self.computer_score = 0\n",
    "        self.rounds = 0\n",
    "    \n",
    "    def play_round(self):\n",
    "        self.rounds += 1\n",
    "        user_roll = random.randint(1, 6)\n",
    "        computer_roll = random.randint(1, 6)\n",
    "        print(f\"Round {self.rounds}: You rolled a {user_roll}, and the computer rolled a {computer_roll}\")\n",
    "        if user_roll > computer_roll:\n",
    "            self.user_score += 1\n",
    "            print(\"You win!\")\n",
    "        elif computer_roll > user_roll:\n",
    "            self.computer_score += 1\n",
    "            print(\"The computer wins!\")\n",
    "        else:\n",
    "            print(\"It's a tie!\")\n",
    "    \n",
    "    def play_game(self):\n",
    "        print(\"Welcome to the dice game!\")\n",
    "        while self.rounds < 5:\n",
    "            self.play_round()\n",
    "        print(f\"Game over! Your score: {self.user_score}. Computer's score: {self.computer_score}\")\n",
    "        if self.user_score > self.computer_score:\n",
    "            print(\"You win the game!\")\n",
    "        elif self.computer_score > self.user_score:\n",
    "            print(\"The computer wins the game!\")\n",
    "        else:\n",
    "            print(\"The game is a tie!\")\n",
    "\n",
    "game = DiceGame()\n",
    "game.play_game()"
   ]
  },
  {
   "cell_type": "code",
   "execution_count": 28,
   "id": "08ea3c56-d264-495d-b421-665988b45d23",
   "metadata": {},
   "outputs": [
    {
     "name": "stdout",
     "output_type": "stream",
     "text": [
      "Starting the car race!\n",
      "Round 1 of the race:\n",
      "Car 1 moved 9 units and traveled a total of 9 units.\n",
      "Car 2 moved 65 units and traveled a total of 65 units.\n",
      "Car 3 moved 73 units and traveled a total of 73 units.\n",
      "Round 2 of the race:\n",
      "Car 1 moved 17 units and traveled a total of 26 units.\n",
      "Car 2 moved 40 units and traveled a total of 105 units.\n",
      "Car 3 moved 3 units and traveled a total of 76 units.\n",
      "Round 3 of the race:\n",
      "Car 1 moved 73 units and traveled a total of 99 units.\n",
      "Car 2 moved 38 units and traveled a total of 143 units.\n",
      "Car 3 moved 97 units and traveled a total of 173 units.\n",
      "Round 4 of the race:\n",
      "Car 1 moved 21 units and traveled a total of 120 units.\n",
      "Car 2 moved 91 units and traveled a total of 234 units.\n",
      "Car 3 moved 40 units and traveled a total of 213 units.\n",
      "Round 5 of the race:\n",
      "Car 1 moved 73 units and traveled a total of 193 units.\n",
      "Car 2 moved 54 units and traveled a total of 288 units.\n",
      "Car 3 moved 14 units and traveled a total of 227 units.\n",
      "Round 6 of the race:\n",
      "Car 1 moved 9 units and traveled a total of 202 units.\n",
      "Car 2 moved 78 units and traveled a total of 366 units.\n",
      "Car 3 moved 53 units and traveled a total of 280 units.\n",
      "Round 7 of the race:\n",
      "Car 1 moved 2 units and traveled a total of 204 units.\n",
      "Car 2 moved 77 units and traveled a total of 443 units.\n",
      "Car 3 moved 30 units and traveled a total of 310 units.\n",
      "Round 8 of the race:\n",
      "Car 1 moved 100 units and traveled a total of 304 units.\n",
      "Car 2 moved 39 units and traveled a total of 482 units.\n",
      "Car 3 moved 80 units and traveled a total of 390 units.\n",
      "Round 9 of the race:\n",
      "Car 1 moved 41 units and traveled a total of 345 units.\n",
      "Car 2 moved 51 units and traveled a total of 533 units.\n",
      "Car 3 moved 61 units and traveled a total of 451 units.\n",
      "Round 10 of the race:\n",
      "Car 1 moved 31 units and traveled a total of 376 units.\n",
      "Car 2 moved 90 units and traveled a total of 623 units.\n",
      "Car 3 moved 35 units and traveled a total of 486 units.\n",
      "The winner is Car 2 with a total distance of 623 units!\n"
     ]
    }
   ],
   "source": [
    "#58강 자동차 경주게임 클래스를 만든다, 자동차는 랜덤하게 이동하고 10초동안 주행 시 가장멀리 이동한 차가 승리\n",
    "\n",
    "import random\n",
    "import time\n",
    "\n",
    "class Car:\n",
    "    def __init__(self, name):\n",
    "        self.name = name\n",
    "        self.distance = 0\n",
    "    \n",
    "    def move(self):\n",
    "        distance_traveled = random.randint(0, 100)\n",
    "        self.distance += distance_traveled\n",
    "        print(f\"{self.name} moved {distance_traveled} units and traveled a total of {self.distance} units.\")\n",
    "    \n",
    "class CarRace:\n",
    "    def __init__(self, cars):\n",
    "        self.cars = cars\n",
    "    \n",
    "    def play_race(self):\n",
    "        print(\"Starting the car race!\")\n",
    "        for i in range(10):\n",
    "            print(f\"Round {i+1} of the race:\")\n",
    "            for car in self.cars:\n",
    "                car.move()\n",
    "            time.sleep(1)\n",
    "        winner = max(self.cars, key=lambda car: car.distance)\n",
    "        print(f\"The winner is {winner.name} with a total distance of {winner.distance} units!\")\n",
    "\n",
    "car1 = Car(\"Car 1\")\n",
    "car2 = Car(\"Car 2\")\n",
    "car3 = Car(\"Car 3\")\n",
    "race = CarRace([car1, car2, car3])\n",
    "race.play_race()\n"
   ]
  },
  {
   "cell_type": "code",
   "execution_count": 30,
   "id": "99dde611-5705-43d8-ac92-a3f613a40bc4",
   "metadata": {},
   "outputs": [
    {
     "name": "stdout",
     "output_type": "stream",
     "text": [
      "Bohemian Rhapsody has been added to the playlist.\n",
      "Stairway to Heaven has been added to the playlist.\n",
      "Hotel California has been added to the playlist.\n",
      "Playing the playlist:\n",
      "Now playing Bohemian Rhapsody\n",
      "Now playing Stairway to Heaven\n",
      "Now playing Hotel California\n"
     ]
    }
   ],
   "source": [
    "#59강  mp3플레이어 클래스를 만들고 노래 등록후 재생\n",
    "\n",
    "class MP3Player:\n",
    "    def __init__(self):\n",
    "        self.playlist = []\n",
    "    \n",
    "    def add_song(self, song):\n",
    "        self.playlist.append(song)\n",
    "        print(f\"{song} has been added to the playlist.\")\n",
    "    \n",
    "    def play(self):\n",
    "        if not self.playlist:\n",
    "            print(\"The playlist is empty!\")\n",
    "            return\n",
    "        print(\"Playing the playlist:\")\n",
    "        for song in self.playlist:\n",
    "            print(f\"Now playing {song}\")\n",
    "\n",
    "mp3_player = MP3Player()\n",
    "mp3_player.add_song(\"Bohemian Rhapsody\")\n",
    "mp3_player.add_song(\"Stairway to Heaven\")\n",
    "mp3_player.add_song(\"Hotel California\")\n",
    "mp3_player.play()"
   ]
  },
  {
   "cell_type": "code",
   "execution_count": 34,
   "id": "452d5ec4-230d-4e7d-9ce4-fd3abbf25be3",
   "metadata": {},
   "outputs": [
    {
     "name": "stdin",
     "output_type": "stream",
     "text": [
      "Enter the first number:  20\n",
      "Enter the second number:  3\n",
      "Enter the operator (+, -, *, /):  +\n"
     ]
    },
    {
     "name": "stdout",
     "output_type": "stream",
     "text": [
      "20 + 3 = 23\n"
     ]
    }
   ],
   "source": [
    "#60강 예외처리1. 사용자가 입력한 숫자를 이용해서 산술연산 결과를 출력하는 모듈을 만들되 예상하는 예외에 대한 예외처리 코드설정\n",
    "\n",
    "def calculate(num1, num2, op):\n",
    "    try:\n",
    "        if op == '+':\n",
    "            result = num1 + num2\n",
    "        elif op == '-':\n",
    "            result = num1 - num2\n",
    "        elif op == '*':\n",
    "            result = num1 * num2\n",
    "        elif op == '/':\n",
    "            if num2 == 0:\n",
    "                raise ZeroDivisionError(\"Cannot divide by zero.\")\n",
    "            result = num1 / num2\n",
    "        else:\n",
    "            raise ValueError(\"Invalid operator.\")\n",
    "        print(f\"{num1} {op} {num2} = {result}\")\n",
    "    except ZeroDivisionError as e:\n",
    "        print(e)\n",
    "    except ValueError as e:\n",
    "        print(e)\n",
    "\n",
    "num1 = int(input(\"Enter the first number: \"))\n",
    "num2 = int(input(\"Enter the second number: \"))\n",
    "op = input(\"Enter the operator (+, -, *, /): \")\n",
    "\n",
    "calculate(num1, num2, op)\n"
   ]
  },
  {
   "cell_type": "code",
   "execution_count": 118,
   "id": "8519ea99-f4c6-4e20-b170-09db5429b8ce",
   "metadata": {},
   "outputs": [
    {
     "name": "stdout",
     "output_type": "stream",
     "text": [
      "608 is not a prime number.\n"
     ]
    }
   ],
   "source": [
    "#61강 예외처리2. 1~1000까지의 소수인 난수10개를 생성하되 소수가 아니면 사용자 예외가 발생하도록 만들어보자\n",
    "\n",
    "import random\n",
    "\n",
    "class NotPrimeError(Exception):\n",
    "    pass\n",
    "\n",
    "def is_prime(n):\n",
    "    if n < 2:\n",
    "        return False\n",
    "    for i in range(2, int(n**0.5)+1):\n",
    "        if n % i == 0:\n",
    "            return False\n",
    "    return True\n",
    "\n",
    "def generate_primes(num_primes):\n",
    "    primes = []\n",
    "    while len(primes) < num_primes:\n",
    "        n = random.randint(1, 1000)\n",
    "        if is_prime(n):\n",
    "            primes.append(n)\n",
    "        else:\n",
    "            raise NotPrimeError(f\"{n} is not a prime number.\")\n",
    "    return primes\n",
    "\n",
    "try:\n",
    "    prime_numbers = generate_primes(10)\n",
    "    print(\"Generated prime numbers:\")\n",
    "    for prime in prime_numbers:\n",
    "        print(prime)\n",
    "except NotPrimeError as e:\n",
    "    print(e)\n"
   ]
  },
  {
   "cell_type": "code",
   "execution_count": 127,
   "id": "d68c07bc-3a00-4989-8e7d-5b28d6316e62",
   "metadata": {},
   "outputs": [
    {
     "name": "stdin",
     "output_type": "stream",
     "text": [
      "Enter the quantity of goods1:  한개\n",
      "Enter the quantity of goods2:  3\n",
      "Enter the quantity of goods3:  1\n",
      "Enter the quantity of goods4:  \n",
      "Enter the quantity of goods5:  2\n"
     ]
    },
    {
     "name": "stdout",
     "output_type": "stream",
     "text": [
      "The total purchase amount is 6200 won.\n",
      "The following items were unpaid:\n",
      "goods1: 0 items, 1200 won per item\n",
      "goods4: 0 items, 2000 won per item\n"
     ]
    }
   ],
   "source": [
    "#62강 예외처리3. 상품구매 총구매금액을 출력하되 구매갯수가 문자 또는 공백인 경우 별도로 출력하는 프로그램\n",
    "\n",
    "goods = {'goods1': 1200, 'goods2': 1000, 'goods3': 800, 'goods4': 2000, 'goods5': 1200}\n",
    "total = 0\n",
    "unpaid_items = {}\n",
    "\n",
    "for i in range(len(goods)):\n",
    "    while True:\n",
    "        try:\n",
    "            quantity = input(f\"Enter the quantity of {list(goods.keys())[i]}: \")\n",
    "            if quantity == '' or not quantity.isnumeric():\n",
    "                item_name = list(goods.keys())[i]\n",
    "                item_price = list(goods.values())[i]\n",
    "                unpaid_items[item_name] = {'price': item_price, 'quantity': 0}\n",
    "                break\n",
    "            else:\n",
    "                item_price = list(goods.values())[i]\n",
    "                item_quantity = int(quantity)\n",
    "                total += item_price * item_quantity\n",
    "                break\n",
    "        except ValueError:\n",
    "            print(\"Invalid input. Please enter a number.\")\n",
    "\n",
    "print(f\"The total purchase amount is {total} won.\")\n",
    "\n",
    "if unpaid_items:\n",
    "    print(\"The following items were unpaid:\")\n",
    "    for item_name, item_data in unpaid_items.items():\n",
    "        item_price = item_data['price']\n",
    "        item_quantity = item_data['quantity']\n",
    "        print(f\"{item_name}: {item_quantity} items, {item_price} won per item\")\n",
    "else:\n",
    "    print(\"All items were paid.\")\n"
   ]
  },
  {
   "cell_type": "code",
   "execution_count": 131,
   "id": "9363c5e5-dfa4-49e8-ac7e-386c6c6f4856",
   "metadata": {},
   "outputs": [
    {
     "name": "stdin",
     "output_type": "stream",
     "text": [
      "Enter your name:  레나\n",
      "Enter your email:  amor\n",
      "Enter your password:  123\n",
      "Enter your address:  서울시 동작구\n",
      "Enter your contact information:  01012345678\n"
     ]
    },
    {
     "name": "stdout",
     "output_type": "stream",
     "text": [
      "Membership sign-up complete!\n",
      "Here are your sign-up details:\n",
      "Name: 레나\n",
      "Email: amor\n",
      "Password: 123\n",
      "Address: 서울시 동작구\n",
      "Contact Information: 01012345678\n"
     ]
    }
   ],
   "source": [
    "#63강 예외처리4. 회원가입 프로그램을 만들되 입력하지 않은 항목이 있으면 에러메세지 출력 \n",
    "\n",
    "class InformationMissingError(Exception):\n",
    "    pass\n",
    "\n",
    "def get_user_input(prompt):\n",
    "    while True:\n",
    "        value = input(prompt).strip()\n",
    "        if value:\n",
    "            return value\n",
    "        else:\n",
    "            raise InformationMissingError(\"Please enter a value.\")\n",
    "\n",
    "try:\n",
    "    name = get_user_input(\"Enter your name: \")\n",
    "    email = get_user_input(\"Enter your email: \")\n",
    "    password = get_user_input(\"Enter your password: \")\n",
    "    address = get_user_input(\"Enter your address: \")\n",
    "    contact_info = get_user_input(\"Enter your contact information: \")\n",
    "\n",
    "    print(\"Membership sign-up complete!\")\n",
    "    print(\"Here are your sign-up details:\")\n",
    "    print(f\"Name: {name}\")\n",
    "    print(f\"Email: {email}\")\n",
    "    print(f\"Password: {password}\")\n",
    "    print(f\"Address: {address}\")\n",
    "    print(f\"Contact Information: {contact_info}\")\n",
    "\n",
    "except InformationMissingError as e:\n",
    "    print(f\"Membership sign-up failed: {e}\")\n"
   ]
  },
  {
   "cell_type": "code",
   "execution_count": 134,
   "id": "97ff8fe5-1583-4d45-ba57-ad8abd2c3286",
   "metadata": {},
   "outputs": [
    {
     "name": "stdin",
     "output_type": "stream",
     "text": [
      "Enter the account holder's name:  이혜지\n"
     ]
    },
    {
     "name": "stdout",
     "output_type": "stream",
     "text": [
      "Account number: 29936028\n"
     ]
    },
    {
     "name": "stdin",
     "output_type": "stream",
     "text": [
      "Enter 1 to deposit, 2 to withdraw, or 3 to end:  1\n",
      "Enter the deposit amount:  10000\n"
     ]
    },
    {
     "name": "stdout",
     "output_type": "stream",
     "text": [
      "Deposited 10000 won. New balance: 10000 won.\n"
     ]
    },
    {
     "name": "stdin",
     "output_type": "stream",
     "text": [
      "Enter 1 to deposit, 2 to withdraw, or 3 to end:  2\n",
      "Enter the withdrawal amount:  20000\n"
     ]
    },
    {
     "name": "stdout",
     "output_type": "stream",
     "text": [
      "Withdrawal failed: Cannot withdraw more than the current balance.\n",
      "Current balance: 10000 won.\n"
     ]
    },
    {
     "name": "stdin",
     "output_type": "stream",
     "text": [
      "Enter 1 to deposit, 2 to withdraw, or 3 to end:  3\n"
     ]
    },
    {
     "name": "stdout",
     "output_type": "stream",
     "text": [
      "Bank account program ended.\n"
     ]
    }
   ],
   "source": [
    "#64강 예외처리5. 은행계좌개설 및 입/출금 프로그램 (잔액보다 큰 금액 출금시 예외처리)\n",
    "\n",
    "import random\n",
    "\n",
    "class InsufficientFundsError(Exception):\n",
    "    pass\n",
    "\n",
    "class BankAccount:\n",
    "    def __init__(self, account_holder, balance=0):\n",
    "        self.account_holder = account_holder\n",
    "        self.account_number = random.randint(10000000, 99999999)\n",
    "        self.balance = balance\n",
    "\n",
    "    def deposit(self, amount):\n",
    "        self.balance += amount\n",
    "        print(f\"Deposited {amount} won. New balance: {self.balance} won.\")\n",
    "\n",
    "    def withdraw(self, amount):\n",
    "        if amount > self.balance:\n",
    "            raise InsufficientFundsError(\"Cannot withdraw more than the current balance.\")\n",
    "        else:\n",
    "            self.balance -= amount\n",
    "            print(f\"Withdrew {amount} won. New balance: {self.balance} won.\")\n",
    "\n",
    "account_holder = input(\"Enter the account holder's name: \")\n",
    "\n",
    "account = BankAccount(account_holder)\n",
    "\n",
    "print(f\"Account number: {account.account_number}\")\n",
    "\n",
    "while True:\n",
    "    try:\n",
    "        action = int(input(\"Enter 1 to deposit, 2 to withdraw, or 3 to end: \"))\n",
    "        if action == 1:\n",
    "            amount = int(input(\"Enter the deposit amount: \"))\n",
    "            account.deposit(amount)\n",
    "        elif action == 2:\n",
    "            amount = int(input(\"Enter the withdrawal amount: \"))\n",
    "            account.withdraw(amount)\n",
    "        elif action == 3:\n",
    "            break\n",
    "        else:\n",
    "            print(\"Invalid action. Please enter 1, 2, or 3.\")\n",
    "    except ValueError:\n",
    "        print(\"Invalid input. Please enter a number.\")\n",
    "    except InsufficientFundsError as e:\n",
    "        print(f\"Withdrawal failed: {e}\")\n",
    "        print(f\"Current balance: {account.balance} won.\")\n",
    "        \n",
    "print(\"Bank account program ended.\")\n"
   ]
  },
  {
   "cell_type": "code",
   "execution_count": 146,
   "id": "f4d88dd7-7038-4dcf-8337-bfe9b83bc141",
   "metadata": {},
   "outputs": [
    {
     "name": "stdin",
     "output_type": "stream",
     "text": [
      "Enter 1 to sign up, 2 to login, 3 to write a diary, 4 to read a diary, or 5 to end:  1\n",
      "Enter your ID:  lena\n",
      "Enter your password:  123\n",
      "Enter 1 to sign up, 2 to login, 3 to write a diary, 4 to read a diary, or 5 to end:  3\n",
      "Write your one line diary:  오늘도 파이팅!\n",
      "Enter 1 to sign up, 2 to login, 3 to write a diary, 4 to read a diary, or 5 to end:  4\n"
     ]
    },
    {
     "name": "stdout",
     "output_type": "stream",
     "text": [
      "--- lena's One Line Diary ---\n",
      "Welcome to your one line diary!\n",
      "오늘도 파이팅!\n"
     ]
    },
    {
     "name": "stdin",
     "output_type": "stream",
     "text": [
      "Enter 1 to sign up, 2 to login, 3 to write a diary, 4 to read a diary, or 5 to end:  5\n"
     ]
    },
    {
     "name": "stdout",
     "output_type": "stream",
     "text": [
      "Program ended.\n"
     ]
    }
   ],
   "source": [
    "#65강: 텍스트파일1. 회원계정별 텍스트 파일을 생성한 후 회원본인파일에 '한줄일기'를 쓰고 읽는 프로그램\n",
    "\n",
    "import os\n",
    "\n",
    "class Member:\n",
    "    def __init__(self, id, pw):\n",
    "        self.id = id\n",
    "        self.pw = pw\n",
    "        self.filename = f\"C:/python/PythonTxt/{self.id}.txt\"\n",
    "\n",
    "    def signup(self):\n",
    "        with open(self.filename, \"w\") as f:\n",
    "            f.write(\"Welcome to your one line diary!\")\n",
    "\n",
    "    def login(self):\n",
    "        if os.path.isfile(self.filename):\n",
    "            with open(self.filename, \"r\") as f:\n",
    "                pw = f.readline().strip()\n",
    "                if pw == self.pw:\n",
    "                    print(f\"Welcome, {self.id}!\")\n",
    "                else:\n",
    "                    print(\"Incorrect password.\")\n",
    "        else:\n",
    "            print(\"Account not found.\")\n",
    "\n",
    "    def write_diary(self):\n",
    "        if os.path.isfile(self.filename):\n",
    "            with open(self.filename, \"a\") as f:\n",
    "                diary = input(\"Write your one line diary: \")\n",
    "                f.write(f\"\\n{diary}\")\n",
    "        else:\n",
    "            print(\"Account not found.\")\n",
    "\n",
    "    def read_diary(self):\n",
    "        if os.path.isfile(self.filename):\n",
    "            with open(self.filename, \"r\") as f:\n",
    "                diary = f.read()\n",
    "                print(f\"--- {self.id}'s One Line Diary ---\\n{diary}\")\n",
    "        else:\n",
    "            print(\"Account not found.\")\n",
    "\n",
    "while True:\n",
    "    try:\n",
    "        action = int(input(\"Enter 1 to sign up, 2 to login, 3 to write a diary, 4 to read a diary, or 5 to end: \"))\n",
    "        if action == 1:\n",
    "            id = input(\"Enter your ID: \")\n",
    "            pw = input(\"Enter your password: \")\n",
    "            member = Member(id, pw)\n",
    "            member.signup()\n",
    "        elif action == 2:\n",
    "            id = input(\"Enter your ID: \")\n",
    "            pw = input(\"Enter your password: \")\n",
    "            member = Member(id, pw)\n",
    "            member.login()\n",
    "        elif action == 3:\n",
    "            member.write_diary()\n",
    "        elif action == 4:\n",
    "            member.read_diary()\n",
    "        elif action == 5:\n",
    "            break\n",
    "        else:\n",
    "            print(\"Invalid action. Please enter 1, 2, 3, 4, or 5.\")\n",
    "    except ValueError:\n",
    "        print(\"Invalid input. Please enter a number.\")\n",
    "\n",
    "print(\"Program ended.\")\n",
    "\n"
   ]
  },
  {
   "cell_type": "code",
   "execution_count": 147,
   "id": "e0b306c8-e9e3-48c8-9e05-096716c2e891",
   "metadata": {},
   "outputs": [
    {
     "name": "stdin",
     "output_type": "stream",
     "text": [
      "Enter 1 to deposit, 2 to withdraw, 3 to end:  1\n",
      "Enter the deposit amount:  100000\n",
      "Enter the deposit memo:  보너스\n"
     ]
    },
    {
     "name": "stdout",
     "output_type": "stream",
     "text": [
      "Deposited 100000 won on 2023-03-08 10:25:20.095795. Balance: 0 won (before), 100000 won (after).\n"
     ]
    },
    {
     "name": "stdin",
     "output_type": "stream",
     "text": [
      "Enter 1 to deposit, 2 to withdraw, 3 to end:  2\n",
      "Enter the withdrawal amount:  50000\n",
      "Enter the withdrawal note:  용돈\n"
     ]
    },
    {
     "name": "stdout",
     "output_type": "stream",
     "text": [
      "Withdrew 50000 won on 2023-03-08 10:25:32.250811. Balance: 100000 won (before), 50000 won (after).\n"
     ]
    },
    {
     "name": "stdin",
     "output_type": "stream",
     "text": [
      "Enter 1 to deposit, 2 to withdraw, 3 to end:  3\n"
     ]
    },
    {
     "name": "stdout",
     "output_type": "stream",
     "text": [
      "--- Household Account Book ---\n",
      "Date\t\tType\tAmount\tMemo\t\tBalance (before)\tBalance (after)\n",
      "2023-03-08 10:25:20.095795\tDeposit\t100000\t보너스\t0\t100000\n",
      "2023-03-08 10:25:32.250811\tWithdrawal\t50000\t용돈\t100000\t50000\n",
      "\n",
      "Household account book program ended.\n"
     ]
    }
   ],
   "source": [
    "#66강: 텍스트파일2. 텍스트 파일에 수입과 지출을 기록하는 가계부 만들기\n",
    "\n",
    "import os\n",
    "from datetime import datetime\n",
    "\n",
    "class HouseholdAccountBook:\n",
    "    def __init__(self, filename):\n",
    "        self.filename = f\"C:/python/PythonTxt/{filename}\"\n",
    "\n",
    "    def deposit(self):\n",
    "        amount = int(input(\"Enter the deposit amount: \"))\n",
    "        memo = input(\"Enter the deposit memo: \")\n",
    "        date = datetime.now()\n",
    "        balance_before = self.get_balance()\n",
    "        balance_after = balance_before + amount\n",
    "        with open(self.filename, \"a\") as f:\n",
    "            f.write(f\"{date}\\tDeposit\\t{amount}\\t{memo}\\t{balance_before}\\t{balance_after}\\n\")\n",
    "        print(f\"Deposited {amount} won on {date}. Balance: {balance_before} won (before), {balance_after} won (after).\")\n",
    "\n",
    "    def withdraw(self):\n",
    "        amount = int(input(\"Enter the withdrawal amount: \"))\n",
    "        note = input(\"Enter the withdrawal note: \")\n",
    "        date = datetime.now()\n",
    "        balance_before = self.get_balance()\n",
    "        balance_after = balance_before - amount\n",
    "        if amount > balance_before:\n",
    "            print(\"Cannot withdraw more than the current balance.\")\n",
    "            return\n",
    "        with open(self.filename, \"a\") as f:\n",
    "            f.write(f\"{date}\\tWithdrawal\\t{amount}\\t{note}\\t{balance_before}\\t{balance_after}\\n\")\n",
    "        print(f\"Withdrew {amount} won on {date}. Balance: {balance_before} won (before), {balance_after} won (after).\")\n",
    "\n",
    "    def get_balance(self):\n",
    "        if os.path.isfile(self.filename):\n",
    "            with open(self.filename, \"r\") as f:\n",
    "                lines = f.readlines()\n",
    "                if len(lines) == 0:\n",
    "                    return 0\n",
    "                else:\n",
    "                    last_line = lines[-1]\n",
    "                    last_balance = int(last_line.split(\"\\t\")[-1])\n",
    "                    return last_balance\n",
    "        else:\n",
    "            return 0\n",
    "\n",
    "    def show_history(self):\n",
    "        if os.path.isfile(self.filename):\n",
    "            with open(self.filename, \"r\") as f:\n",
    "                history = f.read()\n",
    "                print(\"--- Household Account Book ---\\nDate\\t\\tType\\tAmount\\tMemo\\t\\tBalance (before)\\tBalance (after)\\n\" + history)\n",
    "        else:\n",
    "            print(\"Account book not found.\")\n",
    "\n",
    "account_book = HouseholdAccountBook(\"account_book.txt\")\n",
    "\n",
    "while True:\n",
    "    try:\n",
    "        action = int(input(\"Enter 1 to deposit, 2 to withdraw, 3 to end: \"))\n",
    "        if action == 1:\n",
    "            account_book.deposit()\n",
    "        elif action == 2:\n",
    "            account_book.withdraw()\n",
    "        elif action == 3:\n",
    "            break\n",
    "        else:\n",
    "            print(\"Invalid action. Please enter 1, 2, or 3.\")\n",
    "    except ValueError:\n",
    "        print(\"Invalid input. Please enter a number.\")\n",
    "\n",
    "account_book.show_history()\n",
    "\n",
    "print(\"Household account book program ended.\")\n",
    "\n"
   ]
  },
  {
   "cell_type": "code",
   "execution_count": 148,
   "id": "76132592-853f-4d03-ad73-7b348ce9c754",
   "metadata": {},
   "outputs": [
    {
     "name": "stdin",
     "output_type": "stream",
     "text": [
      "Enter a positive integer:  10\n"
     ]
    },
    {
     "name": "stdout",
     "output_type": "stream",
     "text": [
      "The divisors of 10 are: [1, 2, 5, 10]\n",
      "The divisors have been saved to C:/python/PythonTxt/10_divisors.txt\n"
     ]
    }
   ],
   "source": [
    "#67강: 텍스트파일3. 사용자가 입력한 숫자의 약수를 텍스트 파일에 기록\n",
    "\n",
    "import os\n",
    "\n",
    "def get_divisors(n):\n",
    "    divisors = []\n",
    "    for i in range(1, n+1):\n",
    "        if n % i == 0:\n",
    "            divisors.append(i)\n",
    "    return divisors\n",
    "\n",
    "try:\n",
    "    n = int(input(\"Enter a positive integer: \"))\n",
    "    if n <= 0:\n",
    "        raise ValueError(\"Invalid input. Please enter a positive integer.\")\n",
    "    divisors = get_divisors(n)\n",
    "    filename = f\"C:/python/PythonTxt/{n}_divisors.txt\"\n",
    "    with open(filename, \"w\") as f:\n",
    "        for divisor in divisors:\n",
    "            f.write(str(divisor) + \"\\n\")\n",
    "    print(f\"The divisors of {n} are: {divisors}\")\n",
    "    print(f\"The divisors have been saved to {filename}\")\n",
    "except ValueError as ve:\n",
    "    print(ve)\n",
    "except Exception as e:\n",
    "    print(\"An error occurred:\", e)\n"
   ]
  },
  {
   "cell_type": "code",
   "execution_count": 155,
   "id": "41e6e5b1-b94b-4efd-9741-2dc83a44a66c",
   "metadata": {},
   "outputs": [
    {
     "name": "stdin",
     "output_type": "stream",
     "text": [
      "Enter the first number:  50\n",
      "Enter the second number:  60\n"
     ]
    },
    {
     "name": "stdout",
     "output_type": "stream",
     "text": [
      "The common divisors of 50 and 60 are: [1, 2, 5, 10]\n",
      "The common divisors have been saved to C:/python/PythonTxt/common_divisors.txt\n"
     ]
    }
   ],
   "source": [
    "#68강 텍스트파일4. 두개의 숫자를 입력받아 공약수를 텍스트에 저장하기\n",
    "\n",
    "import os\n",
    "\n",
    "def get_divisors(n):\n",
    "    divisors = []\n",
    "    for i in range(1, n+1):\n",
    "        if n % i == 0:\n",
    "            divisors.append(i)\n",
    "    return divisors\n",
    "\n",
    "try:\n",
    "    num1 = int(input(\"Enter the first number: \"))\n",
    "    num2 = int(input(\"Enter the second number: \"))\n",
    "    divisors1 = set(get_divisors(num1))\n",
    "    divisors2 = set(get_divisors(num2))\n",
    "    common_divisors = sorted(list(divisors1.intersection(divisors2)))\n",
    "    if len(common_divisors) == 0:\n",
    "        raise ValueError(\"The two numbers have no common divisors.\")\n",
    "    filename = \"C:/python/PythonTxt/common_divisors.txt\"\n",
    "    with open(filename, \"a\") as f:\n",
    "        f.write(f\"Common divisors of {num1} and {num2}: {common_divisors}\\n\")\n",
    "    print(f\"The common divisors of {num1} and {num2} are: {common_divisors}\")\n",
    "    print(f\"The common divisors have been saved to {filename}\")\n",
    "except ValueError as ve:\n",
    "    print(ve)\n",
    "except Exception as e:\n",
    "    print(\"An error occurred:\", e)\n"
   ]
  },
  {
   "cell_type": "code",
   "execution_count": 15,
   "id": "ef980b14-9352-4fa8-8da0-9f3f709c0b36",
   "metadata": {},
   "outputs": [],
   "source": [
    "#GPT로 잘안돼는 문제: regenerate한다.. 코드가 복잡하면 간결하고 가독성있게 짜달라고 명령한다. \n",
    "\n",
    "#69강 텍스트파일5. 섬마을에 배가 다음 주기로 입항한다고 할때 모든 배가 입항하는 날짜를 텍스트파일에 기록\n",
    "'''\n",
    "Create a program that records the arrival date of all ships in a text file when ships selling fruits, fish, and vegetables \n",
    "arrive in the next cycle with Python code. (The first entry date is January 1, 2021 at 10:00 am.)\n",
    "\n",
    "Ship cycle information:\n",
    "Fruit Vessel = 3 Day Cycle\n",
    "Fish Vessel = 4 Day Cycle\n",
    "Vegetable Seonbaek = 5-day cycle\n",
    "uri is C:python/PythonTxt, save as arrive.txt\n",
    "\n",
    "the text output\n",
    "All ship arrival dates in 2021\n",
    "2021-01-01 10:00:00\n",
    "2021-03-02 10:00:00\n",
    "2021-05-01 10:00:00\n",
    "Make it come out like this, and remember to only record the dates when all 3 ships enter the port at the same time.\n",
    "'''\n",
    "\n",
    "import datetime\n",
    "\n",
    "# 첫 입항일 (2021년 1월 1일 오전 10시)\n",
    "first_arrival = datetime.datetime(2021, 1, 1, 10)\n",
    "\n",
    "# 과일 선박 입항 주기 (3일)\n",
    "fruit_cycle = datetime.timedelta(days=3)\n",
    "\n",
    "# 생선 선박 입항 주기 (4일)\n",
    "fish_cycle = datetime.timedelta(days=4)\n",
    "\n",
    "# 야채 선박 입항 주기 (5일)\n",
    "veggie_cycle = datetime.timedelta(days=5)\n",
    "\n",
    "# 입항일을 저장할 리스트\n",
    "arrival_dates = []\n",
    "\n",
    "# 2021년 내의 모든 입항일을 계산하여 arrival_dates 리스트에 추가\n",
    "for i in range(365):\n",
    "    arrival_date = first_arrival + i * datetime.timedelta(days=1)\n",
    "    if (arrival_date - first_arrival) % fruit_cycle == datetime.timedelta(days=0) and \\\n",
    "       (arrival_date - first_arrival) % fish_cycle == datetime.timedelta(days=0) and \\\n",
    "       (arrival_date - first_arrival) % veggie_cycle == datetime.timedelta(days=0):\n",
    "        arrival_dates.append(arrival_date)\n",
    "\n",
    "# 결과 출력\n",
    "with open(\"C:/python/PythonTxt/arrive.txt\", \"w\") as f:\n",
    "    f.write(\"2021년 모든 선박 입항일\\n\")\n",
    "    for date in arrival_dates:\n",
    "        f.write(date.strftime(\"%Y-%m-%d %H:%M:%S\") + \"\\n\")\n"
   ]
  },
  {
   "cell_type": "code",
   "execution_count": 17,
   "id": "16110ae8-164c-4c4a-8a58-d0c44fffc7b5",
   "metadata": {},
   "outputs": [],
   "source": [
    "import datetime\n",
    "\n",
    "# Define the arrival cycles for each ship\n",
    "fruit_cycle = 3\n",
    "fish_cycle = 4\n",
    "vegetable_cycle = 5\n",
    "\n",
    "# Set the initial arrival time for all ships\n",
    "fruit_arrival = datetime.datetime(2021, 1, 1, 10)\n",
    "fish_arrival = datetime.datetime(2021, 1, 1, 10)\n",
    "vegetable_arrival = datetime.datetime(2021, 1, 1, 10)\n",
    "\n",
    "# Create a function to check if all ships have arrived at the same time\n",
    "def all_ships_arrived():\n",
    "    if (fruit_arrival == fish_arrival) and (fruit_arrival == vegetable_arrival):\n",
    "        return True\n",
    "    else:\n",
    "        return False\n",
    "\n",
    "# Open the file to write the arrival dates\n",
    "with open('C:/python/PythonTxt/arrive2.txt', 'w') as file:\n",
    "    file.write('All ship arrival dates in 2021\\n')\n",
    "\n",
    "    # Loop until the end of the year\n",
    "    while fruit_arrival.year == 2021:\n",
    "\n",
    "        # Check if all ships have arrived at the same time\n",
    "        if all_ships_arrived():\n",
    "            arrival_date = fruit_arrival.strftime('%Y-%m-%d %H:%M:%S')\n",
    "            file.write(arrival_date + '\\n')\n",
    "\n",
    "            # Increment the arrival time for each ship according to their cycle\n",
    "            fruit_arrival += datetime.timedelta(days=fruit_cycle)\n",
    "            fish_arrival += datetime.timedelta(days=fish_cycle)\n",
    "            vegetable_arrival += datetime.timedelta(days=vegetable_cycle)\n",
    "\n",
    "        else:\n",
    "            # Increment the arrival time for the ships with the earliest arrival time\n",
    "            min_arrival = min(fruit_arrival, fish_arrival, vegetable_arrival)\n",
    "            if min_arrival == fruit_arrival:\n",
    "                fruit_arrival += datetime.timedelta(days=fruit_cycle)\n",
    "            elif min_arrival == fish_arrival:\n",
    "                fish_arrival += datetime.timedelta(days=fish_cycle)\n",
    "            else:\n",
    "                vegetable_arrival += datetime.timedelta(days=vegetable_cycle)\n"
   ]
  },
  {
   "cell_type": "code",
   "execution_count": null,
   "id": "bc78ae2a-7f08-4f15-88f2-574d2eb94ffb",
   "metadata": {},
   "outputs": [],
   "source": []
  }
 ],
 "metadata": {
  "kernelspec": {
   "display_name": "Python 3 (ipykernel)",
   "language": "python",
   "name": "python3"
  },
  "language_info": {
   "codemirror_mode": {
    "name": "ipython",
    "version": 3
   },
   "file_extension": ".py",
   "mimetype": "text/x-python",
   "name": "python",
   "nbconvert_exporter": "python",
   "pygments_lexer": "ipython3",
   "version": "3.9.12"
  }
 },
 "nbformat": 4,
 "nbformat_minor": 5
}
