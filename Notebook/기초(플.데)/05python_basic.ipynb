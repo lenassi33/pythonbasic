{
 "cells": [
  {
   "cell_type": "code",
   "execution_count": 1,
   "id": "9c6d6964-ed41-4b1b-905f-bdd05b790807",
   "metadata": {},
   "outputs": [
    {
     "name": "stdout",
     "output_type": "stream",
     "text": [
      "1 2 3 4 5 6 7 8 9 10 "
     ]
    }
   ],
   "source": [
    "for i in range(1,11):\n",
    "    print(i, end=\" \")"
   ]
  },
  {
   "cell_type": "code",
   "execution_count": 2,
   "id": "1398ffca-ff5a-4ce6-868b-f89edd39a2ac",
   "metadata": {},
   "outputs": [
    {
     "name": "stdout",
     "output_type": "stream",
     "text": [
      "1 2 3 4 5 6 7 8 9 10 "
     ]
    }
   ],
   "source": [
    "i=1\n",
    "while i<=10:\n",
    "    print(i, end=\" \")\n",
    "    i+=1"
   ]
  },
  {
   "cell_type": "code",
   "execution_count": 3,
   "id": "574c34d0-102f-4cd7-9c9c-0137878f2cde",
   "metadata": {},
   "outputs": [
    {
     "name": "stdout",
     "output_type": "stream",
     "text": [
      "평균점수는 79.0 입니다.\n"
     ]
    }
   ],
   "source": [
    "#while문과 len()이용해서 평균구하는 코드\n",
    "\n",
    "class_a = (70, 60, 55, 75, 95, 90, 80, 80, 85, 100)\n",
    "\n",
    "sum=0\n",
    "i=0\n",
    "\n",
    "while i<len(class_a):\n",
    "    sum+= class_a[i]\n",
    "    i+=1\n",
    "    \n",
    "average=sum/len(class_a)\n",
    "print(\"평균점수는\", average, \"입니다.\")\n"
   ]
  },
  {
   "cell_type": "code",
   "execution_count": 6,
   "id": "dee4b45d-d136-4387-b3fc-425e0550ce4c",
   "metadata": {},
   "outputs": [
    {
     "name": "stdout",
     "output_type": "stream",
     "text": [
      "0\n",
      "1\n",
      "2\n",
      "3\n",
      "4\n",
      "5\n",
      "6\n",
      "7\n",
      "8\n",
      "9\n",
      "10\n"
     ]
    }
   ],
   "source": [
    "#10000회 반복\n",
    "\n",
    "for i in range(100):\n",
    "    print(i)\n",
    "    if i == 10:\n",
    "        break\n",
    "    "
   ]
  },
  {
   "cell_type": "code",
   "execution_count": 2,
   "id": "a3a7abe2-1ae7-43be-8787-3770a8896709",
   "metadata": {},
   "outputs": [
    {
     "name": "stdout",
     "output_type": "stream",
     "text": [
      "5050\n"
     ]
    }
   ],
   "source": [
    "#0~100까지 자연수총합\n",
    "\n",
    "i=0\n",
    "total=0\n",
    "while True:\n",
    "    total += i\n",
    "    i += 1\n",
    "    if i > 100:\n",
    "        break\n",
    "\n",
    "print(total)"
   ]
  },
  {
   "cell_type": "code",
   "execution_count": 4,
   "id": "8bf54b01-027f-4008-8508-44f118eafa45",
   "metadata": {},
   "outputs": [
    {
     "name": "stdin",
     "output_type": "stream",
     "text": [
      "q를 입력하면 종료합니다. 1\n",
      "q를 입력하면 종료합니다. q\n"
     ]
    },
    {
     "name": "stdout",
     "output_type": "stream",
     "text": [
      "프로그램을 종료합니다.\n"
     ]
    }
   ],
   "source": [
    "while True:\n",
    "    input_value=input(\"q를 입력하면 종료합니다.\")\n",
    "    if input_value==\"q\" : break\n",
    "print(\"프로그램을 종료합니다.\")"
   ]
  },
  {
   "cell_type": "code",
   "execution_count": 7,
   "id": "41b685a7-b879-4b8e-af3f-9abf5e791126",
   "metadata": {},
   "outputs": [
    {
     "name": "stdout",
     "output_type": "stream",
     "text": [
      "1 3 5 7 9 11 13 15 17 19 "
     ]
    }
   ],
   "source": [
    "for i in range(20):\n",
    "    if i %2==0:\n",
    "        continue  #continue를 만나면 for, while문으로 이동 //조건이 아니면 아래줄로 이동\n",
    "    print(i, end=\" \")"
   ]
  },
  {
   "cell_type": "code",
   "execution_count": 9,
   "id": "cfce9d42-10a4-46d8-a626-d1291a9333f4",
   "metadata": {},
   "outputs": [
    {
     "name": "stdin",
     "output_type": "stream",
     "text": [
      "시작하는 정수를 입력하세요:  1\n",
      "끝나는 정수를 입력하세요:  10\n"
     ]
    },
    {
     "name": "stdout",
     "output_type": "stream",
     "text": [
      "1부터 10까지의 합은 55입니다.\n"
     ]
    }
   ],
   "source": [
    "#두 자연수를 입력받고 합을 구하는 코드  (for문과 while문 각각 작성)\n",
    "\n",
    "num1= int(input(\"시작하는 정수를 입력하세요: \"))\n",
    "num2= int(input(\"끝나는 정수를 입력하세요: \"))\n",
    "\n",
    "#for문\n",
    "\n",
    "sum=0\n",
    "for i in range(num1, num2+1):\n",
    "    sum += i\n",
    "    \n",
    "print(f\"{num1}부터 {num2}까지의 합은 {sum}입니다.\")\n",
    "          "
   ]
  },
  {
   "cell_type": "code",
   "execution_count": 12,
   "id": "11de58d7-dbbf-41d9-87a6-199a08870b4c",
   "metadata": {},
   "outputs": [
    {
     "name": "stdin",
     "output_type": "stream",
     "text": [
      "시작하는 정수를 입력하세요:  1\n",
      "끝나는 정수를 입력하세요:  10\n"
     ]
    },
    {
     "name": "stdout",
     "output_type": "stream",
     "text": [
      "1부터 10까지의 합은 55입니다.\n"
     ]
    }
   ],
   "source": [
    "#두 자연수를 입력받고 합을 구하는 코드  (for문과 while문 각각 작성)\n",
    "\n",
    "num1= int(input(\"시작하는 정수를 입력하세요: \"))\n",
    "num2= int(input(\"끝나는 정수를 입력하세요: \"))\n",
    "\n",
    "#while문\n",
    "\n",
    "sum = 0\n",
    "i = num1\n",
    "while i <= num2:\n",
    "    sum += i\n",
    "    i += 1\n",
    "    \n",
    "print(f\"{num1}부터 {num2}까지의 합은 {sum}입니다.\")"
   ]
  },
  {
   "cell_type": "code",
   "execution_count": 13,
   "id": "656ebb01-04d2-461c-812f-7648cf92a360",
   "metadata": {},
   "outputs": [
    {
     "name": "stdout",
     "output_type": "stream",
     "text": [
      "{'key': 'last value'}\n"
     ]
    }
   ],
   "source": [
    "dic_value={\"key\":\"value\", \"key\":\"last value\"}\n",
    "print(dic_value)    #같은 키값이 있을때 맨마지막 값 출력"
   ]
  },
  {
   "cell_type": "code",
   "execution_count": 16,
   "id": "13c5d39b-6b77-4fb2-988e-9f1307daf5e4",
   "metadata": {},
   "outputs": [
    {
     "name": "stdout",
     "output_type": "stream",
     "text": [
      "[<class 'str'>, <class 'int'>, <class 'float'>, <class 'tuple'>]\n",
      "[<class 'str'>, <class 'str'>, <class 'str'>, <class 'str'>]\n"
     ]
    }
   ],
   "source": [
    "#key값에는 리스트, 딕셔너리, 집합이 올수없음 //튜플은 가능\n",
    "#value값에는 모든 자료형 가능\n",
    "\n",
    "dic_var={\"key\":\"value\", \n",
    "         1:\"value2\",\n",
    "         1.1:\"value3\",\n",
    "         True:\"value4\",\n",
    "         (\"key\",1,1.1,True):\"value5\"}\n",
    "\n",
    "print(list(map(type,dic_var.keys())))\n",
    "print(list(map(type,dic_var.values())))"
   ]
  },
  {
   "cell_type": "code",
   "execution_count": 22,
   "id": "28ecf338-e5d4-485e-9b32-0069d876e03f",
   "metadata": {},
   "outputs": [
    {
     "name": "stdout",
     "output_type": "stream",
     "text": [
      "{}\n",
      "<class 'dict'>\n"
     ]
    }
   ],
   "source": [
    "#dictionary는 빈괄호로도 가능\n",
    "\n",
    "empty_dic={}\n",
    "print (empty_dic)\n",
    "print(type(empty_dic))"
   ]
  },
  {
   "cell_type": "code",
   "execution_count": 23,
   "id": "ff32ba41-9d3f-4f52-81f0-24fc65745eb5",
   "metadata": {},
   "outputs": [
    {
     "name": "stdout",
     "output_type": "stream",
     "text": [
      "{}\n",
      "<class 'dict'>\n"
     ]
    }
   ],
   "source": [
    "#dictionary는 dict()함수로 설정가능\n",
    "\n",
    "empty_dic=dict()\n",
    "print (empty_dic)\n",
    "print(type(empty_dic))"
   ]
  },
  {
   "cell_type": "code",
   "execution_count": 25,
   "id": "c8586a87-bcd3-4682-83fe-f7741b38929d",
   "metadata": {},
   "outputs": [
    {
     "name": "stdout",
     "output_type": "stream",
     "text": [
      "set()\n",
      "<class 'set'>\n"
     ]
    }
   ],
   "source": [
    "#set은 set()함수로만 설정가능\n",
    "\n",
    "empty_set=set()\n",
    "print (empty_set)\n",
    "print(type(empty_set))"
   ]
  },
  {
   "cell_type": "code",
   "execution_count": 48,
   "id": "befbf473-c8e9-4146-972c-daeebcdd85e9",
   "metadata": {},
   "outputs": [
    {
     "name": "stdout",
     "output_type": "stream",
     "text": [
      "{'key1': 'value1', 'key2': 'value2', 'key3': 'value3'}\n"
     ]
    }
   ],
   "source": [
    "#zip함수\n",
    "\n",
    "dict_b= dict(zip([\"key1\", \"key2\", \"key3\"], [\"value1\", \"value2\", \"value3\"]))\n",
    "print(dict_b)"
   ]
  },
  {
   "cell_type": "code",
   "execution_count": 50,
   "id": "430502d9-194d-4422-a067-198826226234",
   "metadata": {
    "tags": []
   },
   "outputs": [
    {
     "name": "stdout",
     "output_type": "stream",
     "text": [
      "{'key1': 'super value', 'key2': 'value2', 'key3': 'value3'}\n"
     ]
    }
   ],
   "source": [
    "dict_b[\"key1\"]=\"super value\"\n",
    "print(dict_b)"
   ]
  },
  {
   "cell_type": "code",
   "execution_count": 32,
   "id": "8beb0464-738f-4e2f-b493-491382455d8d",
   "metadata": {},
   "outputs": [
    {
     "name": "stdout",
     "output_type": "stream",
     "text": [
      "{'key': 'value1', 'key2': 'value2', 'key3': 'value3', 'new key': 'new value'}\n"
     ]
    }
   ],
   "source": [
    "dict_b[\"new key\"]= \"new value\"\n",
    "print(dict_b)"
   ]
  },
  {
   "cell_type": "code",
   "execution_count": 35,
   "id": "c63fe0af-2e8e-49c3-9b5d-8e3854e4c10a",
   "metadata": {},
   "outputs": [
    {
     "name": "stdout",
     "output_type": "stream",
     "text": [
      "True\n"
     ]
    }
   ],
   "source": [
    "#딕셔너리에서 key값 확인\n",
    "\n",
    "print('key' in dict_b)"
   ]
  },
  {
   "cell_type": "code",
   "execution_count": 51,
   "id": "34fa6c6d-9ec5-4548-8c79-ee8e78ce7274",
   "metadata": {},
   "outputs": [
    {
     "name": "stdout",
     "output_type": "stream",
     "text": [
      "True\n"
     ]
    }
   ],
   "source": [
    "#딕셔너리에서 value값 확인: xx.values() 함수 사용\n",
    "\n",
    "print (\"value2\" in dict_b.values())"
   ]
  },
  {
   "cell_type": "code",
   "execution_count": 39,
   "id": "40dd40ea-85e9-4ec4-b8a5-aaf27efc4ff6",
   "metadata": {},
   "outputs": [
    {
     "name": "stdout",
     "output_type": "stream",
     "text": [
      "[('key1', 'value1'), ('key2', 'value2'), ('key3', 'value3')]\n"
     ]
    }
   ],
   "source": [
    "keys = (\"key1\", \"key2\", \"key3\")\n",
    "values = (\"value1\", \"value2\", \"value3\")\n",
    "sam_list = []\n",
    "for index in range(len(keys)):\n",
    "    sam_list.append((keys[index], values[index]))\n",
    "print(sam_list)"
   ]
  },
  {
   "cell_type": "code",
   "execution_count": 44,
   "id": "eb0a85a7-b64b-43d3-b265-36e66ba33b5d",
   "metadata": {},
   "outputs": [
    {
     "name": "stdout",
     "output_type": "stream",
     "text": [
      "{'key': 'value1', 'key2': 'value2', 'key3': 'value3'}\n",
      "{'key2': 'value2', 'key3': 'value3'}\n"
     ]
    }
   ],
   "source": [
    "#딕셔너리에서 자료 삭제\n",
    "\n",
    "print(dict_b)\n",
    "\n",
    "del dict_b[\"key\"]  \n",
    "print(dict_b)"
   ]
  },
  {
   "cell_type": "code",
   "execution_count": 42,
   "id": "7cb275d2-8056-4aad-8159-fc26eb40a153",
   "metadata": {},
   "outputs": [
    {
     "data": {
      "text/plain": [
       "3"
      ]
     },
     "execution_count": 42,
     "metadata": {},
     "output_type": "execute_result"
    }
   ],
   "source": [
    "len(dict_b)"
   ]
  },
  {
   "cell_type": "code",
   "execution_count": 52,
   "id": "44aad54b-362a-4c5e-837d-fadffb2a5ab9",
   "metadata": {},
   "outputs": [
    {
     "name": "stdin",
     "output_type": "stream",
     "text": [
      "과일 이름을 입력하세요:  오렌지\n"
     ]
    },
    {
     "name": "stdout",
     "output_type": "stream",
     "text": [
      "오렌지의 가격은 1500원입니다.\n"
     ]
    }
   ],
   "source": [
    "# 과일과 가격 매칭 딕셔너리\n",
    "\n",
    "fruits={\"사과\": \"1000원\", \"바나나\":\"700원\", \"오렌지\": \"1500원\",\"파인애플\": \"2000원\"}\n",
    "\n",
    "fruit_name = input(\"과일 이름을 입력하세요: \")\n",
    "\n",
    "if fruit_name in fruits:\n",
    "    print(\"{}의 가격은 {}입니다.\".format(fruit_name, fruits[fruit_name]))\n",
    "else:\n",
    "    print(\"해당하는 과일이 없습니다.\")\n"
   ]
  },
  {
   "cell_type": "code",
   "execution_count": 58,
   "id": "b37eecac-a303-4410-8213-6f5973d360b8",
   "metadata": {},
   "outputs": [
    {
     "name": "stdin",
     "output_type": "stream",
     "text": [
      "과일 이름을 입력하세요: 사과\n"
     ]
    },
    {
     "name": "stdout",
     "output_type": "stream",
     "text": [
      "사과의 가격은 1000원입니다.\n"
     ]
    }
   ],
   "source": [
    "fruits={\"사과\": \"1000\", \"바나나\":\"700\", \"오렌지\": \"1500\",\"파인애플\": \"2000\"}\n",
    "\n",
    "fruit_name = input(\"과일 이름을 입력하세요:\")\n",
    "print(f\"{fruit_name}의 가격은 {fruits[fruit_name]}원입니다.\")"
   ]
  },
  {
   "cell_type": "code",
   "execution_count": 14,
   "id": "26818d59-2151-436e-b226-0c9e57b2112b",
   "metadata": {},
   "outputs": [
    {
     "name": "stdin",
     "output_type": "stream",
     "text": [
      "이름을 입력하세요:  a b c d e\n",
      "몸무게를 입력하세요:  44.2 53.5 56 55 55\n"
     ]
    },
    {
     "name": "stdout",
     "output_type": "stream",
     "text": [
      "{'a': 44.2, 'b': 53.5, 'c': 56.0, 'd': 55.0, 'e': 55.0}\n"
     ]
    }
   ],
   "source": [
    "#딕셔너리는 순서가 없다, 즉 인덱싱불가, key로 구분함\n",
    "#리스트는 순서가 있다, 인덱싱가능\n",
    "\n",
    "#이름이랑 몸무게 입력받기\n",
    "name_list = input(\"이름을 입력하세요: \").split(' ')\n",
    "weight_list = input(\"몸무게를 입력하세요: \").split(' ')\n",
    "\n",
    "#이름과 몸무게 매칭 딕셔너리 만들기 >> dictionary comprehenssion\n",
    "weight_dict = {name_list[i]: float(weight_list[i]) for i in range(len(name_list))}\n",
    "print(weight_dict)"
   ]
  },
  {
   "cell_type": "code",
   "execution_count": 12,
   "id": "98d4c5e3-ebb4-4de8-a90e-38d8357d2a81",
   "metadata": {},
   "outputs": [
    {
     "name": "stdin",
     "output_type": "stream",
     "text": [
      "이름을 기입해주세요. a,b,c,d,e\n",
      "몸무게를 입력해주세요. 44.2,33.0,56,55,55\n"
     ]
    },
    {
     "name": "stdout",
     "output_type": "stream",
     "text": [
      "{'a': 44.2, 'b': 33.0, 'c': 56.0, 'd': 55.0, 'e': 55.0}\n"
     ]
    }
   ],
   "source": [
    "input_n = input(\"이름을 기입해주세요.\").split(\",\")\n",
    "input_w = map(float,input(\"몸무게를 입력해주세요.\").split(\",\"))\n",
    "dict_v = dict(zip(input_n,input_w)) #리스트 두개를 딕셔너리 형태로 만들어줌\n",
    "print(dict_v)"
   ]
  },
  {
   "cell_type": "code",
   "execution_count": 15,
   "id": "42106ee2-05f0-4781-9ea8-1d4586c5cc70",
   "metadata": {},
   "outputs": [
    {
     "name": "stdin",
     "output_type": "stream",
     "text": [
      "숫자를 입력하세요: 1 2 3 4 5 \n"
     ]
    },
    {
     "name": "stdout",
     "output_type": "stream",
     "text": [
      "<class 'list'>\n",
      "[1, 2, 3, 4, 5]\n"
     ]
    }
   ],
   "source": [
    "list_b=list(map(int, input(\"숫자를 입력하세요:\").split())) #.split() --> 리스트로 반환 후 정수로 매핑\n",
    "print(type(list_b))\n",
    "print(list_b)"
   ]
  },
  {
   "cell_type": "code",
   "execution_count": 18,
   "id": "301bd9c6-e148-4484-8a0c-1f27d50872da",
   "metadata": {},
   "outputs": [
    {
     "data": {
      "text/plain": [
       "[0, 1, 4, 9, 16, 25, 36, 49, 64, 81]"
      ]
     },
     "execution_count": 18,
     "metadata": {},
     "output_type": "execute_result"
    }
   ],
   "source": [
    "#List comprehension >>[expression for i in iterable]\n",
    "\n",
    "[i**2 for i in list(range(10))] "
   ]
  },
  {
   "cell_type": "code",
   "execution_count": 19,
   "id": "a6b1a58c-4fa0-455a-8bd1-a4baf865fdaf",
   "metadata": {},
   "outputs": [
    {
     "name": "stdout",
     "output_type": "stream",
     "text": [
      "[1, 2, 3, 4, 5, 6, 7, 8, 9]\n"
     ]
    }
   ],
   "source": [
    "c_list=[i for i in range(1,10)]\n",
    "print(c_list)"
   ]
  },
  {
   "cell_type": "code",
   "execution_count": 20,
   "id": "01797e9d-9930-42c5-9449-e2dc621fa716",
   "metadata": {
    "tags": []
   },
   "outputs": [
    {
     "name": "stdout",
     "output_type": "stream",
     "text": [
      "<class 'list'>\n",
      "[1, 4, 9, 16, 25, 36, 49, 64, 81]\n"
     ]
    }
   ],
   "source": [
    "#1~9까지의 제곱 리스트\n",
    "\n",
    "prac_result= [i**2 for i in range(1,10)]\n",
    "print(type(prac_result))\n",
    "print(prac_result)"
   ]
  },
  {
   "cell_type": "code",
   "execution_count": 21,
   "id": "4a1a344c-5726-4bd6-8e75-74cd71527b00",
   "metadata": {},
   "outputs": [
    {
     "name": "stdout",
     "output_type": "stream",
     "text": [
      "[1, 3, 5, 7, 9]\n"
     ]
    }
   ],
   "source": [
    "prac_result2= [i for i in range(1,10,2)]\n",
    "print(prac_result2)"
   ]
  },
  {
   "cell_type": "code",
   "execution_count": 24,
   "id": "92191198-76ea-4f1f-be7c-34e2d146b96e",
   "metadata": {},
   "outputs": [
    {
     "name": "stdout",
     "output_type": "stream",
     "text": [
      "['a', 'b', 'c', 'd', 'e']\n"
     ]
    }
   ],
   "source": [
    "cha_list=[\"a\",\"b\",\"c\",\"d\",\"e\"]\n",
    "prac_result3= [i for i in cha_list]\n",
    "print(prac_result3)"
   ]
  },
  {
   "cell_type": "code",
   "execution_count": 27,
   "id": "63b9aa6a-626b-4ad6-aec4-17483c4326aa",
   "metadata": {},
   "outputs": [
    {
     "name": "stdout",
     "output_type": "stream",
     "text": [
      "['2', '3', '4', '5', '6', '7', '8', '9', '10', 'J', 'Q', 'K', 'A']\n"
     ]
    }
   ],
   "source": [
    "num_list=['2','3','4','5','6','7','8','9','10']\n",
    "cha_list=['J','Q','K','A']\n",
    "\n",
    "prac_result4= [i for i in num_list]+ [i for i in cha_list]\n",
    "print(prac_result4)"
   ]
  },
  {
   "cell_type": "code",
   "execution_count": 30,
   "id": "970354fe-705d-4e25-9b36-052275caa75a",
   "metadata": {},
   "outputs": [
    {
     "name": "stdout",
     "output_type": "stream",
     "text": [
      "['2', '3', '4', '5', '6', '7', '8', '9', '10', 'J', 'Q', 'K', 'A']\n"
     ]
    }
   ],
   "source": [
    "cha_list=['J','Q','K','A']\n",
    "\n",
    "prac_result4= [str(i) for i in range(2,11)]+ [i for i in cha_list]  #str() : 숫자를 문자열로 만드는 함수\n",
    "print(prac_result4)"
   ]
  },
  {
   "cell_type": "code",
   "execution_count": 32,
   "id": "468908b8-f63a-4378-8e29-9300cd36e5b4",
   "metadata": {},
   "outputs": [
    {
     "name": "stdout",
     "output_type": "stream",
     "text": [
      "[['2', '3', '4', '5', '6', '7', '8', '9', '10', 'J', 'Q', 'K', 'A'], ['2', '3', '4', '5', '6', '7', '8', '9', '10', 'J', 'Q', 'K', 'A'], ['2', '3', '4', '5', '6', '7', '8', '9', '10', 'J', 'Q', 'K', 'A'], ['2', '3', '4', '5', '6', '7', '8', '9', '10', 'J', 'Q', 'K', 'A']]\n"
     ]
    }
   ],
   "source": [
    "cha_list=['J','Q','K','A']\n",
    "\n",
    "prac_result5= [prac_result4 for i in range(4)]\n",
    "print(prac_result5)"
   ]
  },
  {
   "cell_type": "code",
   "execution_count": 33,
   "id": "9791db47-9d32-45cf-972e-5018fc4261c9",
   "metadata": {},
   "outputs": [
    {
     "name": "stdout",
     "output_type": "stream",
     "text": [
      "['two', '3', '4', '5', '6', '7', '8', '9', '10', 'J', 'Q', 'K', 'A']\n"
     ]
    }
   ],
   "source": [
    "prac_result4[0]='two'\n",
    "print(prac_result4)"
   ]
  },
  {
   "cell_type": "code",
   "execution_count": 34,
   "id": "2f2f1459-0328-4fee-a357-b921d8ea550e",
   "metadata": {},
   "outputs": [
    {
     "name": "stdout",
     "output_type": "stream",
     "text": [
      "[['two', '3', '4', '5', '6', '7', '8', '9', '10', 'J', 'Q', 'K', 'A'], ['two', '3', '4', '5', '6', '7', '8', '9', '10', 'J', 'Q', 'K', 'A'], ['two', '3', '4', '5', '6', '7', '8', '9', '10', 'J', 'Q', 'K', 'A'], ['two', '3', '4', '5', '6', '7', '8', '9', '10', 'J', 'Q', 'K', 'A']]\n"
     ]
    }
   ],
   "source": [
    "print(prac_result5)"
   ]
  },
  {
   "cell_type": "code",
   "execution_count": 39,
   "id": "5d98332a-543e-4982-90e3-e67d87938f9e",
   "metadata": {},
   "outputs": [
    {
     "name": "stdout",
     "output_type": "stream",
     "text": [
      "prac_result4의 ID: 1720912044160\n",
      "prac_result6[0]:1720913961984\n",
      "prac_result6[1]:1720914419584\n",
      "prac_result6[2]:1720913961664\n",
      "prac_result6[3]:1720913961792\n"
     ]
    }
   ],
   "source": [
    "prac_result6=[prac_result4[:] for i in range(4)]\n",
    "print(\"prac_result4의 ID:\", id(prac_result4))\n",
    "for i,v in enumerate(prac_result6):\n",
    "    print(\"prac_result6[\",i,\"]:\", iold(v), sep=\"\")"
   ]
  },
  {
   "cell_type": "code",
   "execution_count": 43,
   "id": "a98c89c7-af37-4c89-b5c9-8a84fa8b2fe0",
   "metadata": {},
   "outputs": [
    {
     "name": "stdout",
     "output_type": "stream",
     "text": [
      "[0, 1, 2, 3, 4, 5, 6, 7, 8, 9]\n",
      "[0, 1, 2, 3, 4, 5, 6, 7, 8, 9]\n",
      "1720914438656\n",
      "1720913960640\n",
      "False\n",
      "True\n"
     ]
    }
   ],
   "source": [
    "old_list=list(range(10))\n",
    "new_list=old_list[:]\n",
    "\n",
    "print(old_list)\n",
    "print(new_list)\n",
    "\n",
    "print(id(old_list))\n",
    "print(id(new_list))\n",
    "print(old_list is new_list)  #id값 비교\n",
    "print(old_list == new_list)  #출력값 비교\n"
   ]
  },
  {
   "cell_type": "code",
   "execution_count": 45,
   "id": "e3fb6a75-2d30-4cb0-891e-a4eccaa0d0ce",
   "metadata": {},
   "outputs": [
    {
     "name": "stdout",
     "output_type": "stream",
     "text": [
      "[0, 1, 8, 27, 64, 125, 216, 343, 512, 729]\n",
      "[0, 1, 8, 27, 64, 125, 216, 343, 512, 729]\n"
     ]
    }
   ],
   "source": [
    "list_a=[i**3 for i in range(10)]   #[]쓰는게 더 빠름\n",
    "print(list_a)\n",
    "\n",
    "list_d=list(i**3 for i in range(10)) #list() 함수가능\n",
    "print(list_d)"
   ]
  },
  {
   "cell_type": "code",
   "execution_count": null,
   "id": "2f725916-98aa-4a85-83f6-3bb3cfe5ef60",
   "metadata": {},
   "outputs": [],
   "source": []
  }
 ],
 "metadata": {
  "kernelspec": {
   "display_name": "Python 3 (ipykernel)",
   "language": "python",
   "name": "python3"
  },
  "language_info": {
   "codemirror_mode": {
    "name": "ipython",
    "version": 3
   },
   "file_extension": ".py",
   "mimetype": "text/x-python",
   "name": "python",
   "nbconvert_exporter": "python",
   "pygments_lexer": "ipython3",
   "version": "3.9.12"
  }
 },
 "nbformat": 4,
 "nbformat_minor": 5
}
