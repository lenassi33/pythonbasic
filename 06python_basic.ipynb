{
 "cells": [
  {
   "cell_type": "code",
   "execution_count": 9,
   "id": "4e79e1ee-63c8-44e5-a7a3-e9db961495bd",
   "metadata": {},
   "outputs": [
    {
     "name": "stdout",
     "output_type": "stream",
     "text": [
      "['alpha', 'bravo', 'delta', 'hotel', 'india']\n"
     ]
    }
   ],
   "source": [
    "a = ['alpha', 'bravo', 'charlie', 'delta', 'echo', 'foxtrot', 'golf', 'hotel', 'india']\n",
    "b = [word for word in a if len(word) == 5]\n",
    "print(b)"
   ]
  },
  {
   "cell_type": "code",
   "execution_count": 5,
   "id": "a8ad8ffc-26f5-46a2-8717-01fc325f69eb",
   "metadata": {},
   "outputs": [
    {
     "name": "stdin",
     "output_type": "stream",
     "text": [
      "두 개의 정수를 입력하세요(공백으로 구분):  10 11\n"
     ]
    },
    {
     "name": "stdout",
     "output_type": "stream",
     "text": [
      "[1024, 2048]\n"
     ]
    }
   ],
   "source": [
    "while True:\n",
    "    input_str = input(\"두 개의 정수를 입력하세요(공백으로 구분): \")\n",
    "    input_list = input_str.split()\n",
    "\n",
    "   \n",
    "    if len(input_list) != 2:\n",
    "        print(\"잘못된 입력입니다. 두 개의 정수를 공백으로 구분하여 입력하세요.\")\n",
    "        continue\n",
    "        \n",
    "    try:\n",
    "        # 입력 값이 정수가 아니거나 범위를 벗어나면 다시 입력을 받습니다.\n",
    "        num1, num2 = map(int, input_list)\n",
    "        if not (1 <= num1 <= 20 and 10 <= num2 <= 30 and num1 < num2):\n",
    "            print(\"잘못된 입력입니다. 첫 번째 값은 1~20 범위 내, 두 번째 값은 10~30 범위 내이며 첫 번째 값은 두 번째 값보다 작아야 합니다.\")\n",
    "            continue\n",
    "        break\n",
    "    except ValueError:\n",
    "        print(\"잘못된 입력입니다. 정수를 입력하세요.\")\n",
    "        continue\n",
    "\n",
    "list_a=list(2**i for i in range(num1,num2+1))\n",
    "print(list_a)"
   ]
  },
  {
   "cell_type": "code",
   "execution_count": 8,
   "id": "3c0ea26b-9c44-4240-a36a-5fd2c6f0dea4",
   "metadata": {},
   "outputs": [
    {
     "name": "stdin",
     "output_type": "stream",
     "text": [
      "숫자를 입력하세요:  200\n"
     ]
    },
    {
     "name": "stdout",
     "output_type": "stream",
     "text": [
      "2 3 5 7 11 13 17 \n",
      "19 23 29 31 37 41 43 \n",
      "47 53 59 61 67 71 73 \n",
      "79 83 89 97 101 103 107 \n",
      "109 113 127 131 137 139 149 \n",
      "151 157 163 167 173 179 181 \n",
      "191 193 197 199 \n"
     ]
    }
   ],
   "source": [
    "def is_prime(n):\n",
    "    \"\"\"인수 n이 소수인지 판별하는 함수\"\"\"\n",
    "    if n < 2:\n",
    "        return False\n",
    "    for i in range(2, int(n**0.5) + 1):\n",
    "        if n % i == 0:\n",
    "            return False\n",
    "    return True\n",
    "\n",
    "n = int(input(\"숫자를 입력하세요: \"))\n",
    "count = 0 # 출력한 소수의 개수\n",
    "for i in range(2, n+1):\n",
    "    if is_prime(i):\n",
    "        print(i, end=\" \")\n",
    "        count += 1\n",
    "        if count % 7 == 0:\n",
    "            print() # 줄바꿈\n",
    "print() # 마지막 줄바꿈\n"
   ]
  },
  {
   "cell_type": "code",
   "execution_count": 15,
   "id": "78b54b15-4d4e-4b8b-b148-95faa4832ee6",
   "metadata": {},
   "outputs": [
    {
     "name": "stdin",
     "output_type": "stream",
     "text": [
      "1~100 사이의 숫자를 입력하세요:  50\n"
     ]
    },
    {
     "name": "stdout",
     "output_type": "stream",
     "text": [
      "그보다 큽니다.\n"
     ]
    },
    {
     "name": "stdin",
     "output_type": "stream",
     "text": [
      "1~100 사이의 숫자를 입력하세요:  60\n"
     ]
    },
    {
     "name": "stdout",
     "output_type": "stream",
     "text": [
      "그보다 큽니다.\n"
     ]
    },
    {
     "name": "stdin",
     "output_type": "stream",
     "text": [
      "1~100 사이의 숫자를 입력하세요:  70\n"
     ]
    },
    {
     "name": "stdout",
     "output_type": "stream",
     "text": [
      "그보다 큽니다.\n"
     ]
    },
    {
     "name": "stdin",
     "output_type": "stream",
     "text": [
      "1~100 사이의 숫자를 입력하세요:  80\n"
     ]
    },
    {
     "name": "stdout",
     "output_type": "stream",
     "text": [
      "그보다 큽니다.\n"
     ]
    },
    {
     "name": "stdin",
     "output_type": "stream",
     "text": [
      "1~100 사이의 숫자를 입력하세요:  90\n"
     ]
    },
    {
     "name": "stdout",
     "output_type": "stream",
     "text": [
      "그보다 큽니다.\n"
     ]
    },
    {
     "name": "stdin",
     "output_type": "stream",
     "text": [
      "1~100 사이의 숫자를 입력하세요:  91\n"
     ]
    },
    {
     "name": "stdout",
     "output_type": "stream",
     "text": [
      "그보다 큽니다.\n"
     ]
    },
    {
     "name": "stdin",
     "output_type": "stream",
     "text": [
      "1~100 사이의 숫자를 입력하세요:  92\n"
     ]
    },
    {
     "name": "stdout",
     "output_type": "stream",
     "text": [
      "그보다 큽니다.\n"
     ]
    },
    {
     "name": "stdin",
     "output_type": "stream",
     "text": [
      "1~100 사이의 숫자를 입력하세요:  93\n"
     ]
    },
    {
     "name": "stdout",
     "output_type": "stream",
     "text": [
      "그보다 큽니다.\n"
     ]
    },
    {
     "name": "stdin",
     "output_type": "stream",
     "text": [
      "1~100 사이의 숫자를 입력하세요:  94\n"
     ]
    },
    {
     "name": "stdout",
     "output_type": "stream",
     "text": [
      "그보다 큽니다.\n"
     ]
    },
    {
     "name": "stdin",
     "output_type": "stream",
     "text": [
      "1~100 사이의 숫자를 입력하세요:  95\n"
     ]
    },
    {
     "name": "stdout",
     "output_type": "stream",
     "text": [
      "그보다 큽니다.\n"
     ]
    },
    {
     "name": "stdin",
     "output_type": "stream",
     "text": [
      "1~100 사이의 숫자를 입력하세요:  96\n"
     ]
    },
    {
     "name": "stdout",
     "output_type": "stream",
     "text": [
      "그보다 큽니다.\n"
     ]
    },
    {
     "name": "stdin",
     "output_type": "stream",
     "text": [
      "1~100 사이의 숫자를 입력하세요:  97\n"
     ]
    },
    {
     "name": "stdout",
     "output_type": "stream",
     "text": [
      "정답입니다! 12번 만에 맞췄습니다.\n",
      "입력한 숫자들:  [50, 60, 70, 80, 90, 91, 92, 93, 94, 95, 96, 97]\n"
     ]
    }
   ],
   "source": [
    "import random\n",
    "answer = random.randint(1, 100)\n",
    "guesses = []\n",
    "\n",
    "while True:\n",
    "    guess = int(input(\"1~100 사이의 숫자를 입력하세요: \"))\n",
    "   \n",
    "    if guess < 1 or guess > 100:\n",
    "        print(\"1~100 사이의 숫자를 입력하세요.\")\n",
    "        continue                                            #continue를 만나면 가장 가까운 while문으로 이동\n",
    "   \n",
    "    guesses.append(guess)\n",
    " \n",
    "   \n",
    "    if guess == answer:\n",
    "        print(\"정답입니다! {}번 만에 맞췄습니다.\".format(len(guesses)))\n",
    "        print(\"입력한 숫자들: \", guesses)\n",
    "        break                                               #break를 만나면 가장 가까운 while문 빠져나옴\n",
    "  \n",
    " \n",
    "    elif guess > answer:\n",
    "        print(\"그보다 작습니다.\")   \n",
    "    \n",
    "   \n",
    "    else:\n",
    "        print(\"그보다 큽니다.\")\n"
   ]
  },
  {
   "cell_type": "code",
   "execution_count": 17,
   "id": "7d66f518-fd28-4733-b845-c9f7f96d3dee",
   "metadata": {},
   "outputs": [
    {
     "data": {
      "text/plain": [
       "['안', '녕', '하', '세', '요']"
      ]
     },
     "execution_count": 17,
     "metadata": {},
     "output_type": "execute_result"
    }
   ],
   "source": [
    "a=list(\"안녕하세요\")\n",
    "a"
   ]
  },
  {
   "cell_type": "code",
   "execution_count": 18,
   "id": "cd9ccd22-0eb5-4257-a721-5607c8f3e9eb",
   "metadata": {},
   "outputs": [
    {
     "data": {
      "text/plain": [
       "'안!녕!하!세!요'"
      ]
     },
     "execution_count": 18,
     "metadata": {},
     "output_type": "execute_result"
    }
   ],
   "source": [
    "\"!\".join(a)"
   ]
  },
  {
   "cell_type": "code",
   "execution_count": 26,
   "id": "41f6d162-234d-4338-a1a5-803d155534a6",
   "metadata": {},
   "outputs": [
    {
     "name": "stdout",
     "output_type": "stream",
     "text": [
      "A: {1, 2, 3, 4} B: {2, 4, 5}\n",
      "set.union(A,B): {1, 2, 3, 4, 5}\n",
      "set.intersection(A,B): {2, 4}\n",
      "set.difference(A,B): {1, 3}\n",
      "set.symmetric_difference(A,B): {1, 3, 5}\n",
      "A|B: {1, 2, 3, 4, 5}\n",
      "A&B: {2, 4}\n",
      "A-B: {1, 3}\n"
     ]
    }
   ],
   "source": [
    "A= {i for i in range(1,5)}\n",
    "B= {i for i in range(2,6) if i !=3}\n",
    "print(\"A:\", A, \"B:\", B)\n",
    "print(\"set.union(A,B):\", set.union(A,B))\n",
    "print(\"set.intersection(A,B):\", set.intersection(A,B))\n",
    "print(\"set.difference(A,B):\", set.difference(A,B))\n",
    "print(\"set.symmetric_difference(A,B):\", set.symmetric_difference(A,B))\n",
    "print(\"A|B:\", A|B)\n",
    "print(\"A&B:\", A&B)\n",
    "print(\"A-B:\", A-B)"
   ]
  },
  {
   "cell_type": "code",
   "execution_count": 27,
   "id": "60bcb3bb-4021-4d36-878e-35458590e89d",
   "metadata": {},
   "outputs": [],
   "source": [
    "list_sample = [1, 2, 2, 3, 3, 3, 4, 4, 4, 4]\n"
   ]
  },
  {
   "cell_type": "code",
   "execution_count": null,
   "id": "b27443ce-bc45-48e3-b0b1-38d19bccb03f",
   "metadata": {},
   "outputs": [],
   "source": []
  }
 ],
 "metadata": {
  "kernelspec": {
   "display_name": "Python 3 (ipykernel)",
   "language": "python",
   "name": "python3"
  },
  "language_info": {
   "codemirror_mode": {
    "name": "ipython",
    "version": 3
   },
   "file_extension": ".py",
   "mimetype": "text/x-python",
   "name": "python",
   "nbconvert_exporter": "python",
   "pygments_lexer": "ipython3",
   "version": "3.9.12"
  }
 },
 "nbformat": 4,
 "nbformat_minor": 5
}
