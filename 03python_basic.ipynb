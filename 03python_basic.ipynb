{
 "cells": [
  {
   "cell_type": "code",
   "execution_count": 9,
   "id": "eba91c73-ed56-446b-a96a-4fd57ba2e145",
   "metadata": {},
   "outputs": [
    {
     "name": "stdin",
     "output_type": "stream",
     "text": [
      "아이디를 입력해주세요:  ㅣㅐㅍㄷ\n",
      "회원등급을 입력해주세요:  2\n"
     ]
    },
    {
     "name": "stdout",
     "output_type": "stream",
     "text": [
      "제한적인 권한을 갖습니다.\n"
     ]
    }
   ],
   "source": [
    "id= input(\"아이디를 입력해주세요: \")\n",
    "\n",
    "if id=='admin':\n",
    "    print(\"최고관리자, 모든 권한을 갖습니다.\")\n",
    "else:\n",
    "    level= input(\"회원등급을 입력해주세요: \")\n",
    "    if '1'<= level <= '3':\n",
    "        print(\"제한적인 권한을 갖습니다.\")\n",
    "    else: \n",
    "        print(\"권한이 없습니다.\")"
   ]
  },
  {
   "cell_type": "code",
   "execution_count": 11,
   "id": "8a7c5591-e86f-43db-9921-e009bc7e975e",
   "metadata": {},
   "outputs": [
    {
     "name": "stdin",
     "output_type": "stream",
     "text": [
      "아이디를 입력해주세요:  love\n",
      "회원등급을 입력해주세요:  4\n"
     ]
    },
    {
     "name": "stdout",
     "output_type": "stream",
     "text": [
      "권한이 없습니다.\n"
     ]
    }
   ],
   "source": [
    "id= input(\"아이디를 입력해주세요: \")\n",
    "\n",
    "if id=='admin':\n",
    "    print(\"최고관리자, 모든 권한을 갖습니다.\")\n",
    "else:\n",
    "    level= input(\"회원등급을 입력해주세요: \")\n",
    "    if 1<= int(level) <= 3:\n",
    "        print(\"제한적인 권한을 갖습니다.\")\n",
    "    else: \n",
    "        print(\"권한이 없습니다.\")"
   ]
  },
  {
   "cell_type": "code",
   "execution_count": 18,
   "id": "ffafa884-4613-40a4-b451-5c3a2f1340f0",
   "metadata": {},
   "outputs": [
    {
     "name": "stdin",
     "output_type": "stream",
     "text": [
      "자연수를 하나 입력해주세요:  30\n"
     ]
    },
    {
     "name": "stdout",
     "output_type": "stream",
     "text": [
      "0\n"
     ]
    }
   ],
   "source": [
    "num1=input(\"자연수를 하나 입력해주세요: \")\n",
    "num2=int(num1)-50\n",
    "\n",
    "if num2>=0:\n",
    "    print(num2)\n",
    "else:\n",
    "    print(0)"
   ]
  },
  {
   "cell_type": "code",
   "execution_count": 22,
   "id": "7dcbf2c1-3c6b-4f85-a044-832534369479",
   "metadata": {},
   "outputs": [
    {
     "name": "stdin",
     "output_type": "stream",
     "text": [
      "자연수를 하나 입력해주세요:  34\n"
     ]
    },
    {
     "name": "stdout",
     "output_type": "stream",
     "text": [
      "짝수입니다.\n"
     ]
    }
   ],
   "source": [
    "num1=input(\"자연수를 하나 입력해주세요: \")\n",
    "num2=int(num1)%2\n",
    "\n",
    "if num2==0:\n",
    "    print(\"짝수입니다.\")\n",
    "else:\n",
    "    print(\"홀수입니다.\")"
   ]
  },
  {
   "cell_type": "code",
   "execution_count": 38,
   "id": "bbb0761a-151b-473f-9660-63181c40c349",
   "metadata": {},
   "outputs": [
    {
     "name": "stdin",
     "output_type": "stream",
     "text": [
      "소프트웨어 설계 점수를 입력하세요:  10\n",
      "소프트웨어 개발 점수를 입력하세요:  10\n",
      "데이터베이스 구축 점수를 입력하세요:  10\n",
      "프로그래밍 언어활용 점수를 입력하세요:  10\n",
      "정보시스템 구축관리 점수를 입력하세요:  10\n"
     ]
    },
    {
     "name": "stdout",
     "output_type": "stream",
     "text": [
      "불합격입니다.\n"
     ]
    }
   ],
   "source": [
    "sub1=int(input(\"소프트웨어 설계 점수를 입력하세요: \"))\n",
    "sub2=int(input(\"소프트웨어 개발 점수를 입력하세요: \"))  \n",
    "sub3=int(input(\"데이터베이스 구축 점수를 입력하세요: \"))\n",
    "sub4=int(input(\"프로그래밍 언어활용 점수를 입력하세요: \"))\n",
    "sub5=int(input(\"정보시스템 구축관리 점수를 입력하세요: \"))\n",
    "             \n",
    "if sub1 < 0 or sub2 < 0 or sub3 < 0 or sub4 < 0 or sub5 < 0 or sub1 >100 or sub2 >100 or sub3 >100 or sub4 >100 or sub5>100:\n",
    "         print(\"잘못된 점수입니다.\")\n",
    "elif (sub1+sub2+sub3+sub4+sub5)/5 >= 60:\n",
    "         print(\"합격입니다.\")\n",
    "else: \n",
    "         print(\"불합격입니다.\")\n",
    "  "
   ]
  },
  {
   "cell_type": "code",
   "execution_count": 46,
   "id": "33051913-6e96-4a35-829a-00dec70827c4",
   "metadata": {},
   "outputs": [
    {
     "name": "stdin",
     "output_type": "stream",
     "text": [
      "현재 물의 온도를 입력하세요:  101\n"
     ]
    },
    {
     "name": "stdout",
     "output_type": "stream",
     "text": [
      "기체로 예상됩니다.\n"
     ]
    }
   ],
   "source": [
    "temp=float(input(\"현재 물의 온도를 입력하세요: \"))\n",
    "\n",
    "if temp >=100:\n",
    "    print(\"기체로 예상됩니다.\")\n",
    "elif 0<= temp <100: \n",
    "    print(\"액체로 예상됩니다.\")\n",
    "elif temp<0:\n",
    "    print(\"고체로 예상됩니다.\")"
   ]
  },
  {
   "cell_type": "code",
   "execution_count": 54,
   "id": "31a426ef-b4be-4726-a5fd-91f2d08f461b",
   "metadata": {},
   "outputs": [
    {
     "name": "stdin",
     "output_type": "stream",
     "text": [
      "나이를 입력하세요:  88\n"
     ]
    },
    {
     "name": "stdout",
     "output_type": "stream",
     "text": [
      "성인 1500원\n"
     ]
    }
   ],
   "source": [
    "age=int(input(\"나이를 입력하세요: \"))\n",
    "\n",
    "if age >=19:\n",
    "    print(\"성인 1500원\")\n",
    "elif 12<= age <19: \n",
    "    print(\"청소년 1100원\")\n",
    "elif 6<= age <12:\n",
    "    print(\"어린이 800원\")\n",
    "else: \n",
    "    print(\"미취학아동 무료입니다.\")"
   ]
  },
  {
   "cell_type": "code",
   "execution_count": 59,
   "id": "2b40146f-1b46-4973-a185-5b35df2ea4e6",
   "metadata": {},
   "outputs": [
    {
     "name": "stdin",
     "output_type": "stream",
     "text": [
      "발주수량을 입력하세요:  2000\n"
     ]
    },
    {
     "name": "stdout",
     "output_type": "stream",
     "text": [
      "2000 개를 주문하셨습니다.\n",
      "적용할인율은 10%입니다.\n",
      "총 발주금액은18000.0입니다.\n"
     ]
    }
   ],
   "source": [
    "qty=int(input(\"발주수량을 입력하세요: \"))\n",
    "print(qty, \"개를 주문하셨습니다.\")\n",
    "\n",
    "if 1000<= qty <=1500:\n",
    "    price1= qty*10*95/100\n",
    "    print(\"적용할인율은 5%입니다.\")\n",
    "    print(\"총 발주금액은\", price1, \"입니다.\", sep=\"\")\n",
    "elif 1500< qty <=2000: \n",
    "    price2= qty*10*90/100\n",
    "    print(\"적용할인율은 10%입니다.\")\n",
    "    print(\"총 발주금액은\", price2, \"입니다.\", sep=\"\")\n",
    "elif qty >2000:\n",
    "    price3= qty*10*80/100\n",
    "    print(\"적용할인율은 20%입니다.\")\n",
    "    print(\"총 발주금액은\", price3, \"입니다.\", sep=\"\")\n"
   ]
  },
  {
   "cell_type": "code",
   "execution_count": 77,
   "id": "527d3008-698f-4e3b-b433-df0a6ff26bb9",
   "metadata": {},
   "outputs": [
    {
     "name": "stdin",
     "output_type": "stream",
     "text": [
      "주민번호 뒷자리를 입력하세요:  5567899\n"
     ]
    },
    {
     "name": "stdout",
     "output_type": "stream",
     "text": [
      "잘못된 입력입니다.\n"
     ]
    }
   ],
   "source": [
    "id_num= input(\"주민번호 뒷자리를 입력하세요: \")\n",
    "\n",
    "if len(id_num) != 7:\n",
    "    print(\"자리수를 잘못 입력했습니다.\")\n",
    "elif id_num[0] == \"1\" or id_num[0] == \"3\":\n",
    "    print(\"남자\")\n",
    "elif id_num[0] == \"2\" or id_num[0] == \"4\":\n",
    "    print(\"여자\")\n",
    "elif id_num[0] != \"1\" or id_num[0] != \"2\" or id_num[0] != \"3\" or id_num[0] != \"4\":\n",
    "    print(\"잘못된 입력입니다.\")"
   ]
  },
  {
   "cell_type": "code",
   "execution_count": 91,
   "id": "f1fca461-52ca-4741-b075-8e70304fe1da",
   "metadata": {},
   "outputs": [
    {
     "name": "stdin",
     "output_type": "stream",
     "text": [
      "확인할 연도를 입력하세요:  1900\n"
     ]
    },
    {
     "name": "stdout",
     "output_type": "stream",
     "text": [
      "평년입니다.\n"
     ]
    }
   ],
   "source": [
    "year=int(input(\"확인할 연도를 입력하세요: \"))\n",
    "\n",
    "if year%100 ==0 and year%400!=0:\n",
    "    print(\"평년입니다.\")  \n",
    "    \n",
    "elif year%4==0: \n",
    "    print(\"윤년입니다.\")    \n",
    "else: \n",
    "    print(\"평년입니다.\")  "
   ]
  },
  {
   "cell_type": "code",
   "execution_count": 93,
   "id": "b1378f74-fbc4-4d42-994c-1d857134e59e",
   "metadata": {},
   "outputs": [
    {
     "name": "stdin",
     "output_type": "stream",
     "text": [
      "확인할 연도를 입력하세요:  1900\n"
     ]
    },
    {
     "name": "stdout",
     "output_type": "stream",
     "text": [
      "평년입니다.\n"
     ]
    }
   ],
   "source": [
    "year=int(input(\"확인할 연도를 입력하세요: \"))\n",
    "\n",
    "if year%4==0 and (year%100 !=0 or year%400==0):\n",
    "    print(\"윤년입니다.\")\n",
    "else: \n",
    "    print(\"평년입니다.\")"
   ]
  },
  {
   "cell_type": "code",
   "execution_count": 94,
   "id": "4c2915cf-772a-4d34-aeae-23645889bc7c",
   "metadata": {},
   "outputs": [
    {
     "data": {
      "text/plain": [
       "[0, 2, 4]"
      ]
     },
     "execution_count": 94,
     "metadata": {},
     "output_type": "execute_result"
    }
   ],
   "source": [
    "#슬라이싱\n",
    "a=[0,1,2,3,4,5,6,7]\n",
    "a[0:5:2]"
   ]
  },
  {
   "cell_type": "code",
   "execution_count": 98,
   "id": "81a3335b-ff2b-4934-8062-b97a8cea09e7",
   "metadata": {},
   "outputs": [
    {
     "data": {
      "text/plain": [
       "[0, 1, 2, 3, 4, 5, 6, 7]"
      ]
     },
     "execution_count": 98,
     "metadata": {},
     "output_type": "execute_result"
    }
   ],
   "source": [
    "#함수를 호출할때 소괄호를 사용한다.\n",
    "#인수(arguments)가 여럿일 때 콤마로 구분한다.\n",
    "#range(시작하는 숫자(포함)=0, 끝숫자(미포함), 증감=1)\n",
    "#range는 규칙된 숫자를 만드는데 특화되어 있다.\n",
    "\n",
    "print(list(range(8))) #iterable"
   ]
  },
  {
   "cell_type": "code",
   "execution_count": 99,
   "id": "42904c3d-d3dd-4818-b022-dd788f5d1581",
   "metadata": {},
   "outputs": [
    {
     "data": {
      "text/plain": [
       "range"
      ]
     },
     "execution_count": 99,
     "metadata": {},
     "output_type": "execute_result"
    }
   ],
   "source": [
    "type(range(1))"
   ]
  },
  {
   "cell_type": "code",
   "execution_count": 100,
   "id": "0435d314-c465-4637-990e-6d2a9cb07096",
   "metadata": {},
   "outputs": [],
   "source": [
    "#list vs range가 동작하는 큰 차이점\n",
    "#list는 메모리상에 다 만들어 놓음\n",
    "#range는 필요할때 메모리를 만듬"
   ]
  },
  {
   "cell_type": "code",
   "execution_count": 102,
   "id": "9b598576-2f90-4571-b51e-60ea11fd54f6",
   "metadata": {},
   "outputs": [
    {
     "name": "stdout",
     "output_type": "stream",
     "text": [
      "hi\n",
      "hi\n",
      "hi\n",
      "hi\n",
      "hi\n",
      "hi\n",
      "hi\n",
      "hi\n",
      "hi\n",
      "hi\n"
     ]
    }
   ],
   "source": [
    "for n in range(10): #0~9까지 숫자생성\n",
    "    print(\"hi\")"
   ]
  },
  {
   "cell_type": "code",
   "execution_count": null,
   "id": "0dab022c-612a-4257-aa65-e9fc106f071d",
   "metadata": {},
   "outputs": [],
   "source": []
  },
  {
   "cell_type": "code",
   "execution_count": null,
   "id": "024a0c64-b4cd-4f39-a3ca-392b3257dd4a",
   "metadata": {},
   "outputs": [],
   "source": []
  }
 ],
 "metadata": {
  "kernelspec": {
   "display_name": "Python 3 (ipykernel)",
   "language": "python",
   "name": "python3"
  },
  "language_info": {
   "codemirror_mode": {
    "name": "ipython",
    "version": 3
   },
   "file_extension": ".py",
   "mimetype": "text/x-python",
   "name": "python",
   "nbconvert_exporter": "python",
   "pygments_lexer": "ipython3",
   "version": "3.9.12"
  }
 },
 "nbformat": 4,
 "nbformat_minor": 5
}
