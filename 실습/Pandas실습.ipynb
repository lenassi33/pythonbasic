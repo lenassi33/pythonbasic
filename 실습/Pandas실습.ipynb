{
 "cells": [
  {
   "cell_type": "code",
   "execution_count": 2,
   "id": "9c6624bd-f709-473a-b33a-b22b6767a08c",
   "metadata": {},
   "outputs": [
    {
     "data": {
      "text/html": [
       "<div>\n",
       "<style scoped>\n",
       "    .dataframe tbody tr th:only-of-type {\n",
       "        vertical-align: middle;\n",
       "    }\n",
       "\n",
       "    .dataframe tbody tr th {\n",
       "        vertical-align: top;\n",
       "    }\n",
       "\n",
       "    .dataframe thead th {\n",
       "        text-align: right;\n",
       "    }\n",
       "</style>\n",
       "<table border=\"1\" class=\"dataframe\">\n",
       "  <thead>\n",
       "    <tr style=\"text-align: right;\">\n",
       "      <th></th>\n",
       "      <th>names</th>\n",
       "      <th>births</th>\n",
       "    </tr>\n",
       "  </thead>\n",
       "  <tbody>\n",
       "    <tr>\n",
       "      <th>0</th>\n",
       "      <td>Bob</td>\n",
       "      <td>1990</td>\n",
       "    </tr>\n",
       "    <tr>\n",
       "      <th>1</th>\n",
       "      <td>Jessica</td>\n",
       "      <td>1988</td>\n",
       "    </tr>\n",
       "    <tr>\n",
       "      <th>2</th>\n",
       "      <td>Mary</td>\n",
       "      <td>1987</td>\n",
       "    </tr>\n",
       "    <tr>\n",
       "      <th>3</th>\n",
       "      <td>John</td>\n",
       "      <td>1978</td>\n",
       "    </tr>\n",
       "    <tr>\n",
       "      <th>4</th>\n",
       "      <td>Mel</td>\n",
       "      <td>2000</td>\n",
       "    </tr>\n",
       "  </tbody>\n",
       "</table>\n",
       "</div>"
      ],
      "text/plain": [
       "     names  births\n",
       "0      Bob    1990\n",
       "1  Jessica    1988\n",
       "2     Mary    1987\n",
       "3     John    1978\n",
       "4      Mel    2000"
      ]
     },
     "execution_count": 2,
     "metadata": {},
     "output_type": "execute_result"
    }
   ],
   "source": [
    "import pandas as pd\n",
    "\n",
    "names=['Bob', 'Jessica', 'Mary', 'John', 'Mel', 'Henry']\n",
    "births=[1990, 1988,1987,1978,2000,2020]\n",
    "custom=[1,5,6,7,8,10]\n",
    "\n",
    "dataset=list(zip(names, births))\n",
    "df=pd.DataFrame(data=dataset, columns=['names', 'births'])\n",
    "                \n",
    "df.head()"
   ]
  },
  {
   "cell_type": "code",
   "execution_count": 3,
   "id": "c430f4ae-ff8e-48fb-86db-3fcac3bad11b",
   "metadata": {},
   "outputs": [
    {
     "name": "stdout",
     "output_type": "stream",
     "text": [
      "<class 'pandas.core.series.Series'>\n",
      "0        Bob\n",
      "1    Jessica\n",
      "2       Mary\n",
      "3       John\n",
      "4        Mel\n",
      "Name: names, dtype: object\n"
     ]
    }
   ],
   "source": [
    "names_df=df['names']\n",
    "print(type(names_df))\n",
    "print(names_df.head())\n",
    "        "
   ]
  },
  {
   "cell_type": "code",
   "execution_count": 4,
   "id": "dc927294-cf37-461d-b080-b3821507031b",
   "metadata": {},
   "outputs": [
    {
     "name": "stdout",
     "output_type": "stream",
     "text": [
      "<class 'pandas.core.frame.DataFrame'>\n",
      "     names  births\n",
      "0      Bob    1990\n",
      "1  Jessica    1988\n",
      "2     Mary    1987\n",
      "3     John    1978\n",
      "4      Mel    2000\n"
     ]
    }
   ],
   "source": [
    "subset=df[['names', 'births']]\n",
    "print(type(subset))\n",
    "print(subset.head())"
   ]
  },
  {
   "cell_type": "code",
   "execution_count": 5,
   "id": "91406070-9d23-40b4-bc2c-f186ca3f945e",
   "metadata": {},
   "outputs": [
    {
     "name": "stdout",
     "output_type": "stream",
     "text": [
      "names      Bob\n",
      "births    1990\n",
      "Name: 0, dtype: object\n"
     ]
    }
   ],
   "source": [
    "print(df.loc[0])"
   ]
  },
  {
   "cell_type": "code",
   "execution_count": 7,
   "id": "379f6c31-07f9-4731-81d6-29283d02685e",
   "metadata": {},
   "outputs": [],
   "source": [
    "# print(df.loc[-1])"
   ]
  },
  {
   "cell_type": "code",
   "execution_count": 9,
   "id": "58da82a2-fd9b-4cc7-b94c-9a8c90003982",
   "metadata": {},
   "outputs": [
    {
     "name": "stdout",
     "output_type": "stream",
     "text": [
      "names     Henry\n",
      "births     2020\n",
      "Name: 5, dtype: object\n"
     ]
    }
   ],
   "source": [
    "print(df.iloc[-1])  #마지막 데이터 출력"
   ]
  },
  {
   "cell_type": "code",
   "execution_count": 11,
   "id": "5bff98f6-0f80-4228-96d2-d14de7273cc9",
   "metadata": {},
   "outputs": [
    {
     "name": "stdout",
     "output_type": "stream",
     "text": [
      "   names  births\n",
      "0    Bob    1990\n",
      "3   John    1978\n",
      "5  Henry    2020\n"
     ]
    }
   ],
   "source": [
    "print(df.loc[[0,3,5]])"
   ]
  },
  {
   "cell_type": "code",
   "execution_count": 13,
   "id": "45e261b5-ef39-4b02-83e3-bc2451d624d2",
   "metadata": {},
   "outputs": [
    {
     "name": "stdout",
     "output_type": "stream",
     "text": [
      "   names  births\n",
      "5  Henry    2020\n"
     ]
    }
   ],
   "source": [
    "print(df.tail(n=1))"
   ]
  },
  {
   "cell_type": "code",
   "execution_count": 14,
   "id": "1915162b-37bc-4b88-8a24-00a027ea0676",
   "metadata": {},
   "outputs": [
    {
     "name": "stdout",
     "output_type": "stream",
     "text": [
      "<class 'pandas.core.series.Series'>\n",
      "<class 'pandas.core.frame.DataFrame'>\n"
     ]
    }
   ],
   "source": [
    "sub_loc=df.loc[0]\n",
    "sub_tail=df.tail(n=1)\n",
    "\n",
    "print(type(sub_loc))\n",
    "print(type(sub_tail))"
   ]
  },
  {
   "cell_type": "code",
   "execution_count": 15,
   "id": "6979a5fc-f906-4af9-9163-2881f536752b",
   "metadata": {},
   "outputs": [
    {
     "data": {
      "text/plain": [
       "name    [kim, lee, park]\n",
       "kor         [80, 90, 75]\n",
       "eng        [80, 98, 100]\n",
       "dtype: object"
      ]
     },
     "execution_count": 15,
     "metadata": {},
     "output_type": "execute_result"
    }
   ],
   "source": [
    "import pandas as pd\n",
    "\n",
    "dic={'name':['kim','lee','park'],'kor':[80,90,75],'eng':[80,98,100]}  #딕셔너리 생성\n",
    "ser_data=pd.Series(dic)  #시리즈 생성 //인덱스로 간다 cf. DataFrame\n",
    "ser_data"
   ]
  },
  {
   "cell_type": "code",
   "execution_count": 18,
   "id": "5523550c-d739-4fe8-9714-b2db2640a34e",
   "metadata": {},
   "outputs": [
    {
     "data": {
      "text/plain": [
       "0    80\n",
       "1    90\n",
       "2    95\n",
       "dtype: int32"
      ]
     },
     "execution_count": 18,
     "metadata": {},
     "output_type": "execute_result"
    }
   ],
   "source": [
    "import pandas as pd\n",
    "import numpy as np\n",
    "\n",
    "arr=np.array([80,90,95])  #배열 생성\n",
    "ser_data=pd.Series(arr)   #시리즈 생성\n",
    "ser_data"
   ]
  },
  {
   "cell_type": "code",
   "execution_count": null,
   "id": "e19a7412-5969-457c-b873-29d786c11e0a",
   "metadata": {},
   "outputs": [],
   "source": [
    "#pandas.DataFrame(data(딕셔너리, 리스트, 스칼라, 넘파이배열, df객체),\n",
    "                 index(행의 리스트),\n",
    "                 columns(열의 리스트),\n",
    "                 dtype(데이터 타입)\n",
    "                 )"
   ]
  },
  {
   "cell_type": "code",
   "execution_count": 20,
   "id": "0db531e5-15c3-4b5d-8a7e-0f83e304221d",
   "metadata": {},
   "outputs": [
    {
     "data": {
      "text/html": [
       "<div>\n",
       "<style scoped>\n",
       "    .dataframe tbody tr th:only-of-type {\n",
       "        vertical-align: middle;\n",
       "    }\n",
       "\n",
       "    .dataframe tbody tr th {\n",
       "        vertical-align: top;\n",
       "    }\n",
       "\n",
       "    .dataframe thead th {\n",
       "        text-align: right;\n",
       "    }\n",
       "</style>\n",
       "<table border=\"1\" class=\"dataframe\">\n",
       "  <thead>\n",
       "    <tr style=\"text-align: right;\">\n",
       "      <th></th>\n",
       "      <th>0</th>\n",
       "    </tr>\n",
       "  </thead>\n",
       "  <tbody>\n",
       "    <tr>\n",
       "      <th>0</th>\n",
       "      <td>80</td>\n",
       "    </tr>\n",
       "    <tr>\n",
       "      <th>1</th>\n",
       "      <td>90</td>\n",
       "    </tr>\n",
       "    <tr>\n",
       "      <th>2</th>\n",
       "      <td>95</td>\n",
       "    </tr>\n",
       "  </tbody>\n",
       "</table>\n",
       "</div>"
      ],
      "text/plain": [
       "    0\n",
       "0  80\n",
       "1  90\n",
       "2  95"
      ]
     },
     "execution_count": 20,
     "metadata": {},
     "output_type": "execute_result"
    }
   ],
   "source": [
    "import pandas as pd\n",
    "import numpy as np\n",
    "\n",
    "arr=np.array([80,90,95])\n",
    "df=pd.DataFrame(arr)\n",
    "df"
   ]
  },
  {
   "cell_type": "code",
   "execution_count": 21,
   "id": "619c9e61-2653-4047-8fb3-26ce258bf70b",
   "metadata": {},
   "outputs": [
    {
     "data": {
      "text/html": [
       "<div>\n",
       "<style scoped>\n",
       "    .dataframe tbody tr th:only-of-type {\n",
       "        vertical-align: middle;\n",
       "    }\n",
       "\n",
       "    .dataframe tbody tr th {\n",
       "        vertical-align: top;\n",
       "    }\n",
       "\n",
       "    .dataframe thead th {\n",
       "        text-align: right;\n",
       "    }\n",
       "</style>\n",
       "<table border=\"1\" class=\"dataframe\">\n",
       "  <thead>\n",
       "    <tr style=\"text-align: right;\">\n",
       "      <th></th>\n",
       "      <th>name</th>\n",
       "      <th>kor</th>\n",
       "      <th>eng</th>\n",
       "    </tr>\n",
       "  </thead>\n",
       "  <tbody>\n",
       "    <tr>\n",
       "      <th>0</th>\n",
       "      <td>kim</td>\n",
       "      <td>80</td>\n",
       "      <td>80</td>\n",
       "    </tr>\n",
       "    <tr>\n",
       "      <th>1</th>\n",
       "      <td>lee</td>\n",
       "      <td>90</td>\n",
       "      <td>98</td>\n",
       "    </tr>\n",
       "    <tr>\n",
       "      <th>2</th>\n",
       "      <td>park</td>\n",
       "      <td>75</td>\n",
       "      <td>100</td>\n",
       "    </tr>\n",
       "  </tbody>\n",
       "</table>\n",
       "</div>"
      ],
      "text/plain": [
       "   name  kor  eng\n",
       "0   kim   80   80\n",
       "1   lee   90   98\n",
       "2  park   75  100"
      ]
     },
     "execution_count": 21,
     "metadata": {},
     "output_type": "execute_result"
    }
   ],
   "source": [
    "import pandas as pd\n",
    "\n",
    "dic={'name':['kim','lee','park'],'kor':[80,90,75],'eng':[80,98,100]}  #딕셔너리 생성\n",
    "df=pd.DataFrame(dic)  #데이터프레임 생성// 열로 간다 cf.Series\n",
    "df"
   ]
  },
  {
   "cell_type": "code",
   "execution_count": null,
   "id": "0fbcb80a-345d-4bfd-892f-9b5dc359b1f0",
   "metadata": {},
   "outputs": [],
   "source": [
    "#색인객체\n",
    "\n",
    "#index객체명=pandas.Index(index list,\n",
    "                         dtype=None,\n",
    "                         name=None)"
   ]
  },
  {
   "cell_type": "code",
   "execution_count": 22,
   "id": "2deb8c6b-8757-4352-9381-71060950b825",
   "metadata": {},
   "outputs": [
    {
     "data": {
      "text/plain": [
       "Index(['name', 'kor', 'eng'], dtype='object')"
      ]
     },
     "execution_count": 22,
     "metadata": {},
     "output_type": "execute_result"
    }
   ],
   "source": [
    "import pandas as pd\n",
    "stud_id=pd.Index(['name','kor','eng'])\n",
    "stud_id"
   ]
  },
  {
   "cell_type": "code",
   "execution_count": 23,
   "id": "a7f4c55e-e8d2-4652-9563-dfc0e72dbe84",
   "metadata": {},
   "outputs": [
    {
     "data": {
      "text/plain": [
       "0    [kim, lee, park]\n",
       "1        [90, 80, 97]\n",
       "2       [70, 97, 100]\n",
       "dtype: object"
      ]
     },
     "execution_count": 23,
     "metadata": {},
     "output_type": "execute_result"
    }
   ],
   "source": [
    "stud_data=pd.Series([['kim','lee','park'],[90,80,97],[70,97,100]])\n",
    "stud_data"
   ]
  },
  {
   "cell_type": "code",
   "execution_count": 25,
   "id": "f70bb74a-d2ad-48a0-95d8-344bbdad92b6",
   "metadata": {},
   "outputs": [
    {
     "data": {
      "text/plain": [
       "name    [kim, lee, park]\n",
       "kor         [90, 80, 97]\n",
       "eng        [70, 97, 100]\n",
       "dtype: object"
      ]
     },
     "execution_count": 25,
     "metadata": {},
     "output_type": "execute_result"
    }
   ],
   "source": [
    "stud_data.index=stud_id\n",
    "stud_data"
   ]
  },
  {
   "cell_type": "code",
   "execution_count": null,
   "id": "179a2dd3-8fb7-4a8b-86b5-9bbfcbe7df59",
   "metadata": {},
   "outputs": [],
   "source": []
  }
 ],
 "metadata": {
  "kernelspec": {
   "display_name": "Python 3 (ipykernel)",
   "language": "python",
   "name": "python3"
  },
  "language_info": {
   "codemirror_mode": {
    "name": "ipython",
    "version": 3
   },
   "file_extension": ".py",
   "mimetype": "text/x-python",
   "name": "python",
   "nbconvert_exporter": "python",
   "pygments_lexer": "ipython3",
   "version": "3.9.12"
  }
 },
 "nbformat": 4,
 "nbformat_minor": 5
}
