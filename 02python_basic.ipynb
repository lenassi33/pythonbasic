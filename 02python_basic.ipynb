{
 "cells": [
  {
   "cell_type": "code",
   "execution_count": 1,
   "id": "bff9a46b-e0e2-4bfd-a971-701a38096125",
   "metadata": {},
   "outputs": [],
   "source": [
    "x=1\n",
    "text=\"#이것은 주석이 아닙니다. 따옴표 안은 문자열 리터럴입니다.\""
   ]
  },
  {
   "cell_type": "code",
   "execution_count": 2,
   "id": "13350a2c-f03d-4ce0-ae6d-8557165b4606",
   "metadata": {},
   "outputs": [
    {
     "name": "stdout",
     "output_type": "stream",
     "text": [
      "1\n"
     ]
    }
   ],
   "source": [
    "print(x)"
   ]
  },
  {
   "cell_type": "code",
   "execution_count": 3,
   "id": "9b25f0f7-aaf7-4cb7-8714-d90a3a48e54a",
   "metadata": {},
   "outputs": [
    {
     "name": "stdout",
     "output_type": "stream",
     "text": [
      "#이것은 주석이 아닙니다. 따옴표 안은 문자열 리터럴입니다.\n"
     ]
    }
   ],
   "source": [
    "print(text)"
   ]
  },
  {
   "cell_type": "code",
   "execution_count": 6,
   "id": "ca92f534-082a-453a-b2bc-d23d07940093",
   "metadata": {},
   "outputs": [
    {
     "name": "stdout",
     "output_type": "stream",
     "text": [
      "Hello world!\n",
      "Hello world!\n",
      "Python Programming\n"
     ]
    }
   ],
   "source": [
    "print(\"Hello world!\")\n",
    "print(\"Hello world!\")\n",
    "print(\"Python Programming\")"
   ]
  },
  {
   "cell_type": "code",
   "execution_count": 7,
   "id": "b51a3cdb-2afa-4972-897a-431d1d5a2a6d",
   "metadata": {},
   "outputs": [
    {
     "data": {
      "text/plain": [
       "89"
      ]
     },
     "execution_count": 7,
     "metadata": {},
     "output_type": "execute_result"
    }
   ],
   "source": [
    "13+(22-3)*4"
   ]
  },
  {
   "cell_type": "code",
   "execution_count": 8,
   "id": "3aad9fe3-ac47-47e4-93ee-b92c85876770",
   "metadata": {},
   "outputs": [
    {
     "data": {
      "text/plain": [
       "28.2"
      ]
     },
     "execution_count": 8,
     "metadata": {},
     "output_type": "execute_result"
    }
   ],
   "source": [
    "13+((22-3)*4)/5"
   ]
  },
  {
   "cell_type": "code",
   "execution_count": 9,
   "id": "430f0510-c6dc-4612-87de-86ce76a169e2",
   "metadata": {},
   "outputs": [
    {
     "data": {
      "text/plain": [
       "128"
      ]
     },
     "execution_count": 9,
     "metadata": {},
     "output_type": "execute_result"
    }
   ],
   "source": [
    "2**7"
   ]
  },
  {
   "cell_type": "code",
   "execution_count": 10,
   "id": "f35aa7ec-42df-4d7f-a500-3e0f300ff26d",
   "metadata": {},
   "outputs": [
    {
     "data": {
      "text/plain": [
       "1.7320508075688772"
      ]
     },
     "execution_count": 10,
     "metadata": {},
     "output_type": "execute_result"
    }
   ],
   "source": [
    "3**(1/2)"
   ]
  },
  {
   "cell_type": "code",
   "execution_count": 12,
   "id": "88ff7593-0964-4fab-97b3-380346a6b10a",
   "metadata": {},
   "outputs": [
    {
     "data": {
      "text/plain": [
       "2"
      ]
     },
     "execution_count": 12,
     "metadata": {},
     "output_type": "execute_result"
    }
   ],
   "source": [
    "7//3 "
   ]
  },
  {
   "cell_type": "code",
   "execution_count": 14,
   "id": "0a7074c3-37c9-4574-aee3-52272c9c2e10",
   "metadata": {},
   "outputs": [
    {
     "name": "stdout",
     "output_type": "stream",
     "text": [
      "7\n"
     ]
    }
   ],
   "source": [
    "H=0.2467*12+4.159\n",
    "print(int(H))"
   ]
  },
  {
   "cell_type": "code",
   "execution_count": 22,
   "id": "7f15bca7-0165-4eb9-878c-f5c990b74d9c",
   "metadata": {},
   "outputs": [
    {
     "name": "stdout",
     "output_type": "stream",
     "text": [
      "가장 시끄러운 층은 = 7 층\n"
     ]
    }
   ],
   "source": [
    "H=0.2467*12+4.159\n",
    "print(\"가장 시끄러운 층은 =\", int(H),\"층\")"
   ]
  },
  {
   "cell_type": "code",
   "execution_count": 24,
   "id": "a7b4badc-65a2-4062-874d-f3ffcee4862f",
   "metadata": {},
   "outputs": [
    {
     "name": "stdout",
     "output_type": "stream",
     "text": [
      "냉장고 가격은 1272000 원 입니다.\n"
     ]
    }
   ],
   "source": [
    "price=53000*24 \n",
    "print(\"냉장고 가격은\", int(price), \"원 입니다.\")"
   ]
  },
  {
   "cell_type": "code",
   "execution_count": 28,
   "id": "80d77734-bf6b-44b6-8a53-e520b422cb03",
   "metadata": {},
   "outputs": [
    {
     "name": "stdout",
     "output_type": "stream",
     "text": [
      "15000000\n"
     ]
    }
   ],
   "source": [
    "people=250\n",
    "price=people*3*20000\n",
    "print(price)"
   ]
  },
  {
   "cell_type": "code",
   "execution_count": 2,
   "id": "7d18a90a-70af-42d6-a1e7-3f1f4efe9ad9",
   "metadata": {},
   "outputs": [
    {
     "name": "stdout",
     "output_type": "stream",
     "text": [
      "총 지불해야하는 금액은 16500000 원 입니다.\n"
     ]
    }
   ],
   "source": [
    "people=250\n",
    "tax=10/100\n",
    "\n",
    "print(\"총 지불해야하는 금액은\", int(people*3*20000*(1+tax)), \"원 입니다.\")"
   ]
  },
  {
   "cell_type": "code",
   "execution_count": 5,
   "id": "6c590e2a-e126-48a2-a5dc-35c18d0ee611",
   "metadata": {},
   "outputs": [
    {
     "name": "stdout",
     "output_type": "stream",
     "text": [
      "453\n"
     ]
    }
   ],
   "source": [
    "AP=380\n",
    "x= AP*0.6+225\n",
    "print(int(x))"
   ]
  },
  {
   "cell_type": "code",
   "execution_count": 6,
   "id": "79004de9-c8fe-4261-868c-0d5bb8185945",
   "metadata": {},
   "outputs": [
    {
     "name": "stdout",
     "output_type": "stream",
     "text": [
      "30\n"
     ]
    }
   ],
   "source": [
    "a=10\n",
    "a=a+20\n",
    "print(a)"
   ]
  },
  {
   "cell_type": "code",
   "execution_count": 7,
   "id": "272c3242-f784-4f3f-a7d7-9412a6efac18",
   "metadata": {},
   "outputs": [
    {
     "ename": "NameError",
     "evalue": "name 'a' is not defined",
     "output_type": "error",
     "traceback": [
      "\u001b[1;31m---------------------------------------------------------------------------\u001b[0m",
      "\u001b[1;31mNameError\u001b[0m                                 Traceback (most recent call last)",
      "Input \u001b[1;32mIn [7]\u001b[0m, in \u001b[0;36m<cell line: 2>\u001b[1;34m()\u001b[0m\n\u001b[0;32m      1\u001b[0m \u001b[38;5;28;01mdel\u001b[39;00m a\n\u001b[1;32m----> 2\u001b[0m \u001b[38;5;28mprint\u001b[39m(\u001b[43ma\u001b[49m)\n",
      "\u001b[1;31mNameError\u001b[0m: name 'a' is not defined"
     ]
    }
   ],
   "source": [
    "del a\n",
    "print(a)"
   ]
  },
  {
   "cell_type": "code",
   "execution_count": 8,
   "id": "9a2c2759-d44d-4168-8b46-36d0bafef7ec",
   "metadata": {},
   "outputs": [
    {
     "name": "stdout",
     "output_type": "stream",
     "text": [
      "10\n"
     ]
    }
   ],
   "source": [
    "a=10\n",
    "a+20 #계산결과를 a에 할당하지 않음\n",
    "print(a)"
   ]
  },
  {
   "cell_type": "code",
   "execution_count": 9,
   "id": "9e468a87-2f9a-40e8-ad34-acd1c2097b14",
   "metadata": {},
   "outputs": [
    {
     "name": "stdout",
     "output_type": "stream",
     "text": [
      "20\n"
     ]
    }
   ],
   "source": [
    "a+=10\n",
    "print(a)"
   ]
  },
  {
   "cell_type": "code",
   "execution_count": 10,
   "id": "31acbfb6-73b0-4c5b-85c0-3d807fff7234",
   "metadata": {},
   "outputs": [
    {
     "name": "stdout",
     "output_type": "stream",
     "text": [
      "don't do that\n"
     ]
    }
   ],
   "source": [
    "print(\"don't do that\")"
   ]
  },
  {
   "cell_type": "code",
   "execution_count": 17,
   "id": "6119b247-fad4-4f99-83f0-46780308a89f",
   "metadata": {},
   "outputs": [
    {
     "name": "stdout",
     "output_type": "stream",
     "text": [
      "\"안녕?\"이라는 그 인사를 듣고 나는 '누구지?'라고 생각했다\n"
     ]
    }
   ],
   "source": [
    "print('\"안녕?\"이라는 그 인사를 듣고 나는' \" '누구지?'라고 생각했다\")"
   ]
  },
  {
   "cell_type": "code",
   "execution_count": null,
   "id": "2f2bcd7b-f43f-44c3-a463-c1899c19dc4b",
   "metadata": {},
   "outputs": [],
   "source": []
  }
 ],
 "metadata": {
  "kernelspec": {
   "display_name": "Python 3 (ipykernel)",
   "language": "python",
   "name": "python3"
  },
  "language_info": {
   "codemirror_mode": {
    "name": "ipython",
    "version": 3
   },
   "file_extension": ".py",
   "mimetype": "text/x-python",
   "name": "python",
   "nbconvert_exporter": "python",
   "pygments_lexer": "ipython3",
   "version": "3.9.12"
  }
 },
 "nbformat": 4,
 "nbformat_minor": 5
}
