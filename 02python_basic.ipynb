{
 "cells": [
  {
   "cell_type": "code",
   "execution_count": 1,
   "id": "bff9a46b-e0e2-4bfd-a971-701a38096125",
   "metadata": {},
   "outputs": [],
   "source": [
    "x=1\n",
    "text=\"#이것은 주석이 아닙니다. 따옴표 안은 문자열 리터럴입니다.\""
   ]
  },
  {
   "cell_type": "code",
   "execution_count": 2,
   "id": "13350a2c-f03d-4ce0-ae6d-8557165b4606",
   "metadata": {},
   "outputs": [
    {
     "name": "stdout",
     "output_type": "stream",
     "text": [
      "1\n"
     ]
    }
   ],
   "source": [
    "print(x)"
   ]
  },
  {
   "cell_type": "code",
   "execution_count": 3,
   "id": "9b25f0f7-aaf7-4cb7-8714-d90a3a48e54a",
   "metadata": {},
   "outputs": [
    {
     "name": "stdout",
     "output_type": "stream",
     "text": [
      "#이것은 주석이 아닙니다. 따옴표 안은 문자열 리터럴입니다.\n"
     ]
    }
   ],
   "source": [
    "print(text)"
   ]
  },
  {
   "cell_type": "code",
   "execution_count": 6,
   "id": "ca92f534-082a-453a-b2bc-d23d07940093",
   "metadata": {},
   "outputs": [
    {
     "name": "stdout",
     "output_type": "stream",
     "text": [
      "Hello world!\n",
      "Hello world!\n",
      "Python Programming\n"
     ]
    }
   ],
   "source": [
    "print(\"Hello world!\")\n",
    "print(\"Hello world!\")\n",
    "print(\"Python Programming\")"
   ]
  },
  {
   "cell_type": "code",
   "execution_count": 7,
   "id": "b51a3cdb-2afa-4972-897a-431d1d5a2a6d",
   "metadata": {},
   "outputs": [
    {
     "data": {
      "text/plain": [
       "89"
      ]
     },
     "execution_count": 7,
     "metadata": {},
     "output_type": "execute_result"
    }
   ],
   "source": [
    "13+(22-3)*4"
   ]
  },
  {
   "cell_type": "code",
   "execution_count": 8,
   "id": "3aad9fe3-ac47-47e4-93ee-b92c85876770",
   "metadata": {},
   "outputs": [
    {
     "data": {
      "text/plain": [
       "28.2"
      ]
     },
     "execution_count": 8,
     "metadata": {},
     "output_type": "execute_result"
    }
   ],
   "source": [
    "13+((22-3)*4)/5"
   ]
  },
  {
   "cell_type": "code",
   "execution_count": 9,
   "id": "430f0510-c6dc-4612-87de-86ce76a169e2",
   "metadata": {},
   "outputs": [
    {
     "data": {
      "text/plain": [
       "128"
      ]
     },
     "execution_count": 9,
     "metadata": {},
     "output_type": "execute_result"
    }
   ],
   "source": [
    "2**7"
   ]
  },
  {
   "cell_type": "code",
   "execution_count": 10,
   "id": "f35aa7ec-42df-4d7f-a500-3e0f300ff26d",
   "metadata": {},
   "outputs": [
    {
     "data": {
      "text/plain": [
       "1.7320508075688772"
      ]
     },
     "execution_count": 10,
     "metadata": {},
     "output_type": "execute_result"
    }
   ],
   "source": [
    "3**(1/2)"
   ]
  },
  {
   "cell_type": "code",
   "execution_count": 12,
   "id": "88ff7593-0964-4fab-97b3-380346a6b10a",
   "metadata": {},
   "outputs": [
    {
     "data": {
      "text/plain": [
       "2"
      ]
     },
     "execution_count": 12,
     "metadata": {},
     "output_type": "execute_result"
    }
   ],
   "source": [
    "7//3 "
   ]
  },
  {
   "cell_type": "code",
   "execution_count": 14,
   "id": "0a7074c3-37c9-4574-aee3-52272c9c2e10",
   "metadata": {},
   "outputs": [
    {
     "name": "stdout",
     "output_type": "stream",
     "text": [
      "7\n"
     ]
    }
   ],
   "source": [
    "H=0.2467*12+4.159\n",
    "print(int(H))"
   ]
  },
  {
   "cell_type": "code",
   "execution_count": 22,
   "id": "7f15bca7-0165-4eb9-878c-f5c990b74d9c",
   "metadata": {},
   "outputs": [
    {
     "name": "stdout",
     "output_type": "stream",
     "text": [
      "가장 시끄러운 층은 = 7 층\n"
     ]
    }
   ],
   "source": [
    "H=0.2467*12+4.159\n",
    "print(\"가장 시끄러운 층은 =\", int(H),\"층\")"
   ]
  },
  {
   "cell_type": "code",
   "execution_count": 24,
   "id": "a7b4badc-65a2-4062-874d-f3ffcee4862f",
   "metadata": {},
   "outputs": [
    {
     "name": "stdout",
     "output_type": "stream",
     "text": [
      "냉장고 가격은 1272000 원 입니다.\n"
     ]
    }
   ],
   "source": [
    "price=53000*24 \n",
    "print(\"냉장고 가격은\", int(price), \"원 입니다.\")"
   ]
  },
  {
   "cell_type": "code",
   "execution_count": 28,
   "id": "80d77734-bf6b-44b6-8a53-e520b422cb03",
   "metadata": {},
   "outputs": [
    {
     "name": "stdout",
     "output_type": "stream",
     "text": [
      "15000000\n"
     ]
    }
   ],
   "source": [
    "people=250\n",
    "price=people*3*20000\n",
    "print(price)"
   ]
  },
  {
   "cell_type": "code",
   "execution_count": 2,
   "id": "7d18a90a-70af-42d6-a1e7-3f1f4efe9ad9",
   "metadata": {},
   "outputs": [
    {
     "name": "stdout",
     "output_type": "stream",
     "text": [
      "총 지불해야하는 금액은 16500000 원 입니다.\n"
     ]
    }
   ],
   "source": [
    "people=250\n",
    "tax=10/100\n",
    "\n",
    "print(\"총 지불해야하는 금액은\", int(people*3*20000*(1+tax)), \"원 입니다.\")"
   ]
  },
  {
   "cell_type": "code",
   "execution_count": 5,
   "id": "6c590e2a-e126-48a2-a5dc-35c18d0ee611",
   "metadata": {},
   "outputs": [
    {
     "name": "stdout",
     "output_type": "stream",
     "text": [
      "453\n"
     ]
    }
   ],
   "source": [
    "AP=380\n",
    "x= AP*0.6+225\n",
    "print(int(x))"
   ]
  },
  {
   "cell_type": "code",
   "execution_count": 6,
   "id": "79004de9-c8fe-4261-868c-0d5bb8185945",
   "metadata": {},
   "outputs": [
    {
     "name": "stdout",
     "output_type": "stream",
     "text": [
      "30\n"
     ]
    }
   ],
   "source": [
    "a=10\n",
    "a=a+20\n",
    "print(a)"
   ]
  },
  {
   "cell_type": "code",
   "execution_count": 7,
   "id": "272c3242-f784-4f3f-a7d7-9412a6efac18",
   "metadata": {},
   "outputs": [
    {
     "ename": "NameError",
     "evalue": "name 'a' is not defined",
     "output_type": "error",
     "traceback": [
      "\u001b[1;31m---------------------------------------------------------------------------\u001b[0m",
      "\u001b[1;31mNameError\u001b[0m                                 Traceback (most recent call last)",
      "Input \u001b[1;32mIn [7]\u001b[0m, in \u001b[0;36m<cell line: 2>\u001b[1;34m()\u001b[0m\n\u001b[0;32m      1\u001b[0m \u001b[38;5;28;01mdel\u001b[39;00m a\n\u001b[1;32m----> 2\u001b[0m \u001b[38;5;28mprint\u001b[39m(\u001b[43ma\u001b[49m)\n",
      "\u001b[1;31mNameError\u001b[0m: name 'a' is not defined"
     ]
    }
   ],
   "source": [
    "del a\n",
    "print(a)"
   ]
  },
  {
   "cell_type": "code",
   "execution_count": 8,
   "id": "9a2c2759-d44d-4168-8b46-36d0bafef7ec",
   "metadata": {},
   "outputs": [
    {
     "name": "stdout",
     "output_type": "stream",
     "text": [
      "10\n"
     ]
    }
   ],
   "source": [
    "a=10\n",
    "a+20 #계산결과를 a에 할당하지 않음\n",
    "print(a)"
   ]
  },
  {
   "cell_type": "code",
   "execution_count": 9,
   "id": "9e468a87-2f9a-40e8-ad34-acd1c2097b14",
   "metadata": {},
   "outputs": [
    {
     "name": "stdout",
     "output_type": "stream",
     "text": [
      "20\n"
     ]
    }
   ],
   "source": [
    "a+=10\n",
    "print(a)"
   ]
  },
  {
   "cell_type": "code",
   "execution_count": 10,
   "id": "31acbfb6-73b0-4c5b-85c0-3d807fff7234",
   "metadata": {},
   "outputs": [
    {
     "name": "stdout",
     "output_type": "stream",
     "text": [
      "don't do that\n"
     ]
    }
   ],
   "source": [
    "print(\"don't do that\")"
   ]
  },
  {
   "cell_type": "code",
   "execution_count": 17,
   "id": "6119b247-fad4-4f99-83f0-46780308a89f",
   "metadata": {},
   "outputs": [
    {
     "name": "stdout",
     "output_type": "stream",
     "text": [
      "\"안녕?\"이라는 그 인사를 듣고 나는 '누구지?'라고 생각했다\n"
     ]
    }
   ],
   "source": [
    "print('\"안녕?\"이라는 그 인사를 듣고 나는' \" '누구지?'라고 생각했다\")"
   ]
  },
  {
   "cell_type": "code",
   "execution_count": 20,
   "id": "2f2bcd7b-f43f-44c3-a463-c1899c19dc4b",
   "metadata": {},
   "outputs": [
    {
     "name": "stdout",
     "output_type": "stream",
     "text": [
      "\n",
      "안녕하세요\n",
      "파이썬을 공부하고 있습니다.\n",
      "반갑습니다.\n",
      "\n"
     ]
    }
   ],
   "source": [
    "s3=\"\"\"\n",
    "안녕하세요\n",
    "파이썬을 공부하고 있습니다.\n",
    "반갑습니다.\n",
    "\"\"\"\n",
    "\n",
    "print(s3)"
   ]
  },
  {
   "cell_type": "code",
   "execution_count": 21,
   "id": "34636372-7aae-4e01-8bc6-7d0ff6d29dcb",
   "metadata": {},
   "outputs": [
    {
     "name": "stdout",
     "output_type": "stream",
     "text": [
      "안녕하세요\n",
      "파이썬을 공부하고 있습니다.\n",
      "반갑습니다.\n",
      "\n"
     ]
    }
   ],
   "source": [
    "s4=\"\"\"\\\n",
    "안녕하세요\n",
    "파이썬을 공부하고 있습니다.\n",
    "반갑습니다.\n",
    "\"\"\"\n",
    "\n",
    "print(s4)"
   ]
  },
  {
   "cell_type": "code",
   "execution_count": 25,
   "id": "6f21d4f4-84e3-4b5e-bed9-12a7ee5f3761",
   "metadata": {},
   "outputs": [
    {
     "name": "stdout",
     "output_type": "stream",
     "text": [
      "안녕하세요\n",
      "파이썬을 공부하고 있습니다.\n",
      "반갑습니다.\n"
     ]
    }
   ],
   "source": [
    "s5=\"\"\"\\\n",
    "안녕하세요\n",
    "파이썬을 공부하고 있습니다.\n",
    "반갑습니다.\\\n",
    "\"\"\"\n",
    "\n",
    "print(s5)"
   ]
  },
  {
   "cell_type": "code",
   "execution_count": 27,
   "id": "f767e897-c5b1-474c-a967-a97e17a17f06",
   "metadata": {},
   "outputs": [
    {
     "name": "stdout",
     "output_type": "stream",
     "text": [
      "\"안녕하세요.\"\n",
      "파이썬을 공부하고 있습니다.\n",
      "반갑습니다.\n"
     ]
    }
   ],
   "source": [
    "s6=\"\"\"\\\n",
    "\"안녕하세요.\"\n",
    "파이썬을 공부하고 있습니다.\n",
    "반갑습니다.\\\n",
    "\"\"\"\n",
    "\n",
    "print(s6)"
   ]
  },
  {
   "cell_type": "code",
   "execution_count": 37,
   "id": "c86ff755-2b6d-4578-b43b-b765f52560eb",
   "metadata": {},
   "outputs": [
    {
     "name": "stdout",
     "output_type": "stream",
     "text": [
      "너무 너무 너무 너무 너무 너무 너무 파이썬 공부가 즐겁습니다.\n"
     ]
    }
   ],
   "source": [
    "a= \"너무 \"*7 + \"파이썬 공부가 즐겁습니다.\"\n",
    "\n",
    "print(a)"
   ]
  },
  {
   "cell_type": "code",
   "execution_count": 38,
   "id": "5e4ea76b-4f0b-4e18-b354-df247ec27abe",
   "metadata": {},
   "outputs": [
    {
     "name": "stdout",
     "output_type": "stream",
     "text": [
      "꺾\n"
     ]
    }
   ],
   "source": [
    "sentence= \"중요한 것은 꺾이지 않는 마음\"\n",
    "print(sentence[7])"
   ]
  },
  {
   "cell_type": "code",
   "execution_count": 39,
   "id": "70e04469-11f6-4f40-afe5-febc56f98556",
   "metadata": {},
   "outputs": [
    {
     "name": "stdout",
     "output_type": "stream",
     "text": [
      "Pyt\n"
     ]
    }
   ],
   "source": [
    "word='Python'\n",
    "print(word[0:3]) #0이상 3미만"
   ]
  },
  {
   "cell_type": "code",
   "execution_count": 40,
   "id": "a9a27c88-94f6-463b-9821-65b042641d39",
   "metadata": {},
   "outputs": [
    {
     "name": "stdout",
     "output_type": "stream",
     "text": [
      "Pto\n"
     ]
    }
   ],
   "source": [
    "word='Python'\n",
    "print(word[::2]) #처음/끝/증감"
   ]
  },
  {
   "cell_type": "code",
   "execution_count": 41,
   "id": "ef347604-299e-4b5f-95e3-ea3c3d29c754",
   "metadata": {},
   "outputs": [
    {
     "name": "stdout",
     "output_type": "stream",
     "text": [
      "한 것은 \n"
     ]
    }
   ],
   "source": [
    "sentence= \"중요한 것은 꺾이지 않는 마음\"\n",
    "print(sentence[2:7])"
   ]
  },
  {
   "cell_type": "code",
   "execution_count": 42,
   "id": "0162d483-c5f3-468f-b713-e273cc6b3f3b",
   "metadata": {},
   "outputs": [
    {
     "name": "stdout",
     "output_type": "stream",
     "text": [
      "꺾이지 않는 마음\n"
     ]
    }
   ],
   "source": [
    "sentence= \"중요한 것은 꺾이지 않는 마음\"\n",
    "print(sentence[7:])"
   ]
  },
  {
   "cell_type": "code",
   "execution_count": 46,
   "id": "8aea95d0-3c67-4220-933d-48cc4e2d1ab2",
   "metadata": {},
   "outputs": [
    {
     "name": "stdout",
     "output_type": "stream",
     "text": [
      "한요중\n"
     ]
    }
   ],
   "source": [
    "sentence= \"중요한 것은 꺾이지 않는 마음\"\n",
    "print(sentence[-14]+sentence[-15]+sentence[-16]) "
   ]
  },
  {
   "cell_type": "code",
   "execution_count": 48,
   "id": "ab1aec68-852c-456b-860a-6f0595de53e2",
   "metadata": {},
   "outputs": [
    {
     "name": "stdout",
     "output_type": "stream",
     "text": [
      "한요중\n"
     ]
    }
   ],
   "source": [
    "sentence= \"중요한 것은 꺾이지 않는 마음\"\n",
    "print(sentence[-14:-17:-1])"
   ]
  },
  {
   "cell_type": "code",
   "execution_count": 51,
   "id": "67b3efd3-7c21-47eb-8e0a-3c77cb39da6b",
   "metadata": {},
   "outputs": [
    {
     "name": "stdout",
     "output_type": "stream",
     "text": [
      "한요중\n"
     ]
    }
   ],
   "source": [
    "sentence= \"중요한 것은 꺾이지 않는 마음\"\n",
    "print(sentence[2::-1])"
   ]
  },
  {
   "cell_type": "code",
   "execution_count": 53,
   "id": "bdf3a7c6-ab0b-4190-98b7-8c3aba816d2c",
   "metadata": {},
   "outputs": [
    {
     "name": "stdout",
     "output_type": "stream",
     "text": [
      "한요중\n"
     ]
    }
   ],
   "source": [
    "sentence= \"중요한 것은 꺾이지 않는 마음\"\n",
    "print(sentence[:3][::-1])"
   ]
  },
  {
   "cell_type": "code",
   "execution_count": 55,
   "id": "b30949a3-ea21-41ba-9939-2902f9eaaf84",
   "metadata": {},
   "outputs": [
    {
     "name": "stdout",
     "output_type": "stream",
     "text": [
      "재밌어요 재밌어요 재밌어요 재밌어요 재밌어요 재밌어요 재밌어요 재밌어요 재밌어요 재밌어요 \n"
     ]
    },
    {
     "data": {
      "text/plain": [
       "50"
      ]
     },
     "execution_count": 55,
     "metadata": {},
     "output_type": "execute_result"
    }
   ],
   "source": [
    "s7='재밌어요 '*10\n",
    "print(s7)\n",
    "len(s7)"
   ]
  },
  {
   "cell_type": "code",
   "execution_count": 57,
   "id": "4a88b5ed-d25c-43f8-b458-224273b93b03",
   "metadata": {},
   "outputs": [
    {
     "name": "stdout",
     "output_type": "stream",
     "text": [
      "[1, 4, 9, 16, 25]\n"
     ]
    },
    {
     "data": {
      "text/plain": [
       "list"
      ]
     },
     "execution_count": 57,
     "metadata": {},
     "output_type": "execute_result"
    }
   ],
   "source": [
    "squares=[1**2, 2**2, 3**2, 4**2, 5**2]\n",
    "print(squares)\n",
    "type(squares)"
   ]
  },
  {
   "cell_type": "code",
   "execution_count": 60,
   "id": "bc0aed68-50f6-428e-9bcd-7cebe12fbcb3",
   "metadata": {},
   "outputs": [
    {
     "name": "stdout",
     "output_type": "stream",
     "text": [
      "1\n",
      "[9, 16, 25]\n"
     ]
    }
   ],
   "source": [
    "print(squares[0])\n",
    "print(squares[-3:])"
   ]
  },
  {
   "cell_type": "code",
   "execution_count": 62,
   "id": "ecef88b3-f417-40f7-bbbb-148e43a2168f",
   "metadata": {},
   "outputs": [
    {
     "name": "stdout",
     "output_type": "stream",
     "text": [
      "[1, 4, 9, 16, 25, 1, 2, 3, 4, 5]\n"
     ]
    }
   ],
   "source": [
    "print(squares+[1,2,3,4,5])"
   ]
  },
  {
   "cell_type": "code",
   "execution_count": 66,
   "id": "6a77d1f6-0e96-41fb-a631-b2f2026f63aa",
   "metadata": {},
   "outputs": [
    {
     "name": "stdout",
     "output_type": "stream",
     "text": [
      "['a', 'b', 'c', 'd', 'e', 'a', 'b', 'c', 'd', 'e', 'a', 'b', 'c', 'd', 'e']\n"
     ]
    }
   ],
   "source": [
    "letters=['a','b','c','d','e']\n",
    "print(letters*3)"
   ]
  },
  {
   "cell_type": "code",
   "execution_count": 65,
   "id": "128376c2-5ad3-4384-8cba-cdac8e7ec1c8",
   "metadata": {},
   "outputs": [
    {
     "name": "stdout",
     "output_type": "stream",
     "text": [
      "[1, 8, 27, 64, 125]\n"
     ]
    }
   ],
   "source": [
    "cubes=[1,8,27,65,125]\n",
    "cubes[3]=4**3  #리스트 값변경\n",
    "print(cubes)"
   ]
  },
  {
   "cell_type": "code",
   "execution_count": 69,
   "id": "66b8ec53-090d-46d7-93fc-5b851918d7c7",
   "metadata": {},
   "outputs": [
    {
     "name": "stdout",
     "output_type": "stream",
     "text": [
      "['a', 'b', 'C', 'D', 'E']\n",
      "5\n"
     ]
    }
   ],
   "source": [
    "letters[2:5]=['C','D','E']\n",
    "print(letters)\n",
    "print(len(letters))"
   ]
  },
  {
   "cell_type": "code",
   "execution_count": 70,
   "id": "b20dc655-c856-4b3f-9cc2-f2cd0312eb62",
   "metadata": {},
   "outputs": [
    {
     "name": "stdout",
     "output_type": "stream",
     "text": [
      "[['a', 'b', 'c'], [1, 2, 3]]\n"
     ]
    }
   ],
   "source": [
    "a=['a','b','c']\n",
    "n=[1,2,3]\n",
    "x=[a,n]\n",
    "print(x)"
   ]
  },
  {
   "cell_type": "code",
   "execution_count": 71,
   "id": "4a14112e-9c76-48aa-a3f4-44a4d3c74fb9",
   "metadata": {},
   "outputs": [
    {
     "name": "stdout",
     "output_type": "stream",
     "text": [
      "b\n"
     ]
    }
   ],
   "source": [
    "print(x[0][1])"
   ]
  },
  {
   "cell_type": "code",
   "execution_count": 72,
   "id": "b7df3705-5d55-4256-9153-d399b0c1893d",
   "metadata": {},
   "outputs": [
    {
     "name": "stdout",
     "output_type": "stream",
     "text": [
      "True\n",
      "False\n"
     ]
    }
   ],
   "source": [
    "numbers=[1,2,3,4,5,6,7]\n",
    "print(5 in numbers)\n",
    "print(10 in numbers)"
   ]
  },
  {
   "cell_type": "code",
   "execution_count": 78,
   "id": "3056220e-89b4-418a-98ef-904a2c31318c",
   "metadata": {},
   "outputs": [
    {
     "name": "stdout",
     "output_type": "stream",
     "text": [
      "False\n"
     ]
    }
   ],
   "source": [
    "#[국어, 영어, 수학, 화학, 사회]\n",
    "\n",
    "scores=[88,73,83,59,77]\n",
    "print(scores[0]>=60 and scores[1]>=60 and scores[2]>=60 and scores[3]>=60 and scores[4]>=60 in scores)"
   ]
  },
  {
   "cell_type": "code",
   "execution_count": 80,
   "id": "9445b818-8547-4679-9d29-0c63b972eb3c",
   "metadata": {},
   "outputs": [
    {
     "name": "stdout",
     "output_type": "stream",
     "text": [
      "[1, 2, 3, 4, 5, 6, 7, 8]\n"
     ]
    }
   ],
   "source": [
    "#리스트 관련 메서드 연습\n",
    "\n",
    "numbers=[1,2,3,4,5,6,7]\n",
    "numbers.append(8) #리스트(객체).메서드(요소)\n",
    "print(numbers)"
   ]
  },
  {
   "cell_type": "code",
   "execution_count": 81,
   "id": "a05d1d68-9f66-42ab-8061-cac48a3527ec",
   "metadata": {},
   "outputs": [
    {
     "name": "stdout",
     "output_type": "stream",
     "text": [
      "[0, 1, 2, 3, 0, 4, 0, 5, 6, 7, 8, 0]\n"
     ]
    }
   ],
   "source": [
    "numbers.insert(0,0)\n",
    "numbers.insert(4,0)\n",
    "numbers.insert(6,0)\n",
    "numbers.insert(len(numbers),0) #마지막에 삽입\n",
    "print(numbers)"
   ]
  },
  {
   "cell_type": "code",
   "execution_count": 82,
   "id": "7a803a9d-12aa-4598-bb81-b82c7c520f07",
   "metadata": {},
   "outputs": [
    {
     "name": "stdout",
     "output_type": "stream",
     "text": [
      "[0, 1, 2, 3, 0, 4, 0, 5, 6, 7, 8, 0, 9, 10, 11]\n"
     ]
    }
   ],
   "source": [
    "numbers.extend([9,10,11]) #리스트 덧셈한것과 같음\n",
    "print(numbers)"
   ]
  },
  {
   "cell_type": "code",
   "execution_count": 83,
   "id": "ee5ad2ed-5ecb-409e-817a-1fae42e2c4be",
   "metadata": {},
   "outputs": [
    {
     "name": "stdout",
     "output_type": "stream",
     "text": [
      "[1, 2, 3, 0, 4, 0, 5, 6, 7, 8, 0, 9, 10, 11]\n"
     ]
    }
   ],
   "source": [
    "numbers.remove(0) #첫번째 0만 삭제\n",
    "print(numbers)"
   ]
  },
  {
   "cell_type": "code",
   "execution_count": 84,
   "id": "4edca4cc-40fc-4b4c-8f05-eb92e32b3a6f",
   "metadata": {},
   "outputs": [
    {
     "name": "stdout",
     "output_type": "stream",
     "text": [
      "11\n"
     ]
    }
   ],
   "source": [
    "print(numbers.pop()) #제일 마지막 요소 반환후 제거"
   ]
  },
  {
   "cell_type": "code",
   "execution_count": 85,
   "id": "198533e9-f759-47a5-83a3-e066717ed62b",
   "metadata": {},
   "outputs": [
    {
     "name": "stdout",
     "output_type": "stream",
     "text": [
      "3\n"
     ]
    }
   ],
   "source": [
    "print(numbers.index(0)) #위치 리턴"
   ]
  },
  {
   "cell_type": "code",
   "execution_count": 86,
   "id": "f708e0c9-6bcb-420d-947d-cb45c05e2030",
   "metadata": {},
   "outputs": [
    {
     "name": "stdout",
     "output_type": "stream",
     "text": [
      "3\n"
     ]
    }
   ],
   "source": [
    "print(numbers.count(0)) #갯수 리턴"
   ]
  },
  {
   "cell_type": "code",
   "execution_count": 87,
   "id": "0baf0973-0f79-43e4-a35d-0967d06f3789",
   "metadata": {},
   "outputs": [
    {
     "name": "stdout",
     "output_type": "stream",
     "text": [
      "[0, 0, 0, 1, 2, 3, 4, 5, 6, 7, 8, 9, 10]\n"
     ]
    }
   ],
   "source": [
    "numbers.sort() #오름차순\n",
    "print(numbers)"
   ]
  },
  {
   "cell_type": "code",
   "execution_count": 88,
   "id": "6cad55d1-5b14-422b-a7f8-c3c3ec9ba2b2",
   "metadata": {},
   "outputs": [
    {
     "name": "stdout",
     "output_type": "stream",
     "text": [
      "[5, 4, 3, 2, 1]\n"
     ]
    }
   ],
   "source": [
    "test=[1,2,3,4,5]\n",
    "test.reverse()\n",
    "print(test)"
   ]
  },
  {
   "cell_type": "code",
   "execution_count": 89,
   "id": "b8cc1778-a1d3-4ab5-b9d2-f29caa4a50da",
   "metadata": {},
   "outputs": [],
   "source": [
    "#Stack은 LIFO"
   ]
  },
  {
   "cell_type": "code",
   "execution_count": 90,
   "id": "3d3ef115-1a6a-463c-9b19-bad4cf9293bb",
   "metadata": {},
   "outputs": [
    {
     "name": "stdout",
     "output_type": "stream",
     "text": [
      "[]\n"
     ]
    }
   ],
   "source": [
    "numbers.clear()\n",
    "print(numbers)"
   ]
  },
  {
   "cell_type": "code",
   "execution_count": 91,
   "id": "76d37603-73bd-4915-93cd-bdde9779a7f1",
   "metadata": {},
   "outputs": [
    {
     "ename": "TypeError",
     "evalue": "'tuple' object does not support item assignment",
     "output_type": "error",
     "traceback": [
      "\u001b[1;31m---------------------------------------------------------------------------\u001b[0m",
      "\u001b[1;31mTypeError\u001b[0m                                 Traceback (most recent call last)",
      "Input \u001b[1;32mIn [91]\u001b[0m, in \u001b[0;36m<cell line: 2>\u001b[1;34m()\u001b[0m\n\u001b[0;32m      1\u001b[0m tuple_variable\u001b[38;5;241m=\u001b[39m(\u001b[38;5;241m1\u001b[39m,\u001b[38;5;241m2\u001b[39m,\u001b[38;5;241m3\u001b[39m,\u001b[38;5;241m4\u001b[39m,\u001b[38;5;241m5\u001b[39m,\u001b[38;5;124m\"\u001b[39m\u001b[38;5;124mhello\u001b[39m\u001b[38;5;124m\"\u001b[39m)\n\u001b[1;32m----> 2\u001b[0m tuple_variable[\u001b[38;5;241m0\u001b[39m]\u001b[38;5;241m=\u001b[39m\u001b[38;5;241m0\u001b[39m\n",
      "\u001b[1;31mTypeError\u001b[0m: 'tuple' object does not support item assignment"
     ]
    }
   ],
   "source": [
    "tuple_variable=(1,2,3,4,5,\"hello\") #튜플은 수정, 삭제 안됌 immutable"
   ]
  },
  {
   "cell_type": "code",
   "execution_count": 92,
   "id": "1a04e3de-bca0-4625-857e-60e4b680dfb2",
   "metadata": {},
   "outputs": [
    {
     "data": {
      "text/plain": [
       "tuple"
      ]
     },
     "execution_count": 92,
     "metadata": {},
     "output_type": "execute_result"
    }
   ],
   "source": [
    "tuple_variable=1,2,3,4,5,\"hello\" #()없이도 튜플사용가능\n",
    "type(tuple_variable)"
   ]
  },
  {
   "cell_type": "code",
   "execution_count": 98,
   "id": "4d2f1237-8012-4179-a263-befef2dca445",
   "metadata": {},
   "outputs": [
    {
     "data": {
      "text/plain": [
       "'\\n1. 처음20번째까지 소수\\n2. 프로그래밍언어 종류\\n3. 나이,몸무게,키\\n4. 생일, 출생지\\n5. 게임결과 \\n6. 잇단 게임결과 \\n\\n튜플: 1.4. 수정불가\\n리스트: 2.3. 수정가능\\n'"
      ]
     },
     "execution_count": 98,
     "metadata": {},
     "output_type": "execute_result"
    }
   ],
   "source": [
    "\"\"\"\n",
    "1. 처음20번째까지 소수\n",
    "2. 프로그래밍언어 종류\n",
    "3. 나이,몸무게,키\n",
    "4. 생일, 출생지\n",
    "5. 게임결과 \n",
    "6. 잇단 게임결과 \n",
    "\n",
    "튜플: 1.4. 수정불가\n",
    "리스트: 2.3. 수정가능\n",
    "\"\"\""
   ]
  },
  {
   "cell_type": "code",
   "execution_count": 100,
   "id": "f5657c75-0fb9-4bba-974f-1de3f2451812",
   "metadata": {},
   "outputs": [
    {
     "name": "stdout",
     "output_type": "stream",
     "text": [
      "text1\n",
      "text2\n"
     ]
    }
   ],
   "source": [
    "s1, s2=\"text1\", \"text2\"\n",
    "print(s1)\n",
    "print(s2)"
   ]
  },
  {
   "cell_type": "code",
   "execution_count": 101,
   "id": "35aa28d7-5121-4088-9dba-c0864fc7908a",
   "metadata": {},
   "outputs": [
    {
     "name": "stdout",
     "output_type": "stream",
     "text": [
      "이렇게 리스트도 가능합니다\n"
     ]
    }
   ],
   "source": [
    "s3, s4, s5=[\"이렇게\", \"리스트도\", \"가능합니다\"]\n",
    "print(s3,s4,s5)"
   ]
  },
  {
   "cell_type": "code",
   "execution_count": 110,
   "id": "a1d8f5af-9bca-42cf-ade0-848032d5be45",
   "metadata": {},
   "outputs": [
    {
     "name": "stdin",
     "output_type": "stream",
     "text": [
      "입력해주세요:  111\n"
     ]
    }
   ],
   "source": [
    "input_value =input(\"입력해주세요: \")"
   ]
  },
  {
   "cell_type": "code",
   "execution_count": 111,
   "id": "956eb28c-5e92-49c3-9437-cf9926efad05",
   "metadata": {},
   "outputs": [
    {
     "name": "stdout",
     "output_type": "stream",
     "text": [
      "input_value:  111 \n",
      "type: <class 'int'>\n"
     ]
    }
   ],
   "source": [
    "input_value=int(input_value)\n",
    "print(\"input_value: \", input_value, \"\\ntype:\", type(input_value))"
   ]
  },
  {
   "cell_type": "code",
   "execution_count": 122,
   "id": "d5e64b8d-5a19-4147-bb0f-29acecb468fb",
   "metadata": {},
   "outputs": [
    {
     "name": "stdin",
     "output_type": "stream",
     "text": [
      "숫자를 입력해주세요:  4.5\n"
     ]
    },
    {
     "name": "stdout",
     "output_type": "stream",
     "text": [
      "4.5\n"
     ]
    }
   ],
   "source": [
    "input_value4=float(input(\"숫자를 입력해주세요: \"))\n",
    "print(input_value4)"
   ]
  },
  {
   "cell_type": "code",
   "execution_count": 124,
   "id": "91a308c1-1295-4740-9b30-9e36ffdb9018",
   "metadata": {
    "tags": []
   },
   "outputs": [
    {
     "name": "stdin",
     "output_type": "stream",
     "text": [
      "숫자를 입력해주세요:  4\n"
     ]
    },
    {
     "name": "stdout",
     "output_type": "stream",
     "text": [
      "4\n"
     ]
    }
   ],
   "source": [
    "input_value4=int(input(\"숫자를 입력해주세요: \"))\n",
    "print(input_value4)"
   ]
  },
  {
   "cell_type": "code",
   "execution_count": 123,
   "id": "f3c233f7-6b31-49eb-a0d4-b6a3b7f7e0aa",
   "metadata": {},
   "outputs": [
    {
     "name": "stdout",
     "output_type": "stream",
     "text": [
      "4\n"
     ]
    }
   ],
   "source": [
    "print(int(4.5))"
   ]
  },
  {
   "cell_type": "code",
   "execution_count": 135,
   "id": "362274a7-6403-4d72-a7a3-3a3c59814ccd",
   "metadata": {},
   "outputs": [
    {
     "name": "stdin",
     "output_type": "stream",
     "text": [
      "이름을 입력하세요:  ㅇ\n"
     ]
    },
    {
     "name": "stdout",
     "output_type": "stream",
     "text": [
      "ㅇ 씨 안녕하세요? \n",
      "파이썬에 오신것을 환영합니다.\n"
     ]
    },
    {
     "name": "stdin",
     "output_type": "stream",
     "text": [
      "첫번째 정수를 입력하세요:  5\n",
      "두번째 정수를 입력하세요:  6\n"
     ]
    },
    {
     "name": "stdout",
     "output_type": "stream",
     "text": [
      "5 과 6 의 합은 11 입니다.\n"
     ]
    }
   ],
   "source": [
    "name=input(\"이름을 입력하세요: \")\n",
    "print(name, \"씨\", \"안녕하세요?\", \"\\n파이썬에 오신것을 환영합니다.\")\n",
    "\n",
    "num1=int(input(\"첫번째 정수를 입력하세요: \"))\n",
    "num2=int(input(\"두번째 정수를 입력하세요: \"))\n",
    "print(num1, \"과\", num2, \"의 합은\", num1+num2, \"입니다.\")"
   ]
  },
  {
   "cell_type": "raw",
   "id": "da34c206-f114-448a-9cac-a2d9b28f0788",
   "metadata": {},
   "source": [
    "location=input(\"경기장은 어디입니까?: \")\n",
    "team_win=input(\"이긴 팀은 어디입니까?: \")\n",
    "team_lose=input(\"진 팀은 어디입니까?: \")\n",
    "player=input(\"우수 선수는 누구입니까?: \")\n",
    "score=input(\"스코어는 몇대몇?: \")\n",
    "\n",
    "print(team_win, \"가\", score, \"로 승리 /n오늘\", location, \"경기장에서 야구 경기가 있었습니다.\", team_win, \"와\", team_lose, \"는 치열한 공방전을 펼쳤습니다.\", \"이 경기에서\", player, \"가 맹활약을 했습니다.\", \"끝내\", team_win, \"가\", team_lose, \"를\", score, \"로 승리했습니다.\", \"기사끝\")  \n",
    "            "
   ]
  },
  {
   "cell_type": "raw",
   "id": "76e6baaf-d3ea-49ad-b8db-edb60bc37710",
   "metadata": {},
   "source": [
    "location=input(\"경기장은 어디입니까?: \")\n",
    "team_win=input(\"이긴 팀은 어디입니까?: \")\n",
    "team_lose=input(\"진 팀은 어디입니까?: \")\n",
    "player=input(\"우수 선수는 누구입니까?: \")\n",
    "score=input(\"스코어는 몇대몇?: \")"
   ]
  },
  {
   "cell_type": "code",
   "execution_count": 171,
   "id": "595609a7-6468-4b81-b304-43c3dabc276c",
   "metadata": {},
   "outputs": [
    {
     "name": "stdin",
     "output_type": "stream",
     "text": [
      "경기장은 어디입니까?:  d\n",
      "이긴 팀은 어디입니까?:  f\n",
      "진 팀은 어디입니까?:  e\n",
      "우수 선수는 누구입니까?:  r\n",
      "스코어는 몇대몇?:  t\n"
     ]
    },
    {
     "name": "stdout",
     "output_type": "stream",
     "text": [
      "f 가 t 로 승리 \n",
      "오늘 d 경기장에서 야구 경기가 있었습니다.\n",
      " f 와 e 는 치열한 공방전을 펼쳤습니다. \n",
      "이 경기에서 r 가 맹활약을 했습니다. \n",
      "끝내 f 가 e 를 t 로 승리했습니다. \n",
      "기사 끝\n"
     ]
    }
   ],
   "source": [
    "location=input(\"경기장은 어디입니까?: \")\n",
    "team_win=input(\"이긴 팀은 어디입니까?: \")\n",
    "team_lose=input(\"진 팀은 어디입니까?: \")\n",
    "player=input(\"우수 선수는 누구입니까?: \")\n",
    "score=input(\"스코어는 몇대몇?: \")\n",
    "\n",
    "print(team_win, \"가\", score, \n",
    "      \"로 승리 \\n오늘\", location, \n",
    "      \"경기장에서 야구 경기가 있었습니다.\\n\", \n",
    "      team_win, \"와\", team_lose, \"는 치열한 공방전을 펼쳤습니다.\",\n",
    "      \"\\n이 경기에서\", player, \"가 맹활약을 했습니다. \\n끝내\", \n",
    "      team_win, \"가\", team_lose, \"를\", score, \"로 승리했습니다.\", \"\\n기사 끝\")  \n",
    "            "
   ]
  },
  {
   "cell_type": "code",
   "execution_count": 148,
   "id": "e9846fe3-f2d9-466c-9a3b-6cb342449ead",
   "metadata": {},
   "outputs": [
    {
     "name": "stdout",
     "output_type": "stream",
     "text": [
      "<class 'list'>\n",
      "['1', '2', '3']\n"
     ]
    }
   ],
   "source": [
    "result=\"1,2,3\".split(',')\n",
    "print(type(result))\n",
    "print(result)"
   ]
  },
  {
   "cell_type": "code",
   "execution_count": 1,
   "id": "199ad805-7b4d-444d-9200-7969fafb4735",
   "metadata": {},
   "outputs": [
    {
     "name": "stdin",
     "output_type": "stream",
     "text": [
      "시간을 입력하세요 hh:mm:ss -->  11:22:33\n"
     ]
    },
    {
     "name": "stdout",
     "output_type": "stream",
     "text": [
      "\n",
      "시: 11 \n",
      "분: 22 \n",
      "초: 33\n"
     ]
    }
   ],
   "source": [
    "time=input(\"시간을 입력하세요 hh:mm:ss --> \")\n",
    "time=time.split(':')\n",
    "print(\"\\n시:\", time[0], \"\\n분:\", time[1], \"\\n초:\", time[2])\n"
   ]
  },
  {
   "cell_type": "code",
   "execution_count": 3,
   "id": "381e800b-8107-4e7b-a2be-2e2b68017ca7",
   "metadata": {},
   "outputs": [
    {
     "name": "stdin",
     "output_type": "stream",
     "text": [
      "국어, 영어, 수학, 과학 점수를 입력하세요:  11,22,33,44\n"
     ]
    },
    {
     "name": "stdout",
     "output_type": "stream",
     "text": [
      "평균 점수는 27.5 입니다.\n"
     ]
    }
   ],
   "source": [
    "subject=input(\"국어, 영어, 수학, 과학 점수를 입력하세요: \")\n",
    "subject=subject.split(',')\n",
    "a=list(map(int,subject))\n",
    "\n",
    "print(\"평균 점수는\", (a[0]+a[1]+a[2]+a[3])/len(a), \"입니다.\")"
   ]
  },
  {
   "cell_type": "code",
   "execution_count": null,
   "id": "3027e07e-44fe-4764-9683-1e7f9ec0d4bf",
   "metadata": {},
   "outputs": [],
   "source": []
  }
 ],
 "metadata": {
  "kernelspec": {
   "display_name": "Python 3 (ipykernel)",
   "language": "python",
   "name": "python3"
  },
  "language_info": {
   "codemirror_mode": {
    "name": "ipython",
    "version": 3
   },
   "file_extension": ".py",
   "mimetype": "text/x-python",
   "name": "python",
   "nbconvert_exporter": "python",
   "pygments_lexer": "ipython3",
   "version": "3.9.12"
  }
 },
 "nbformat": 4,
 "nbformat_minor": 5
}
