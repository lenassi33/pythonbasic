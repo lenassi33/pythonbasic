{
 "cells": [
  {
   "cell_type": "code",
   "execution_count": 1,
   "id": "5d671038-419d-4f3a-8610-bbe59c2f6e25",
   "metadata": {},
   "outputs": [
    {
     "name": "stdout",
     "output_type": "stream",
     "text": [
      "3.9.12 (main, Apr  4 2022, 05:22:27) [MSC v.1916 64 bit (AMD64)]\n"
     ]
    }
   ],
   "source": [
    "import sys\n",
    "print(sys.version)"
   ]
  },
  {
   "cell_type": "code",
   "execution_count": 2,
   "id": "817a8010-d3b7-41c4-8180-1a7cbc4f9c4d",
   "metadata": {},
   "outputs": [
    {
     "name": "stdout",
     "output_type": "stream",
     "text": [
      " C 드라이브의 볼륨에는 이름이 없습니다.\n",
      " 볼륨 일련 번호: 3461-7213\n",
      "\n",
      " C:\\python 디렉터리\n",
      "\n",
      "2023-02-13  오전 10:38    <DIR>          .\n",
      "2023-02-13  오전 10:38    <DIR>          ..\n",
      "2023-02-13  오전 10:34    <DIR>          .ipynb_checkpoints\n",
      "2023-02-13  오전 10:32    <DIR>          Untitled Folder\n",
      "2023-02-13  오전 10:38               992 Untitled.ipynb\n",
      "               1개 파일                 992 바이트\n",
      "               4개 디렉터리  354,917,277,696 바이트 남음\n"
     ]
    }
   ],
   "source": [
    "!dir"
   ]
  },
  {
   "cell_type": "code",
   "execution_count": null,
   "id": "1a36550a-6337-44aa-ac27-d384a2609148",
   "metadata": {},
   "outputs": [],
   "source": []
  }
 ],
 "metadata": {
  "kernelspec": {
   "display_name": "Python 3 (ipykernel)",
   "language": "python",
   "name": "python3"
  },
  "language_info": {
   "codemirror_mode": {
    "name": "ipython",
    "version": 3
   },
   "file_extension": ".py",
   "mimetype": "text/x-python",
   "name": "python",
   "nbconvert_exporter": "python",
   "pygments_lexer": "ipython3",
   "version": "3.9.12"
  }
 },
 "nbformat": 4,
 "nbformat_minor": 5
}
